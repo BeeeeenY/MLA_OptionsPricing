{
 "cells": [
  {
   "cell_type": "markdown",
   "metadata": {},
   "source": [
    "# ANN for Options Pricing"
   ]
  },
  {
   "cell_type": "markdown",
   "metadata": {},
   "source": [
    "1. Data Preprocessing\n",
    "2. Defining ANN Architecture\n",
    "3. Choosing activation function"
   ]
  },
  {
   "cell_type": "markdown",
   "metadata": {},
   "source": [
    "# 1. Data Preprocessing"
   ]
  },
  {
   "cell_type": "markdown",
   "metadata": {},
   "source": [
    "Some variables must be dropped, others must be repurposed. \n",
    "\n",
    "All columns are scaled using standardisation sklearn standard scaler, categorical variables are one hot encoded\n"
   ]
  },
  {
   "cell_type": "code",
   "execution_count": 146,
   "metadata": {},
   "outputs": [],
   "source": [
    "import pandas as pd\n",
    "import numpy as np\n",
    "# import seaborn as sns\n",
    "# import matplotlib.pyplot as plt"
   ]
  },
  {
   "cell_type": "code",
   "execution_count": null,
   "metadata": {},
   "outputs": [],
   "source": [
    "df1 = pd.read_csv('data/SPX/UnderlyingOptionsIntervals_3600sec_calcs_oi_2024-07-26.csv')\n",
    "df2 = pd.read_csv('data/SPX/UnderlyingOptionsIntervals_3600sec_calcs_oi_2024-08-30.csv')\n",
    "df3 = pd.read_csv('data/SPX/UnderlyingOptionsIntervals_3600sec_calcs_oi_2024-09-27.csv')"
   ]
  },
  {
   "cell_type": "code",
   "execution_count": 148,
   "metadata": {},
   "outputs": [
    {
     "name": "stdout",
     "output_type": "stream",
     "text": [
      "Null Values:\n",
      "underlying_symbol           0\n",
      "quote_datetime              0\n",
      "root                        0\n",
      "expiration                  0\n",
      "strike                      0\n",
      "option_type                 0\n",
      "open                        0\n",
      "high                        0\n",
      "low                         0\n",
      "close                       0\n",
      "trade_volume                0\n",
      "bid_size                    0\n",
      "bid                         0\n",
      "ask_size                    0\n",
      "ask                         0\n",
      "underlying_bid              0\n",
      "underlying_ask              0\n",
      "implied_underlying_price    0\n",
      "active_underlying_price     0\n",
      "implied_volatility          0\n",
      "delta                       0\n",
      "gamma                       0\n",
      "theta                       0\n",
      "vega                        0\n",
      "rho                         0\n",
      "open_interest               0\n",
      "dtype: int64\n"
     ]
    }
   ],
   "source": [
    "# Concatenating data to form a combined dataframe for put options\n",
    "df_call = pd.concat([\n",
    "    df1[(df1['option_type'] == 'C') & (df1['root'] == 'SPX')],\n",
    "    df2[(df2['option_type'] == 'C') & (df2['root'] == 'SPX')],\n",
    "    df3[(df3['option_type'] == 'C') & (df3['root'] == 'SPX')]\n",
    "], ignore_index=True)\n",
    "\n",
    "print(\"Null Values:\")\n",
    "print(df_call.isnull().sum())"
   ]
  },
  {
   "cell_type": "code",
   "execution_count": 149,
   "metadata": {},
   "outputs": [
    {
     "name": "stdout",
     "output_type": "stream",
     "text": [
      "Null Values:\n",
      "underlying_symbol           0\n",
      "quote_datetime              0\n",
      "root                        0\n",
      "expiration                  0\n",
      "strike                      0\n",
      "option_type                 0\n",
      "open                        0\n",
      "high                        0\n",
      "low                         0\n",
      "close                       0\n",
      "trade_volume                0\n",
      "bid_size                    0\n",
      "bid                         0\n",
      "ask_size                    0\n",
      "ask                         0\n",
      "underlying_bid              0\n",
      "underlying_ask              0\n",
      "implied_underlying_price    0\n",
      "active_underlying_price     0\n",
      "implied_volatility          0\n",
      "delta                       0\n",
      "gamma                       0\n",
      "theta                       0\n",
      "vega                        0\n",
      "rho                         0\n",
      "open_interest               0\n",
      "dtype: int64\n"
     ]
    }
   ],
   "source": [
    "df_put = pd.concat([\n",
    "    df1[(df1['option_type'] == 'P') & (df1['root'] == 'SPX')],\n",
    "    df2[(df2['option_type'] == 'P') & (df2['root'] == 'SPX')],\n",
    "    df3[(df3['option_type'] == 'P') & (df3['root'] == 'SPX')]\n",
    "], ignore_index=True)\n",
    "\n",
    "print(\"Null Values:\")\n",
    "print(df_put.isnull().sum())"
   ]
  },
  {
   "cell_type": "code",
   "execution_count": 150,
   "metadata": {},
   "outputs": [
    {
     "name": "stdout",
     "output_type": "stream",
     "text": [
      "<class 'pandas.core.frame.DataFrame'>\n",
      "RangeIndex: 82943 entries, 0 to 82942\n",
      "Data columns (total 26 columns):\n",
      " #   Column                    Non-Null Count  Dtype  \n",
      "---  ------                    --------------  -----  \n",
      " 0   underlying_symbol         82943 non-null  object \n",
      " 1   quote_datetime            82943 non-null  object \n",
      " 2   root                      82943 non-null  object \n",
      " 3   expiration                82943 non-null  object \n",
      " 4   strike                    82943 non-null  float64\n",
      " 5   option_type               82943 non-null  object \n",
      " 6   open                      82943 non-null  float64\n",
      " 7   high                      82943 non-null  float64\n",
      " 8   low                       82943 non-null  float64\n",
      " 9   close                     82943 non-null  float64\n",
      " 10  trade_volume              82943 non-null  int64  \n",
      " 11  bid_size                  82943 non-null  int64  \n",
      " 12  bid                       82943 non-null  float64\n",
      " 13  ask_size                  82943 non-null  int64  \n",
      " 14  ask                       82943 non-null  float64\n",
      " 15  underlying_bid            82943 non-null  float64\n",
      " 16  underlying_ask            82943 non-null  float64\n",
      " 17  implied_underlying_price  82943 non-null  float64\n",
      " 18  active_underlying_price   82943 non-null  float64\n",
      " 19  implied_volatility        82943 non-null  float64\n",
      " 20  delta                     82943 non-null  float64\n",
      " 21  gamma                     82943 non-null  float64\n",
      " 22  theta                     82943 non-null  float64\n",
      " 23  vega                      82943 non-null  float64\n",
      " 24  rho                       82943 non-null  float64\n",
      " 25  open_interest             82943 non-null  int64  \n",
      "dtypes: float64(17), int64(4), object(5)\n",
      "memory usage: 16.5+ MB\n"
     ]
    }
   ],
   "source": [
    "df_put.info()"
   ]
  },
  {
   "cell_type": "code",
   "execution_count": 151,
   "metadata": {},
   "outputs": [],
   "source": [
    "# New column time_to_expiration\n",
    "\n",
    "df_call['expiration'] = pd.to_datetime(df_call['expiration'])\n",
    "df_call['quote_datetime'] = pd.to_datetime(df_call['quote_datetime'])\n",
    "\n",
    "# Calculate time-to-expiration as the difference in days\n",
    "df_call['time_to_expiration'] = (df_call['expiration'] - df_call['quote_datetime']).dt.days\n",
    "\n",
    "# Repeat for df_put if needed\n",
    "df_put['expiration'] = pd.to_datetime(df_put['expiration'])\n",
    "df_put['quote_datetime'] = pd.to_datetime(df_put['quote_datetime'])\n",
    "df_put['time_to_expiration'] = (df_put['expiration'] - df_put['quote_datetime']).dt.days"
   ]
  },
  {
   "cell_type": "code",
   "execution_count": 152,
   "metadata": {},
   "outputs": [],
   "source": [
    "# New column bid_ask_spread\n",
    "df_call['bid_ask_spread'] = df_call['underlying_ask'] - df_call['underlying_bid']\n",
    "df_put['bid_ask_spread'] = df_put['underlying_ask'] - df_put['underlying_bid']"
   ]
  },
  {
   "cell_type": "code",
   "execution_count": 153,
   "metadata": {},
   "outputs": [],
   "source": [
    "# Dropping irrelevant columns\n",
    "# root, underlying_symbol, implied_underlying_price, quote_datetime, expiration, bid_size, ask_size, underlying_bid, underlying_ask, open, high, low\n",
    "columns_to_drop = ['root', 'underlying_symbol', 'implied_underlying_price', 'quote_datetime', \n",
    "                   'expiration', 'open', 'high', 'low', 'bid_size', 'ask_size', \n",
    "                   'underlying_bid', 'underlying_ask']\n",
    "\n",
    "df_call = df_call.drop(columns=columns_to_drop, axis=1)\n",
    "df_put = df_put.drop(columns=columns_to_drop, axis=1)\n"
   ]
  },
  {
   "cell_type": "code",
   "execution_count": 154,
   "metadata": {},
   "outputs": [
    {
     "name": "stdout",
     "output_type": "stream",
     "text": [
      "Remaining rows after dropping: 4542\n"
     ]
    }
   ],
   "source": [
    "# Drop rows where the 'close' column has a value of 0\n",
    "df_call = df_call[df_call['close'] != 0]\n",
    "\n",
    "# Verify the changes\n",
    "print(f\"Remaining rows after dropping: {len(df_call)}\")\n"
   ]
  },
  {
   "cell_type": "code",
   "execution_count": 155,
   "metadata": {},
   "outputs": [],
   "source": [
    "from sklearn.preprocessing import StandardScaler, OneHotEncoder\n",
    "\n",
    "# Step 1: Fit a scaler to the original 'close' column\n",
    "target_scaler = StandardScaler()\n",
    "target_scaler.fit(df_call[['close']])\n",
    "\n",
    "# Separating the numerical columns for scaling\n",
    "numerical_columns = ['strike', 'trade_volume', 'active_underlying_price', \n",
    "                     'implied_volatility', 'delta', 'gamma', 'theta', \n",
    "                     'vega', 'rho', 'open_interest', 'time_to_expiration', 'bid_ask_spread']\n",
    "\n",
    "# Initialize the StandardScaler for features\n",
    "scaler = StandardScaler()\n",
    "\n",
    "# Scale the numerical columns\n",
    "df_call[numerical_columns] = scaler.fit_transform(df_call[numerical_columns])\n",
    "\n",
    "# Optionally, encode the categorical 'option_type'\n",
    "encoder = OneHotEncoder(sparse_output=False)\n",
    "encoded_option_type = encoder.fit_transform(df_call[['option_type']])\n",
    "\n",
    "# Convert the encoded categorical feature to a DataFrame and merge it back\n",
    "encoded_df = pd.DataFrame(encoded_option_type, columns=encoder.get_feature_names_out(['option_type']))\n",
    "df_call = df_call.drop(['option_type'], axis=1)  # Drop the original 'option_type' column\n",
    "df_call = pd.concat([df_call.reset_index(drop=True), encoded_df.reset_index(drop=True)], axis=1)\n"
   ]
  },
  {
   "cell_type": "code",
   "execution_count": 138,
   "metadata": {},
   "outputs": [],
   "source": [
    "# Scaling for df_put\n",
    "\n",
    "# Separating the numerical columns for scaling\n",
    "numerical_columns = ['strike', 'close', 'trade_volume', 'active_underlying_price', \n",
    "                     'implied_volatility', 'delta', 'gamma', 'theta', \n",
    "                     'vega', 'rho', 'open_interest', 'time_to_expiration', 'bid_ask_spread']\n",
    "\n",
    "# Initialize the StandardScaler\n",
    "scaler = StandardScaler()\n",
    "\n",
    "# Scale the numerical columns\n",
    "df_put[numerical_columns] = scaler.fit_transform(df_put[numerical_columns])\n",
    "\n",
    "# Optionally, encode the categorical 'option_type' if needed\n",
    "# Example using OneHotEncoder\n",
    "encoder = OneHotEncoder(sparse_output=False)  # Updated argument name\n",
    "encoded_option_type = encoder.fit_transform(df_put[['option_type']])\n",
    "\n",
    "# Convert the encoded categorical feature to a DataFrame and merge it back\n",
    "encoded_df = pd.DataFrame(encoded_option_type, columns=encoder.get_feature_names_out(['option_type']))\n",
    "df_put = df_put.drop(['option_type'], axis=1)  # Drop the original 'option_type' column\n",
    "df_put = pd.concat([df_put.reset_index(drop=True), encoded_df.reset_index(drop=True)], axis=1)"
   ]
  },
  {
   "cell_type": "markdown",
   "metadata": {},
   "source": [
    "# 2. Defining the ANN Architecture"
   ]
  },
  {
   "cell_type": "markdown",
   "metadata": {},
   "source": [
    "1. Input Layer\n",
    "    - 15 neurons (one for each input feature)\n",
    "2. Hidden Layer\n",
    "    - 2 hidden layers\n",
    "        - First Layer (30 neurons)\n",
    "        - Second Layer (15 neurons)\n",
    "3. Output Layer\n",
    "    - 1 neuron: the predicted price"
   ]
  },
  {
   "cell_type": "code",
   "execution_count": 156,
   "metadata": {},
   "outputs": [],
   "source": [
    "import tensorflow as tf\n",
    "from tensorflow.keras.models import Sequential\n",
    "from tensorflow.keras.layers import Dense, LeakyReLU\n"
   ]
  },
  {
   "cell_type": "code",
   "execution_count": 157,
   "metadata": {},
   "outputs": [
    {
     "name": "stderr",
     "output_type": "stream",
     "text": [
      "/Users/joelsng/Library/Python/3.12/lib/python/site-packages/keras/src/layers/core/dense.py:87: UserWarning: Do not pass an `input_shape`/`input_dim` argument to a layer. When using Sequential models, prefer using an `Input(shape)` object as the first layer in the model instead.\n",
      "  super().__init__(activity_regularizer=activity_regularizer, **kwargs)\n",
      "/Users/joelsng/Library/Python/3.12/lib/python/site-packages/keras/src/layers/activations/leaky_relu.py:41: UserWarning: Argument `alpha` is deprecated. Use `negative_slope` instead.\n",
      "  warnings.warn(\n"
     ]
    },
    {
     "data": {
      "text/html": [
       "<pre style=\"white-space:pre;overflow-x:auto;line-height:normal;font-family:Menlo,'DejaVu Sans Mono',consolas,'Courier New',monospace\"><span style=\"font-weight: bold\">Model: \"sequential_13\"</span>\n",
       "</pre>\n"
      ],
      "text/plain": [
       "\u001b[1mModel: \"sequential_13\"\u001b[0m\n"
      ]
     },
     "metadata": {},
     "output_type": "display_data"
    },
    {
     "data": {
      "text/html": [
       "<pre style=\"white-space:pre;overflow-x:auto;line-height:normal;font-family:Menlo,'DejaVu Sans Mono',consolas,'Courier New',monospace\">┏━━━━━━━━━━━━━━━━━━━━━━━━━━━━━━━━━┳━━━━━━━━━━━━━━━━━━━━━━━━┳━━━━━━━━━━━━━━━┓\n",
       "┃<span style=\"font-weight: bold\"> Layer (type)                    </span>┃<span style=\"font-weight: bold\"> Output Shape           </span>┃<span style=\"font-weight: bold\">       Param # </span>┃\n",
       "┡━━━━━━━━━━━━━━━━━━━━━━━━━━━━━━━━━╇━━━━━━━━━━━━━━━━━━━━━━━━╇━━━━━━━━━━━━━━━┩\n",
       "│ dense_41 (<span style=\"color: #0087ff; text-decoration-color: #0087ff\">Dense</span>)                │ (<span style=\"color: #00d7ff; text-decoration-color: #00d7ff\">None</span>, <span style=\"color: #00af00; text-decoration-color: #00af00\">30</span>)             │           <span style=\"color: #00af00; text-decoration-color: #00af00\">480</span> │\n",
       "├─────────────────────────────────┼────────────────────────┼───────────────┤\n",
       "│ leaky_re_lu_28 (<span style=\"color: #0087ff; text-decoration-color: #0087ff\">LeakyReLU</span>)      │ (<span style=\"color: #00d7ff; text-decoration-color: #00d7ff\">None</span>, <span style=\"color: #00af00; text-decoration-color: #00af00\">30</span>)             │             <span style=\"color: #00af00; text-decoration-color: #00af00\">0</span> │\n",
       "├─────────────────────────────────┼────────────────────────┼───────────────┤\n",
       "│ dense_42 (<span style=\"color: #0087ff; text-decoration-color: #0087ff\">Dense</span>)                │ (<span style=\"color: #00d7ff; text-decoration-color: #00d7ff\">None</span>, <span style=\"color: #00af00; text-decoration-color: #00af00\">15</span>)             │           <span style=\"color: #00af00; text-decoration-color: #00af00\">465</span> │\n",
       "├─────────────────────────────────┼────────────────────────┼───────────────┤\n",
       "│ leaky_re_lu_29 (<span style=\"color: #0087ff; text-decoration-color: #0087ff\">LeakyReLU</span>)      │ (<span style=\"color: #00d7ff; text-decoration-color: #00d7ff\">None</span>, <span style=\"color: #00af00; text-decoration-color: #00af00\">15</span>)             │             <span style=\"color: #00af00; text-decoration-color: #00af00\">0</span> │\n",
       "├─────────────────────────────────┼────────────────────────┼───────────────┤\n",
       "│ dense_43 (<span style=\"color: #0087ff; text-decoration-color: #0087ff\">Dense</span>)                │ (<span style=\"color: #00d7ff; text-decoration-color: #00d7ff\">None</span>, <span style=\"color: #00af00; text-decoration-color: #00af00\">1</span>)              │            <span style=\"color: #00af00; text-decoration-color: #00af00\">16</span> │\n",
       "└─────────────────────────────────┴────────────────────────┴───────────────┘\n",
       "</pre>\n"
      ],
      "text/plain": [
       "┏━━━━━━━━━━━━━━━━━━━━━━━━━━━━━━━━━┳━━━━━━━━━━━━━━━━━━━━━━━━┳━━━━━━━━━━━━━━━┓\n",
       "┃\u001b[1m \u001b[0m\u001b[1mLayer (type)                   \u001b[0m\u001b[1m \u001b[0m┃\u001b[1m \u001b[0m\u001b[1mOutput Shape          \u001b[0m\u001b[1m \u001b[0m┃\u001b[1m \u001b[0m\u001b[1m      Param #\u001b[0m\u001b[1m \u001b[0m┃\n",
       "┡━━━━━━━━━━━━━━━━━━━━━━━━━━━━━━━━━╇━━━━━━━━━━━━━━━━━━━━━━━━╇━━━━━━━━━━━━━━━┩\n",
       "│ dense_41 (\u001b[38;5;33mDense\u001b[0m)                │ (\u001b[38;5;45mNone\u001b[0m, \u001b[38;5;34m30\u001b[0m)             │           \u001b[38;5;34m480\u001b[0m │\n",
       "├─────────────────────────────────┼────────────────────────┼───────────────┤\n",
       "│ leaky_re_lu_28 (\u001b[38;5;33mLeakyReLU\u001b[0m)      │ (\u001b[38;5;45mNone\u001b[0m, \u001b[38;5;34m30\u001b[0m)             │             \u001b[38;5;34m0\u001b[0m │\n",
       "├─────────────────────────────────┼────────────────────────┼───────────────┤\n",
       "│ dense_42 (\u001b[38;5;33mDense\u001b[0m)                │ (\u001b[38;5;45mNone\u001b[0m, \u001b[38;5;34m15\u001b[0m)             │           \u001b[38;5;34m465\u001b[0m │\n",
       "├─────────────────────────────────┼────────────────────────┼───────────────┤\n",
       "│ leaky_re_lu_29 (\u001b[38;5;33mLeakyReLU\u001b[0m)      │ (\u001b[38;5;45mNone\u001b[0m, \u001b[38;5;34m15\u001b[0m)             │             \u001b[38;5;34m0\u001b[0m │\n",
       "├─────────────────────────────────┼────────────────────────┼───────────────┤\n",
       "│ dense_43 (\u001b[38;5;33mDense\u001b[0m)                │ (\u001b[38;5;45mNone\u001b[0m, \u001b[38;5;34m1\u001b[0m)              │            \u001b[38;5;34m16\u001b[0m │\n",
       "└─────────────────────────────────┴────────────────────────┴───────────────┘\n"
      ]
     },
     "metadata": {},
     "output_type": "display_data"
    },
    {
     "data": {
      "text/html": [
       "<pre style=\"white-space:pre;overflow-x:auto;line-height:normal;font-family:Menlo,'DejaVu Sans Mono',consolas,'Courier New',monospace\"><span style=\"font-weight: bold\"> Total params: </span><span style=\"color: #00af00; text-decoration-color: #00af00\">961</span> (3.75 KB)\n",
       "</pre>\n"
      ],
      "text/plain": [
       "\u001b[1m Total params: \u001b[0m\u001b[38;5;34m961\u001b[0m (3.75 KB)\n"
      ]
     },
     "metadata": {},
     "output_type": "display_data"
    },
    {
     "data": {
      "text/html": [
       "<pre style=\"white-space:pre;overflow-x:auto;line-height:normal;font-family:Menlo,'DejaVu Sans Mono',consolas,'Courier New',monospace\"><span style=\"font-weight: bold\"> Trainable params: </span><span style=\"color: #00af00; text-decoration-color: #00af00\">961</span> (3.75 KB)\n",
       "</pre>\n"
      ],
      "text/plain": [
       "\u001b[1m Trainable params: \u001b[0m\u001b[38;5;34m961\u001b[0m (3.75 KB)\n"
      ]
     },
     "metadata": {},
     "output_type": "display_data"
    },
    {
     "data": {
      "text/html": [
       "<pre style=\"white-space:pre;overflow-x:auto;line-height:normal;font-family:Menlo,'DejaVu Sans Mono',consolas,'Courier New',monospace\"><span style=\"font-weight: bold\"> Non-trainable params: </span><span style=\"color: #00af00; text-decoration-color: #00af00\">0</span> (0.00 B)\n",
       "</pre>\n"
      ],
      "text/plain": [
       "\u001b[1m Non-trainable params: \u001b[0m\u001b[38;5;34m0\u001b[0m (0.00 B)\n"
      ]
     },
     "metadata": {},
     "output_type": "display_data"
    }
   ],
   "source": [
    "# Define the model\n",
    "model = Sequential()\n",
    "\n",
    "# Input layer and first hidden layer with Leaky ReLU activation\n",
    "# Specify alpha for Leaky ReLU (default is usually 0.01)\n",
    "model.add(Dense(units=30, input_shape=(15,)))  # 30 neurons in the first hidden layer\n",
    "model.add(LeakyReLU(alpha=0.01))\n",
    "\n",
    "# Second hidden layer with Leaky ReLU activation\n",
    "model.add(Dense(units=15))  # 15 neurons in the second hidden layer\n",
    "model.add(LeakyReLU(alpha=0.01))\n",
    "\n",
    "# Output layer with 1 neuron to predict the option price (no activation function for regression)\n",
    "model.add(Dense(units=1))\n",
    "\n",
    "# Compile the model with a suitable optimizer and loss function for regression\n",
    "model.compile(optimizer='adam', loss='mse')\n",
    "\n",
    "# Summary of the model architecture\n",
    "model.summary()"
   ]
  },
  {
   "cell_type": "code",
   "execution_count": 158,
   "metadata": {},
   "outputs": [
    {
     "name": "stdout",
     "output_type": "stream",
     "text": [
      "Epoch 1/50\n",
      "\u001b[1m91/91\u001b[0m \u001b[32m━━━━━━━━━━━━━━━━━━━━\u001b[0m\u001b[37m\u001b[0m \u001b[1m0s\u001b[0m 759us/step - loss: 80397.7422 - val_loss: 723.2510\n",
      "Epoch 2/50\n",
      "\u001b[1m91/91\u001b[0m \u001b[32m━━━━━━━━━━━━━━━━━━━━\u001b[0m\u001b[37m\u001b[0m \u001b[1m0s\u001b[0m 352us/step - loss: 25428.5742 - val_loss: 676.9440\n",
      "Epoch 3/50\n",
      "\u001b[1m91/91\u001b[0m \u001b[32m━━━━━━━━━━━━━━━━━━━━\u001b[0m\u001b[37m\u001b[0m \u001b[1m0s\u001b[0m 343us/step - loss: 12056.9893 - val_loss: 673.0979\n",
      "Epoch 4/50\n",
      "\u001b[1m91/91\u001b[0m \u001b[32m━━━━━━━━━━━━━━━━━━━━\u001b[0m\u001b[37m\u001b[0m \u001b[1m0s\u001b[0m 351us/step - loss: 12151.4531 - val_loss: 670.0768\n",
      "Epoch 5/50\n",
      "\u001b[1m91/91\u001b[0m \u001b[32m━━━━━━━━━━━━━━━━━━━━\u001b[0m\u001b[37m\u001b[0m \u001b[1m0s\u001b[0m 335us/step - loss: 37564.3242 - val_loss: 666.6688\n",
      "Epoch 6/50\n",
      "\u001b[1m91/91\u001b[0m \u001b[32m━━━━━━━━━━━━━━━━━━━━\u001b[0m\u001b[37m\u001b[0m \u001b[1m0s\u001b[0m 340us/step - loss: 6925.9038 - val_loss: 664.7128\n",
      "Epoch 7/50\n",
      "\u001b[1m91/91\u001b[0m \u001b[32m━━━━━━━━━━━━━━━━━━━━\u001b[0m\u001b[37m\u001b[0m \u001b[1m0s\u001b[0m 350us/step - loss: 3964.6404 - val_loss: 657.6146\n",
      "Epoch 8/50\n",
      "\u001b[1m91/91\u001b[0m \u001b[32m━━━━━━━━━━━━━━━━━━━━\u001b[0m\u001b[37m\u001b[0m \u001b[1m0s\u001b[0m 373us/step - loss: 20799.7363 - val_loss: 636.8292\n",
      "Epoch 9/50\n",
      "\u001b[1m91/91\u001b[0m \u001b[32m━━━━━━━━━━━━━━━━━━━━\u001b[0m\u001b[37m\u001b[0m \u001b[1m0s\u001b[0m 378us/step - loss: 11186.8672 - val_loss: 615.2836\n",
      "Epoch 10/50\n",
      "\u001b[1m91/91\u001b[0m \u001b[32m━━━━━━━━━━━━━━━━━━━━\u001b[0m\u001b[37m\u001b[0m \u001b[1m0s\u001b[0m 345us/step - loss: 17594.7363 - val_loss: 613.8530\n",
      "Epoch 11/50\n",
      "\u001b[1m91/91\u001b[0m \u001b[32m━━━━━━━━━━━━━━━━━━━━\u001b[0m\u001b[37m\u001b[0m \u001b[1m0s\u001b[0m 329us/step - loss: 6128.9629 - val_loss: 590.7070\n",
      "Epoch 12/50\n",
      "\u001b[1m91/91\u001b[0m \u001b[32m━━━━━━━━━━━━━━━━━━━━\u001b[0m\u001b[37m\u001b[0m \u001b[1m0s\u001b[0m 349us/step - loss: 20951.8691 - val_loss: 578.5147\n",
      "Epoch 13/50\n",
      "\u001b[1m91/91\u001b[0m \u001b[32m━━━━━━━━━━━━━━━━━━━━\u001b[0m\u001b[37m\u001b[0m \u001b[1m0s\u001b[0m 388us/step - loss: 11382.6240 - val_loss: 574.8010\n",
      "Epoch 14/50\n",
      "\u001b[1m91/91\u001b[0m \u001b[32m━━━━━━━━━━━━━━━━━━━━\u001b[0m\u001b[37m\u001b[0m \u001b[1m0s\u001b[0m 609us/step - loss: 5908.6343 - val_loss: 562.3018\n",
      "Epoch 15/50\n",
      "\u001b[1m91/91\u001b[0m \u001b[32m━━━━━━━━━━━━━━━━━━━━\u001b[0m\u001b[37m\u001b[0m \u001b[1m0s\u001b[0m 405us/step - loss: 12856.6396 - val_loss: 523.7259\n",
      "Epoch 16/50\n",
      "\u001b[1m91/91\u001b[0m \u001b[32m━━━━━━━━━━━━━━━━━━━━\u001b[0m\u001b[37m\u001b[0m \u001b[1m0s\u001b[0m 421us/step - loss: 16240.6182 - val_loss: 478.9297\n",
      "Epoch 17/50\n",
      "\u001b[1m91/91\u001b[0m \u001b[32m━━━━━━━━━━━━━━━━━━━━\u001b[0m\u001b[37m\u001b[0m \u001b[1m0s\u001b[0m 336us/step - loss: 33345.5312 - val_loss: 419.0912\n",
      "Epoch 18/50\n",
      "\u001b[1m91/91\u001b[0m \u001b[32m━━━━━━━━━━━━━━━━━━━━\u001b[0m\u001b[37m\u001b[0m \u001b[1m0s\u001b[0m 331us/step - loss: 8170.4707 - val_loss: 376.2258\n",
      "Epoch 19/50\n",
      "\u001b[1m91/91\u001b[0m \u001b[32m━━━━━━━━━━━━━━━━━━━━\u001b[0m\u001b[37m\u001b[0m \u001b[1m0s\u001b[0m 341us/step - loss: 17406.4629 - val_loss: 346.5324\n",
      "Epoch 20/50\n",
      "\u001b[1m91/91\u001b[0m \u001b[32m━━━━━━━━━━━━━━━━━━━━\u001b[0m\u001b[37m\u001b[0m \u001b[1m0s\u001b[0m 337us/step - loss: 6449.2080 - val_loss: 314.6404\n",
      "Epoch 21/50\n",
      "\u001b[1m91/91\u001b[0m \u001b[32m━━━━━━━━━━━━━━━━━━━━\u001b[0m\u001b[37m\u001b[0m \u001b[1m0s\u001b[0m 337us/step - loss: 1607.2218 - val_loss: 301.8694\n",
      "Epoch 22/50\n",
      "\u001b[1m91/91\u001b[0m \u001b[32m━━━━━━━━━━━━━━━━━━━━\u001b[0m\u001b[37m\u001b[0m \u001b[1m0s\u001b[0m 333us/step - loss: 12353.5059 - val_loss: 319.1927\n",
      "Epoch 23/50\n",
      "\u001b[1m91/91\u001b[0m \u001b[32m━━━━━━━━━━━━━━━━━━━━\u001b[0m\u001b[37m\u001b[0m \u001b[1m0s\u001b[0m 332us/step - loss: 18340.8652 - val_loss: 263.4936\n",
      "Epoch 24/50\n",
      "\u001b[1m91/91\u001b[0m \u001b[32m━━━━━━━━━━━━━━━━━━━━\u001b[0m\u001b[37m\u001b[0m \u001b[1m0s\u001b[0m 342us/step - loss: 8857.6436 - val_loss: 272.3687\n",
      "Epoch 25/50\n",
      "\u001b[1m91/91\u001b[0m \u001b[32m━━━━━━━━━━━━━━━━━━━━\u001b[0m\u001b[37m\u001b[0m \u001b[1m0s\u001b[0m 331us/step - loss: 18808.9922 - val_loss: 306.8272\n",
      "Epoch 26/50\n",
      "\u001b[1m91/91\u001b[0m \u001b[32m━━━━━━━━━━━━━━━━━━━━\u001b[0m\u001b[37m\u001b[0m \u001b[1m0s\u001b[0m 339us/step - loss: 25866.1094 - val_loss: 304.9668\n",
      "Epoch 27/50\n",
      "\u001b[1m91/91\u001b[0m \u001b[32m━━━━━━━━━━━━━━━━━━━━\u001b[0m\u001b[37m\u001b[0m \u001b[1m0s\u001b[0m 337us/step - loss: 19743.6934 - val_loss: 352.2956\n",
      "Epoch 28/50\n",
      "\u001b[1m91/91\u001b[0m \u001b[32m━━━━━━━━━━━━━━━━━━━━\u001b[0m\u001b[37m\u001b[0m \u001b[1m0s\u001b[0m 340us/step - loss: 2859.7998 - val_loss: 350.8696\n",
      "Epoch 29/50\n",
      "\u001b[1m91/91\u001b[0m \u001b[32m━━━━━━━━━━━━━━━━━━━━\u001b[0m\u001b[37m\u001b[0m \u001b[1m0s\u001b[0m 343us/step - loss: 15927.3330 - val_loss: 424.1935\n",
      "Epoch 30/50\n",
      "\u001b[1m91/91\u001b[0m \u001b[32m━━━━━━━━━━━━━━━━━━━━\u001b[0m\u001b[37m\u001b[0m \u001b[1m0s\u001b[0m 335us/step - loss: 15039.2979 - val_loss: 507.7217\n",
      "Epoch 31/50\n",
      "\u001b[1m91/91\u001b[0m \u001b[32m━━━━━━━━━━━━━━━━━━━━\u001b[0m\u001b[37m\u001b[0m \u001b[1m0s\u001b[0m 327us/step - loss: 9849.9746 - val_loss: 565.9929\n",
      "Epoch 32/50\n",
      "\u001b[1m91/91\u001b[0m \u001b[32m━━━━━━━━━━━━━━━━━━━━\u001b[0m\u001b[37m\u001b[0m \u001b[1m0s\u001b[0m 334us/step - loss: 6134.7974 - val_loss: 621.8011\n",
      "Epoch 33/50\n",
      "\u001b[1m91/91\u001b[0m \u001b[32m━━━━━━━━━━━━━━━━━━━━\u001b[0m\u001b[37m\u001b[0m \u001b[1m0s\u001b[0m 327us/step - loss: 7823.4590 - val_loss: 637.8884\n",
      "Epoch 34/50\n",
      "\u001b[1m91/91\u001b[0m \u001b[32m━━━━━━━━━━━━━━━━━━━━\u001b[0m\u001b[37m\u001b[0m \u001b[1m0s\u001b[0m 327us/step - loss: 17441.3262 - val_loss: 722.3087\n",
      "Epoch 35/50\n",
      "\u001b[1m91/91\u001b[0m \u001b[32m━━━━━━━━━━━━━━━━━━━━\u001b[0m\u001b[37m\u001b[0m \u001b[1m0s\u001b[0m 331us/step - loss: 4074.7756 - val_loss: 670.3619\n",
      "Epoch 36/50\n",
      "\u001b[1m91/91\u001b[0m \u001b[32m━━━━━━━━━━━━━━━━━━━━\u001b[0m\u001b[37m\u001b[0m \u001b[1m0s\u001b[0m 333us/step - loss: 25686.5527 - val_loss: 707.8727\n",
      "Epoch 37/50\n",
      "\u001b[1m91/91\u001b[0m \u001b[32m━━━━━━━━━━━━━━━━━━━━\u001b[0m\u001b[37m\u001b[0m \u001b[1m0s\u001b[0m 327us/step - loss: 17584.3848 - val_loss: 806.9009\n",
      "Epoch 38/50\n",
      "\u001b[1m91/91\u001b[0m \u001b[32m━━━━━━━━━━━━━━━━━━━━\u001b[0m\u001b[37m\u001b[0m \u001b[1m0s\u001b[0m 322us/step - loss: 7168.2930 - val_loss: 779.9255\n",
      "Epoch 39/50\n",
      "\u001b[1m91/91\u001b[0m \u001b[32m━━━━━━━━━━━━━━━━━━━━\u001b[0m\u001b[37m\u001b[0m \u001b[1m0s\u001b[0m 332us/step - loss: 17644.7949 - val_loss: 764.6279\n",
      "Epoch 40/50\n",
      "\u001b[1m91/91\u001b[0m \u001b[32m━━━━━━━━━━━━━━━━━━━━\u001b[0m\u001b[37m\u001b[0m \u001b[1m0s\u001b[0m 347us/step - loss: 9634.5547 - val_loss: 799.7727\n",
      "Epoch 41/50\n",
      "\u001b[1m91/91\u001b[0m \u001b[32m━━━━━━━━━━━━━━━━━━━━\u001b[0m\u001b[37m\u001b[0m \u001b[1m0s\u001b[0m 491us/step - loss: 5413.0864 - val_loss: 770.4539\n",
      "Epoch 42/50\n",
      "\u001b[1m91/91\u001b[0m \u001b[32m━━━━━━━━━━━━━━━━━━━━\u001b[0m\u001b[37m\u001b[0m \u001b[1m0s\u001b[0m 336us/step - loss: 856.4786 - val_loss: 721.9110\n",
      "Epoch 43/50\n",
      "\u001b[1m91/91\u001b[0m \u001b[32m━━━━━━━━━━━━━━━━━━━━\u001b[0m\u001b[37m\u001b[0m \u001b[1m0s\u001b[0m 335us/step - loss: 11512.5498 - val_loss: 777.7098\n",
      "Epoch 44/50\n",
      "\u001b[1m91/91\u001b[0m \u001b[32m━━━━━━━━━━━━━━━━━━━━\u001b[0m\u001b[37m\u001b[0m \u001b[1m0s\u001b[0m 348us/step - loss: 10180.8799 - val_loss: 749.0112\n",
      "Epoch 45/50\n",
      "\u001b[1m91/91\u001b[0m \u001b[32m━━━━━━━━━━━━━━━━━━━━\u001b[0m\u001b[37m\u001b[0m \u001b[1m0s\u001b[0m 328us/step - loss: 2193.8047 - val_loss: 685.1553\n",
      "Epoch 46/50\n",
      "\u001b[1m91/91\u001b[0m \u001b[32m━━━━━━━━━━━━━━━━━━━━\u001b[0m\u001b[37m\u001b[0m \u001b[1m0s\u001b[0m 331us/step - loss: 20912.7500 - val_loss: 1019.2593\n",
      "Epoch 47/50\n",
      "\u001b[1m91/91\u001b[0m \u001b[32m━━━━━━━━━━━━━━━━━━━━\u001b[0m\u001b[37m\u001b[0m \u001b[1m0s\u001b[0m 332us/step - loss: 2706.3152 - val_loss: 835.5514\n",
      "Epoch 48/50\n",
      "\u001b[1m91/91\u001b[0m \u001b[32m━━━━━━━━━━━━━━━━━━━━\u001b[0m\u001b[37m\u001b[0m \u001b[1m0s\u001b[0m 334us/step - loss: 1341.2115 - val_loss: 732.6652\n",
      "Epoch 49/50\n",
      "\u001b[1m91/91\u001b[0m \u001b[32m━━━━━━━━━━━━━━━━━━━━\u001b[0m\u001b[37m\u001b[0m \u001b[1m0s\u001b[0m 323us/step - loss: 6580.3149 - val_loss: 791.3832\n",
      "Epoch 50/50\n",
      "\u001b[1m91/91\u001b[0m \u001b[32m━━━━━━━━━━━━━━━━━━━━\u001b[0m\u001b[37m\u001b[0m \u001b[1m0s\u001b[0m 334us/step - loss: 13178.5088 - val_loss: 781.2017\n",
      "\u001b[1m29/29\u001b[0m \u001b[32m━━━━━━━━━━━━━━━━━━━━\u001b[0m\u001b[37m\u001b[0m \u001b[1m0s\u001b[0m 252us/step - loss: 374.6713\n",
      "Test Loss: 1462.7845458984375\n"
     ]
    }
   ],
   "source": [
    "from sklearn.model_selection import train_test_split\n",
    "\n",
    "X = df_call.drop(columns=['close'])  # Assuming 'close' is the target column you want to predict\n",
    "y = df_call['close']\n",
    "\n",
    "# Split the dataset into training and testing sets\n",
    "X_train, X_test, y_train, y_test = train_test_split(X, y, test_size=0.2, random_state=42)\n",
    "\n",
    "# Convert the datasets to numpy arrays for compatibility with TensorFlow/Keras\n",
    "X_train = np.array(X_train)\n",
    "X_test = np.array(X_test)\n",
    "y_train = np.array(y_train)\n",
    "y_test = np.array(y_test)\n",
    "\n",
    "# Train the model\n",
    "history = model.fit(X_train, y_train, epochs=50, batch_size=32, validation_split=0.2)\n",
    "\n",
    "# Evaluate the model on the test set\n",
    "test_loss = model.evaluate(X_test, y_test)\n",
    "print(f\"Test Loss: {test_loss}\")\n"
   ]
  },
  {
   "cell_type": "code",
   "execution_count": 159,
   "metadata": {},
   "outputs": [
    {
     "data": {
      "image/png": "[encoded data removed]",
      "text/plain": [
       "<Figure size 640x480 with 1 Axes>"
      ]
     },
     "metadata": {},
     "output_type": "display_data"
    }
   ],
   "source": [
    "# Visualize training loss and validation loss over epochs\n",
    "import matplotlib.pyplot as plt\n",
    "\n",
    "plt.plot(history.history['loss'], label='Training Loss')\n",
    "plt.plot(history.history['val_loss'], label='Validation Loss')\n",
    "plt.title('Training and Validation Loss')\n",
    "plt.xlabel('Epochs')\n",
    "plt.ylabel('Loss')\n",
    "plt.legend()\n",
    "plt.show()\n"
   ]
  },
  {
   "cell_type": "code",
   "execution_count": 160,
   "metadata": {},
   "outputs": [
    {
     "name": "stdout",
     "output_type": "stream",
     "text": [
      "\u001b[1m29/29\u001b[0m \u001b[32m━━━━━━━━━━━━━━━━━━━━\u001b[0m\u001b[37m\u001b[0m \u001b[1m0s\u001b[0m 690us/step\n",
      "Mean Squared Error: 1462.7846229316972\n",
      "Mean Absolute Error: 7.792713731258485\n",
      "Root Mean Squared Error: 38.246367447532805\n",
      "R-squared: 0.9906341713809085\n"
     ]
    }
   ],
   "source": [
    "from sklearn.metrics import mean_squared_error, mean_absolute_error, r2_score\n",
    "\n",
    "# Make predictions on the test set\n",
    "y_pred = model.predict(X_test)\n",
    "\n",
    "# Calculate evaluation metrics\n",
    "mse = mean_squared_error(y_test, y_pred)\n",
    "mae = mean_absolute_error(y_test, y_pred)\n",
    "rmse = np.sqrt(mse)\n",
    "r2 = r2_score(y_test, y_pred)\n",
    "\n",
    "print(f\"Mean Squared Error: {mse}\")\n",
    "print(f\"Mean Absolute Error: {mae}\")\n",
    "print(f\"Root Mean Squared Error: {rmse}\")\n",
    "print(f\"R-squared: {r2}\")\n"
   ]
  },
  {
   "cell_type": "code",
   "execution_count": 161,
   "metadata": {},
   "outputs": [
    {
     "name": "stdout",
     "output_type": "stream",
     "text": [
      "Unscaled Mean Squared Error: 221182656.24703324\n",
      "Unscaled Mean Absolute Error: 3030.2190442523083\n",
      "Unscaled Root Mean Squared Error: 14872.21087286733\n",
      "Unscaled R-squared: 0.9906341718993888\n"
     ]
    }
   ],
   "source": [
    "# Step 6: Unscale the predictions and actual target values\n",
    "y_pred_unscaled = target_scaler.inverse_transform(y_pred)  # Inverse transform predictions\n",
    "y_test_unscaled = target_scaler.inverse_transform(y_test.reshape(-1, 1))  # Inverse transform actual values\n",
    "\n",
    "# Step 7: Calculate evaluation metrics on unscaled values\n",
    "mse_unscaled = mean_squared_error(y_test_unscaled, y_pred_unscaled)\n",
    "mae_unscaled = mean_absolute_error(y_test_unscaled, y_pred_unscaled)\n",
    "rmse_unscaled = np.sqrt(mse_unscaled)\n",
    "r2_unscaled = r2_score(y_test_unscaled, y_pred_unscaled)\n",
    "\n",
    "print(f\"Unscaled Mean Squared Error: {mse_unscaled}\")\n",
    "print(f\"Unscaled Mean Absolute Error: {mae_unscaled}\")\n",
    "print(f\"Unscaled Root Mean Squared Error: {rmse_unscaled}\")\n",
    "print(f\"Unscaled R-squared: {r2_unscaled}\")"
   ]
  },
  {
   "cell_type": "markdown",
   "metadata": {},
   "source": [
    "# Finetuning Hyperparameters"
   ]
  },
  {
   "cell_type": "markdown",
   "metadata": {},
   "source": [
    "Hyperparameters to learn\n",
    "1. Number of hidden layers\n",
    "2. Number of neurons in each layer\n",
    "3. Learning rate\n",
    "4. Batch size\n",
    "5. Activation Functions\n",
    "6. Dropout rate"
   ]
  },
  {
   "cell_type": "code",
   "execution_count": 73,
   "metadata": {},
   "outputs": [],
   "source": [
    "from tensorflow.keras.models import Sequential\n",
    "from tensorflow.keras.layers import Dense, LeakyReLU, Dropout\n",
    "from scikeras.wrappers import KerasRegressor\n",
    "\n",
    "def build_model(optimizer='adam', learning_rate=0.001, num_neurons=30, num_layers=1, dropout_rate=0.0):\n",
    "    model = Sequential()\n",
    "    model.add(Dense(units=num_neurons, input_shape=(15,)))  # Input layer + First hidden layer\n",
    "    model.add(LeakyReLU(alpha=0.01))\n",
    "\n",
    "    # Adding more hidden layers based on num_layers parameter\n",
    "    for _ in range(num_layers - 1):\n",
    "        model.add(Dense(units=num_neurons))\n",
    "        model.add(LeakyReLU(alpha=0.01))\n",
    "        if dropout_rate > 0:\n",
    "            model.add(Dropout(rate=dropout_rate))  # Add dropout if dropout_rate is provided\n",
    "\n",
    "    # Output layer\n",
    "    model.add(Dense(units=1))\n",
    "\n",
    "    # Compile the model with the specified optimizer and learning rate\n",
    "    opt = optimizer if isinstance(optimizer, str) else optimizer(learning_rate=learning_rate)\n",
    "    model.compile(optimizer=opt, loss='mse', metrics=['mse'])\n",
    "    return model\n",
    "\n"
   ]
  },
  {
   "cell_type": "code",
   "execution_count": 74,
   "metadata": {},
   "outputs": [],
   "source": [
    "from scikeras.wrappers import KerasRegressor\n",
    "\n",
    "keras_model = KerasRegressor(\n",
    "    build_fn=build_model,\n",
    "    optimizer='adam',\n",
    "    learning_rate=0.001,\n",
    "    num_neurons=30,\n",
    "    num_layers=1,\n",
    "    dropout_rate=0.0,\n",
    "    epochs=100,\n",
    "    batch_size=32,\n",
    "    verbose=0\n",
    ")\n"
   ]
  },
  {
   "cell_type": "code",
   "execution_count": 75,
   "metadata": {},
   "outputs": [],
   "source": [
    "param_grid = {\n",
    "    'num_neurons': [20, 30, 50],  # Number of neurons in each layer\n",
    "    'num_layers': [1, 2, 3],  # Number of hidden layers\n",
    "    'learning_rate': [0.001, 0.01, 0.1],  # Learning rates to try\n",
    "    'optimizer': ['adam', 'rmsprop'],  # Different optimizers to try\n",
    "    'batch_size': [32, 64, 128],  # Different batch sizes\n",
    "    'dropout_rate': [0.0, 0.2, 0.3, 0.5],  # Dropout rate to prevent overfitting\n",
    "    'epochs': [50, 100]  # Number of epochs\n",
    "}\n"
   ]
  },
  {
   "cell_type": "code",
   "execution_count": null,
   "metadata": {},
   "outputs": [],
   "source": [
    "random_search = RandomizedSearchCV(\n",
    "    estimator=keras_model,\n",
    "    param_distributions=param_grid,\n",
    "    n_iter=10,\n",
    "    scoring='neg_mean_squared_error',\n",
    "    cv=3,\n",
    "    verbose=2,\n",
    "    n_jobs=-1\n",
    ")\n",
    "\n",
    "# Fit random search\n",
    "random_search.fit(X_train, y_train)\n",
    "\n",
    "# Print the best parameters and best score\n",
    "print(f\"Best Parameters: {random_search.best_params_}\")\n",
    "print(f\"Best Score: {random_search.best_score_}\")\n"
   ]
  },
  {
   "cell_type": "code",
   "execution_count": null,
   "metadata": {},
   "outputs": [],
   "source": [
    "from tensorflow.keras.optimizers import Adam\n",
    "\n",
    "# Define the model\n",
    "model = Sequential()\n",
    "\n",
    "# Input layer and first hidden layer with Leaky ReLU activation\n",
    "# Specify alpha for Leaky ReLU (default is usually 0.01)\n",
    "model.add(Dense(units=20, input_shape=(15,)))  # 20 neurons in the first hidden layer (as per best parameters)\n",
    "model.add(LeakyReLU(alpha=0.01))\n",
    "model.add(Dropout(0.2))  # Add dropout with a rate of 0.2\n",
    "\n",
    "# Second hidden layer with Leaky ReLU activation\n",
    "model.add(Dense(units=20))  # 20 neurons in the second hidden layer (as per best parameters)\n",
    "model.add(LeakyReLU(alpha=0.01))\n",
    "model.add(Dropout(0.2))  # Add dropout with a rate of 0.2\n",
    "\n",
    "# Output layer with 1 neuron to predict the option price (no activation function for regression)\n",
    "model.add(Dense(units=1))\n",
    "\n",
    "# Create an Adam optimizer with the best-found learning rate\n",
    "optimizer = Adam(learning_rate=0.001)  # Setting learning rate as per best parameters\n",
    "\n",
    "# Compile the model with the specified optimizer and loss function\n",
    "model.compile(optimizer=optimizer, loss='mse')\n",
    "\n",
    "# Summary of the model architecture\n",
    "model.summary()\n"
   ]
  },
  {
   "cell_type": "code",
   "execution_count": null,
   "metadata": {},
   "outputs": [],
   "source": [
    "from sklearn.model_selection import train_test_split\n",
    "\n",
    "X = df_call.drop(columns=['close'])  # Assuming 'close' is the target column you want to predict\n",
    "y = df_call['close']\n",
    "\n",
    "# Split the dataset into training and testing sets\n",
    "X_train, X_test, y_train, y_test = train_test_split(X, y, test_size=0.2, random_state=42)\n",
    "\n",
    "# Convert the datasets to numpy arrays for compatibility with TensorFlow/Keras\n",
    "X_train = np.array(X_train)\n",
    "X_test = np.array(X_test)\n",
    "y_train = np.array(y_train)\n",
    "y_test = np.array(y_test)\n",
    "\n",
    "# Train the model\n",
    "history = model.fit(X_train, y_train, epochs=50, batch_size=32, validation_split=0.2)\n",
    "\n",
    "# Evaluate the model on the test set\n",
    "test_loss = model.evaluate(X_test, y_test)\n",
    "print(f\"Test Loss: {test_loss}\")\n"
   ]
  },
  {
   "cell_type": "code",
   "execution_count": null,
   "metadata": {},
   "outputs": [],
   "source": [
    "from sklearn.metrics import mean_squared_error, mean_absolute_error, r2_score\n",
    "\n",
    "# Make predictions on the test set\n",
    "y_pred = model.predict(X_test)\n",
    "\n",
    "# Calculate evaluation metrics\n",
    "mse = mean_squared_error(y_test, y_pred)\n",
    "mae = mean_absolute_error(y_test, y_pred)\n",
    "rmse = np.sqrt(mse)\n",
    "r2 = r2_score(y_test, y_pred)\n",
    "\n",
    "print(f\"Mean Squared Error: {mse}\")\n",
    "print(f\"Mean Absolute Error: {mae}\")\n",
    "print(f\"Root Mean Squared Error: {rmse}\")\n",
    "print(f\"R-squared: {r2}\")\n"
   ]
  },
  {
   "cell_type": "code",
   "execution_count": null,
   "metadata": {},
   "outputs": [],
   "source": [
    "from sklearn.preprocessing import StandardScaler\n",
    "\n",
    "# Assuming you scaled your target variable 'close' during preprocessing\n",
    "\n",
    "# Step 1: Fit the scaler on the original 'close' column\n",
    "target_scaler = StandardScaler()\n",
    "target_scaler.fit(df_call[['close']])\n",
    "\n",
    "# Step 2: Inverse transform the predictions and the actual test values\n",
    "y_pred_unscaled = target_scaler.inverse_transform(y_pred)\n",
    "y_test_unscaled = target_scaler.inverse_transform(y_test.reshape(-1, 1))\n",
    "\n",
    "# Step 3: Calculate evaluation metrics on unscaled values\n",
    "mse_unscaled = mean_squared_error(y_test_unscaled, y_pred_unscaled)\n",
    "mae_unscaled = mean_absolute_error(y_test_unscaled, y_pred_unscaled)\n",
    "rmse_unscaled = np.sqrt(mse_unscaled)\n",
    "r2_unscaled = r2_score(y_test_unscaled, y_pred_unscaled)\n",
    "\n",
    "print(f\"Unscaled Mean Squared Error: {mse_unscaled}\")\n",
    "print(f\"Unscaled Mean Absolute Error: {mae_unscaled}\")\n",
    "print(f\"Unscaled Root Mean Squared Error: {rmse_unscaled}\")\n",
    "print(f\"Unscaled R-squared: {r2_unscaled}\")\n"
   ]
  }
 ],
 "metadata": {
  "kernelspec": {
   "display_name": "Python 3",
   "language": "python",
   "name": "python3"
  },
  "language_info": {
   "codemirror_mode": {
    "name": "ipython",
    "version": 3
   },
   "file_extension": ".py",
   "mimetype": "text/x-python",
   "name": "python",
   "nbconvert_exporter": "python",
   "pygments_lexer": "ipython3",
   "version": "3.12.7"
  }
 },
 "nbformat": 4,
 "nbformat_minor": 2
}
