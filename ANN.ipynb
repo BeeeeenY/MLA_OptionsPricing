{
 "cells": [
  {
   "cell_type": "markdown",
   "metadata": {},
   "source": [
    "# ANN"
   ]
  },
  {
   "cell_type": "markdown",
   "metadata": {},
   "source": [
    "Table of Contents\n",
    "- [1. Preprocessing Data](#1-preprocessing-the-data)\n",
    "- [2. Model for Calls ONLY](#2-model-for-calls-only)\n",
    "  - [2.1 Stage 1 Model (Binary Classifier)](#21-stage-1-model-binary-classifier)\n",
    "  - [2.2 Stage 2 Model (Price Prediction)](#22-stage-2-model-price-prediction)\n",
    "  - [2.3 Testing model](#23-testing-model)\n",
    "  - [2.4 Hyper param Tuning](#24-hyperparam-tuning)\n",
    "    - [2.4.1 Hyperparam Tuning (Binary Classifier)](#241-hyperparam-tuning-binary-classifier)\n",
    "    - [2.4.2 Hyperparam Tuning (Price Prediction)](#242-hyperparam-tuning-price-prediction)\n",
    "- [3. Model for Puts ONLY](#3-model-for-puts-only)\n",
    "  - [3.1 Stage 1 Model (Binary Classifier)](#31-stage-1-model-binary-classifier)\n",
    "  - [3.2 Stage 2 Model (Price Prediction)](#32-stage-2-model-price-prediction)\n",
    "  - [3.3 Testing model](#33-testing-model)\n",
    "  - [3.4 Hyper param Tuning](#34-hyperparam-tuning)\n",
    "    - [3.4.1 Hyperparam Tuning (Binary Classifier)](#341-hyperparam-tuning-binary-classifier)\n",
    "    - [3.4.2 Hyperparam Tuning (Price Prediction)](#342-hyperparam-tuning-price-prediction)"
   ]
  },
  {
   "cell_type": "markdown",
   "metadata": {},
   "source": [
    "<u>Stage 1: Binary Classification Model</u>\n",
    "\n",
    "The first model is responsible for predicting if the option is “purchasable.” It classifies the input based on whether to proceed with price prediction or not.\n",
    "\n",
    "- Input Layer\n",
    "    - 15 neurons (one for each input feature).\n",
    "- Hidden Layer\n",
    "    - 1 Layer, 30 neurons (Leaky RelU)\n",
    "- Output Layer\n",
    "    - 1 neuron with a sigmoid activation function to produce a binary result:\n",
    "        - Output = 1 if the option is “purchasable” (indicating \"Buy the option\").\n",
    "        - Output = 0 if the option is “not purchasable” (indicating \"Do not buy\").\n",
    "\n",
    "<u>Stage 2: Price Prediction Model</u>\n",
    "\n",
    "Only if the classification model predicts the option as “purchasable” (1) does the data proceed to this model. This model predicts the price of the option.\n",
    "\n",
    "- Input Layer\n",
    "    - 15 neurons (same input features as the classification model).\n",
    "- Hidden Layers (Price Prediction Layer)\n",
    "    - First layer, 30 neurons (Leaky ReLU)\n",
    "    - Second Layer, 15 neurons (Leaky ReLU)\n",
    "- Output Layer\n",
    "    - 1 neuron without activation (for regression) to predict the option price."
   ]
  },
  {
   "cell_type": "markdown",
   "metadata": {},
   "source": [
    "# 1. Preprocessing the Data"
   ]
  },
  {
   "cell_type": "code",
   "execution_count": 1,
   "metadata": {},
   "outputs": [],
   "source": [
    "import pandas as pd\n",
    "import numpy as np"
   ]
  },
  {
   "cell_type": "code",
   "execution_count": 2,
   "metadata": {},
   "outputs": [],
   "source": [
    "df1 = pd.read_csv('data/SPX/UnderlyingOptionsIntervals_3600sec_calcs_oi_2024-07-26.csv')\n",
    "df3 = pd.read_csv('data/SPX/UnderlyingOptionsIntervals_3600sec_calcs_oi_2024-09-27.csv')\n",
    "df2 = pd.read_csv('data/SPX/UnderlyingOptionsIntervals_3600sec_calcs_oi_2024-08-30.csv')\n",
    "df4 = pd.read_csv('data/SPX/UnderlyingOptionsIntervals_3600sec_calcs_oi_2024-10-11.csv')\n",
    "df5 = pd.read_csv('data/SPX/UnderlyingOptionsIntervals_3600sec_calcs_oi_2024-10-18.csv')\n",
    "df6 = pd.read_csv('data/SPX/UnderlyingOptionsIntervals_3600sec_calcs_oi_2024-10-25.csv')"
   ]
  },
  {
   "cell_type": "code",
   "execution_count": 3,
   "metadata": {},
   "outputs": [],
   "source": [
    "df_train = pd.concat([\n",
    "    df1[(df1['root']=='SPX')],\n",
    "    df2[(df2['root']=='SPX')],\n",
    "    df3[(df3['root']=='SPX')],\n",
    "    df4[(df4['root']=='SPX')],\n",
    "    df5[(df5['root']=='SPX')]\n",
    "])\n",
    "df_test = df6[df6['root'] == 'SPX'].copy()"
   ]
  },
  {
   "cell_type": "code",
   "execution_count": 4,
   "metadata": {},
   "outputs": [],
   "source": [
    "# Transforming relevant columns to datetime\n",
    "df_train['expiration'] = pd.to_datetime(df_train['expiration'])\n",
    "df_train['quote_datetime'] = pd.to_datetime(df_train['quote_datetime'])\n",
    "\n",
    "df_test['expiration'] = pd.to_datetime(df_test['expiration'])\n",
    "df_test['quote_datetime'] = pd.to_datetime(df_test['quote_datetime'])\n",
    "\n",
    "# Calculate time-to-expiration as the difference in days\n",
    "df_train['time_to_expiration'] = (df_train['expiration'] - df_train['quote_datetime']).dt.days\n",
    "df_test['time_to_expiration'] = (df_test['expiration'] - df_test['quote_datetime']).dt.days"
   ]
  },
  {
   "cell_type": "code",
   "execution_count": 5,
   "metadata": {},
   "outputs": [],
   "source": [
    "# New column bid_ask_spread\n",
    "df_train['bid_ask_spread'] = df_train['underlying_ask'] - df_train['underlying_bid']\n",
    "df_test['bid_ask_spread'] = df_test['underlying_ask'] - df_test['underlying_bid']"
   ]
  },
  {
   "cell_type": "code",
   "execution_count": 6,
   "metadata": {},
   "outputs": [],
   "source": [
    "# New column is_buy, shows whether an option was bought\n",
    "df_train['is_buy'] = ((df_train['trade_volume'] > 0) & (df_train['close'] != 0)).astype(int)\n",
    "df_test['is_buy'] = ((df_test['trade_volume'] > 0) & (df_test['close'] != 0)).astype(int)"
   ]
  },
  {
   "cell_type": "code",
   "execution_count": 7,
   "metadata": {},
   "outputs": [],
   "source": [
    "df_train_calls = df_train[df_train['option_type']=='C']\n",
    "df_test_calls = df_test[df_test['option_type']=='C']\n",
    "\n",
    "df_train_puts = df_train[df_train['option_type']=='P']\n",
    "df_test_puts = df_test[df_test['option_type']=='P']"
   ]
  },
  {
   "cell_type": "code",
   "execution_count": 8,
   "metadata": {},
   "outputs": [
    {
     "data": {
      "text/plain": [
       "Index(['underlying_symbol', 'quote_datetime', 'root', 'expiration', 'strike',\n",
       "       'option_type', 'open', 'high', 'low', 'close', 'trade_volume',\n",
       "       'bid_size', 'bid', 'ask_size', 'ask', 'underlying_bid',\n",
       "       'underlying_ask', 'implied_underlying_price', 'active_underlying_price',\n",
       "       'implied_volatility', 'delta', 'gamma', 'theta', 'vega', 'rho',\n",
       "       'open_interest', 'time_to_expiration', 'bid_ask_spread', 'is_buy'],\n",
       "      dtype='object')"
      ]
     },
     "execution_count": 8,
     "metadata": {},
     "output_type": "execute_result"
    }
   ],
   "source": [
    "df_test_calls.columns"
   ]
  },
  {
   "cell_type": "code",
   "execution_count": 9,
   "metadata": {},
   "outputs": [],
   "source": [
    "# Dropping irrelevant columns\n",
    "# root, underlying_symbol, option_type, implied_underlying_price, quote_datetime, expiration, bid_size, ask_size, underlying_bid, underlying_ask, open, high, low\n",
    "columns_to_drop = ['root', 'option_type','underlying_symbol', 'implied_underlying_price', 'quote_datetime', \n",
    "                   'expiration', 'open', 'high', 'low', 'bid_size', 'ask_size', \n",
    "                   'underlying_bid', 'underlying_ask']\n",
    "\n",
    "df_train_calls = df_train_calls.drop(columns = columns_to_drop, axis=1)\n",
    "df_train_puts = df_train_puts.drop(columns = columns_to_drop, axis=1)\n",
    "df_test_calls = df_test.drop(columns = columns_to_drop, axis=1)\n",
    "df_test_puts = df_test.drop(columns = columns_to_drop, axis=1)"
   ]
  },
  {
   "cell_type": "markdown",
   "metadata": {},
   "source": [
    "# 2. Model for Calls ONLY"
   ]
  },
  {
   "cell_type": "code",
   "execution_count": 10,
   "metadata": {},
   "outputs": [],
   "source": [
    "# Scaling features\n",
    "from sklearn.preprocessing import StandardScaler\n",
    "\n",
    "numerical_columns = ['strike', 'trade_volume', 'active_underlying_price', \n",
    "                     'implied_volatility', 'delta', 'gamma', 'theta', \n",
    "                     'vega', 'rho', 'open_interest', 'time_to_expiration', 'bid_ask_spread']\n",
    "scaler = StandardScaler()\n",
    "df_train_calls[numerical_columns] = scaler.fit_transform(df_train_calls[numerical_columns])\n",
    "df_test_calls[numerical_columns] = scaler.transform(df_test_calls[numerical_columns])"
   ]
  },
  {
   "cell_type": "markdown",
   "metadata": {},
   "source": [
    "## 2.1 Stage 1 Model (Binary Classifier)"
   ]
  },
  {
   "cell_type": "markdown",
   "metadata": {},
   "source": [
    "The followering hyper parameters were determined in [Section 2.4.1](#241-hyperparam-tuning-binary-classifier) of hyperparameter tuning.\n",
    "- Hidden Layer No. of Neurons: 56\n",
    "- Model Learning Rate: 0.001\n",
    "- Epochs: 20\n",
    "- Batch Size: 32"
   ]
  },
  {
   "cell_type": "code",
   "execution_count": 11,
   "metadata": {},
   "outputs": [
    {
     "data": {
      "text/html": [
       "<pre style=\"white-space:pre;overflow-x:auto;line-height:normal;font-family:Menlo,'DejaVu Sans Mono',consolas,'Courier New',monospace\"><span style=\"font-weight: bold\">Model: \"sequential\"</span>\n",
       "</pre>\n"
      ],
      "text/plain": [
       "\u001b[1mModel: \"sequential\"\u001b[0m\n"
      ]
     },
     "metadata": {},
     "output_type": "display_data"
    },
    {
     "data": {
      "text/html": [
       "<pre style=\"white-space:pre;overflow-x:auto;line-height:normal;font-family:Menlo,'DejaVu Sans Mono',consolas,'Courier New',monospace\">┏━━━━━━━━━━━━━━━━━━━━━━━━━━━━━━━━━┳━━━━━━━━━━━━━━━━━━━━━━━━┳━━━━━━━━━━━━━━━┓\n",
       "┃<span style=\"font-weight: bold\"> Layer (type)                    </span>┃<span style=\"font-weight: bold\"> Output Shape           </span>┃<span style=\"font-weight: bold\">       Param # </span>┃\n",
       "┡━━━━━━━━━━━━━━━━━━━━━━━━━━━━━━━━━╇━━━━━━━━━━━━━━━━━━━━━━━━╇━━━━━━━━━━━━━━━┩\n",
       "│ dense (<span style=\"color: #0087ff; text-decoration-color: #0087ff\">Dense</span>)                   │ (<span style=\"color: #00d7ff; text-decoration-color: #00d7ff\">None</span>, <span style=\"color: #00af00; text-decoration-color: #00af00\">56</span>)             │           <span style=\"color: #00af00; text-decoration-color: #00af00\">840</span> │\n",
       "├─────────────────────────────────┼────────────────────────┼───────────────┤\n",
       "│ leaky_re_lu (<span style=\"color: #0087ff; text-decoration-color: #0087ff\">LeakyReLU</span>)         │ (<span style=\"color: #00d7ff; text-decoration-color: #00d7ff\">None</span>, <span style=\"color: #00af00; text-decoration-color: #00af00\">56</span>)             │             <span style=\"color: #00af00; text-decoration-color: #00af00\">0</span> │\n",
       "├─────────────────────────────────┼────────────────────────┼───────────────┤\n",
       "│ dense_1 (<span style=\"color: #0087ff; text-decoration-color: #0087ff\">Dense</span>)                 │ (<span style=\"color: #00d7ff; text-decoration-color: #00d7ff\">None</span>, <span style=\"color: #00af00; text-decoration-color: #00af00\">1</span>)              │            <span style=\"color: #00af00; text-decoration-color: #00af00\">57</span> │\n",
       "└─────────────────────────────────┴────────────────────────┴───────────────┘\n",
       "</pre>\n"
      ],
      "text/plain": [
       "┏━━━━━━━━━━━━━━━━━━━━━━━━━━━━━━━━━┳━━━━━━━━━━━━━━━━━━━━━━━━┳━━━━━━━━━━━━━━━┓\n",
       "┃\u001b[1m \u001b[0m\u001b[1mLayer (type)                   \u001b[0m\u001b[1m \u001b[0m┃\u001b[1m \u001b[0m\u001b[1mOutput Shape          \u001b[0m\u001b[1m \u001b[0m┃\u001b[1m \u001b[0m\u001b[1m      Param #\u001b[0m\u001b[1m \u001b[0m┃\n",
       "┡━━━━━━━━━━━━━━━━━━━━━━━━━━━━━━━━━╇━━━━━━━━━━━━━━━━━━━━━━━━╇━━━━━━━━━━━━━━━┩\n",
       "│ dense (\u001b[38;5;33mDense\u001b[0m)                   │ (\u001b[38;5;45mNone\u001b[0m, \u001b[38;5;34m56\u001b[0m)             │           \u001b[38;5;34m840\u001b[0m │\n",
       "├─────────────────────────────────┼────────────────────────┼───────────────┤\n",
       "│ leaky_re_lu (\u001b[38;5;33mLeakyReLU\u001b[0m)         │ (\u001b[38;5;45mNone\u001b[0m, \u001b[38;5;34m56\u001b[0m)             │             \u001b[38;5;34m0\u001b[0m │\n",
       "├─────────────────────────────────┼────────────────────────┼───────────────┤\n",
       "│ dense_1 (\u001b[38;5;33mDense\u001b[0m)                 │ (\u001b[38;5;45mNone\u001b[0m, \u001b[38;5;34m1\u001b[0m)              │            \u001b[38;5;34m57\u001b[0m │\n",
       "└─────────────────────────────────┴────────────────────────┴───────────────┘\n"
      ]
     },
     "metadata": {},
     "output_type": "display_data"
    },
    {
     "data": {
      "text/html": [
       "<pre style=\"white-space:pre;overflow-x:auto;line-height:normal;font-family:Menlo,'DejaVu Sans Mono',consolas,'Courier New',monospace\"><span style=\"font-weight: bold\"> Total params: </span><span style=\"color: #00af00; text-decoration-color: #00af00\">897</span> (3.50 KB)\n",
       "</pre>\n"
      ],
      "text/plain": [
       "\u001b[1m Total params: \u001b[0m\u001b[38;5;34m897\u001b[0m (3.50 KB)\n"
      ]
     },
     "metadata": {},
     "output_type": "display_data"
    },
    {
     "data": {
      "text/html": [
       "<pre style=\"white-space:pre;overflow-x:auto;line-height:normal;font-family:Menlo,'DejaVu Sans Mono',consolas,'Courier New',monospace\"><span style=\"font-weight: bold\"> Trainable params: </span><span style=\"color: #00af00; text-decoration-color: #00af00\">897</span> (3.50 KB)\n",
       "</pre>\n"
      ],
      "text/plain": [
       "\u001b[1m Trainable params: \u001b[0m\u001b[38;5;34m897\u001b[0m (3.50 KB)\n"
      ]
     },
     "metadata": {},
     "output_type": "display_data"
    },
    {
     "data": {
      "text/html": [
       "<pre style=\"white-space:pre;overflow-x:auto;line-height:normal;font-family:Menlo,'DejaVu Sans Mono',consolas,'Courier New',monospace\"><span style=\"font-weight: bold\"> Non-trainable params: </span><span style=\"color: #00af00; text-decoration-color: #00af00\">0</span> (0.00 B)\n",
       "</pre>\n"
      ],
      "text/plain": [
       "\u001b[1m Non-trainable params: \u001b[0m\u001b[38;5;34m0\u001b[0m (0.00 B)\n"
      ]
     },
     "metadata": {},
     "output_type": "display_data"
    }
   ],
   "source": [
    "from tensorflow.keras.models import Sequential\n",
    "from tensorflow.keras.layers import Input, Dense, LeakyReLU\n",
    "from tensorflow.keras.optimizers import Adam\n",
    "\n",
    "# Define the binary classifier model\n",
    "binary_classifier_calls = Sequential()\n",
    "\n",
    "# Input layer with 14 neurons for 14 features\n",
    "binary_classifier_calls.add(Input(shape=(14,)))\n",
    "\n",
    "# Hidden layer with 56 neurons\n",
    "binary_classifier_calls.add(Dense(units=56))\n",
    "binary_classifier_calls.add(LeakyReLU(negative_slope=0.01))         # Leaky ReLU activation\n",
    "\n",
    "# Output layer with 1 neuron and sigmoid activation for binary classification\n",
    "binary_classifier_calls.add(Dense(1, activation='sigmoid'))\n",
    "\n",
    "# Compile the model with binary cross-entropy loss and Adam optimizer\n",
    "binary_classifier_calls.compile(optimizer=Adam(learning_rate=0.001), loss='binary_crossentropy', metrics=['accuracy'])\n",
    "\n",
    "# Summary of the model architecture\n",
    "binary_classifier_calls.summary()\n"
   ]
  },
  {
   "cell_type": "code",
   "execution_count": 12,
   "metadata": {},
   "outputs": [],
   "source": [
    "# Separate features and target for training\n",
    "X_train = df_train_calls.drop(columns=['close', 'is_buy'])  # Drop 'close' and 'is_buy' from features\n",
    "y_train = df_train_calls['is_buy']  # Target for binary classification"
   ]
  },
  {
   "cell_type": "code",
   "execution_count": 13,
   "metadata": {},
   "outputs": [
    {
     "name": "stdout",
     "output_type": "stream",
     "text": [
      "Epoch 1/20\n",
      "\u001b[1m3449/3449\u001b[0m \u001b[32m━━━━━━━━━━━━━━━━━━━━\u001b[0m\u001b[37m\u001b[0m \u001b[1m1s\u001b[0m 260us/step - accuracy: 0.9378 - loss: 1.0349 - val_accuracy: 0.9579 - val_loss: 0.1547\n",
      "Epoch 2/20\n",
      "\u001b[1m3449/3449\u001b[0m \u001b[32m━━━━━━━━━━━━━━━━━━━━\u001b[0m\u001b[37m\u001b[0m \u001b[1m1s\u001b[0m 247us/step - accuracy: 0.9560 - loss: 0.2293 - val_accuracy: 0.9588 - val_loss: 0.1395\n",
      "Epoch 3/20\n",
      "\u001b[1m3449/3449\u001b[0m \u001b[32m━━━━━━━━━━━━━━━━━━━━\u001b[0m\u001b[37m\u001b[0m \u001b[1m1s\u001b[0m 249us/step - accuracy: 0.9564 - loss: 0.2820 - val_accuracy: 0.9564 - val_loss: 0.1916\n",
      "Epoch 4/20\n",
      "\u001b[1m3449/3449\u001b[0m \u001b[32m━━━━━━━━━━━━━━━━━━━━\u001b[0m\u001b[37m\u001b[0m \u001b[1m1s\u001b[0m 249us/step - accuracy: 0.9598 - loss: 0.2160 - val_accuracy: 0.9589 - val_loss: 0.2452\n",
      "Epoch 5/20\n",
      "\u001b[1m3449/3449\u001b[0m \u001b[32m━━━━━━━━━━━━━━━━━━━━\u001b[0m\u001b[37m\u001b[0m \u001b[1m1s\u001b[0m 262us/step - accuracy: 0.9614 - loss: 0.2465 - val_accuracy: 0.9587 - val_loss: 0.3921\n",
      "Epoch 6/20\n",
      "\u001b[1m3449/3449\u001b[0m \u001b[32m━━━━━━━━━━━━━━━━━━━━\u001b[0m\u001b[37m\u001b[0m \u001b[1m1s\u001b[0m 255us/step - accuracy: 0.9644 - loss: 0.2341 - val_accuracy: 0.9696 - val_loss: 0.1363\n",
      "Epoch 7/20\n",
      "\u001b[1m3449/3449\u001b[0m \u001b[32m━━━━━━━━━━━━━━━━━━━━\u001b[0m\u001b[37m\u001b[0m \u001b[1m1s\u001b[0m 244us/step - accuracy: 0.9651 - loss: 0.1922 - val_accuracy: 0.9695 - val_loss: 0.1325\n",
      "Epoch 8/20\n",
      "\u001b[1m3449/3449\u001b[0m \u001b[32m━━━━━━━━━━━━━━━━━━━━\u001b[0m\u001b[37m\u001b[0m \u001b[1m1s\u001b[0m 245us/step - accuracy: 0.9670 - loss: 0.1613 - val_accuracy: 0.9666 - val_loss: 0.1124\n",
      "Epoch 9/20\n",
      "\u001b[1m3449/3449\u001b[0m \u001b[32m━━━━━━━━━━━━━━━━━━━━\u001b[0m\u001b[37m\u001b[0m \u001b[1m1s\u001b[0m 245us/step - accuracy: 0.9679 - loss: 0.1759 - val_accuracy: 0.9664 - val_loss: 0.2983\n",
      "Epoch 10/20\n",
      "\u001b[1m3449/3449\u001b[0m \u001b[32m━━━━━━━━━━━━━━━━━━━━\u001b[0m\u001b[37m\u001b[0m \u001b[1m1s\u001b[0m 244us/step - accuracy: 0.9685 - loss: 0.1820 - val_accuracy: 0.9604 - val_loss: 0.6385\n",
      "Epoch 11/20\n",
      "\u001b[1m3449/3449\u001b[0m \u001b[32m━━━━━━━━━━━━━━━━━━━━\u001b[0m\u001b[37m\u001b[0m \u001b[1m1s\u001b[0m 243us/step - accuracy: 0.9700 - loss: 0.1841 - val_accuracy: 0.9703 - val_loss: 0.1577\n",
      "Epoch 12/20\n",
      "\u001b[1m3449/3449\u001b[0m \u001b[32m━━━━━━━━━━━━━━━━━━━━\u001b[0m\u001b[37m\u001b[0m \u001b[1m1s\u001b[0m 253us/step - accuracy: 0.9715 - loss: 0.1483 - val_accuracy: 0.9646 - val_loss: 0.6218\n",
      "Epoch 13/20\n",
      "\u001b[1m3449/3449\u001b[0m \u001b[32m━━━━━━━━━━━━━━━━━━━━\u001b[0m\u001b[37m\u001b[0m \u001b[1m1s\u001b[0m 256us/step - accuracy: 0.9699 - loss: 0.1959 - val_accuracy: 0.9690 - val_loss: 0.1454\n",
      "Epoch 14/20\n",
      "\u001b[1m3449/3449\u001b[0m \u001b[32m━━━━━━━━━━━━━━━━━━━━\u001b[0m\u001b[37m\u001b[0m \u001b[1m1s\u001b[0m 254us/step - accuracy: 0.9706 - loss: 0.1711 - val_accuracy: 0.9677 - val_loss: 0.2544\n",
      "Epoch 15/20\n",
      "\u001b[1m3449/3449\u001b[0m \u001b[32m━━━━━━━━━━━━━━━━━━━━\u001b[0m\u001b[37m\u001b[0m \u001b[1m1s\u001b[0m 268us/step - accuracy: 0.9718 - loss: 0.1649 - val_accuracy: 0.9712 - val_loss: 0.1183\n",
      "Epoch 16/20\n",
      "\u001b[1m3449/3449\u001b[0m \u001b[32m━━━━━━━━━━━━━━━━━━━━\u001b[0m\u001b[37m\u001b[0m \u001b[1m1s\u001b[0m 244us/step - accuracy: 0.9723 - loss: 0.1372 - val_accuracy: 0.9721 - val_loss: 0.1136\n",
      "Epoch 17/20\n",
      "\u001b[1m3449/3449\u001b[0m \u001b[32m━━━━━━━━━━━━━━━━━━━━\u001b[0m\u001b[37m\u001b[0m \u001b[1m1s\u001b[0m 244us/step - accuracy: 0.9716 - loss: 0.1942 - val_accuracy: 0.9691 - val_loss: 0.1620\n",
      "Epoch 18/20\n",
      "\u001b[1m3449/3449\u001b[0m \u001b[32m━━━━━━━━━━━━━━━━━━━━\u001b[0m\u001b[37m\u001b[0m \u001b[1m1s\u001b[0m 244us/step - accuracy: 0.9726 - loss: 0.1686 - val_accuracy: 0.9646 - val_loss: 0.4352\n",
      "Epoch 19/20\n",
      "\u001b[1m3449/3449\u001b[0m \u001b[32m━━━━━━━━━━━━━━━━━━━━\u001b[0m\u001b[37m\u001b[0m \u001b[1m1s\u001b[0m 242us/step - accuracy: 0.9722 - loss: 0.1652 - val_accuracy: 0.9621 - val_loss: 0.1322\n",
      "Epoch 20/20\n",
      "\u001b[1m3449/3449\u001b[0m \u001b[32m━━━━━━━━━━━━━━━━━━━━\u001b[0m\u001b[37m\u001b[0m \u001b[1m1s\u001b[0m 248us/step - accuracy: 0.9729 - loss: 0.1569 - val_accuracy: 0.9707 - val_loss: 0.1650\n"
     ]
    }
   ],
   "source": [
    "# Training the binary classifier\n",
    "history = binary_classifier_calls.fit(X_train, y_train, epochs=20, batch_size=32, validation_split=0.2)\n"
   ]
  },
  {
   "cell_type": "code",
   "execution_count": 14,
   "metadata": {},
   "outputs": [
    {
     "name": "stdout",
     "output_type": "stream",
     "text": [
      "\u001b[1m4312/4312\u001b[0m \u001b[32m━━━━━━━━━━━━━━━━━━━━\u001b[0m\u001b[37m\u001b[0m \u001b[1m1s\u001b[0m 187us/step\n"
     ]
    }
   ],
   "source": [
    "# Separate features and target for the price prediction model\n",
    "X_train_calls = df_train_calls.drop(columns=['is_buy','close'])  # Features for price prediction\n",
    "y_train_price_full = df_train_calls['close']  # Target price\n",
    "\n",
    "# Generate the 'purchasable' predictions using the classifier\n",
    "purchasable_mask = binary_classifier_calls.predict(X_train_calls) >= 1  # Prediction mask for purchasable options\n",
    "\n",
    "# Filter rows for the price prediction model based on the 'purchasable' mask\n",
    "X_train_price = X_train_calls[purchasable_mask.flatten()]  # Only rows classified as purchasable\n",
    "y_train_price = y_train_price_full[purchasable_mask.flatten()]  # Corresponding target prices for purchasable options"
   ]
  },
  {
   "cell_type": "markdown",
   "metadata": {},
   "source": [
    "## 2.2 Stage 2 Model (Price Prediction)"
   ]
  },
  {
   "cell_type": "markdown",
   "metadata": {},
   "source": [
    "The followering hyper parameters were determined in [Section 2.4.2](#242-hyperparam-tuning-price-prediction) of hyperparameter tuning.\n",
    "- Hidden Layer 1 No. of Neurons: 14\n",
    "- Hidden Layer 2 No. of Neurons: 7\n",
    "- Model Learning Rate: 0.001\n",
    "- Epochs: 20\n",
    "- Batch Size: 64"
   ]
  },
  {
   "cell_type": "code",
   "execution_count": 15,
   "metadata": {},
   "outputs": [
    {
     "data": {
      "text/html": [
       "<pre style=\"white-space:pre;overflow-x:auto;line-height:normal;font-family:Menlo,'DejaVu Sans Mono',consolas,'Courier New',monospace\"><span style=\"font-weight: bold\">Model: \"sequential_1\"</span>\n",
       "</pre>\n"
      ],
      "text/plain": [
       "\u001b[1mModel: \"sequential_1\"\u001b[0m\n"
      ]
     },
     "metadata": {},
     "output_type": "display_data"
    },
    {
     "data": {
      "text/html": [
       "<pre style=\"white-space:pre;overflow-x:auto;line-height:normal;font-family:Menlo,'DejaVu Sans Mono',consolas,'Courier New',monospace\">┏━━━━━━━━━━━━━━━━━━━━━━━━━━━━━━━━━┳━━━━━━━━━━━━━━━━━━━━━━━━┳━━━━━━━━━━━━━━━┓\n",
       "┃<span style=\"font-weight: bold\"> Layer (type)                    </span>┃<span style=\"font-weight: bold\"> Output Shape           </span>┃<span style=\"font-weight: bold\">       Param # </span>┃\n",
       "┡━━━━━━━━━━━━━━━━━━━━━━━━━━━━━━━━━╇━━━━━━━━━━━━━━━━━━━━━━━━╇━━━━━━━━━━━━━━━┩\n",
       "│ dense_2 (<span style=\"color: #0087ff; text-decoration-color: #0087ff\">Dense</span>)                 │ (<span style=\"color: #00d7ff; text-decoration-color: #00d7ff\">None</span>, <span style=\"color: #00af00; text-decoration-color: #00af00\">14</span>)             │           <span style=\"color: #00af00; text-decoration-color: #00af00\">210</span> │\n",
       "├─────────────────────────────────┼────────────────────────┼───────────────┤\n",
       "│ leaky_re_lu_1 (<span style=\"color: #0087ff; text-decoration-color: #0087ff\">LeakyReLU</span>)       │ (<span style=\"color: #00d7ff; text-decoration-color: #00d7ff\">None</span>, <span style=\"color: #00af00; text-decoration-color: #00af00\">14</span>)             │             <span style=\"color: #00af00; text-decoration-color: #00af00\">0</span> │\n",
       "├─────────────────────────────────┼────────────────────────┼───────────────┤\n",
       "│ dense_3 (<span style=\"color: #0087ff; text-decoration-color: #0087ff\">Dense</span>)                 │ (<span style=\"color: #00d7ff; text-decoration-color: #00d7ff\">None</span>, <span style=\"color: #00af00; text-decoration-color: #00af00\">7</span>)              │           <span style=\"color: #00af00; text-decoration-color: #00af00\">105</span> │\n",
       "├─────────────────────────────────┼────────────────────────┼───────────────┤\n",
       "│ leaky_re_lu_2 (<span style=\"color: #0087ff; text-decoration-color: #0087ff\">LeakyReLU</span>)       │ (<span style=\"color: #00d7ff; text-decoration-color: #00d7ff\">None</span>, <span style=\"color: #00af00; text-decoration-color: #00af00\">7</span>)              │             <span style=\"color: #00af00; text-decoration-color: #00af00\">0</span> │\n",
       "├─────────────────────────────────┼────────────────────────┼───────────────┤\n",
       "│ dense_4 (<span style=\"color: #0087ff; text-decoration-color: #0087ff\">Dense</span>)                 │ (<span style=\"color: #00d7ff; text-decoration-color: #00d7ff\">None</span>, <span style=\"color: #00af00; text-decoration-color: #00af00\">1</span>)              │             <span style=\"color: #00af00; text-decoration-color: #00af00\">8</span> │\n",
       "└─────────────────────────────────┴────────────────────────┴───────────────┘\n",
       "</pre>\n"
      ],
      "text/plain": [
       "┏━━━━━━━━━━━━━━━━━━━━━━━━━━━━━━━━━┳━━━━━━━━━━━━━━━━━━━━━━━━┳━━━━━━━━━━━━━━━┓\n",
       "┃\u001b[1m \u001b[0m\u001b[1mLayer (type)                   \u001b[0m\u001b[1m \u001b[0m┃\u001b[1m \u001b[0m\u001b[1mOutput Shape          \u001b[0m\u001b[1m \u001b[0m┃\u001b[1m \u001b[0m\u001b[1m      Param #\u001b[0m\u001b[1m \u001b[0m┃\n",
       "┡━━━━━━━━━━━━━━━━━━━━━━━━━━━━━━━━━╇━━━━━━━━━━━━━━━━━━━━━━━━╇━━━━━━━━━━━━━━━┩\n",
       "│ dense_2 (\u001b[38;5;33mDense\u001b[0m)                 │ (\u001b[38;5;45mNone\u001b[0m, \u001b[38;5;34m14\u001b[0m)             │           \u001b[38;5;34m210\u001b[0m │\n",
       "├─────────────────────────────────┼────────────────────────┼───────────────┤\n",
       "│ leaky_re_lu_1 (\u001b[38;5;33mLeakyReLU\u001b[0m)       │ (\u001b[38;5;45mNone\u001b[0m, \u001b[38;5;34m14\u001b[0m)             │             \u001b[38;5;34m0\u001b[0m │\n",
       "├─────────────────────────────────┼────────────────────────┼───────────────┤\n",
       "│ dense_3 (\u001b[38;5;33mDense\u001b[0m)                 │ (\u001b[38;5;45mNone\u001b[0m, \u001b[38;5;34m7\u001b[0m)              │           \u001b[38;5;34m105\u001b[0m │\n",
       "├─────────────────────────────────┼────────────────────────┼───────────────┤\n",
       "│ leaky_re_lu_2 (\u001b[38;5;33mLeakyReLU\u001b[0m)       │ (\u001b[38;5;45mNone\u001b[0m, \u001b[38;5;34m7\u001b[0m)              │             \u001b[38;5;34m0\u001b[0m │\n",
       "├─────────────────────────────────┼────────────────────────┼───────────────┤\n",
       "│ dense_4 (\u001b[38;5;33mDense\u001b[0m)                 │ (\u001b[38;5;45mNone\u001b[0m, \u001b[38;5;34m1\u001b[0m)              │             \u001b[38;5;34m8\u001b[0m │\n",
       "└─────────────────────────────────┴────────────────────────┴───────────────┘\n"
      ]
     },
     "metadata": {},
     "output_type": "display_data"
    },
    {
     "data": {
      "text/html": [
       "<pre style=\"white-space:pre;overflow-x:auto;line-height:normal;font-family:Menlo,'DejaVu Sans Mono',consolas,'Courier New',monospace\"><span style=\"font-weight: bold\"> Total params: </span><span style=\"color: #00af00; text-decoration-color: #00af00\">323</span> (1.26 KB)\n",
       "</pre>\n"
      ],
      "text/plain": [
       "\u001b[1m Total params: \u001b[0m\u001b[38;5;34m323\u001b[0m (1.26 KB)\n"
      ]
     },
     "metadata": {},
     "output_type": "display_data"
    },
    {
     "data": {
      "text/html": [
       "<pre style=\"white-space:pre;overflow-x:auto;line-height:normal;font-family:Menlo,'DejaVu Sans Mono',consolas,'Courier New',monospace\"><span style=\"font-weight: bold\"> Trainable params: </span><span style=\"color: #00af00; text-decoration-color: #00af00\">323</span> (1.26 KB)\n",
       "</pre>\n"
      ],
      "text/plain": [
       "\u001b[1m Trainable params: \u001b[0m\u001b[38;5;34m323\u001b[0m (1.26 KB)\n"
      ]
     },
     "metadata": {},
     "output_type": "display_data"
    },
    {
     "data": {
      "text/html": [
       "<pre style=\"white-space:pre;overflow-x:auto;line-height:normal;font-family:Menlo,'DejaVu Sans Mono',consolas,'Courier New',monospace\"><span style=\"font-weight: bold\"> Non-trainable params: </span><span style=\"color: #00af00; text-decoration-color: #00af00\">0</span> (0.00 B)\n",
       "</pre>\n"
      ],
      "text/plain": [
       "\u001b[1m Non-trainable params: \u001b[0m\u001b[38;5;34m0\u001b[0m (0.00 B)\n"
      ]
     },
     "metadata": {},
     "output_type": "display_data"
    }
   ],
   "source": [
    "# Define the price prediction model\n",
    "price_prediction_model_calls = Sequential()\n",
    "\n",
    "# Input layer with 14 neurons\n",
    "price_prediction_model_calls.add(Input(shape=(14,))) # 14 input features\n",
    "\n",
    "# First hidden layer with 14 neurons\n",
    "price_prediction_model_calls.add(Dense(units=14))  # 14 neurons\n",
    "price_prediction_model_calls.add(LeakyReLU(negative_slope=0.01))               # Leaky ReLU activation\n",
    "\n",
    "# Second hidden layer with 7 neurons and Leaky ReLU activation\n",
    "price_prediction_model_calls.add(Dense(units=7))\n",
    "price_prediction_model_calls.add(LeakyReLU(negative_slope=0.01))\n",
    "\n",
    "# Output layer with 1 neuron (no activation for regression)\n",
    "price_prediction_model_calls.add(Dense(units=1))\n",
    "\n",
    "# Compile the model with Mean Squared Error (MSE) as the loss function for regression\n",
    "price_prediction_model_calls.compile(optimizer=Adam(learning_rate=0.001), loss='mse')\n",
    "\n",
    "# Summary of the model architecture\n",
    "price_prediction_model_calls.summary()\n"
   ]
  },
  {
   "cell_type": "code",
   "execution_count": 16,
   "metadata": {},
   "outputs": [
    {
     "name": "stdout",
     "output_type": "stream",
     "text": [
      "Epoch 1/20\n",
      "\u001b[1m25/25\u001b[0m \u001b[32m━━━━━━━━━━━━━━━━━━━━\u001b[0m\u001b[37m\u001b[0m \u001b[1m0s\u001b[0m 2ms/step - loss: 189340.8125 - val_loss: 161525.6406\n",
      "Epoch 2/20\n",
      "\u001b[1m25/25\u001b[0m \u001b[32m━━━━━━━━━━━━━━━━━━━━\u001b[0m\u001b[37m\u001b[0m \u001b[1m0s\u001b[0m 655us/step - loss: 134045.6562 - val_loss: 140895.6562\n",
      "Epoch 3/20\n",
      "\u001b[1m25/25\u001b[0m \u001b[32m━━━━━━━━━━━━━━━━━━━━\u001b[0m\u001b[37m\u001b[0m \u001b[1m0s\u001b[0m 661us/step - loss: 159219.5156 - val_loss: 122691.6953\n",
      "Epoch 4/20\n",
      "\u001b[1m25/25\u001b[0m \u001b[32m━━━━━━━━━━━━━━━━━━━━\u001b[0m\u001b[37m\u001b[0m \u001b[1m0s\u001b[0m 619us/step - loss: 146644.8438 - val_loss: 102949.0078\n",
      "Epoch 5/20\n",
      "\u001b[1m25/25\u001b[0m \u001b[32m━━━━━━━━━━━━━━━━━━━━\u001b[0m\u001b[37m\u001b[0m \u001b[1m0s\u001b[0m 605us/step - loss: 76317.8203 - val_loss: 78144.9219\n",
      "Epoch 6/20\n",
      "\u001b[1m25/25\u001b[0m \u001b[32m━━━━━━━━━━━━━━━━━━━━\u001b[0m\u001b[37m\u001b[0m \u001b[1m0s\u001b[0m 649us/step - loss: 68080.7656 - val_loss: 45958.7773\n",
      "Epoch 7/20\n",
      "\u001b[1m25/25\u001b[0m \u001b[32m━━━━━━━━━━━━━━━━━━━━\u001b[0m\u001b[37m\u001b[0m \u001b[1m0s\u001b[0m 599us/step - loss: 73875.6797 - val_loss: 22748.8594\n",
      "Epoch 8/20\n",
      "\u001b[1m25/25\u001b[0m \u001b[32m━━━━━━━━━━━━━━━━━━━━\u001b[0m\u001b[37m\u001b[0m \u001b[1m0s\u001b[0m 598us/step - loss: 44398.7891 - val_loss: 9445.8691\n",
      "Epoch 9/20\n",
      "\u001b[1m25/25\u001b[0m \u001b[32m━━━━━━━━━━━━━━━━━━━━\u001b[0m\u001b[37m\u001b[0m \u001b[1m0s\u001b[0m 623us/step - loss: 17011.3340 - val_loss: 2684.0627\n",
      "Epoch 10/20\n",
      "\u001b[1m25/25\u001b[0m \u001b[32m━━━━━━━━━━━━━━━━━━━━\u001b[0m\u001b[37m\u001b[0m \u001b[1m0s\u001b[0m 592us/step - loss: 31589.6641 - val_loss: 637.6671\n",
      "Epoch 11/20\n",
      "\u001b[1m25/25\u001b[0m \u001b[32m━━━━━━━━━━━━━━━━━━━━\u001b[0m\u001b[37m\u001b[0m \u001b[1m0s\u001b[0m 641us/step - loss: 10357.0273 - val_loss: 22.0757\n",
      "Epoch 12/20\n",
      "\u001b[1m25/25\u001b[0m \u001b[32m━━━━━━━━━━━━━━━━━━━━\u001b[0m\u001b[37m\u001b[0m \u001b[1m0s\u001b[0m 667us/step - loss: 16394.7773 - val_loss: 27.5038\n",
      "Epoch 13/20\n",
      "\u001b[1m25/25\u001b[0m \u001b[32m━━━━━━━━━━━━━━━━━━━━\u001b[0m\u001b[37m\u001b[0m \u001b[1m0s\u001b[0m 668us/step - loss: 6445.6299 - val_loss: 20.8075\n",
      "Epoch 14/20\n",
      "\u001b[1m25/25\u001b[0m \u001b[32m━━━━━━━━━━━━━━━━━━━━\u001b[0m\u001b[37m\u001b[0m \u001b[1m0s\u001b[0m 590us/step - loss: 7048.4136 - val_loss: 20.6200\n",
      "Epoch 15/20\n",
      "\u001b[1m25/25\u001b[0m \u001b[32m━━━━━━━━━━━━━━━━━━━━\u001b[0m\u001b[37m\u001b[0m \u001b[1m0s\u001b[0m 591us/step - loss: 24870.7168 - val_loss: 20.8601\n",
      "Epoch 16/20\n",
      "\u001b[1m25/25\u001b[0m \u001b[32m━━━━━━━━━━━━━━━━━━━━\u001b[0m\u001b[37m\u001b[0m \u001b[1m0s\u001b[0m 614us/step - loss: 24701.6621 - val_loss: 20.0247\n",
      "Epoch 17/20\n",
      "\u001b[1m25/25\u001b[0m \u001b[32m━━━━━━━━━━━━━━━━━━━━\u001b[0m\u001b[37m\u001b[0m \u001b[1m0s\u001b[0m 582us/step - loss: 7886.5122 - val_loss: 20.4451\n",
      "Epoch 18/20\n",
      "\u001b[1m25/25\u001b[0m \u001b[32m━━━━━━━━━━━━━━━━━━━━\u001b[0m\u001b[37m\u001b[0m \u001b[1m0s\u001b[0m 598us/step - loss: 16091.2051 - val_loss: 19.9297\n",
      "Epoch 19/20\n",
      "\u001b[1m25/25\u001b[0m \u001b[32m━━━━━━━━━━━━━━━━━━━━\u001b[0m\u001b[37m\u001b[0m \u001b[1m0s\u001b[0m 610us/step - loss: 10833.9336 - val_loss: 19.8290\n",
      "Epoch 20/20\n",
      "\u001b[1m25/25\u001b[0m \u001b[32m━━━━━━━━━━━━━━━━━━━━\u001b[0m\u001b[37m\u001b[0m \u001b[1m0s\u001b[0m 582us/step - loss: 28641.8164 - val_loss: 20.0436\n"
     ]
    }
   ],
   "source": [
    "# Train the price prediction model\n",
    "history = price_prediction_model_calls.fit(X_train_price, y_train_price, epochs=20, batch_size=64, validation_split=0.2)"
   ]
  },
  {
   "cell_type": "markdown",
   "metadata": {},
   "source": [
    "## 2.3 Testing model"
   ]
  },
  {
   "cell_type": "markdown",
   "metadata": {},
   "source": [
    "Testing is performed on a 6th day of trading not included in the training data"
   ]
  },
  {
   "cell_type": "code",
   "execution_count": 17,
   "metadata": {},
   "outputs": [],
   "source": [
    "from sklearn.metrics import accuracy_score, precision_score, recall_score, f1_score\n",
    "from sklearn.metrics import mean_squared_error, mean_absolute_error, r2_score"
   ]
  },
  {
   "cell_type": "code",
   "execution_count": 18,
   "metadata": {},
   "outputs": [],
   "source": [
    "# Features and target for binary classification model\n",
    "X_test_classification = df_test_calls.drop(columns=['close', 'is_buy'])  # Features for binary classification\n",
    "y_test_classification = df_test_calls['is_buy']           # Binary target for classification\n",
    "\n",
    "# Features and target for price prediction model\n",
    "X_test_price = df_test_calls.drop(columns=['is_buy', 'close'])  # Features for price prediction\n",
    "y_test_price_full = df_test_calls['close']                      # Target price for price prediction"
   ]
  },
  {
   "cell_type": "code",
   "execution_count": 19,
   "metadata": {},
   "outputs": [
    {
     "name": "stdout",
     "output_type": "stream",
     "text": [
      "\u001b[1m1744/1744\u001b[0m \u001b[32m━━━━━━━━━━━━━━━━━━━━\u001b[0m\u001b[37m\u001b[0m \u001b[1m0s\u001b[0m 170us/step\n",
      "Binary Classifier Metrics:\n",
      "Accuracy: 0.9624937280481686\n",
      "Precision: 0.991432651118515\n",
      "Recall: 0.5009620009620009\n",
      "F1-Score: 0.6656015337913405\n"
     ]
    }
   ],
   "source": [
    "y_pred_binary = (binary_classifier_calls.predict(X_test_classification).flatten() >= 0.5).astype(int)\n",
    "\n",
    "# Calculate binary classifier metrics\n",
    "binary_accuracy = accuracy_score(y_test_classification, y_pred_binary)\n",
    "binary_precision = precision_score(y_test_classification, y_pred_binary)\n",
    "binary_recall = recall_score(y_test_classification, y_pred_binary)\n",
    "binary_f1 = f1_score(y_test_classification, y_pred_binary)\n",
    "\n",
    "print(\"Binary Classifier Metrics:\")\n",
    "print(f\"Accuracy: {binary_accuracy}\")\n",
    "print(f\"Precision: {binary_precision}\")\n",
    "print(f\"Recall: {binary_recall}\")\n",
    "print(f\"F1-Score: {binary_f1}\")\n"
   ]
  },
  {
   "cell_type": "code",
   "execution_count": 20,
   "metadata": {},
   "outputs": [],
   "source": [
    "# Step 2: Filter Data for Stage 2 Price Prediction\n",
    "purchasable_mask = (y_pred_binary == 1)  # Mask for options classified as \"purchasable\"\n",
    "\n",
    "# Apply the mask to get features and target for price prediction\n",
    "X_test_price_purchasable = X_test_price[purchasable_mask]\n",
    "y_test_price = y_test_price_full[purchasable_mask]"
   ]
  },
  {
   "cell_type": "code",
   "execution_count": 21,
   "metadata": {},
   "outputs": [
    {
     "name": "stdout",
     "output_type": "stream",
     "text": [
      "\u001b[1m66/66\u001b[0m \u001b[32m━━━━━━━━━━━━━━━━━━━━\u001b[0m\u001b[37m\u001b[0m \u001b[1m0s\u001b[0m 376us/step\n",
      "\n",
      "Price Prediction Model Metrics:\n",
      "Mean Squared Error: 892.8599037460009\n",
      "Root Mean Squared Error: 29.880761431831033\n",
      "Mean Absolute Error: 4.6375651836278955\n",
      "R-squared: 0.9812322344247433\n"
     ]
    }
   ],
   "source": [
    "# Step 3: Run Stage 2 Price Prediction\n",
    "if len(X_test_price_purchasable) > 0:\n",
    "    y_pred_price = price_prediction_model_calls.predict(X_test_price_purchasable)\n",
    "\n",
    "    # Calculate regression metrics\n",
    "    mse = mean_squared_error(y_test_price, y_pred_price)\n",
    "    rmse = np.sqrt(mse)\n",
    "    mae = mean_absolute_error(y_test_price, y_pred_price)\n",
    "    r2 = r2_score(y_test_price, y_pred_price)\n",
    "\n",
    "    print(\"\\nPrice Prediction Model Metrics:\")\n",
    "    print(f\"Mean Squared Error: {mse}\")\n",
    "    print(f\"Root Mean Squared Error: {rmse}\")\n",
    "    print(f\"Mean Absolute Error: {mae}\")\n",
    "    print(f\"R-squared: {r2}\")\n",
    "else:\n",
    "    print(\"\\nNo 'purchasable' options found for price prediction in the 6th day test set.\")"
   ]
  },
  {
   "cell_type": "markdown",
   "metadata": {},
   "source": [
    "## 2.4 Hyperparam Tuning"
   ]
  },
  {
   "cell_type": "markdown",
   "metadata": {},
   "source": [
    "### 2.4.1 Hyperparam Tuning (Binary Classifier)"
   ]
  },
  {
   "cell_type": "code",
   "execution_count": 22,
   "metadata": {},
   "outputs": [],
   "source": [
    "from scikeras.wrappers import KerasClassifier\n",
    "from sklearn.model_selection import RandomizedSearchCV "
   ]
  },
  {
   "cell_type": "code",
   "execution_count": 23,
   "metadata": {},
   "outputs": [],
   "source": [
    "# Define the model-building function for Random Search\n",
    "def build_binary_classifier_model(units=28, learning_rate=1e-3):\n",
    "    model = Sequential()\n",
    "    \n",
    "    # Define the input layer separately using Input()\n",
    "    model.add(Input(shape=(14,)))\n",
    "    \n",
    "    # Hidden layer with Leaky ReLU activation (using `negative_slope` instead of `alpha`)\n",
    "    model.add(Dense(units=units))\n",
    "    model.add(LeakyReLU(negative_slope=0.01))\n",
    "    \n",
    "    # Output layer with 1 neuron and sigmoid activation for binary classification\n",
    "    model.add(Dense(1, activation='sigmoid'))\n",
    "    \n",
    "    # Compile the model with specified learning rate\n",
    "    model.compile(optimizer=Adam(learning_rate=learning_rate), loss='binary_crossentropy', metrics=['accuracy'])\n",
    "    \n",
    "    return model\n",
    "\n",
    "# Wrap the model using KerasClassifier, passing the function as build_fn\n",
    "binary_classifier = KerasClassifier(model=build_binary_classifier_model, verbose=0)\n"
   ]
  },
  {
   "cell_type": "code",
   "execution_count": 24,
   "metadata": {},
   "outputs": [],
   "source": [
    "param_grid = {\n",
    "    'model__units': [14, 28, 56],            # Number of neurons in the hidden layer\n",
    "    'model__learning_rate': [1e-2, 1e-3, 1e-4],  # Learning rates to try\n",
    "    'batch_size': [16, 32, 64],              # Batch sizes to try\n",
    "    'epochs': [10, 20]                       # Number of epochs to train\n",
    "}"
   ]
  },
  {
   "cell_type": "code",
   "execution_count": null,
   "metadata": {},
   "outputs": [],
   "source": [
    "# Initialize RandomizedSearchCV with the desired number of iterations\n",
    "random_search = RandomizedSearchCV(estimator=binary_classifier, param_distributions=param_grid, \n",
    "                                   scoring='accuracy', cv=3, n_iter=10, random_state=42)\n",
    "\n",
    "# Fit RandomizedSearchCV\n",
    "X_train = df_train_calls.drop(columns=['close', 'is_buy'])  # Drop 'close' and 'is_buy' from features\n",
    "y_train = df_train_calls['is_buy']  # Target for binary classification\n",
    "random_search_result = random_search.fit(X_train, y_train)\n",
    "\n",
    "# Get the best hyperparameters and score\n",
    "print(f\"Best Hyperparameters: {random_search_result.best_params_}\")\n",
    "print(f\"Best Score: {random_search_result.best_score_}\")\n"
   ]
  },
  {
   "cell_type": "markdown",
   "metadata": {},
   "source": [
    "### 2.4.2 Hyperparam Tuning (Price Prediction)"
   ]
  },
  {
   "cell_type": "code",
   "execution_count": 26,
   "metadata": {},
   "outputs": [],
   "source": [
    "from scikeras.wrappers import KerasRegressor"
   ]
  },
  {
   "cell_type": "code",
   "execution_count": 27,
   "metadata": {},
   "outputs": [],
   "source": [
    "# Define the model-building function\n",
    "def build_price_prediction_model(units1=28, units2=14, learning_rate=1e-3):\n",
    "    model = Sequential()\n",
    "    \n",
    "    # Input and first hidden layer\n",
    "    model.add(Input(shape=(14,)))\n",
    "    model.add(Dense(units=units1))\n",
    "    model.add(LeakyReLU(negative_slope=0.01))\n",
    "    \n",
    "    # Second hidden layer\n",
    "    model.add(Dense(units=units2))\n",
    "    model.add(LeakyReLU(negative_slope=0.01))\n",
    "    \n",
    "    # Output layer\n",
    "    model.add(Dense(units=1))  # No activation function for regression\n",
    "    \n",
    "    # Compile the model\n",
    "    model.compile(optimizer=Adam(learning_rate=learning_rate), loss='mse')\n",
    "    return model"
   ]
  },
  {
   "cell_type": "code",
   "execution_count": 28,
   "metadata": {},
   "outputs": [],
   "source": [
    "# Wrap the model with KerasRegressor\n",
    "price_prediction_model = KerasRegressor(model=build_price_prediction_model, verbose=0)"
   ]
  },
  {
   "cell_type": "code",
   "execution_count": 29,
   "metadata": {},
   "outputs": [],
   "source": [
    "param_grid = {\n",
    "    'model__units1': [14, 28, 54],               # Number of neurons in the first hidden layer\n",
    "    'model__units2': [7, 14, 28],                # Number of neurons in the second hidden layer\n",
    "    'model__learning_rate': [1e-2, 1e-3, 1e-4],  # Learning rates to try\n",
    "    'batch_size': [16, 32, 64],                  # Batch sizes to try\n",
    "    'epochs': [10, 20]                           # Number of epochs\n",
    "}"
   ]
  },
  {
   "cell_type": "code",
   "execution_count": null,
   "metadata": {},
   "outputs": [],
   "source": [
    "# Initialize RandomizedSearchCV\n",
    "random_search = RandomizedSearchCV(estimator=price_prediction_model, param_distributions=param_grid, \n",
    "                                   scoring='neg_mean_squared_error', n_iter=10, cv=3, random_state=42)\n",
    "\n",
    "# Fit RandomizedSearchCV\n",
    "X_train = df_train_calls.drop(columns=['close', 'is_buy'])  # Features for training\n",
    "y_train = df_train_calls['close']  # Target prices for training\n",
    "random_search_result = random_search.fit(X_train, y_train)\n",
    "\n",
    "# Get the best hyperparameters and score\n",
    "print(f\"Best Hyperparameters: {random_search_result.best_params_}\")\n",
    "print(f\"Best Score (Negative MSE): {random_search_result.best_score_}\")\n"
   ]
  },
  {
   "cell_type": "markdown",
   "metadata": {},
   "source": [
    "# 3. Model for Puts ONLY"
   ]
  },
  {
   "cell_type": "code",
   "execution_count": 23,
   "metadata": {},
   "outputs": [],
   "source": [
    "# Scaling\n",
    "numerical_columns = ['strike', 'trade_volume', 'active_underlying_price', \n",
    "                     'implied_volatility', 'delta', 'gamma', 'theta', \n",
    "                     'vega', 'rho', 'open_interest', 'time_to_expiration', 'bid_ask_spread']\n",
    "scaler = StandardScaler()\n",
    "df_train_puts[numerical_columns] = scaler.fit_transform(df_train_puts[numerical_columns])\n",
    "df_test_puts[numerical_columns] = scaler.transform(df_test_puts[numerical_columns])"
   ]
  },
  {
   "cell_type": "markdown",
   "metadata": {},
   "source": [
    "## 3.1 Stage 1 Model (Binary Classifier)"
   ]
  },
  {
   "cell_type": "markdown",
   "metadata": {},
   "source": [
    "The followering hyper parameters were determined in [Section 3.4.1](#341-hyperparam-tuning-binary-classifier) of hyperparameter tuning.\n",
    "- Hidden Layer No. of Neurons: 56\n",
    "- Model Learning Rate: 0.001\n",
    "- Epochs: 20\n",
    "- Batch Size: 32"
   ]
  },
  {
   "cell_type": "code",
   "execution_count": 35,
   "metadata": {},
   "outputs": [
    {
     "data": {
      "text/html": [
       "<pre style=\"white-space:pre;overflow-x:auto;line-height:normal;font-family:Menlo,'DejaVu Sans Mono',consolas,'Courier New',monospace\"><span style=\"font-weight: bold\">Model: \"sequential_5\"</span>\n",
       "</pre>\n"
      ],
      "text/plain": [
       "\u001b[1mModel: \"sequential_5\"\u001b[0m\n"
      ]
     },
     "metadata": {},
     "output_type": "display_data"
    },
    {
     "data": {
      "text/html": [
       "<pre style=\"white-space:pre;overflow-x:auto;line-height:normal;font-family:Menlo,'DejaVu Sans Mono',consolas,'Courier New',monospace\">┏━━━━━━━━━━━━━━━━━━━━━━━━━━━━━━━━━┳━━━━━━━━━━━━━━━━━━━━━━━━┳━━━━━━━━━━━━━━━┓\n",
       "┃<span style=\"font-weight: bold\"> Layer (type)                    </span>┃<span style=\"font-weight: bold\"> Output Shape           </span>┃<span style=\"font-weight: bold\">       Param # </span>┃\n",
       "┡━━━━━━━━━━━━━━━━━━━━━━━━━━━━━━━━━╇━━━━━━━━━━━━━━━━━━━━━━━━╇━━━━━━━━━━━━━━━┩\n",
       "│ dense_12 (<span style=\"color: #0087ff; text-decoration-color: #0087ff\">Dense</span>)                │ (<span style=\"color: #00d7ff; text-decoration-color: #00d7ff\">None</span>, <span style=\"color: #00af00; text-decoration-color: #00af00\">56</span>)             │           <span style=\"color: #00af00; text-decoration-color: #00af00\">840</span> │\n",
       "├─────────────────────────────────┼────────────────────────┼───────────────┤\n",
       "│ leaky_re_lu_7 (<span style=\"color: #0087ff; text-decoration-color: #0087ff\">LeakyReLU</span>)       │ (<span style=\"color: #00d7ff; text-decoration-color: #00d7ff\">None</span>, <span style=\"color: #00af00; text-decoration-color: #00af00\">56</span>)             │             <span style=\"color: #00af00; text-decoration-color: #00af00\">0</span> │\n",
       "├─────────────────────────────────┼────────────────────────┼───────────────┤\n",
       "│ dense_13 (<span style=\"color: #0087ff; text-decoration-color: #0087ff\">Dense</span>)                │ (<span style=\"color: #00d7ff; text-decoration-color: #00d7ff\">None</span>, <span style=\"color: #00af00; text-decoration-color: #00af00\">1</span>)              │            <span style=\"color: #00af00; text-decoration-color: #00af00\">57</span> │\n",
       "└─────────────────────────────────┴────────────────────────┴───────────────┘\n",
       "</pre>\n"
      ],
      "text/plain": [
       "┏━━━━━━━━━━━━━━━━━━━━━━━━━━━━━━━━━┳━━━━━━━━━━━━━━━━━━━━━━━━┳━━━━━━━━━━━━━━━┓\n",
       "┃\u001b[1m \u001b[0m\u001b[1mLayer (type)                   \u001b[0m\u001b[1m \u001b[0m┃\u001b[1m \u001b[0m\u001b[1mOutput Shape          \u001b[0m\u001b[1m \u001b[0m┃\u001b[1m \u001b[0m\u001b[1m      Param #\u001b[0m\u001b[1m \u001b[0m┃\n",
       "┡━━━━━━━━━━━━━━━━━━━━━━━━━━━━━━━━━╇━━━━━━━━━━━━━━━━━━━━━━━━╇━━━━━━━━━━━━━━━┩\n",
       "│ dense_12 (\u001b[38;5;33mDense\u001b[0m)                │ (\u001b[38;5;45mNone\u001b[0m, \u001b[38;5;34m56\u001b[0m)             │           \u001b[38;5;34m840\u001b[0m │\n",
       "├─────────────────────────────────┼────────────────────────┼───────────────┤\n",
       "│ leaky_re_lu_7 (\u001b[38;5;33mLeakyReLU\u001b[0m)       │ (\u001b[38;5;45mNone\u001b[0m, \u001b[38;5;34m56\u001b[0m)             │             \u001b[38;5;34m0\u001b[0m │\n",
       "├─────────────────────────────────┼────────────────────────┼───────────────┤\n",
       "│ dense_13 (\u001b[38;5;33mDense\u001b[0m)                │ (\u001b[38;5;45mNone\u001b[0m, \u001b[38;5;34m1\u001b[0m)              │            \u001b[38;5;34m57\u001b[0m │\n",
       "└─────────────────────────────────┴────────────────────────┴───────────────┘\n"
      ]
     },
     "metadata": {},
     "output_type": "display_data"
    },
    {
     "data": {
      "text/html": [
       "<pre style=\"white-space:pre;overflow-x:auto;line-height:normal;font-family:Menlo,'DejaVu Sans Mono',consolas,'Courier New',monospace\"><span style=\"font-weight: bold\"> Total params: </span><span style=\"color: #00af00; text-decoration-color: #00af00\">897</span> (3.50 KB)\n",
       "</pre>\n"
      ],
      "text/plain": [
       "\u001b[1m Total params: \u001b[0m\u001b[38;5;34m897\u001b[0m (3.50 KB)\n"
      ]
     },
     "metadata": {},
     "output_type": "display_data"
    },
    {
     "data": {
      "text/html": [
       "<pre style=\"white-space:pre;overflow-x:auto;line-height:normal;font-family:Menlo,'DejaVu Sans Mono',consolas,'Courier New',monospace\"><span style=\"font-weight: bold\"> Trainable params: </span><span style=\"color: #00af00; text-decoration-color: #00af00\">897</span> (3.50 KB)\n",
       "</pre>\n"
      ],
      "text/plain": [
       "\u001b[1m Trainable params: \u001b[0m\u001b[38;5;34m897\u001b[0m (3.50 KB)\n"
      ]
     },
     "metadata": {},
     "output_type": "display_data"
    },
    {
     "data": {
      "text/html": [
       "<pre style=\"white-space:pre;overflow-x:auto;line-height:normal;font-family:Menlo,'DejaVu Sans Mono',consolas,'Courier New',monospace\"><span style=\"font-weight: bold\"> Non-trainable params: </span><span style=\"color: #00af00; text-decoration-color: #00af00\">0</span> (0.00 B)\n",
       "</pre>\n"
      ],
      "text/plain": [
       "\u001b[1m Non-trainable params: \u001b[0m\u001b[38;5;34m0\u001b[0m (0.00 B)\n"
      ]
     },
     "metadata": {},
     "output_type": "display_data"
    }
   ],
   "source": [
    "# Define the binary classifier model\n",
    "binary_classifier_puts = Sequential()\n",
    "\n",
    "# Input layer with 14 neurons for 14 features\n",
    "binary_classifier_puts.add(Input(shape=(14,)))\n",
    "\n",
    "# Hidden layer with 56 neurons\n",
    "binary_classifier_puts.add(Dense(units=56))\n",
    "binary_classifier_puts.add(LeakyReLU(negative_slope=0.01))         # Leaky ReLU activation\n",
    "\n",
    "# Output layer with 1 neuron and sigmoid activation for binary classification\n",
    "binary_classifier_puts.add(Dense(1, activation='sigmoid'))\n",
    "\n",
    "# Compile the model with binary cross-entropy loss and Adam optimizer\n",
    "binary_classifier_puts.compile(optimizer=Adam(learning_rate=0.001), loss='binary_crossentropy', metrics=['accuracy'])\n",
    "\n",
    "# Summary of the model architecture\n",
    "binary_classifier_puts.summary()\n"
   ]
  },
  {
   "cell_type": "code",
   "execution_count": 36,
   "metadata": {},
   "outputs": [],
   "source": [
    "# Separate features and target for training\n",
    "X_train = df_train_puts.drop(columns=['close', 'is_buy'])  # Drop 'close' and 'is_buy' from features\n",
    "y_train = df_train_puts['is_buy']  # Target for binary classification"
   ]
  },
  {
   "cell_type": "code",
   "execution_count": 37,
   "metadata": {},
   "outputs": [
    {
     "name": "stdout",
     "output_type": "stream",
     "text": [
      "Epoch 1/20\n",
      "\u001b[1m3449/3449\u001b[0m \u001b[32m━━━━━━━━━━━━━━━━━━━━\u001b[0m\u001b[37m\u001b[0m \u001b[1m1s\u001b[0m 269us/step - accuracy: 0.8706 - loss: 3.1525 - val_accuracy: 0.9091 - val_loss: 0.2521\n",
      "Epoch 2/20\n",
      "\u001b[1m3449/3449\u001b[0m \u001b[32m━━━━━━━━━━━━━━━━━━━━\u001b[0m\u001b[37m\u001b[0m \u001b[1m1s\u001b[0m 254us/step - accuracy: 0.9278 - loss: 0.2314 - val_accuracy: 0.9210 - val_loss: 0.2205\n",
      "Epoch 3/20\n",
      "\u001b[1m3449/3449\u001b[0m \u001b[32m━━━━━━━━━━━━━━━━━━━━\u001b[0m\u001b[37m\u001b[0m \u001b[1m1s\u001b[0m 248us/step - accuracy: 0.9375 - loss: 0.2317 - val_accuracy: 0.9294 - val_loss: 0.2365\n",
      "Epoch 4/20\n",
      "\u001b[1m3449/3449\u001b[0m \u001b[32m━━━━━━━━━━━━━━━━━━━━\u001b[0m\u001b[37m\u001b[0m \u001b[1m1s\u001b[0m 249us/step - accuracy: 0.9428 - loss: 0.2275 - val_accuracy: 0.9404 - val_loss: 0.1865\n",
      "Epoch 5/20\n",
      "\u001b[1m3449/3449\u001b[0m \u001b[32m━━━━━━━━━━━━━━━━━━━━\u001b[0m\u001b[37m\u001b[0m \u001b[1m1s\u001b[0m 248us/step - accuracy: 0.9461 - loss: 0.2114 - val_accuracy: 0.9355 - val_loss: 0.1977\n",
      "Epoch 6/20\n",
      "\u001b[1m3449/3449\u001b[0m \u001b[32m━━━━━━━━━━━━━━━━━━━━\u001b[0m\u001b[37m\u001b[0m \u001b[1m1s\u001b[0m 260us/step - accuracy: 0.9494 - loss: 0.1847 - val_accuracy: 0.9450 - val_loss: 0.1720\n",
      "Epoch 7/20\n",
      "\u001b[1m3449/3449\u001b[0m \u001b[32m━━━━━━━━━━━━━━━━━━━━\u001b[0m\u001b[37m\u001b[0m \u001b[1m1s\u001b[0m 255us/step - accuracy: 0.9508 - loss: 0.2028 - val_accuracy: 0.9444 - val_loss: 0.2432\n",
      "Epoch 8/20\n",
      "\u001b[1m3449/3449\u001b[0m \u001b[32m━━━━━━━━━━━━━━━━━━━━\u001b[0m\u001b[37m\u001b[0m \u001b[1m1s\u001b[0m 247us/step - accuracy: 0.9527 - loss: 0.1887 - val_accuracy: 0.9446 - val_loss: 0.2208\n",
      "Epoch 9/20\n",
      "\u001b[1m3449/3449\u001b[0m \u001b[32m━━━━━━━━━━━━━━━━━━━━\u001b[0m\u001b[37m\u001b[0m \u001b[1m1s\u001b[0m 249us/step - accuracy: 0.9550 - loss: 0.1868 - val_accuracy: 0.9493 - val_loss: 0.1551\n",
      "Epoch 10/20\n",
      "\u001b[1m3449/3449\u001b[0m \u001b[32m━━━━━━━━━━━━━━━━━━━━\u001b[0m\u001b[37m\u001b[0m \u001b[1m1s\u001b[0m 247us/step - accuracy: 0.9564 - loss: 0.1598 - val_accuracy: 0.9460 - val_loss: 0.1907\n",
      "Epoch 11/20\n",
      "\u001b[1m3449/3449\u001b[0m \u001b[32m━━━━━━━━━━━━━━━━━━━━\u001b[0m\u001b[37m\u001b[0m \u001b[1m1s\u001b[0m 245us/step - accuracy: 0.9597 - loss: 0.1458 - val_accuracy: 0.9504 - val_loss: 0.1812\n",
      "Epoch 12/20\n",
      "\u001b[1m3449/3449\u001b[0m \u001b[32m━━━━━━━━━━━━━━━━━━━━\u001b[0m\u001b[37m\u001b[0m \u001b[1m1s\u001b[0m 249us/step - accuracy: 0.9591 - loss: 0.1748 - val_accuracy: 0.9568 - val_loss: 0.1443\n",
      "Epoch 13/20\n",
      "\u001b[1m3449/3449\u001b[0m \u001b[32m━━━━━━━━━━━━━━━━━━━━\u001b[0m\u001b[37m\u001b[0m \u001b[1m1s\u001b[0m 252us/step - accuracy: 0.9593 - loss: 0.1636 - val_accuracy: 0.9255 - val_loss: 1.2304\n",
      "Epoch 14/20\n",
      "\u001b[1m3449/3449\u001b[0m \u001b[32m━━━━━━━━━━━━━━━━━━━━\u001b[0m\u001b[37m\u001b[0m \u001b[1m1s\u001b[0m 255us/step - accuracy: 0.9597 - loss: 0.1953 - val_accuracy: 0.9588 - val_loss: 0.1392\n",
      "Epoch 15/20\n",
      "\u001b[1m3449/3449\u001b[0m \u001b[32m━━━━━━━━━━━━━━━━━━━━\u001b[0m\u001b[37m\u001b[0m \u001b[1m1s\u001b[0m 257us/step - accuracy: 0.9618 - loss: 0.1502 - val_accuracy: 0.9601 - val_loss: 0.1351\n",
      "Epoch 16/20\n",
      "\u001b[1m3449/3449\u001b[0m \u001b[32m━━━━━━━━━━━━━━━━━━━━\u001b[0m\u001b[37m\u001b[0m \u001b[1m1s\u001b[0m 258us/step - accuracy: 0.9625 - loss: 0.1515 - val_accuracy: 0.9598 - val_loss: 0.1295\n",
      "Epoch 17/20\n",
      "\u001b[1m3449/3449\u001b[0m \u001b[32m━━━━━━━━━━━━━━━━━━━━\u001b[0m\u001b[37m\u001b[0m \u001b[1m1s\u001b[0m 257us/step - accuracy: 0.9622 - loss: 0.1512 - val_accuracy: 0.9592 - val_loss: 0.1319\n",
      "Epoch 18/20\n",
      "\u001b[1m3449/3449\u001b[0m \u001b[32m━━━━━━━━━━━━━━━━━━━━\u001b[0m\u001b[37m\u001b[0m \u001b[1m1s\u001b[0m 254us/step - accuracy: 0.9614 - loss: 0.1604 - val_accuracy: 0.9560 - val_loss: 0.1445\n",
      "Epoch 19/20\n",
      "\u001b[1m3449/3449\u001b[0m \u001b[32m━━━━━━━━━━━━━━━━━━━━\u001b[0m\u001b[37m\u001b[0m \u001b[1m1s\u001b[0m 248us/step - accuracy: 0.9615 - loss: 0.1846 - val_accuracy: 0.9647 - val_loss: 0.1178\n",
      "Epoch 20/20\n",
      "\u001b[1m3449/3449\u001b[0m \u001b[32m━━━━━━━━━━━━━━━━━━━━\u001b[0m\u001b[37m\u001b[0m \u001b[1m1s\u001b[0m 247us/step - accuracy: 0.9626 - loss: 0.1781 - val_accuracy: 0.9587 - val_loss: 0.1398\n"
     ]
    }
   ],
   "source": [
    "# Training the binary classifier\n",
    "history = binary_classifier_puts.fit(X_train, y_train, epochs=20, batch_size=32, validation_split=0.2)\n"
   ]
  },
  {
   "cell_type": "code",
   "execution_count": 38,
   "metadata": {},
   "outputs": [
    {
     "name": "stdout",
     "output_type": "stream",
     "text": [
      "\u001b[1m4312/4312\u001b[0m \u001b[32m━━━━━━━━━━━━━━━━━━━━\u001b[0m\u001b[37m\u001b[0m \u001b[1m1s\u001b[0m 179us/step\n"
     ]
    }
   ],
   "source": [
    "# Separate features and target for the price prediction model\n",
    "X_train_puts = df_train_puts.drop(columns=['is_buy','close'])  # Features for price prediction\n",
    "y_train_price_full = df_train_puts['close']  # Target price\n",
    "\n",
    "# Generate the 'purchasable' predictions using the classifier\n",
    "purchasable_mask = binary_classifier_puts.predict(X_train_puts) >= 1  # Prediction mask for purchasable options\n",
    "\n",
    "# Filter rows for the price prediction model based on the 'purchasable' mask\n",
    "X_train_price = X_train_puts[purchasable_mask.flatten()]  # Only rows classified as purchasable\n",
    "y_train_price = y_train_price_full[purchasable_mask.flatten()]  # Corresponding target prices for purchasable options"
   ]
  },
  {
   "cell_type": "markdown",
   "metadata": {},
   "source": [
    "## 3.2 Stage 2 Model (Price Prediction)"
   ]
  },
  {
   "cell_type": "markdown",
   "metadata": {},
   "source": [
    "The followering hyper parameters were determined in [Section 3.4.2](#342-hyperparam-tuning-price-prediction) of hyperparameter tuning.\n",
    "- Hidden Layer 1 No. of Neurons: 14\n",
    "- Hidden Layer 2 No. of Neurons: 28\n",
    "- Model Learning Rate: 0.01\n",
    "- Epochs: 20\n",
    "- Batch Size: 16"
   ]
  },
  {
   "cell_type": "code",
   "execution_count": 39,
   "metadata": {},
   "outputs": [
    {
     "data": {
      "text/html": [
       "<pre style=\"white-space:pre;overflow-x:auto;line-height:normal;font-family:Menlo,'DejaVu Sans Mono',consolas,'Courier New',monospace\"><span style=\"font-weight: bold\">Model: \"sequential_6\"</span>\n",
       "</pre>\n"
      ],
      "text/plain": [
       "\u001b[1mModel: \"sequential_6\"\u001b[0m\n"
      ]
     },
     "metadata": {},
     "output_type": "display_data"
    },
    {
     "data": {
      "text/html": [
       "<pre style=\"white-space:pre;overflow-x:auto;line-height:normal;font-family:Menlo,'DejaVu Sans Mono',consolas,'Courier New',monospace\">┏━━━━━━━━━━━━━━━━━━━━━━━━━━━━━━━━━┳━━━━━━━━━━━━━━━━━━━━━━━━┳━━━━━━━━━━━━━━━┓\n",
       "┃<span style=\"font-weight: bold\"> Layer (type)                    </span>┃<span style=\"font-weight: bold\"> Output Shape           </span>┃<span style=\"font-weight: bold\">       Param # </span>┃\n",
       "┡━━━━━━━━━━━━━━━━━━━━━━━━━━━━━━━━━╇━━━━━━━━━━━━━━━━━━━━━━━━╇━━━━━━━━━━━━━━━┩\n",
       "│ dense_14 (<span style=\"color: #0087ff; text-decoration-color: #0087ff\">Dense</span>)                │ (<span style=\"color: #00d7ff; text-decoration-color: #00d7ff\">None</span>, <span style=\"color: #00af00; text-decoration-color: #00af00\">14</span>)             │           <span style=\"color: #00af00; text-decoration-color: #00af00\">210</span> │\n",
       "├─────────────────────────────────┼────────────────────────┼───────────────┤\n",
       "│ leaky_re_lu_8 (<span style=\"color: #0087ff; text-decoration-color: #0087ff\">LeakyReLU</span>)       │ (<span style=\"color: #00d7ff; text-decoration-color: #00d7ff\">None</span>, <span style=\"color: #00af00; text-decoration-color: #00af00\">14</span>)             │             <span style=\"color: #00af00; text-decoration-color: #00af00\">0</span> │\n",
       "├─────────────────────────────────┼────────────────────────┼───────────────┤\n",
       "│ dense_15 (<span style=\"color: #0087ff; text-decoration-color: #0087ff\">Dense</span>)                │ (<span style=\"color: #00d7ff; text-decoration-color: #00d7ff\">None</span>, <span style=\"color: #00af00; text-decoration-color: #00af00\">28</span>)             │           <span style=\"color: #00af00; text-decoration-color: #00af00\">420</span> │\n",
       "├─────────────────────────────────┼────────────────────────┼───────────────┤\n",
       "│ leaky_re_lu_9 (<span style=\"color: #0087ff; text-decoration-color: #0087ff\">LeakyReLU</span>)       │ (<span style=\"color: #00d7ff; text-decoration-color: #00d7ff\">None</span>, <span style=\"color: #00af00; text-decoration-color: #00af00\">28</span>)             │             <span style=\"color: #00af00; text-decoration-color: #00af00\">0</span> │\n",
       "├─────────────────────────────────┼────────────────────────┼───────────────┤\n",
       "│ dense_16 (<span style=\"color: #0087ff; text-decoration-color: #0087ff\">Dense</span>)                │ (<span style=\"color: #00d7ff; text-decoration-color: #00d7ff\">None</span>, <span style=\"color: #00af00; text-decoration-color: #00af00\">1</span>)              │            <span style=\"color: #00af00; text-decoration-color: #00af00\">29</span> │\n",
       "└─────────────────────────────────┴────────────────────────┴───────────────┘\n",
       "</pre>\n"
      ],
      "text/plain": [
       "┏━━━━━━━━━━━━━━━━━━━━━━━━━━━━━━━━━┳━━━━━━━━━━━━━━━━━━━━━━━━┳━━━━━━━━━━━━━━━┓\n",
       "┃\u001b[1m \u001b[0m\u001b[1mLayer (type)                   \u001b[0m\u001b[1m \u001b[0m┃\u001b[1m \u001b[0m\u001b[1mOutput Shape          \u001b[0m\u001b[1m \u001b[0m┃\u001b[1m \u001b[0m\u001b[1m      Param #\u001b[0m\u001b[1m \u001b[0m┃\n",
       "┡━━━━━━━━━━━━━━━━━━━━━━━━━━━━━━━━━╇━━━━━━━━━━━━━━━━━━━━━━━━╇━━━━━━━━━━━━━━━┩\n",
       "│ dense_14 (\u001b[38;5;33mDense\u001b[0m)                │ (\u001b[38;5;45mNone\u001b[0m, \u001b[38;5;34m14\u001b[0m)             │           \u001b[38;5;34m210\u001b[0m │\n",
       "├─────────────────────────────────┼────────────────────────┼───────────────┤\n",
       "│ leaky_re_lu_8 (\u001b[38;5;33mLeakyReLU\u001b[0m)       │ (\u001b[38;5;45mNone\u001b[0m, \u001b[38;5;34m14\u001b[0m)             │             \u001b[38;5;34m0\u001b[0m │\n",
       "├─────────────────────────────────┼────────────────────────┼───────────────┤\n",
       "│ dense_15 (\u001b[38;5;33mDense\u001b[0m)                │ (\u001b[38;5;45mNone\u001b[0m, \u001b[38;5;34m28\u001b[0m)             │           \u001b[38;5;34m420\u001b[0m │\n",
       "├─────────────────────────────────┼────────────────────────┼───────────────┤\n",
       "│ leaky_re_lu_9 (\u001b[38;5;33mLeakyReLU\u001b[0m)       │ (\u001b[38;5;45mNone\u001b[0m, \u001b[38;5;34m28\u001b[0m)             │             \u001b[38;5;34m0\u001b[0m │\n",
       "├─────────────────────────────────┼────────────────────────┼───────────────┤\n",
       "│ dense_16 (\u001b[38;5;33mDense\u001b[0m)                │ (\u001b[38;5;45mNone\u001b[0m, \u001b[38;5;34m1\u001b[0m)              │            \u001b[38;5;34m29\u001b[0m │\n",
       "└─────────────────────────────────┴────────────────────────┴───────────────┘\n"
      ]
     },
     "metadata": {},
     "output_type": "display_data"
    },
    {
     "data": {
      "text/html": [
       "<pre style=\"white-space:pre;overflow-x:auto;line-height:normal;font-family:Menlo,'DejaVu Sans Mono',consolas,'Courier New',monospace\"><span style=\"font-weight: bold\"> Total params: </span><span style=\"color: #00af00; text-decoration-color: #00af00\">659</span> (2.57 KB)\n",
       "</pre>\n"
      ],
      "text/plain": [
       "\u001b[1m Total params: \u001b[0m\u001b[38;5;34m659\u001b[0m (2.57 KB)\n"
      ]
     },
     "metadata": {},
     "output_type": "display_data"
    },
    {
     "data": {
      "text/html": [
       "<pre style=\"white-space:pre;overflow-x:auto;line-height:normal;font-family:Menlo,'DejaVu Sans Mono',consolas,'Courier New',monospace\"><span style=\"font-weight: bold\"> Trainable params: </span><span style=\"color: #00af00; text-decoration-color: #00af00\">659</span> (2.57 KB)\n",
       "</pre>\n"
      ],
      "text/plain": [
       "\u001b[1m Trainable params: \u001b[0m\u001b[38;5;34m659\u001b[0m (2.57 KB)\n"
      ]
     },
     "metadata": {},
     "output_type": "display_data"
    },
    {
     "data": {
      "text/html": [
       "<pre style=\"white-space:pre;overflow-x:auto;line-height:normal;font-family:Menlo,'DejaVu Sans Mono',consolas,'Courier New',monospace\"><span style=\"font-weight: bold\"> Non-trainable params: </span><span style=\"color: #00af00; text-decoration-color: #00af00\">0</span> (0.00 B)\n",
       "</pre>\n"
      ],
      "text/plain": [
       "\u001b[1m Non-trainable params: \u001b[0m\u001b[38;5;34m0\u001b[0m (0.00 B)\n"
      ]
     },
     "metadata": {},
     "output_type": "display_data"
    }
   ],
   "source": [
    "# Define the price prediction model\n",
    "price_prediction_model_puts = Sequential()\n",
    "\n",
    "# Input layer with 14 neurons and first hidden layer with 14 neurons\n",
    "price_prediction_model_puts.add(Input(shape=(14,)))\n",
    "price_prediction_model_puts.add(Dense(units=14))\n",
    "price_prediction_model_puts.add(LeakyReLU(negative_slope=0.01))               # Leaky ReLU activation\n",
    "\n",
    "# Second hidden layer with 28 neurons and Leaky ReLU activation\n",
    "price_prediction_model_puts.add(Dense(units=28))\n",
    "price_prediction_model_puts.add(LeakyReLU(negative_slope=0.01))\n",
    "\n",
    "# Output layer with 1 neuron (no activation for regression)\n",
    "price_prediction_model_puts.add(Dense(units=1))\n",
    "\n",
    "# Compile the model with Mean Squared Error (MSE) as the loss function for regression\n",
    "price_prediction_model_puts.compile(optimizer=Adam(learning_rate=0.01), loss='mse')\n",
    "\n",
    "# Summary of the model architecture\n",
    "price_prediction_model_puts.summary()\n"
   ]
  },
  {
   "cell_type": "code",
   "execution_count": 40,
   "metadata": {},
   "outputs": [
    {
     "name": "stdout",
     "output_type": "stream",
     "text": [
      "Epoch 1/20\n",
      "\u001b[1m260/260\u001b[0m \u001b[32m━━━━━━━━━━━━━━━━━━━━\u001b[0m\u001b[37m\u001b[0m \u001b[1m0s\u001b[0m 434us/step - loss: 751.6227 - val_loss: 0.8044\n",
      "Epoch 2/20\n",
      "\u001b[1m260/260\u001b[0m \u001b[32m━━━━━━━━━━━━━━━━━━━━\u001b[0m\u001b[37m\u001b[0m \u001b[1m0s\u001b[0m 293us/step - loss: 4.3992 - val_loss: 3.8977\n",
      "Epoch 3/20\n",
      "\u001b[1m260/260\u001b[0m \u001b[32m━━━━━━━━━━━━━━━━━━━━\u001b[0m\u001b[37m\u001b[0m \u001b[1m0s\u001b[0m 298us/step - loss: 3.5823 - val_loss: 1.4248\n",
      "Epoch 4/20\n",
      "\u001b[1m260/260\u001b[0m \u001b[32m━━━━━━━━━━━━━━━━━━━━\u001b[0m\u001b[37m\u001b[0m \u001b[1m0s\u001b[0m 301us/step - loss: 7.7422 - val_loss: 1.0456\n",
      "Epoch 5/20\n",
      "\u001b[1m260/260\u001b[0m \u001b[32m━━━━━━━━━━━━━━━━━━━━\u001b[0m\u001b[37m\u001b[0m \u001b[1m0s\u001b[0m 291us/step - loss: 47.1285 - val_loss: 1.2351\n",
      "Epoch 6/20\n",
      "\u001b[1m260/260\u001b[0m \u001b[32m━━━━━━━━━━━━━━━━━━━━\u001b[0m\u001b[37m\u001b[0m \u001b[1m0s\u001b[0m 290us/step - loss: 11.7403 - val_loss: 1.1205\n",
      "Epoch 7/20\n",
      "\u001b[1m260/260\u001b[0m \u001b[32m━━━━━━━━━━━━━━━━━━━━\u001b[0m\u001b[37m\u001b[0m \u001b[1m0s\u001b[0m 276us/step - loss: 4.0722 - val_loss: 2.7886\n",
      "Epoch 8/20\n",
      "\u001b[1m260/260\u001b[0m \u001b[32m━━━━━━━━━━━━━━━━━━━━\u001b[0m\u001b[37m\u001b[0m \u001b[1m0s\u001b[0m 281us/step - loss: 16.5986 - val_loss: 3.9571\n",
      "Epoch 9/20\n",
      "\u001b[1m260/260\u001b[0m \u001b[32m━━━━━━━━━━━━━━━━━━━━\u001b[0m\u001b[37m\u001b[0m \u001b[1m0s\u001b[0m 280us/step - loss: 5.6235 - val_loss: 3.5811\n",
      "Epoch 10/20\n",
      "\u001b[1m260/260\u001b[0m \u001b[32m━━━━━━━━━━━━━━━━━━━━\u001b[0m\u001b[37m\u001b[0m \u001b[1m0s\u001b[0m 279us/step - loss: 5.2863 - val_loss: 1.1715\n",
      "Epoch 11/20\n",
      "\u001b[1m260/260\u001b[0m \u001b[32m━━━━━━━━━━━━━━━━━━━━\u001b[0m\u001b[37m\u001b[0m \u001b[1m0s\u001b[0m 284us/step - loss: 11.4085 - val_loss: 1.1692\n",
      "Epoch 12/20\n",
      "\u001b[1m260/260\u001b[0m \u001b[32m━━━━━━━━━━━━━━━━━━━━\u001b[0m\u001b[37m\u001b[0m \u001b[1m0s\u001b[0m 281us/step - loss: 3.8211 - val_loss: 0.8533\n",
      "Epoch 13/20\n",
      "\u001b[1m260/260\u001b[0m \u001b[32m━━━━━━━━━━━━━━━━━━━━\u001b[0m\u001b[37m\u001b[0m \u001b[1m0s\u001b[0m 274us/step - loss: 5.6414 - val_loss: 53.7989\n",
      "Epoch 14/20\n",
      "\u001b[1m260/260\u001b[0m \u001b[32m━━━━━━━━━━━━━━━━━━━━\u001b[0m\u001b[37m\u001b[0m \u001b[1m0s\u001b[0m 281us/step - loss: 12.8417 - val_loss: 0.9053\n",
      "Epoch 15/20\n",
      "\u001b[1m260/260\u001b[0m \u001b[32m━━━━━━━━━━━━━━━━━━━━\u001b[0m\u001b[37m\u001b[0m \u001b[1m0s\u001b[0m 290us/step - loss: 7.6603 - val_loss: 33.7314\n",
      "Epoch 16/20\n",
      "\u001b[1m260/260\u001b[0m \u001b[32m━━━━━━━━━━━━━━━━━━━━\u001b[0m\u001b[37m\u001b[0m \u001b[1m0s\u001b[0m 321us/step - loss: 11.9656 - val_loss: 1.0530\n",
      "Epoch 17/20\n",
      "\u001b[1m260/260\u001b[0m \u001b[32m━━━━━━━━━━━━━━━━━━━━\u001b[0m\u001b[37m\u001b[0m \u001b[1m0s\u001b[0m 280us/step - loss: 19.8409 - val_loss: 1.0661\n",
      "Epoch 18/20\n",
      "\u001b[1m260/260\u001b[0m \u001b[32m━━━━━━━━━━━━━━━━━━━━\u001b[0m\u001b[37m\u001b[0m \u001b[1m0s\u001b[0m 274us/step - loss: 4.2368 - val_loss: 1.3713\n",
      "Epoch 19/20\n",
      "\u001b[1m260/260\u001b[0m \u001b[32m━━━━━━━━━━━━━━━━━━━━\u001b[0m\u001b[37m\u001b[0m \u001b[1m0s\u001b[0m 278us/step - loss: 8.3988 - val_loss: 2.0107\n",
      "Epoch 20/20\n",
      "\u001b[1m260/260\u001b[0m \u001b[32m━━━━━━━━━━━━━━━━━━━━\u001b[0m\u001b[37m\u001b[0m \u001b[1m0s\u001b[0m 281us/step - loss: 6.5512 - val_loss: 0.8537\n"
     ]
    }
   ],
   "source": [
    "# Train the price prediction model\n",
    "history = price_prediction_model_puts.fit(X_train_price, y_train_price, epochs=20, batch_size=16, validation_split=0.2)"
   ]
  },
  {
   "cell_type": "markdown",
   "metadata": {},
   "source": [
    "## 3.3 Testing model"
   ]
  },
  {
   "cell_type": "markdown",
   "metadata": {},
   "source": [
    "Testing is performed on a 6th day of trading not included in the training data"
   ]
  },
  {
   "cell_type": "code",
   "execution_count": 41,
   "metadata": {},
   "outputs": [],
   "source": [
    "# Features and target for binary classification model\n",
    "X_test_classification = df_test_puts.drop(columns=['close', 'is_buy'])  # Features for binary classification\n",
    "y_test_classification = df_test_puts['is_buy']           # Binary target for classification\n",
    "\n",
    "# Features and target for price prediction model\n",
    "X_test_price = df_test_puts.drop(columns=['is_buy', 'close'])  # Features for price prediction\n",
    "y_test_price_full = df_test_puts['close']                      # Target price for price prediction"
   ]
  },
  {
   "cell_type": "code",
   "execution_count": 42,
   "metadata": {},
   "outputs": [
    {
     "name": "stdout",
     "output_type": "stream",
     "text": [
      "\u001b[1m1744/1744\u001b[0m \u001b[32m━━━━━━━━━━━━━━━━━━━━\u001b[0m\u001b[37m\u001b[0m \u001b[1m0s\u001b[0m 167us/step\n",
      "Binary Classifier Metrics:\n",
      "Accuracy: 0.9687298401548277\n",
      "Precision: 0.9453672942045035\n",
      "Recall: 0.6159211159211159\n",
      "F1-Score: 0.745886122032911\n"
     ]
    }
   ],
   "source": [
    "y_pred_binary = (binary_classifier_puts.predict(X_test_classification).flatten() >= 0.5).astype(int)\n",
    "\n",
    "# Calculate binary classifier metrics\n",
    "binary_accuracy = accuracy_score(y_test_classification, y_pred_binary)\n",
    "binary_precision = precision_score(y_test_classification, y_pred_binary)\n",
    "binary_recall = recall_score(y_test_classification, y_pred_binary)\n",
    "binary_f1 = f1_score(y_test_classification, y_pred_binary)\n",
    "\n",
    "print(\"Binary Classifier Metrics:\")\n",
    "print(f\"Accuracy: {binary_accuracy}\")\n",
    "print(f\"Precision: {binary_precision}\")\n",
    "print(f\"Recall: {binary_recall}\")\n",
    "print(f\"F1-Score: {binary_f1}\")\n"
   ]
  },
  {
   "cell_type": "code",
   "execution_count": 43,
   "metadata": {},
   "outputs": [],
   "source": [
    "# Step 2: Filter Data for Stage 2 Price Prediction\n",
    "purchasable_mask = (y_pred_binary == 1)  # Mask for options classified as \"purchasable\"\n",
    "\n",
    "# Apply the mask to get features and target for price prediction\n",
    "X_test_price_purchasable = X_test_price[purchasable_mask]\n",
    "y_test_price = y_test_price_full[purchasable_mask]"
   ]
  },
  {
   "cell_type": "code",
   "execution_count": 44,
   "metadata": {},
   "outputs": [
    {
     "name": "stdout",
     "output_type": "stream",
     "text": [
      "\u001b[1m85/85\u001b[0m \u001b[32m━━━━━━━━━━━━━━━━━━━━\u001b[0m\u001b[37m\u001b[0m \u001b[1m0s\u001b[0m 324us/step\n",
      "\n",
      "Price Prediction Model Metrics:\n",
      "Mean Squared Error: 5437.673126925967\n",
      "Root Mean Squared Error: 73.74057991991904\n",
      "Mean Absolute Error: 16.50204224318431\n",
      "R-squared: 0.8640251246471055\n"
     ]
    }
   ],
   "source": [
    "# Step 3: Run Stage 2 Price Prediction\n",
    "if len(X_test_price_purchasable) > 0:\n",
    "    y_pred_price = price_prediction_model_puts.predict(X_test_price_purchasable)\n",
    "\n",
    "    # Calculate regression metrics\n",
    "    mse = mean_squared_error(y_test_price, y_pred_price)\n",
    "    rmse = np.sqrt(mse)\n",
    "    mae = mean_absolute_error(y_test_price, y_pred_price)\n",
    "    r2 = r2_score(y_test_price, y_pred_price)\n",
    "\n",
    "    print(\"\\nPrice Prediction Model Metrics:\")\n",
    "    print(f\"Mean Squared Error: {mse}\")\n",
    "    print(f\"Root Mean Squared Error: {rmse}\")\n",
    "    print(f\"Mean Absolute Error: {mae}\")\n",
    "    print(f\"R-squared: {r2}\")\n",
    "else:\n",
    "    print(\"\\nNo 'purchasable' options found for price prediction in the 6th day test set.\")"
   ]
  },
  {
   "cell_type": "markdown",
   "metadata": {},
   "source": [
    "## 3.4 Hyperparam Tuning"
   ]
  },
  {
   "cell_type": "markdown",
   "metadata": {},
   "source": [
    "### 3.4.1 Hyperparam Tuning (Binary Classifier)"
   ]
  },
  {
   "cell_type": "code",
   "execution_count": 42,
   "metadata": {},
   "outputs": [],
   "source": [
    "# Define the model-building function for Random Search\n",
    "def build_binary_classifier_model(units=28, learning_rate=1e-3):\n",
    "    model = Sequential()\n",
    "    \n",
    "    # Define the input layer separately using Input()\n",
    "    model.add(Input(shape=(14,)))\n",
    "    \n",
    "    # Hidden layer with Leaky ReLU activation (using `negative_slope` instead of `alpha`)\n",
    "    model.add(Dense(units=units))\n",
    "    model.add(LeakyReLU(negative_slope=0.01))\n",
    "    \n",
    "    # Output layer with 1 neuron and sigmoid activation for binary classification\n",
    "    model.add(Dense(1, activation='sigmoid'))\n",
    "    \n",
    "    # Compile the model with specified learning rate\n",
    "    model.compile(optimizer=Adam(learning_rate=learning_rate), loss='binary_crossentropy', metrics=['accuracy'])\n",
    "    \n",
    "    return model\n",
    "\n",
    "# Wrap the model using KerasClassifier, passing the function as build_fn\n",
    "binary_classifier = KerasClassifier(model=build_binary_classifier_model, verbose=0)\n"
   ]
  },
  {
   "cell_type": "code",
   "execution_count": 43,
   "metadata": {},
   "outputs": [],
   "source": [
    "param_grid = {\n",
    "    'model__units': [14, 28, 56],            # Number of neurons in the hidden layer\n",
    "    'model__learning_rate': [1e-2, 1e-3, 1e-4],  # Learning rates to try\n",
    "    'batch_size': [16, 32, 64],              # Batch sizes to try\n",
    "    'epochs': [10, 20]                       # Number of epochs to train\n",
    "}"
   ]
  },
  {
   "cell_type": "code",
   "execution_count": null,
   "metadata": {},
   "outputs": [],
   "source": [
    "from sklearn.model_selection import RandomizedSearchCV\n",
    "\n",
    "# Initialize RandomizedSearchCV with the desired number of iterations\n",
    "random_search = RandomizedSearchCV(estimator=binary_classifier, param_distributions=param_grid, \n",
    "                                   scoring='accuracy', cv=3, n_iter=10, random_state=42)\n",
    "\n",
    "# Fit RandomizedSearchCV\n",
    "X_train = df_train_puts.drop(columns=['close', 'is_buy'])  # Drop 'close' and 'is_buy' from features\n",
    "y_train = df_train_puts['is_buy']  # Target for binary classification\n",
    "random_search_result = random_search.fit(X_train, y_train)\n",
    "\n",
    "# Get the best hyperparameters and score\n",
    "print(f\"Best Hyperparameters: {random_search_result.best_params_}\")\n",
    "print(f\"Best Score: {random_search_result.best_score_}\")\n"
   ]
  },
  {
   "cell_type": "markdown",
   "metadata": {},
   "source": [
    "### 3.4.2 Hyperparam Tuning (Price Prediction)"
   ]
  },
  {
   "cell_type": "code",
   "execution_count": 45,
   "metadata": {},
   "outputs": [],
   "source": [
    "# Define the model-building function\n",
    "def build_price_prediction_model(units1=28, units2=14, learning_rate=1e-3):\n",
    "    model = Sequential()\n",
    "    \n",
    "    # Input and first hidden layer\n",
    "    model.add(Input(shape=(14,)))\n",
    "    model.add(Dense(units=units1))\n",
    "    model.add(LeakyReLU(negative_slope=0.01))\n",
    "    \n",
    "    # Second hidden layer\n",
    "    model.add(Dense(units=units2))\n",
    "    model.add(LeakyReLU(negative_slope=0.01))\n",
    "    \n",
    "    # Output layer\n",
    "    model.add(Dense(units=1))  # No activation function for regression\n",
    "    \n",
    "    # Compile the model\n",
    "    model.compile(optimizer=Adam(learning_rate=learning_rate), loss='mse')\n",
    "    return model"
   ]
  },
  {
   "cell_type": "code",
   "execution_count": 46,
   "metadata": {},
   "outputs": [],
   "source": [
    "# Wrap the model with KerasRegressor\n",
    "price_prediction_model = KerasRegressor(model=build_price_prediction_model, verbose=0)"
   ]
  },
  {
   "cell_type": "code",
   "execution_count": 47,
   "metadata": {},
   "outputs": [],
   "source": [
    "param_grid = {\n",
    "    'model__units1': [14, 28, 54],               # Number of neurons in the first hidden layer\n",
    "    'model__units2': [7, 14, 28],                # Number of neurons in the second hidden layer\n",
    "    'model__learning_rate': [1e-2, 1e-3, 1e-4],  # Learning rates to try\n",
    "    'batch_size': [16, 32, 64],                  # Batch sizes to try\n",
    "    'epochs': [10, 20]                           # Number of epochs\n",
    "}"
   ]
  },
  {
   "cell_type": "code",
   "execution_count": null,
   "metadata": {},
   "outputs": [],
   "source": [
    "# Initialize RandomizedSearchCV\n",
    "random_search = RandomizedSearchCV(estimator=price_prediction_model, param_distributions=param_grid, \n",
    "                                   scoring='neg_mean_squared_error', n_iter=10, cv=3, random_state=42)\n",
    "\n",
    "# Fit RandomizedSearchCV\n",
    "X_train = df_train_puts.drop(columns=['close', 'is_buy'])  # Features for training\n",
    "y_train = df_train_puts['close']  # Target prices for training\n",
    "random_search_result = random_search.fit(X_train, y_train)\n",
    "\n",
    "\n",
    "# Get the best hyperparameters and score\n",
    "print(f\"Best Hyperparameters: {random_search_result.best_params_}\")\n",
    "print(f\"Best Score (Negative MSE): {random_search_result.best_score_}\")\n"
   ]
  }
 ],
 "metadata": {
  "kernelspec": {
   "display_name": "Python 3",
   "language": "python",
   "name": "python3"
  },
  "language_info": {
   "codemirror_mode": {
    "name": "ipython",
    "version": 3
   },
   "file_extension": ".py",
   "mimetype": "text/x-python",
   "name": "python",
   "nbconvert_exporter": "python",
   "pygments_lexer": "ipython3",
   "version": "3.12.7"
  }
 },
 "nbformat": 4,
 "nbformat_minor": 2
}
