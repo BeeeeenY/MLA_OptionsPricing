{
 "cells": [
  {
   "cell_type": "markdown",
   "metadata": {},
   "source": [
    "# ANN"
   ]
  },
  {
   "cell_type": "markdown",
   "metadata": {},
   "source": [
    "Table of Contents\n",
    "- [1. Preprocessing Data](#1-preprocessing-the-data)\n",
    "- [2. Model for Calls ONLY](#2-model-for-calls-only)\n",
    "  - [2.1 Stage 1 Model (Binary Classifier)](#21-stage-1-model-binary-classifier)\n",
    "  - [2.2 Stage 2 Model (Price Prediction)](#22-stage-2-model-price-prediction)\n",
    "  - [2.3 Testing model](#23-testing-model)\n",
    "  - [2.4 Hyper param Tuning](#24-hyperparam-tuning)\n",
    "    - [2.4.1 Hyperparam Tuning (Binary Classifier)](#241-hyperparam-tuning-binary-classifier)\n",
    "    - [2.4.2 Hyperparam Tuning (Price Prediction)](#242-hyperparam-tuning-price-prediction)\n",
    "- [3. Model for Puts ONLY](#3-model-for-puts-only)\n",
    "  - [3.1 Stage 1 Model (Binary Classifier)](#31-stage-1-model-binary-classifier)\n",
    "  - [3.2 Stage 2 Model (Price Prediction)](#32-stage-2-model-price-prediction)\n",
    "  - [3.3 Testing model](#33-testing-model)\n",
    "  - [3.4 Hyper param Tuning](#34-hyperparam-tuning)\n",
    "    - [3.4.1 Hyperparam Tuning (Binary Classifier)](#341-hyperparam-tuning-binary-classifier)\n",
    "    - [3.4.2 Hyperparam Tuning (Price Prediction)](#342-hyperparam-tuning-price-prediction)"
   ]
  },
  {
   "cell_type": "markdown",
   "metadata": {},
   "source": [
    "<u>Stage 1: Binary Classification Model</u>\n",
    "\n",
    "The first model is responsible for predicting if the option is “purchasable.” It classifies the input based on whether to proceed with price prediction or not.\n",
    "\n",
    "- Input Layer\n",
    "    - 15 neurons (one for each input feature).\n",
    "- Hidden Layer\n",
    "    - 1 Layer, 30 neurons (Leaky RelU)\n",
    "- Output Layer\n",
    "    - 1 neuron with a sigmoid activation function to produce a binary result:\n",
    "        - Output = 1 if the option is “purchasable” (indicating \"Buy the option\").\n",
    "        - Output = 0 if the option is “not purchasable” (indicating \"Do not buy\").\n",
    "\n",
    "<u>Stage 2: Price Prediction Model</u>\n",
    "\n",
    "Only if the classification model predicts the option as “purchasable” (1) does the data proceed to this model. This model predicts the price of the option.\n",
    "\n",
    "- Input Layer\n",
    "    - 15 neurons (same input features as the classification model).\n",
    "- Hidden Layers (Price Prediction Layer)\n",
    "    - First layer, 30 neurons (Leaky ReLU)\n",
    "    - Second Layer, 15 neurons (Leaky ReLU)\n",
    "- Output Layer\n",
    "    - 1 neuron without activation (for regression) to predict the option price."
   ]
  },
  {
   "cell_type": "markdown",
   "metadata": {},
   "source": [
    "# 1. Preprocessing the Data"
   ]
  },
  {
   "cell_type": "code",
   "execution_count": 1,
   "metadata": {},
   "outputs": [],
   "source": [
    "import pandas as pd\n",
    "import numpy as np"
   ]
  },
  {
   "cell_type": "code",
   "execution_count": 2,
   "metadata": {},
   "outputs": [],
   "source": [
    "df1 = pd.read_csv('data/SPX/UnderlyingOptionsIntervals_3600sec_calcs_oi_2024-07-26.csv')\n",
    "df3 = pd.read_csv('data/SPX/UnderlyingOptionsIntervals_3600sec_calcs_oi_2024-09-27.csv')\n",
    "df2 = pd.read_csv('data/SPX/UnderlyingOptionsIntervals_3600sec_calcs_oi_2024-08-30.csv')\n",
    "df4 = pd.read_csv('data/SPX/UnderlyingOptionsIntervals_3600sec_calcs_oi_2024-10-11.csv')\n",
    "df5 = pd.read_csv('data/SPX/UnderlyingOptionsIntervals_3600sec_calcs_oi_2024-10-18.csv')\n",
    "df6 = pd.read_csv('data/SPX/UnderlyingOptionsIntervals_3600sec_calcs_oi_2024-10-25.csv')"
   ]
  },
  {
   "cell_type": "code",
   "execution_count": 3,
   "metadata": {},
   "outputs": [],
   "source": [
    "df_train = pd.concat([\n",
    "    df1[(df1['root']=='SPX')],\n",
    "    df2[(df2['root']=='SPX')],\n",
    "    df3[(df3['root']=='SPX')],\n",
    "    df4[(df4['root']=='SPX')],\n",
    "    df5[(df5['root']=='SPX')]\n",
    "])\n",
    "df_test = df6[df6['root'] == 'SPX'].copy()"
   ]
  },
  {
   "cell_type": "code",
   "execution_count": 4,
   "metadata": {},
   "outputs": [],
   "source": [
    "# Transforming relevant columns to datetime\n",
    "df_train['expiration'] = pd.to_datetime(df_train['expiration'])\n",
    "df_train['quote_datetime'] = pd.to_datetime(df_train['quote_datetime'])\n",
    "\n",
    "df_test['expiration'] = pd.to_datetime(df_test['expiration'])\n",
    "df_test['quote_datetime'] = pd.to_datetime(df_test['quote_datetime'])\n",
    "\n",
    "# Calculate time-to-expiration as the difference in days\n",
    "df_train['time_to_expiration'] = (df_train['expiration'] - df_train['quote_datetime']).dt.days\n",
    "df_test['time_to_expiration'] = (df_test['expiration'] - df_test['quote_datetime']).dt.days"
   ]
  },
  {
   "cell_type": "code",
   "execution_count": 5,
   "metadata": {},
   "outputs": [],
   "source": [
    "# New column bid_ask_spread\n",
    "df_train['bid_ask_spread'] = df_train['underlying_ask'] - df_train['underlying_bid']\n",
    "df_test['bid_ask_spread'] = df_test['underlying_ask'] - df_test['underlying_bid']"
   ]
  },
  {
   "cell_type": "code",
   "execution_count": 6,
   "metadata": {},
   "outputs": [],
   "source": [
    "# New column is_buy, shows whether an option was bought\n",
    "df_train['is_buy'] = ((df_train['trade_volume'] > 0) & (df_train['close'] != 0)).astype(int)\n",
    "df_test['is_buy'] = ((df_test['trade_volume'] > 0) & (df_test['close'] != 0)).astype(int)"
   ]
  },
  {
   "cell_type": "code",
   "execution_count": 7,
   "metadata": {},
   "outputs": [],
   "source": [
    "df_train_calls = df_train[df_train['option_type']=='C']\n",
    "df_test_calls = df_test[df_test['option_type']=='C']\n",
    "\n",
    "df_train_puts = df_train[df_train['option_type']=='P']\n",
    "df_test_puts = df_test[df_test['option_type']=='P']"
   ]
  },
  {
   "cell_type": "code",
   "execution_count": 8,
   "metadata": {},
   "outputs": [
    {
     "data": {
      "text/plain": [
       "Index(['underlying_symbol', 'quote_datetime', 'root', 'expiration', 'strike',\n",
       "       'option_type', 'open', 'high', 'low', 'close', 'trade_volume',\n",
       "       'bid_size', 'bid', 'ask_size', 'ask', 'underlying_bid',\n",
       "       'underlying_ask', 'implied_underlying_price', 'active_underlying_price',\n",
       "       'implied_volatility', 'delta', 'gamma', 'theta', 'vega', 'rho',\n",
       "       'open_interest', 'time_to_expiration', 'bid_ask_spread', 'is_buy'],\n",
       "      dtype='object')"
      ]
     },
     "execution_count": 8,
     "metadata": {},
     "output_type": "execute_result"
    }
   ],
   "source": [
    "df_test_calls.columns"
   ]
  },
  {
   "cell_type": "code",
   "execution_count": 9,
   "metadata": {},
   "outputs": [],
   "source": [
    "# Dropping irrelevant columns\n",
    "# root, underlying_symbol, option_type, implied_underlying_price, quote_datetime, expiration, bid_size, ask_size, underlying_bid, underlying_ask, open, high, low\n",
    "columns_to_drop = ['root', 'option_type','underlying_symbol', 'implied_underlying_price', 'quote_datetime', \n",
    "                   'expiration', 'open', 'high', 'low', 'bid_size', 'ask_size', \n",
    "                   'underlying_bid', 'underlying_ask']\n",
    "\n",
    "df_train_calls = df_train_calls.drop(columns = columns_to_drop, axis=1)\n",
    "df_train_puts = df_train_puts.drop(columns = columns_to_drop, axis=1)\n",
    "df_test_calls = df_test.drop(columns = columns_to_drop, axis=1)\n",
    "df_test_puts = df_test.drop(columns = columns_to_drop, axis=1)"
   ]
  },
  {
   "cell_type": "markdown",
   "metadata": {},
   "source": [
    "# 2. Model for Calls ONLY"
   ]
  },
  {
   "cell_type": "code",
   "execution_count": 10,
   "metadata": {},
   "outputs": [],
   "source": [
    "# Scaling features\n",
    "from sklearn.preprocessing import StandardScaler\n",
    "\n",
    "numerical_columns = ['strike', 'trade_volume', 'active_underlying_price', \n",
    "                     'implied_volatility', 'delta', 'gamma', 'theta', \n",
    "                     'vega', 'rho', 'open_interest', 'time_to_expiration', 'bid_ask_spread']\n",
    "scaler = StandardScaler()\n",
    "df_train_calls[numerical_columns] = scaler.fit_transform(df_train_calls[numerical_columns])\n",
    "df_test_calls[numerical_columns] = scaler.transform(df_test_calls[numerical_columns])"
   ]
  },
  {
   "cell_type": "markdown",
   "metadata": {},
   "source": [
    "## 2.1 Stage 1 Model (Binary Classifier)"
   ]
  },
  {
   "cell_type": "markdown",
   "metadata": {},
   "source": [
    "The followering hyper parameters were determined in [Section 2.4.1](#241-hyperparam-tuning-binary-classifier) of hyperparameter tuning.\n",
    "- Hidden Layer No. of Neurons: 14\n",
    "- Model Learning Rate: 0.001\n",
    "- Epochs: 20\n",
    "- Batch Size: 16"
   ]
  },
  {
   "cell_type": "code",
   "execution_count": 49,
   "metadata": {},
   "outputs": [
    {
     "data": {
      "text/html": [
       "<pre style=\"white-space:pre;overflow-x:auto;line-height:normal;font-family:Menlo,'DejaVu Sans Mono',consolas,'Courier New',monospace\"><span style=\"font-weight: bold\">Model: \"sequential_128\"</span>\n",
       "</pre>\n"
      ],
      "text/plain": [
       "\u001b[1mModel: \"sequential_128\"\u001b[0m\n"
      ]
     },
     "metadata": {},
     "output_type": "display_data"
    },
    {
     "data": {
      "text/html": [
       "<pre style=\"white-space:pre;overflow-x:auto;line-height:normal;font-family:Menlo,'DejaVu Sans Mono',consolas,'Courier New',monospace\">┏━━━━━━━━━━━━━━━━━━━━━━━━━━━━━━━━━┳━━━━━━━━━━━━━━━━━━━━━━━━┳━━━━━━━━━━━━━━━┓\n",
       "┃<span style=\"font-weight: bold\"> Layer (type)                    </span>┃<span style=\"font-weight: bold\"> Output Shape           </span>┃<span style=\"font-weight: bold\">       Param # </span>┃\n",
       "┡━━━━━━━━━━━━━━━━━━━━━━━━━━━━━━━━━╇━━━━━━━━━━━━━━━━━━━━━━━━╇━━━━━━━━━━━━━━━┩\n",
       "│ dense_320 (<span style=\"color: #0087ff; text-decoration-color: #0087ff\">Dense</span>)               │ (<span style=\"color: #00d7ff; text-decoration-color: #00d7ff\">None</span>, <span style=\"color: #00af00; text-decoration-color: #00af00\">14</span>)             │           <span style=\"color: #00af00; text-decoration-color: #00af00\">210</span> │\n",
       "├─────────────────────────────────┼────────────────────────┼───────────────┤\n",
       "│ leaky_re_lu_192 (<span style=\"color: #0087ff; text-decoration-color: #0087ff\">LeakyReLU</span>)     │ (<span style=\"color: #00d7ff; text-decoration-color: #00d7ff\">None</span>, <span style=\"color: #00af00; text-decoration-color: #00af00\">14</span>)             │             <span style=\"color: #00af00; text-decoration-color: #00af00\">0</span> │\n",
       "├─────────────────────────────────┼────────────────────────┼───────────────┤\n",
       "│ dense_321 (<span style=\"color: #0087ff; text-decoration-color: #0087ff\">Dense</span>)               │ (<span style=\"color: #00d7ff; text-decoration-color: #00d7ff\">None</span>, <span style=\"color: #00af00; text-decoration-color: #00af00\">1</span>)              │            <span style=\"color: #00af00; text-decoration-color: #00af00\">15</span> │\n",
       "└─────────────────────────────────┴────────────────────────┴───────────────┘\n",
       "</pre>\n"
      ],
      "text/plain": [
       "┏━━━━━━━━━━━━━━━━━━━━━━━━━━━━━━━━━┳━━━━━━━━━━━━━━━━━━━━━━━━┳━━━━━━━━━━━━━━━┓\n",
       "┃\u001b[1m \u001b[0m\u001b[1mLayer (type)                   \u001b[0m\u001b[1m \u001b[0m┃\u001b[1m \u001b[0m\u001b[1mOutput Shape          \u001b[0m\u001b[1m \u001b[0m┃\u001b[1m \u001b[0m\u001b[1m      Param #\u001b[0m\u001b[1m \u001b[0m┃\n",
       "┡━━━━━━━━━━━━━━━━━━━━━━━━━━━━━━━━━╇━━━━━━━━━━━━━━━━━━━━━━━━╇━━━━━━━━━━━━━━━┩\n",
       "│ dense_320 (\u001b[38;5;33mDense\u001b[0m)               │ (\u001b[38;5;45mNone\u001b[0m, \u001b[38;5;34m14\u001b[0m)             │           \u001b[38;5;34m210\u001b[0m │\n",
       "├─────────────────────────────────┼────────────────────────┼───────────────┤\n",
       "│ leaky_re_lu_192 (\u001b[38;5;33mLeakyReLU\u001b[0m)     │ (\u001b[38;5;45mNone\u001b[0m, \u001b[38;5;34m14\u001b[0m)             │             \u001b[38;5;34m0\u001b[0m │\n",
       "├─────────────────────────────────┼────────────────────────┼───────────────┤\n",
       "│ dense_321 (\u001b[38;5;33mDense\u001b[0m)               │ (\u001b[38;5;45mNone\u001b[0m, \u001b[38;5;34m1\u001b[0m)              │            \u001b[38;5;34m15\u001b[0m │\n",
       "└─────────────────────────────────┴────────────────────────┴───────────────┘\n"
      ]
     },
     "metadata": {},
     "output_type": "display_data"
    },
    {
     "data": {
      "text/html": [
       "<pre style=\"white-space:pre;overflow-x:auto;line-height:normal;font-family:Menlo,'DejaVu Sans Mono',consolas,'Courier New',monospace\"><span style=\"font-weight: bold\"> Total params: </span><span style=\"color: #00af00; text-decoration-color: #00af00\">225</span> (900.00 B)\n",
       "</pre>\n"
      ],
      "text/plain": [
       "\u001b[1m Total params: \u001b[0m\u001b[38;5;34m225\u001b[0m (900.00 B)\n"
      ]
     },
     "metadata": {},
     "output_type": "display_data"
    },
    {
     "data": {
      "text/html": [
       "<pre style=\"white-space:pre;overflow-x:auto;line-height:normal;font-family:Menlo,'DejaVu Sans Mono',consolas,'Courier New',monospace\"><span style=\"font-weight: bold\"> Trainable params: </span><span style=\"color: #00af00; text-decoration-color: #00af00\">225</span> (900.00 B)\n",
       "</pre>\n"
      ],
      "text/plain": [
       "\u001b[1m Trainable params: \u001b[0m\u001b[38;5;34m225\u001b[0m (900.00 B)\n"
      ]
     },
     "metadata": {},
     "output_type": "display_data"
    },
    {
     "data": {
      "text/html": [
       "<pre style=\"white-space:pre;overflow-x:auto;line-height:normal;font-family:Menlo,'DejaVu Sans Mono',consolas,'Courier New',monospace\"><span style=\"font-weight: bold\"> Non-trainable params: </span><span style=\"color: #00af00; text-decoration-color: #00af00\">0</span> (0.00 B)\n",
       "</pre>\n"
      ],
      "text/plain": [
       "\u001b[1m Non-trainable params: \u001b[0m\u001b[38;5;34m0\u001b[0m (0.00 B)\n"
      ]
     },
     "metadata": {},
     "output_type": "display_data"
    }
   ],
   "source": [
    "from tensorflow.keras.models import Sequential\n",
    "from tensorflow.keras.layers import Input, Dense, LeakyReLU\n",
    "from tensorflow.keras.optimizers import Adam\n",
    "\n",
    "# Define the binary classifier model\n",
    "binary_classifier_calls = Sequential()\n",
    "\n",
    "# Input layer with 14 neurons for 14 features\n",
    "binary_classifier_calls.add(Input(shape=(14,)))\n",
    "\n",
    "# Hidden layer with 56 neurons\n",
    "binary_classifier_calls.add(Dense(units=14))\n",
    "binary_classifier_calls.add(LeakyReLU(negative_slope=0.01))         # Leaky ReLU activation\n",
    "\n",
    "# Output layer with 1 neuron and sigmoid activation for binary classification\n",
    "binary_classifier_calls.add(Dense(1, activation='sigmoid'))\n",
    "\n",
    "# Compile the model with binary cross-entropy loss and Adam optimizer\n",
    "binary_classifier_calls.compile(optimizer=Adam(learning_rate=0.001), loss='binary_crossentropy', metrics=['accuracy'])\n",
    "\n",
    "# Summary of the model architecture\n",
    "binary_classifier_calls.summary()\n"
   ]
  },
  {
   "cell_type": "code",
   "execution_count": 50,
   "metadata": {},
   "outputs": [],
   "source": [
    "# Separate features and target for training\n",
    "X_train = df_train_calls.drop(columns=['close', 'is_buy'])  # Drop 'close' and 'is_buy' from features\n",
    "y_train = df_train_calls['is_buy']  # Target for binary classification"
   ]
  },
  {
   "cell_type": "code",
   "execution_count": 52,
   "metadata": {},
   "outputs": [
    {
     "name": "stdout",
     "output_type": "stream",
     "text": [
      "Epoch 1/20\n",
      "\u001b[1m6898/6898\u001b[0m \u001b[32m━━━━━━━━━━━━━━━━━━━━\u001b[0m\u001b[37m\u001b[0m \u001b[1m2s\u001b[0m 250us/step - accuracy: 0.9728 - loss: 0.1230 - val_accuracy: 0.9677 - val_loss: 0.2457\n",
      "Epoch 2/20\n",
      "\u001b[1m6898/6898\u001b[0m \u001b[32m━━━━━━━━━━━━━━━━━━━━\u001b[0m\u001b[37m\u001b[0m \u001b[1m2s\u001b[0m 251us/step - accuracy: 0.9745 - loss: 0.1060 - val_accuracy: 0.9746 - val_loss: 0.1015\n",
      "Epoch 3/20\n",
      "\u001b[1m6898/6898\u001b[0m \u001b[32m━━━━━━━━━━━━━━━━━━━━\u001b[0m\u001b[37m\u001b[0m \u001b[1m2s\u001b[0m 252us/step - accuracy: 0.9736 - loss: 0.1276 - val_accuracy: 0.9737 - val_loss: 0.0952\n",
      "Epoch 4/20\n",
      "\u001b[1m6898/6898\u001b[0m \u001b[32m━━━━━━━━━━━━━━━━━━━━\u001b[0m\u001b[37m\u001b[0m \u001b[1m2s\u001b[0m 244us/step - accuracy: 0.9760 - loss: 0.1001 - val_accuracy: 0.9703 - val_loss: 0.1474\n",
      "Epoch 5/20\n",
      "\u001b[1m6898/6898\u001b[0m \u001b[32m━━━━━━━━━━━━━━━━━━━━\u001b[0m\u001b[37m\u001b[0m \u001b[1m2s\u001b[0m 242us/step - accuracy: 0.9759 - loss: 0.0981 - val_accuracy: 0.9755 - val_loss: 0.1004\n",
      "Epoch 6/20\n",
      "\u001b[1m6898/6898\u001b[0m \u001b[32m━━━━━━━━━━━━━━━━━━━━\u001b[0m\u001b[37m\u001b[0m \u001b[1m2s\u001b[0m 246us/step - accuracy: 0.9749 - loss: 0.1200 - val_accuracy: 0.9742 - val_loss: 0.0961\n",
      "Epoch 7/20\n",
      "\u001b[1m6898/6898\u001b[0m \u001b[32m━━━━━━━━━━━━━━━━━━━━\u001b[0m\u001b[37m\u001b[0m \u001b[1m2s\u001b[0m 243us/step - accuracy: 0.9751 - loss: 0.1031 - val_accuracy: 0.9769 - val_loss: 0.0925\n",
      "Epoch 8/20\n",
      "\u001b[1m6898/6898\u001b[0m \u001b[32m━━━━━━━━━━━━━━━━━━━━\u001b[0m\u001b[37m\u001b[0m \u001b[1m2s\u001b[0m 251us/step - accuracy: 0.9763 - loss: 0.0982 - val_accuracy: 0.9763 - val_loss: 0.1115\n",
      "Epoch 9/20\n",
      "\u001b[1m6898/6898\u001b[0m \u001b[32m━━━━━━━━━━━━━━━━━━━━\u001b[0m\u001b[37m\u001b[0m \u001b[1m2s\u001b[0m 243us/step - accuracy: 0.9765 - loss: 0.1049 - val_accuracy: 0.9743 - val_loss: 0.0915\n",
      "Epoch 10/20\n",
      "\u001b[1m6898/6898\u001b[0m \u001b[32m━━━━━━━━━━━━━━━━━━━━\u001b[0m\u001b[37m\u001b[0m \u001b[1m2s\u001b[0m 244us/step - accuracy: 0.9753 - loss: 0.1036 - val_accuracy: 0.9727 - val_loss: 0.1268\n",
      "Epoch 11/20\n",
      "\u001b[1m6898/6898\u001b[0m \u001b[32m━━━━━━━━━━━━━━━━━━━━\u001b[0m\u001b[37m\u001b[0m \u001b[1m2s\u001b[0m 242us/step - accuracy: 0.9770 - loss: 0.1035 - val_accuracy: 0.9715 - val_loss: 0.1886\n",
      "Epoch 12/20\n",
      "\u001b[1m6898/6898\u001b[0m \u001b[32m━━━━━━━━━━━━━━━━━━━━\u001b[0m\u001b[37m\u001b[0m \u001b[1m2s\u001b[0m 245us/step - accuracy: 0.9769 - loss: 0.0942 - val_accuracy: 0.9747 - val_loss: 0.0902\n",
      "Epoch 13/20\n",
      "\u001b[1m6898/6898\u001b[0m \u001b[32m━━━━━━━━━━━━━━━━━━━━\u001b[0m\u001b[37m\u001b[0m \u001b[1m2s\u001b[0m 250us/step - accuracy: 0.9777 - loss: 0.1002 - val_accuracy: 0.9784 - val_loss: 0.0882\n",
      "Epoch 14/20\n",
      "\u001b[1m6898/6898\u001b[0m \u001b[32m━━━━━━━━━━━━━━━━━━━━\u001b[0m\u001b[37m\u001b[0m \u001b[1m2s\u001b[0m 253us/step - accuracy: 0.9779 - loss: 0.1042 - val_accuracy: 0.9754 - val_loss: 0.0968\n",
      "Epoch 15/20\n",
      "\u001b[1m6898/6898\u001b[0m \u001b[32m━━━━━━━━━━━━━━━━━━━━\u001b[0m\u001b[37m\u001b[0m \u001b[1m2s\u001b[0m 242us/step - accuracy: 0.9779 - loss: 0.0951 - val_accuracy: 0.9731 - val_loss: 0.1188\n",
      "Epoch 16/20\n",
      "\u001b[1m6898/6898\u001b[0m \u001b[32m━━━━━━━━━━━━━━━━━━━━\u001b[0m\u001b[37m\u001b[0m \u001b[1m2s\u001b[0m 250us/step - accuracy: 0.9780 - loss: 0.1017 - val_accuracy: 0.9732 - val_loss: 0.1653\n",
      "Epoch 17/20\n",
      "\u001b[1m6898/6898\u001b[0m \u001b[32m━━━━━━━━━━━━━━━━━━━━\u001b[0m\u001b[37m\u001b[0m \u001b[1m2s\u001b[0m 256us/step - accuracy: 0.9769 - loss: 0.1271 - val_accuracy: 0.9749 - val_loss: 0.1145\n",
      "Epoch 18/20\n",
      "\u001b[1m6898/6898\u001b[0m \u001b[32m━━━━━━━━━━━━━━━━━━━━\u001b[0m\u001b[37m\u001b[0m \u001b[1m2s\u001b[0m 250us/step - accuracy: 0.9789 - loss: 0.1055 - val_accuracy: 0.9756 - val_loss: 0.0974\n",
      "Epoch 19/20\n",
      "\u001b[1m6898/6898\u001b[0m \u001b[32m━━━━━━━━━━━━━━━━━━━━\u001b[0m\u001b[37m\u001b[0m \u001b[1m2s\u001b[0m 253us/step - accuracy: 0.9778 - loss: 0.1202 - val_accuracy: 0.9783 - val_loss: 0.1005\n",
      "Epoch 20/20\n",
      "\u001b[1m6898/6898\u001b[0m \u001b[32m━━━━━━━━━━━━━━━━━━━━\u001b[0m\u001b[37m\u001b[0m \u001b[1m2s\u001b[0m 255us/step - accuracy: 0.9788 - loss: 0.0901 - val_accuracy: 0.9807 - val_loss: 0.1112\n"
     ]
    }
   ],
   "source": [
    "# Training the binary classifier\n",
    "history = binary_classifier_calls.fit(X_train, y_train, epochs=20, batch_size=16, validation_split=0.2)\n"
   ]
  },
  {
   "cell_type": "code",
   "execution_count": 53,
   "metadata": {},
   "outputs": [
    {
     "name": "stdout",
     "output_type": "stream",
     "text": [
      "\u001b[1m4312/4312\u001b[0m \u001b[32m━━━━━━━━━━━━━━━━━━━━\u001b[0m\u001b[37m\u001b[0m \u001b[1m1s\u001b[0m 169us/step\n"
     ]
    }
   ],
   "source": [
    "# Separate features and target for the price prediction model\n",
    "X_train_calls = df_train_calls.drop(columns=['is_buy','close'])  # Features for price prediction\n",
    "y_train_price_full = df_train_calls['close']  # Target price\n",
    "\n",
    "# Generate the 'purchasable' predictions using the classifier\n",
    "purchasable_mask = binary_classifier_calls.predict(X_train_calls) >= 1  # Prediction mask for purchasable options\n",
    "\n",
    "# Filter rows for the price prediction model based on the 'purchasable' mask\n",
    "X_train_price = X_train_calls[purchasable_mask.flatten()]  # Only rows classified as purchasable\n",
    "y_train_price = y_train_price_full[purchasable_mask.flatten()]  # Corresponding target prices for purchasable options"
   ]
  },
  {
   "cell_type": "markdown",
   "metadata": {},
   "source": [
    "## 2.2 Stage 2 Model (Price Prediction)"
   ]
  },
  {
   "cell_type": "markdown",
   "metadata": {},
   "source": [
    "The followering hyper parameters were determined in [Section 2.4.2](#242-hyperparam-tuning-price-prediction) of hyperparameter tuning.\n",
    "- Hidden Layer 1 No. of Neurons: 14\n",
    "- Hidden Layer 2 No. of Neurons: 7\n",
    "- Model Learning Rate: 0.001\n",
    "- Epochs: 20\n",
    "- Batch Size: 64"
   ]
  },
  {
   "cell_type": "code",
   "execution_count": 15,
   "metadata": {},
   "outputs": [
    {
     "data": {
      "text/html": [
       "<pre style=\"white-space:pre;overflow-x:auto;line-height:normal;font-family:Menlo,'DejaVu Sans Mono',consolas,'Courier New',monospace\"><span style=\"font-weight: bold\">Model: \"sequential_1\"</span>\n",
       "</pre>\n"
      ],
      "text/plain": [
       "\u001b[1mModel: \"sequential_1\"\u001b[0m\n"
      ]
     },
     "metadata": {},
     "output_type": "display_data"
    },
    {
     "data": {
      "text/html": [
       "<pre style=\"white-space:pre;overflow-x:auto;line-height:normal;font-family:Menlo,'DejaVu Sans Mono',consolas,'Courier New',monospace\">┏━━━━━━━━━━━━━━━━━━━━━━━━━━━━━━━━━┳━━━━━━━━━━━━━━━━━━━━━━━━┳━━━━━━━━━━━━━━━┓\n",
       "┃<span style=\"font-weight: bold\"> Layer (type)                    </span>┃<span style=\"font-weight: bold\"> Output Shape           </span>┃<span style=\"font-weight: bold\">       Param # </span>┃\n",
       "┡━━━━━━━━━━━━━━━━━━━━━━━━━━━━━━━━━╇━━━━━━━━━━━━━━━━━━━━━━━━╇━━━━━━━━━━━━━━━┩\n",
       "│ dense_2 (<span style=\"color: #0087ff; text-decoration-color: #0087ff\">Dense</span>)                 │ (<span style=\"color: #00d7ff; text-decoration-color: #00d7ff\">None</span>, <span style=\"color: #00af00; text-decoration-color: #00af00\">14</span>)             │           <span style=\"color: #00af00; text-decoration-color: #00af00\">210</span> │\n",
       "├─────────────────────────────────┼────────────────────────┼───────────────┤\n",
       "│ leaky_re_lu_1 (<span style=\"color: #0087ff; text-decoration-color: #0087ff\">LeakyReLU</span>)       │ (<span style=\"color: #00d7ff; text-decoration-color: #00d7ff\">None</span>, <span style=\"color: #00af00; text-decoration-color: #00af00\">14</span>)             │             <span style=\"color: #00af00; text-decoration-color: #00af00\">0</span> │\n",
       "├─────────────────────────────────┼────────────────────────┼───────────────┤\n",
       "│ dense_3 (<span style=\"color: #0087ff; text-decoration-color: #0087ff\">Dense</span>)                 │ (<span style=\"color: #00d7ff; text-decoration-color: #00d7ff\">None</span>, <span style=\"color: #00af00; text-decoration-color: #00af00\">7</span>)              │           <span style=\"color: #00af00; text-decoration-color: #00af00\">105</span> │\n",
       "├─────────────────────────────────┼────────────────────────┼───────────────┤\n",
       "│ leaky_re_lu_2 (<span style=\"color: #0087ff; text-decoration-color: #0087ff\">LeakyReLU</span>)       │ (<span style=\"color: #00d7ff; text-decoration-color: #00d7ff\">None</span>, <span style=\"color: #00af00; text-decoration-color: #00af00\">7</span>)              │             <span style=\"color: #00af00; text-decoration-color: #00af00\">0</span> │\n",
       "├─────────────────────────────────┼────────────────────────┼───────────────┤\n",
       "│ dense_4 (<span style=\"color: #0087ff; text-decoration-color: #0087ff\">Dense</span>)                 │ (<span style=\"color: #00d7ff; text-decoration-color: #00d7ff\">None</span>, <span style=\"color: #00af00; text-decoration-color: #00af00\">1</span>)              │             <span style=\"color: #00af00; text-decoration-color: #00af00\">8</span> │\n",
       "└─────────────────────────────────┴────────────────────────┴───────────────┘\n",
       "</pre>\n"
      ],
      "text/plain": [
       "┏━━━━━━━━━━━━━━━━━━━━━━━━━━━━━━━━━┳━━━━━━━━━━━━━━━━━━━━━━━━┳━━━━━━━━━━━━━━━┓\n",
       "┃\u001b[1m \u001b[0m\u001b[1mLayer (type)                   \u001b[0m\u001b[1m \u001b[0m┃\u001b[1m \u001b[0m\u001b[1mOutput Shape          \u001b[0m\u001b[1m \u001b[0m┃\u001b[1m \u001b[0m\u001b[1m      Param #\u001b[0m\u001b[1m \u001b[0m┃\n",
       "┡━━━━━━━━━━━━━━━━━━━━━━━━━━━━━━━━━╇━━━━━━━━━━━━━━━━━━━━━━━━╇━━━━━━━━━━━━━━━┩\n",
       "│ dense_2 (\u001b[38;5;33mDense\u001b[0m)                 │ (\u001b[38;5;45mNone\u001b[0m, \u001b[38;5;34m14\u001b[0m)             │           \u001b[38;5;34m210\u001b[0m │\n",
       "├─────────────────────────────────┼────────────────────────┼───────────────┤\n",
       "│ leaky_re_lu_1 (\u001b[38;5;33mLeakyReLU\u001b[0m)       │ (\u001b[38;5;45mNone\u001b[0m, \u001b[38;5;34m14\u001b[0m)             │             \u001b[38;5;34m0\u001b[0m │\n",
       "├─────────────────────────────────┼────────────────────────┼───────────────┤\n",
       "│ dense_3 (\u001b[38;5;33mDense\u001b[0m)                 │ (\u001b[38;5;45mNone\u001b[0m, \u001b[38;5;34m7\u001b[0m)              │           \u001b[38;5;34m105\u001b[0m │\n",
       "├─────────────────────────────────┼────────────────────────┼───────────────┤\n",
       "│ leaky_re_lu_2 (\u001b[38;5;33mLeakyReLU\u001b[0m)       │ (\u001b[38;5;45mNone\u001b[0m, \u001b[38;5;34m7\u001b[0m)              │             \u001b[38;5;34m0\u001b[0m │\n",
       "├─────────────────────────────────┼────────────────────────┼───────────────┤\n",
       "│ dense_4 (\u001b[38;5;33mDense\u001b[0m)                 │ (\u001b[38;5;45mNone\u001b[0m, \u001b[38;5;34m1\u001b[0m)              │             \u001b[38;5;34m8\u001b[0m │\n",
       "└─────────────────────────────────┴────────────────────────┴───────────────┘\n"
      ]
     },
     "metadata": {},
     "output_type": "display_data"
    },
    {
     "data": {
      "text/html": [
       "<pre style=\"white-space:pre;overflow-x:auto;line-height:normal;font-family:Menlo,'DejaVu Sans Mono',consolas,'Courier New',monospace\"><span style=\"font-weight: bold\"> Total params: </span><span style=\"color: #00af00; text-decoration-color: #00af00\">323</span> (1.26 KB)\n",
       "</pre>\n"
      ],
      "text/plain": [
       "\u001b[1m Total params: \u001b[0m\u001b[38;5;34m323\u001b[0m (1.26 KB)\n"
      ]
     },
     "metadata": {},
     "output_type": "display_data"
    },
    {
     "data": {
      "text/html": [
       "<pre style=\"white-space:pre;overflow-x:auto;line-height:normal;font-family:Menlo,'DejaVu Sans Mono',consolas,'Courier New',monospace\"><span style=\"font-weight: bold\"> Trainable params: </span><span style=\"color: #00af00; text-decoration-color: #00af00\">323</span> (1.26 KB)\n",
       "</pre>\n"
      ],
      "text/plain": [
       "\u001b[1m Trainable params: \u001b[0m\u001b[38;5;34m323\u001b[0m (1.26 KB)\n"
      ]
     },
     "metadata": {},
     "output_type": "display_data"
    },
    {
     "data": {
      "text/html": [
       "<pre style=\"white-space:pre;overflow-x:auto;line-height:normal;font-family:Menlo,'DejaVu Sans Mono',consolas,'Courier New',monospace\"><span style=\"font-weight: bold\"> Non-trainable params: </span><span style=\"color: #00af00; text-decoration-color: #00af00\">0</span> (0.00 B)\n",
       "</pre>\n"
      ],
      "text/plain": [
       "\u001b[1m Non-trainable params: \u001b[0m\u001b[38;5;34m0\u001b[0m (0.00 B)\n"
      ]
     },
     "metadata": {},
     "output_type": "display_data"
    }
   ],
   "source": [
    "# Define the price prediction model\n",
    "price_prediction_model_calls = Sequential()\n",
    "\n",
    "# Input layer with 14 neurons\n",
    "price_prediction_model_calls.add(Input(shape=(14,))) # 14 input features\n",
    "\n",
    "# First hidden layer with 14 neurons\n",
    "price_prediction_model_calls.add(Dense(units=14))  # 14 neurons\n",
    "price_prediction_model_calls.add(LeakyReLU(negative_slope=0.01))               # Leaky ReLU activation\n",
    "\n",
    "# Second hidden layer with 7 neurons and Leaky ReLU activation\n",
    "price_prediction_model_calls.add(Dense(units=7))\n",
    "price_prediction_model_calls.add(LeakyReLU(negative_slope=0.01))\n",
    "\n",
    "# Output layer with 1 neuron (no activation for regression)\n",
    "price_prediction_model_calls.add(Dense(units=1))\n",
    "\n",
    "# Compile the model with Mean Squared Error (MSE) as the loss function for regression\n",
    "price_prediction_model_calls.compile(optimizer=Adam(learning_rate=0.001), loss='mse')\n",
    "\n",
    "# Summary of the model architecture\n",
    "price_prediction_model_calls.summary()\n"
   ]
  },
  {
   "cell_type": "code",
   "execution_count": 16,
   "metadata": {},
   "outputs": [
    {
     "name": "stdout",
     "output_type": "stream",
     "text": [
      "Epoch 1/20\n",
      "\u001b[1m23/23\u001b[0m \u001b[32m━━━━━━━━━━━━━━━━━━━━\u001b[0m\u001b[37m\u001b[0m \u001b[1m0s\u001b[0m 2ms/step - loss: 194380.7812 - val_loss: 159360.7031\n",
      "Epoch 2/20\n",
      "\u001b[1m23/23\u001b[0m \u001b[32m━━━━━━━━━━━━━━━━━━━━\u001b[0m\u001b[37m\u001b[0m \u001b[1m0s\u001b[0m 718us/step - loss: 199445.5156 - val_loss: 158604.7812\n",
      "Epoch 3/20\n",
      "\u001b[1m23/23\u001b[0m \u001b[32m━━━━━━━━━━━━━━━━━━━━\u001b[0m\u001b[37m\u001b[0m \u001b[1m0s\u001b[0m 712us/step - loss: 168748.2812 - val_loss: 157626.2344\n",
      "Epoch 4/20\n",
      "\u001b[1m23/23\u001b[0m \u001b[32m━━━━━━━━━━━━━━━━━━━━\u001b[0m\u001b[37m\u001b[0m \u001b[1m0s\u001b[0m 674us/step - loss: 111702.1953 - val_loss: 156537.7344\n",
      "Epoch 5/20\n",
      "\u001b[1m23/23\u001b[0m \u001b[32m━━━━━━━━━━━━━━━━━━━━\u001b[0m\u001b[37m\u001b[0m \u001b[1m0s\u001b[0m 634us/step - loss: 189340.7656 - val_loss: 153329.1719\n",
      "Epoch 6/20\n",
      "\u001b[1m23/23\u001b[0m \u001b[32m━━━━━━━━━━━━━━━━━━━━\u001b[0m\u001b[37m\u001b[0m \u001b[1m0s\u001b[0m 662us/step - loss: 155033.6406 - val_loss: 140128.1562\n",
      "Epoch 7/20\n",
      "\u001b[1m23/23\u001b[0m \u001b[32m━━━━━━━━━━━━━━━━━━━━\u001b[0m\u001b[37m\u001b[0m \u001b[1m0s\u001b[0m 634us/step - loss: 112432.6562 - val_loss: 126060.7109\n",
      "Epoch 8/20\n",
      "\u001b[1m23/23\u001b[0m \u001b[32m━━━━━━━━━━━━━━━━━━━━\u001b[0m\u001b[37m\u001b[0m \u001b[1m0s\u001b[0m 612us/step - loss: 93028.8516 - val_loss: 109668.6641\n",
      "Epoch 9/20\n",
      "\u001b[1m23/23\u001b[0m \u001b[32m━━━━━━━━━━━━━━━━━━━━\u001b[0m\u001b[37m\u001b[0m \u001b[1m0s\u001b[0m 597us/step - loss: 126740.8672 - val_loss: 77420.3594\n",
      "Epoch 10/20\n",
      "\u001b[1m23/23\u001b[0m \u001b[32m━━━━━━━━━━━━━━━━━━━━\u001b[0m\u001b[37m\u001b[0m \u001b[1m0s\u001b[0m 617us/step - loss: 75780.6328 - val_loss: 48584.2773\n",
      "Epoch 11/20\n",
      "\u001b[1m23/23\u001b[0m \u001b[32m━━━━━━━━━━━━━━━━━━━━\u001b[0m\u001b[37m\u001b[0m \u001b[1m0s\u001b[0m 608us/step - loss: 42934.1367 - val_loss: 23849.3711\n",
      "Epoch 12/20\n",
      "\u001b[1m23/23\u001b[0m \u001b[32m━━━━━━━━━━━━━━━━━━━━\u001b[0m\u001b[37m\u001b[0m \u001b[1m0s\u001b[0m 645us/step - loss: 32830.9062 - val_loss: 8460.7939\n",
      "Epoch 13/20\n",
      "\u001b[1m23/23\u001b[0m \u001b[32m━━━━━━━━━━━━━━━━━━━━\u001b[0m\u001b[37m\u001b[0m \u001b[1m0s\u001b[0m 636us/step - loss: 29551.5391 - val_loss: 2000.9689\n",
      "Epoch 14/20\n",
      "\u001b[1m23/23\u001b[0m \u001b[32m━━━━━━━━━━━━━━━━━━━━\u001b[0m\u001b[37m\u001b[0m \u001b[1m0s\u001b[0m 629us/step - loss: 12788.6016 - val_loss: 409.8684\n",
      "Epoch 15/20\n",
      "\u001b[1m23/23\u001b[0m \u001b[32m━━━━━━━━━━━━━━━━━━━━\u001b[0m\u001b[37m\u001b[0m \u001b[1m0s\u001b[0m 641us/step - loss: 28333.2832 - val_loss: 67.3554\n",
      "Epoch 16/20\n",
      "\u001b[1m23/23\u001b[0m \u001b[32m━━━━━━━━━━━━━━━━━━━━\u001b[0m\u001b[37m\u001b[0m \u001b[1m0s\u001b[0m 606us/step - loss: 7988.2280 - val_loss: 74.3446\n",
      "Epoch 17/20\n",
      "\u001b[1m23/23\u001b[0m \u001b[32m━━━━━━━━━━━━━━━━━━━━\u001b[0m\u001b[37m\u001b[0m \u001b[1m0s\u001b[0m 603us/step - loss: 22324.1836 - val_loss: 60.2796\n",
      "Epoch 18/20\n",
      "\u001b[1m23/23\u001b[0m \u001b[32m━━━━━━━━━━━━━━━━━━━━\u001b[0m\u001b[37m\u001b[0m \u001b[1m0s\u001b[0m 605us/step - loss: 33454.0039 - val_loss: 55.1450\n",
      "Epoch 19/20\n",
      "\u001b[1m23/23\u001b[0m \u001b[32m━━━━━━━━━━━━━━━━━━━━\u001b[0m\u001b[37m\u001b[0m \u001b[1m0s\u001b[0m 593us/step - loss: 26628.8008 - val_loss: 51.2498\n",
      "Epoch 20/20\n",
      "\u001b[1m23/23\u001b[0m \u001b[32m━━━━━━━━━━━━━━━━━━━━\u001b[0m\u001b[37m\u001b[0m \u001b[1m0s\u001b[0m 633us/step - loss: 35080.0781 - val_loss: 47.9232\n"
     ]
    }
   ],
   "source": [
    "# Train the price prediction model\n",
    "history = price_prediction_model_calls.fit(X_train_price, y_train_price, epochs=20, batch_size=64, validation_split=0.2)"
   ]
  },
  {
   "cell_type": "markdown",
   "metadata": {},
   "source": [
    "## 2.3 Testing model"
   ]
  },
  {
   "cell_type": "markdown",
   "metadata": {},
   "source": [
    "Testing is performed on a 6th day of trading not included in the training data"
   ]
  },
  {
   "cell_type": "code",
   "execution_count": 17,
   "metadata": {},
   "outputs": [],
   "source": [
    "from sklearn.metrics import accuracy_score, precision_score, recall_score, f1_score\n",
    "from sklearn.metrics import mean_squared_error, mean_absolute_error, r2_score"
   ]
  },
  {
   "cell_type": "code",
   "execution_count": 54,
   "metadata": {},
   "outputs": [],
   "source": [
    "# Features and target for binary classification model\n",
    "X_test_classification = df_test_calls.drop(columns=['close', 'is_buy'])  # Features for binary classification\n",
    "y_test_classification = df_test_calls['is_buy']           # Binary target for classification\n",
    "\n",
    "# Features and target for price prediction model\n",
    "X_test_price = df_test_calls.drop(columns=['is_buy', 'close'])  # Features for price prediction\n",
    "y_test_price_full = df_test_calls['close']                      # Target price for price prediction"
   ]
  },
  {
   "cell_type": "code",
   "execution_count": 55,
   "metadata": {},
   "outputs": [
    {
     "name": "stdout",
     "output_type": "stream",
     "text": [
      "\u001b[1m1744/1744\u001b[0m \u001b[32m━━━━━━━━━━━━━━━━━━━━\u001b[0m\u001b[37m\u001b[0m \u001b[1m0s\u001b[0m 170us/step\n",
      "Binary Classifier Metrics:\n",
      "Accuracy: 0.9687656798795785\n",
      "Precision: 0.8914100486223663\n",
      "Recall: 0.6613756613756614\n",
      "F1-Score: 0.7593538588982466\n"
     ]
    }
   ],
   "source": [
    "y_pred_binary = (binary_classifier_calls.predict(X_test_classification).flatten() >= 0.5).astype(int)\n",
    "\n",
    "# Calculate binary classifier metrics\n",
    "binary_accuracy = accuracy_score(y_test_classification, y_pred_binary)\n",
    "binary_precision = precision_score(y_test_classification, y_pred_binary)\n",
    "binary_recall = recall_score(y_test_classification, y_pred_binary)\n",
    "binary_f1 = f1_score(y_test_classification, y_pred_binary)\n",
    "\n",
    "print(\"Binary Classifier Metrics:\")\n",
    "print(f\"Accuracy: {binary_accuracy}\")\n",
    "print(f\"Precision: {binary_precision}\")\n",
    "print(f\"Recall: {binary_recall}\")\n",
    "print(f\"F1-Score: {binary_f1}\")\n"
   ]
  },
  {
   "cell_type": "code",
   "execution_count": 56,
   "metadata": {},
   "outputs": [],
   "source": [
    "# Step 2: Filter Data for Stage 2 Price Prediction\n",
    "purchasable_mask = (y_pred_binary == 1)  # Mask for options classified as \"purchasable\"\n",
    "\n",
    "# Apply the mask to get features and target for price prediction\n",
    "X_test_price_purchasable = X_test_price[purchasable_mask]\n",
    "y_test_price = y_test_price_full[purchasable_mask]"
   ]
  },
  {
   "cell_type": "code",
   "execution_count": 57,
   "metadata": {},
   "outputs": [
    {
     "name": "stdout",
     "output_type": "stream",
     "text": [
      "\u001b[1m97/97\u001b[0m \u001b[32m━━━━━━━━━━━━━━━━━━━━\u001b[0m\u001b[37m\u001b[0m \u001b[1m0s\u001b[0m 193us/step\n",
      "\n",
      "Price Prediction Model Metrics:\n",
      "Mean Squared Error: 8964.324644294522\n",
      "Root Mean Squared Error: 94.68011747085299\n",
      "Mean Absolute Error: 15.426496952861596\n",
      "R-squared: 0.8709863970558474\n"
     ]
    }
   ],
   "source": [
    "# Step 3: Run Stage 2 Price Prediction\n",
    "if len(X_test_price_purchasable) > 0:\n",
    "    y_pred_price = price_prediction_model_calls.predict(X_test_price_purchasable)\n",
    "\n",
    "    # Calculate regression metrics\n",
    "    mse = mean_squared_error(y_test_price, y_pred_price)\n",
    "    rmse = np.sqrt(mse)\n",
    "    mae = mean_absolute_error(y_test_price, y_pred_price)\n",
    "    r2 = r2_score(y_test_price, y_pred_price)\n",
    "\n",
    "    print(\"\\nPrice Prediction Model Metrics:\")\n",
    "    print(f\"Mean Squared Error: {mse}\")\n",
    "    print(f\"Root Mean Squared Error: {rmse}\")\n",
    "    print(f\"Mean Absolute Error: {mae}\")\n",
    "    print(f\"R-squared: {r2}\")\n",
    "else:\n",
    "    print(\"\\nNo 'purchasable' options found for price prediction in the 6th day test set.\")"
   ]
  },
  {
   "cell_type": "markdown",
   "metadata": {},
   "source": [
    "## 2.4 Hyperparam Tuning"
   ]
  },
  {
   "cell_type": "markdown",
   "metadata": {},
   "source": [
    "### 2.4.1 Hyperparam Tuning (Binary Classifier)"
   ]
  },
  {
   "cell_type": "code",
   "execution_count": 22,
   "metadata": {},
   "outputs": [],
   "source": [
    "from scikeras.wrappers import KerasClassifier\n",
    "from sklearn.model_selection import RandomizedSearchCV "
   ]
  },
  {
   "cell_type": "code",
   "execution_count": 23,
   "metadata": {},
   "outputs": [],
   "source": [
    "# Define the model-building function for Random Search\n",
    "def build_binary_classifier_model(units=28, learning_rate=1e-3):\n",
    "    model = Sequential()\n",
    "    \n",
    "    # Define the input layer separately using Input()\n",
    "    model.add(Input(shape=(14,)))\n",
    "    \n",
    "    # Hidden layer with Leaky ReLU activation (using `negative_slope` instead of `alpha`)\n",
    "    model.add(Dense(units=units))\n",
    "    model.add(LeakyReLU(negative_slope=0.01))\n",
    "    \n",
    "    # Output layer with 1 neuron and sigmoid activation for binary classification\n",
    "    model.add(Dense(1, activation='sigmoid'))\n",
    "    \n",
    "    # Compile the model with specified learning rate\n",
    "    model.compile(optimizer=Adam(learning_rate=learning_rate), loss='binary_crossentropy', metrics=['accuracy'])\n",
    "    \n",
    "    return model\n",
    "\n",
    "# Wrap the model using KerasClassifier, passing the function as build_fn\n",
    "binary_classifier = KerasClassifier(model=build_binary_classifier_model, verbose=0)\n"
   ]
  },
  {
   "cell_type": "code",
   "execution_count": 24,
   "metadata": {},
   "outputs": [],
   "source": [
    "param_grid = {\n",
    "    'model__units': [14, 28, 56],            # Number of neurons in the hidden layer\n",
    "    'model__learning_rate': [1e-2, 1e-3, 1e-4],  # Learning rates to try\n",
    "    'batch_size': [16, 32, 64],              # Batch sizes to try\n",
    "    'epochs': [10, 20]                       # Number of epochs to train\n",
    "}"
   ]
  },
  {
   "cell_type": "code",
   "execution_count": 25,
   "metadata": {},
   "outputs": [
    {
     "name": "stdout",
     "output_type": "stream",
     "text": [
      "Best Hyperparameters: {'model__units': 14, 'model__learning_rate': 0.001, 'epochs': 20, 'batch_size': 16}\n",
      "Best Score: 0.9740424311850773\n"
     ]
    }
   ],
   "source": [
    "# Initialize RandomizedSearchCV with the desired number of iterations\n",
    "random_search = RandomizedSearchCV(estimator=binary_classifier, param_distributions=param_grid, \n",
    "                                   scoring='accuracy', cv=3, n_iter=10, random_state=42)\n",
    "\n",
    "# Fit RandomizedSearchCV\n",
    "X_train = df_train_calls.drop(columns=['close', 'is_buy'])  # Drop 'close' and 'is_buy' from features\n",
    "y_train = df_train_calls['is_buy']  # Target for binary classification\n",
    "random_search_result = random_search.fit(X_train, y_train)\n",
    "\n",
    "# Get the best hyperparameters and score\n",
    "print(f\"Best Hyperparameters: {random_search_result.best_params_}\")\n",
    "print(f\"Best Score: {random_search_result.best_score_}\")\n"
   ]
  },
  {
   "cell_type": "markdown",
   "metadata": {},
   "source": [
    "### 2.4.2 Hyperparam Tuning (Price Prediction)"
   ]
  },
  {
   "cell_type": "code",
   "execution_count": 26,
   "metadata": {},
   "outputs": [],
   "source": [
    "from scikeras.wrappers import KerasRegressor"
   ]
  },
  {
   "cell_type": "code",
   "execution_count": 27,
   "metadata": {},
   "outputs": [],
   "source": [
    "# Define the model-building function\n",
    "def build_price_prediction_model(units1=28, units2=14, learning_rate=1e-3):\n",
    "    model = Sequential()\n",
    "    \n",
    "    # Input and first hidden layer\n",
    "    model.add(Input(shape=(14,)))\n",
    "    model.add(Dense(units=units1))\n",
    "    model.add(LeakyReLU(negative_slope=0.01))\n",
    "    \n",
    "    # Second hidden layer\n",
    "    model.add(Dense(units=units2))\n",
    "    model.add(LeakyReLU(negative_slope=0.01))\n",
    "    \n",
    "    # Output layer\n",
    "    model.add(Dense(units=1))  # No activation function for regression\n",
    "    \n",
    "    # Compile the model\n",
    "    model.compile(optimizer=Adam(learning_rate=learning_rate), loss='mse')\n",
    "    return model"
   ]
  },
  {
   "cell_type": "code",
   "execution_count": 28,
   "metadata": {},
   "outputs": [],
   "source": [
    "# Wrap the model with KerasRegressor\n",
    "price_prediction_model = KerasRegressor(model=build_price_prediction_model, verbose=0)"
   ]
  },
  {
   "cell_type": "code",
   "execution_count": 29,
   "metadata": {},
   "outputs": [],
   "source": [
    "param_grid = {\n",
    "    'model__units1': [14, 28, 54],               # Number of neurons in the first hidden layer\n",
    "    'model__units2': [7, 14, 28],                # Number of neurons in the second hidden layer\n",
    "    'model__learning_rate': [1e-2, 1e-3, 1e-4],  # Learning rates to try\n",
    "    'batch_size': [16, 32, 64],                  # Batch sizes to try\n",
    "    'epochs': [10, 20]                           # Number of epochs\n",
    "}"
   ]
  },
  {
   "cell_type": "code",
   "execution_count": 30,
   "metadata": {},
   "outputs": [
    {
     "name": "stdout",
     "output_type": "stream",
     "text": [
      "Best Hyperparameters: {'model__units2': 7, 'model__units1': 14, 'model__learning_rate': 0.001, 'epochs': 20, 'batch_size': 64}\n",
      "Best Score (Negative MSE): -11932.170982849595\n"
     ]
    }
   ],
   "source": [
    "# Initialize RandomizedSearchCV\n",
    "random_search = RandomizedSearchCV(estimator=price_prediction_model, param_distributions=param_grid, \n",
    "                                   scoring='neg_mean_squared_error', n_iter=10, cv=3, random_state=42)\n",
    "\n",
    "# Fit RandomizedSearchCV\n",
    "X_train = df_train_calls.drop(columns=['close', 'is_buy'])  # Features for training\n",
    "y_train = df_train_calls['close']  # Target prices for training\n",
    "random_search_result = random_search.fit(X_train, y_train)\n",
    "\n",
    "# Get the best hyperparameters and score\n",
    "print(f\"Best Hyperparameters: {random_search_result.best_params_}\")\n",
    "print(f\"Best Score (Negative MSE): {random_search_result.best_score_}\")\n"
   ]
  },
  {
   "cell_type": "markdown",
   "metadata": {},
   "source": [
    "# 3. Model for Puts ONLY"
   ]
  },
  {
   "cell_type": "code",
   "execution_count": 31,
   "metadata": {},
   "outputs": [],
   "source": [
    "# Scaling\n",
    "numerical_columns = ['strike', 'trade_volume', 'active_underlying_price', \n",
    "                     'implied_volatility', 'delta', 'gamma', 'theta', \n",
    "                     'vega', 'rho', 'open_interest', 'time_to_expiration', 'bid_ask_spread']\n",
    "scaler = StandardScaler()\n",
    "df_train_puts[numerical_columns] = scaler.fit_transform(df_train_puts[numerical_columns])\n",
    "df_test_puts[numerical_columns] = scaler.transform(df_test_puts[numerical_columns])"
   ]
  },
  {
   "cell_type": "markdown",
   "metadata": {},
   "source": [
    "## 3.1 Stage 1 Model (Binary Classifier)"
   ]
  },
  {
   "cell_type": "markdown",
   "metadata": {},
   "source": [
    "The followering hyper parameters were determined in [Section 3.4.1](#341-hyperparam-tuning-binary-classifier) of hyperparameter tuning.\n",
    "- Hidden Layer No. of Neurons: 56\n",
    "- Model Learning Rate: 0.001\n",
    "- Epochs: 20\n",
    "- Batch Size: 32"
   ]
  },
  {
   "cell_type": "code",
   "execution_count": 32,
   "metadata": {},
   "outputs": [
    {
     "data": {
      "text/html": [
       "<pre style=\"white-space:pre;overflow-x:auto;line-height:normal;font-family:Menlo,'DejaVu Sans Mono',consolas,'Courier New',monospace\"><span style=\"font-weight: bold\">Model: \"sequential_64\"</span>\n",
       "</pre>\n"
      ],
      "text/plain": [
       "\u001b[1mModel: \"sequential_64\"\u001b[0m\n"
      ]
     },
     "metadata": {},
     "output_type": "display_data"
    },
    {
     "data": {
      "text/html": [
       "<pre style=\"white-space:pre;overflow-x:auto;line-height:normal;font-family:Menlo,'DejaVu Sans Mono',consolas,'Courier New',monospace\">┏━━━━━━━━━━━━━━━━━━━━━━━━━━━━━━━━━┳━━━━━━━━━━━━━━━━━━━━━━━━┳━━━━━━━━━━━━━━━┓\n",
       "┃<span style=\"font-weight: bold\"> Layer (type)                    </span>┃<span style=\"font-weight: bold\"> Output Shape           </span>┃<span style=\"font-weight: bold\">       Param # </span>┃\n",
       "┡━━━━━━━━━━━━━━━━━━━━━━━━━━━━━━━━━╇━━━━━━━━━━━━━━━━━━━━━━━━╇━━━━━━━━━━━━━━━┩\n",
       "│ dense_160 (<span style=\"color: #0087ff; text-decoration-color: #0087ff\">Dense</span>)               │ (<span style=\"color: #00d7ff; text-decoration-color: #00d7ff\">None</span>, <span style=\"color: #00af00; text-decoration-color: #00af00\">56</span>)             │           <span style=\"color: #00af00; text-decoration-color: #00af00\">840</span> │\n",
       "├─────────────────────────────────┼────────────────────────┼───────────────┤\n",
       "│ leaky_re_lu_96 (<span style=\"color: #0087ff; text-decoration-color: #0087ff\">LeakyReLU</span>)      │ (<span style=\"color: #00d7ff; text-decoration-color: #00d7ff\">None</span>, <span style=\"color: #00af00; text-decoration-color: #00af00\">56</span>)             │             <span style=\"color: #00af00; text-decoration-color: #00af00\">0</span> │\n",
       "├─────────────────────────────────┼────────────────────────┼───────────────┤\n",
       "│ dense_161 (<span style=\"color: #0087ff; text-decoration-color: #0087ff\">Dense</span>)               │ (<span style=\"color: #00d7ff; text-decoration-color: #00d7ff\">None</span>, <span style=\"color: #00af00; text-decoration-color: #00af00\">1</span>)              │            <span style=\"color: #00af00; text-decoration-color: #00af00\">57</span> │\n",
       "└─────────────────────────────────┴────────────────────────┴───────────────┘\n",
       "</pre>\n"
      ],
      "text/plain": [
       "┏━━━━━━━━━━━━━━━━━━━━━━━━━━━━━━━━━┳━━━━━━━━━━━━━━━━━━━━━━━━┳━━━━━━━━━━━━━━━┓\n",
       "┃\u001b[1m \u001b[0m\u001b[1mLayer (type)                   \u001b[0m\u001b[1m \u001b[0m┃\u001b[1m \u001b[0m\u001b[1mOutput Shape          \u001b[0m\u001b[1m \u001b[0m┃\u001b[1m \u001b[0m\u001b[1m      Param #\u001b[0m\u001b[1m \u001b[0m┃\n",
       "┡━━━━━━━━━━━━━━━━━━━━━━━━━━━━━━━━━╇━━━━━━━━━━━━━━━━━━━━━━━━╇━━━━━━━━━━━━━━━┩\n",
       "│ dense_160 (\u001b[38;5;33mDense\u001b[0m)               │ (\u001b[38;5;45mNone\u001b[0m, \u001b[38;5;34m56\u001b[0m)             │           \u001b[38;5;34m840\u001b[0m │\n",
       "├─────────────────────────────────┼────────────────────────┼───────────────┤\n",
       "│ leaky_re_lu_96 (\u001b[38;5;33mLeakyReLU\u001b[0m)      │ (\u001b[38;5;45mNone\u001b[0m, \u001b[38;5;34m56\u001b[0m)             │             \u001b[38;5;34m0\u001b[0m │\n",
       "├─────────────────────────────────┼────────────────────────┼───────────────┤\n",
       "│ dense_161 (\u001b[38;5;33mDense\u001b[0m)               │ (\u001b[38;5;45mNone\u001b[0m, \u001b[38;5;34m1\u001b[0m)              │            \u001b[38;5;34m57\u001b[0m │\n",
       "└─────────────────────────────────┴────────────────────────┴───────────────┘\n"
      ]
     },
     "metadata": {},
     "output_type": "display_data"
    },
    {
     "data": {
      "text/html": [
       "<pre style=\"white-space:pre;overflow-x:auto;line-height:normal;font-family:Menlo,'DejaVu Sans Mono',consolas,'Courier New',monospace\"><span style=\"font-weight: bold\"> Total params: </span><span style=\"color: #00af00; text-decoration-color: #00af00\">897</span> (3.50 KB)\n",
       "</pre>\n"
      ],
      "text/plain": [
       "\u001b[1m Total params: \u001b[0m\u001b[38;5;34m897\u001b[0m (3.50 KB)\n"
      ]
     },
     "metadata": {},
     "output_type": "display_data"
    },
    {
     "data": {
      "text/html": [
       "<pre style=\"white-space:pre;overflow-x:auto;line-height:normal;font-family:Menlo,'DejaVu Sans Mono',consolas,'Courier New',monospace\"><span style=\"font-weight: bold\"> Trainable params: </span><span style=\"color: #00af00; text-decoration-color: #00af00\">897</span> (3.50 KB)\n",
       "</pre>\n"
      ],
      "text/plain": [
       "\u001b[1m Trainable params: \u001b[0m\u001b[38;5;34m897\u001b[0m (3.50 KB)\n"
      ]
     },
     "metadata": {},
     "output_type": "display_data"
    },
    {
     "data": {
      "text/html": [
       "<pre style=\"white-space:pre;overflow-x:auto;line-height:normal;font-family:Menlo,'DejaVu Sans Mono',consolas,'Courier New',monospace\"><span style=\"font-weight: bold\"> Non-trainable params: </span><span style=\"color: #00af00; text-decoration-color: #00af00\">0</span> (0.00 B)\n",
       "</pre>\n"
      ],
      "text/plain": [
       "\u001b[1m Non-trainable params: \u001b[0m\u001b[38;5;34m0\u001b[0m (0.00 B)\n"
      ]
     },
     "metadata": {},
     "output_type": "display_data"
    }
   ],
   "source": [
    "# Define the binary classifier model\n",
    "binary_classifier_puts = Sequential()\n",
    "\n",
    "# Input layer with 14 neurons for 14 features\n",
    "binary_classifier_puts.add(Input(shape=(14,)))\n",
    "\n",
    "# Hidden layer with 56 neurons\n",
    "binary_classifier_puts.add(Dense(units=56))\n",
    "binary_classifier_puts.add(LeakyReLU(negative_slope=0.01))         # Leaky ReLU activation\n",
    "\n",
    "# Output layer with 1 neuron and sigmoid activation for binary classification\n",
    "binary_classifier_puts.add(Dense(1, activation='sigmoid'))\n",
    "\n",
    "# Compile the model with binary cross-entropy loss and Adam optimizer\n",
    "binary_classifier_puts.compile(optimizer=Adam(learning_rate=0.001), loss='binary_crossentropy', metrics=['accuracy'])\n",
    "\n",
    "# Summary of the model architecture\n",
    "binary_classifier_puts.summary()\n"
   ]
  },
  {
   "cell_type": "code",
   "execution_count": 69,
   "metadata": {},
   "outputs": [],
   "source": [
    "# Separate features and target for training\n",
    "X_train = df_train_puts.drop(columns=['close', 'is_buy'])  # Drop 'close' and 'is_buy' from features\n",
    "y_train = df_train_puts['is_buy']  # Target for binary classification"
   ]
  },
  {
   "cell_type": "code",
   "execution_count": 70,
   "metadata": {},
   "outputs": [
    {
     "name": "stdout",
     "output_type": "stream",
     "text": [
      "Epoch 1/20\n",
      "\u001b[1m3449/3449\u001b[0m \u001b[32m━━━━━━━━━━━━━━━━━━━━\u001b[0m\u001b[37m\u001b[0m \u001b[1m1s\u001b[0m 259us/step - accuracy: 0.9639 - loss: 0.1884 - val_accuracy: 0.9605 - val_loss: 0.1352\n",
      "Epoch 2/20\n",
      "\u001b[1m3449/3449\u001b[0m \u001b[32m━━━━━━━━━━━━━━━━━━━━\u001b[0m\u001b[37m\u001b[0m \u001b[1m1s\u001b[0m 243us/step - accuracy: 0.9674 - loss: 0.1391 - val_accuracy: 0.9636 - val_loss: 0.1248\n",
      "Epoch 3/20\n",
      "\u001b[1m3449/3449\u001b[0m \u001b[32m━━━━━━━━━━━━━━━━━━━━\u001b[0m\u001b[37m\u001b[0m \u001b[1m1s\u001b[0m 241us/step - accuracy: 0.9673 - loss: 0.1434 - val_accuracy: 0.9563 - val_loss: 0.1658\n",
      "Epoch 4/20\n",
      "\u001b[1m3449/3449\u001b[0m \u001b[32m━━━━━━━━━━━━━━━━━━━━\u001b[0m\u001b[37m\u001b[0m \u001b[1m1s\u001b[0m 240us/step - accuracy: 0.9693 - loss: 0.1385 - val_accuracy: 0.9614 - val_loss: 0.1296\n",
      "Epoch 5/20\n",
      "\u001b[1m3449/3449\u001b[0m \u001b[32m━━━━━━━━━━━━━━━━━━━━\u001b[0m\u001b[37m\u001b[0m \u001b[1m1s\u001b[0m 243us/step - accuracy: 0.9689 - loss: 0.1441 - val_accuracy: 0.9706 - val_loss: 0.0998\n",
      "Epoch 6/20\n",
      "\u001b[1m3449/3449\u001b[0m \u001b[32m━━━━━━━━━━━━━━━━━━━━\u001b[0m\u001b[37m\u001b[0m \u001b[1m1s\u001b[0m 250us/step - accuracy: 0.9702 - loss: 0.1209 - val_accuracy: 0.9645 - val_loss: 0.1079\n",
      "Epoch 7/20\n",
      "\u001b[1m3449/3449\u001b[0m \u001b[32m━━━━━━━━━━━━━━━━━━━━\u001b[0m\u001b[37m\u001b[0m \u001b[1m1s\u001b[0m 239us/step - accuracy: 0.9699 - loss: 0.1732 - val_accuracy: 0.9638 - val_loss: 0.1205\n",
      "Epoch 8/20\n",
      "\u001b[1m3449/3449\u001b[0m \u001b[32m━━━━━━━━━━━━━━━━━━━━\u001b[0m\u001b[37m\u001b[0m \u001b[1m1s\u001b[0m 240us/step - accuracy: 0.9722 - loss: 0.1386 - val_accuracy: 0.9565 - val_loss: 0.3109\n",
      "Epoch 9/20\n",
      "\u001b[1m3449/3449\u001b[0m \u001b[32m━━━━━━━━━━━━━━━━━━━━\u001b[0m\u001b[37m\u001b[0m \u001b[1m1s\u001b[0m 242us/step - accuracy: 0.9711 - loss: 0.1240 - val_accuracy: 0.9602 - val_loss: 0.1674\n",
      "Epoch 10/20\n",
      "\u001b[1m3449/3449\u001b[0m \u001b[32m━━━━━━━━━━━━━━━━━━━━\u001b[0m\u001b[37m\u001b[0m \u001b[1m1s\u001b[0m 241us/step - accuracy: 0.9716 - loss: 0.1552 - val_accuracy: 0.9717 - val_loss: 0.0977\n",
      "Epoch 11/20\n",
      "\u001b[1m3449/3449\u001b[0m \u001b[32m━━━━━━━━━━━━━━━━━━━━\u001b[0m\u001b[37m\u001b[0m \u001b[1m1s\u001b[0m 239us/step - accuracy: 0.9731 - loss: 0.1220 - val_accuracy: 0.9618 - val_loss: 0.1586\n",
      "Epoch 12/20\n",
      "\u001b[1m3449/3449\u001b[0m \u001b[32m━━━━━━━━━━━━━━━━━━━━\u001b[0m\u001b[37m\u001b[0m \u001b[1m1s\u001b[0m 242us/step - accuracy: 0.9750 - loss: 0.0963 - val_accuracy: 0.9714 - val_loss: 0.0976\n",
      "Epoch 13/20\n",
      "\u001b[1m3449/3449\u001b[0m \u001b[32m━━━━━━━━━━━━━━━━━━━━\u001b[0m\u001b[37m\u001b[0m \u001b[1m1s\u001b[0m 243us/step - accuracy: 0.9736 - loss: 0.1512 - val_accuracy: 0.9689 - val_loss: 0.1014\n",
      "Epoch 14/20\n",
      "\u001b[1m3449/3449\u001b[0m \u001b[32m━━━━━━━━━━━━━━━━━━━━\u001b[0m\u001b[37m\u001b[0m \u001b[1m1s\u001b[0m 248us/step - accuracy: 0.9710 - loss: 0.1604 - val_accuracy: 0.9669 - val_loss: 0.1123\n",
      "Epoch 15/20\n",
      "\u001b[1m3449/3449\u001b[0m \u001b[32m━━━━━━━━━━━━━━━━━━━━\u001b[0m\u001b[37m\u001b[0m \u001b[1m1s\u001b[0m 241us/step - accuracy: 0.9750 - loss: 0.1309 - val_accuracy: 0.9694 - val_loss: 0.1058\n",
      "Epoch 16/20\n",
      "\u001b[1m3449/3449\u001b[0m \u001b[32m━━━━━━━━━━━━━━━━━━━━\u001b[0m\u001b[37m\u001b[0m \u001b[1m1s\u001b[0m 256us/step - accuracy: 0.9743 - loss: 0.1342 - val_accuracy: 0.9735 - val_loss: 0.0840\n",
      "Epoch 17/20\n",
      "\u001b[1m3449/3449\u001b[0m \u001b[32m━━━━━━━━━━━━━━━━━━━━\u001b[0m\u001b[37m\u001b[0m \u001b[1m1s\u001b[0m 241us/step - accuracy: 0.9724 - loss: 0.1650 - val_accuracy: 0.9473 - val_loss: 0.1880\n",
      "Epoch 18/20\n",
      "\u001b[1m3449/3449\u001b[0m \u001b[32m━━━━━━━━━━━━━━━━━━━━\u001b[0m\u001b[37m\u001b[0m \u001b[1m1s\u001b[0m 248us/step - accuracy: 0.9718 - loss: 0.1542 - val_accuracy: 0.9722 - val_loss: 0.0834\n",
      "Epoch 19/20\n",
      "\u001b[1m3449/3449\u001b[0m \u001b[32m━━━━━━━━━━━━━━━━━━━━\u001b[0m\u001b[37m\u001b[0m \u001b[1m1s\u001b[0m 245us/step - accuracy: 0.9761 - loss: 0.1369 - val_accuracy: 0.9747 - val_loss: 0.0841\n",
      "Epoch 20/20\n",
      "\u001b[1m3449/3449\u001b[0m \u001b[32m━━━━━━━━━━━━━━━━━━━━\u001b[0m\u001b[37m\u001b[0m \u001b[1m1s\u001b[0m 253us/step - accuracy: 0.9744 - loss: 0.1702 - val_accuracy: 0.9617 - val_loss: 0.1700\n"
     ]
    }
   ],
   "source": [
    "# Training the binary classifier\n",
    "history = binary_classifier_puts.fit(X_train, y_train, epochs=20, batch_size=32, validation_split=0.2)\n"
   ]
  },
  {
   "cell_type": "code",
   "execution_count": 71,
   "metadata": {},
   "outputs": [
    {
     "name": "stdout",
     "output_type": "stream",
     "text": [
      "\u001b[1m4312/4312\u001b[0m \u001b[32m━━━━━━━━━━━━━━━━━━━━\u001b[0m\u001b[37m\u001b[0m \u001b[1m1s\u001b[0m 173us/step\n"
     ]
    }
   ],
   "source": [
    "# Separate features and target for the price prediction model\n",
    "X_train_puts = df_train_puts.drop(columns=['is_buy','close'])  # Features for price prediction\n",
    "y_train_price_full = df_train_puts['close']  # Target price\n",
    "\n",
    "# Generate the 'purchasable' predictions using the classifier\n",
    "purchasable_mask = binary_classifier_puts.predict(X_train_puts) >= 1  # Prediction mask for purchasable options\n",
    "\n",
    "# Filter rows for the price prediction model based on the 'purchasable' mask\n",
    "X_train_price = X_train_puts[purchasable_mask.flatten()]  # Only rows classified as purchasable\n",
    "y_train_price = y_train_price_full[purchasable_mask.flatten()]  # Corresponding target prices for purchasable options"
   ]
  },
  {
   "cell_type": "markdown",
   "metadata": {},
   "source": [
    "## 3.2 Stage 2 Model (Price Prediction)"
   ]
  },
  {
   "cell_type": "markdown",
   "metadata": {},
   "source": [
    "The followering hyper parameters were determined in [Section 3.4.2](#342-hyperparam-tuning-price-prediction) of hyperparameter tuning.\n",
    "- Hidden Layer 1 No. of Neurons: 28\n",
    "- Hidden Layer 2 No. of Neurons: 14\n",
    "- Model Learning Rate: 0.01\n",
    "- Epochs: 20\n",
    "- Batch Size: 32"
   ]
  },
  {
   "cell_type": "code",
   "execution_count": 73,
   "metadata": {},
   "outputs": [
    {
     "data": {
      "text/html": [
       "<pre style=\"white-space:pre;overflow-x:auto;line-height:normal;font-family:Menlo,'DejaVu Sans Mono',consolas,'Courier New',monospace\"><span style=\"font-weight: bold\">Model: \"sequential_131\"</span>\n",
       "</pre>\n"
      ],
      "text/plain": [
       "\u001b[1mModel: \"sequential_131\"\u001b[0m\n"
      ]
     },
     "metadata": {},
     "output_type": "display_data"
    },
    {
     "data": {
      "text/html": [
       "<pre style=\"white-space:pre;overflow-x:auto;line-height:normal;font-family:Menlo,'DejaVu Sans Mono',consolas,'Courier New',monospace\">┏━━━━━━━━━━━━━━━━━━━━━━━━━━━━━━━━━┳━━━━━━━━━━━━━━━━━━━━━━━━┳━━━━━━━━━━━━━━━┓\n",
       "┃<span style=\"font-weight: bold\"> Layer (type)                    </span>┃<span style=\"font-weight: bold\"> Output Shape           </span>┃<span style=\"font-weight: bold\">       Param # </span>┃\n",
       "┡━━━━━━━━━━━━━━━━━━━━━━━━━━━━━━━━━╇━━━━━━━━━━━━━━━━━━━━━━━━╇━━━━━━━━━━━━━━━┩\n",
       "│ dense_328 (<span style=\"color: #0087ff; text-decoration-color: #0087ff\">Dense</span>)               │ (<span style=\"color: #00d7ff; text-decoration-color: #00d7ff\">None</span>, <span style=\"color: #00af00; text-decoration-color: #00af00\">28</span>)             │           <span style=\"color: #00af00; text-decoration-color: #00af00\">420</span> │\n",
       "├─────────────────────────────────┼────────────────────────┼───────────────┤\n",
       "│ leaky_re_lu_197 (<span style=\"color: #0087ff; text-decoration-color: #0087ff\">LeakyReLU</span>)     │ (<span style=\"color: #00d7ff; text-decoration-color: #00d7ff\">None</span>, <span style=\"color: #00af00; text-decoration-color: #00af00\">28</span>)             │             <span style=\"color: #00af00; text-decoration-color: #00af00\">0</span> │\n",
       "├─────────────────────────────────┼────────────────────────┼───────────────┤\n",
       "│ dense_329 (<span style=\"color: #0087ff; text-decoration-color: #0087ff\">Dense</span>)               │ (<span style=\"color: #00d7ff; text-decoration-color: #00d7ff\">None</span>, <span style=\"color: #00af00; text-decoration-color: #00af00\">14</span>)             │           <span style=\"color: #00af00; text-decoration-color: #00af00\">406</span> │\n",
       "├─────────────────────────────────┼────────────────────────┼───────────────┤\n",
       "│ leaky_re_lu_198 (<span style=\"color: #0087ff; text-decoration-color: #0087ff\">LeakyReLU</span>)     │ (<span style=\"color: #00d7ff; text-decoration-color: #00d7ff\">None</span>, <span style=\"color: #00af00; text-decoration-color: #00af00\">14</span>)             │             <span style=\"color: #00af00; text-decoration-color: #00af00\">0</span> │\n",
       "├─────────────────────────────────┼────────────────────────┼───────────────┤\n",
       "│ dense_330 (<span style=\"color: #0087ff; text-decoration-color: #0087ff\">Dense</span>)               │ (<span style=\"color: #00d7ff; text-decoration-color: #00d7ff\">None</span>, <span style=\"color: #00af00; text-decoration-color: #00af00\">1</span>)              │            <span style=\"color: #00af00; text-decoration-color: #00af00\">15</span> │\n",
       "└─────────────────────────────────┴────────────────────────┴───────────────┘\n",
       "</pre>\n"
      ],
      "text/plain": [
       "┏━━━━━━━━━━━━━━━━━━━━━━━━━━━━━━━━━┳━━━━━━━━━━━━━━━━━━━━━━━━┳━━━━━━━━━━━━━━━┓\n",
       "┃\u001b[1m \u001b[0m\u001b[1mLayer (type)                   \u001b[0m\u001b[1m \u001b[0m┃\u001b[1m \u001b[0m\u001b[1mOutput Shape          \u001b[0m\u001b[1m \u001b[0m┃\u001b[1m \u001b[0m\u001b[1m      Param #\u001b[0m\u001b[1m \u001b[0m┃\n",
       "┡━━━━━━━━━━━━━━━━━━━━━━━━━━━━━━━━━╇━━━━━━━━━━━━━━━━━━━━━━━━╇━━━━━━━━━━━━━━━┩\n",
       "│ dense_328 (\u001b[38;5;33mDense\u001b[0m)               │ (\u001b[38;5;45mNone\u001b[0m, \u001b[38;5;34m28\u001b[0m)             │           \u001b[38;5;34m420\u001b[0m │\n",
       "├─────────────────────────────────┼────────────────────────┼───────────────┤\n",
       "│ leaky_re_lu_197 (\u001b[38;5;33mLeakyReLU\u001b[0m)     │ (\u001b[38;5;45mNone\u001b[0m, \u001b[38;5;34m28\u001b[0m)             │             \u001b[38;5;34m0\u001b[0m │\n",
       "├─────────────────────────────────┼────────────────────────┼───────────────┤\n",
       "│ dense_329 (\u001b[38;5;33mDense\u001b[0m)               │ (\u001b[38;5;45mNone\u001b[0m, \u001b[38;5;34m14\u001b[0m)             │           \u001b[38;5;34m406\u001b[0m │\n",
       "├─────────────────────────────────┼────────────────────────┼───────────────┤\n",
       "│ leaky_re_lu_198 (\u001b[38;5;33mLeakyReLU\u001b[0m)     │ (\u001b[38;5;45mNone\u001b[0m, \u001b[38;5;34m14\u001b[0m)             │             \u001b[38;5;34m0\u001b[0m │\n",
       "├─────────────────────────────────┼────────────────────────┼───────────────┤\n",
       "│ dense_330 (\u001b[38;5;33mDense\u001b[0m)               │ (\u001b[38;5;45mNone\u001b[0m, \u001b[38;5;34m1\u001b[0m)              │            \u001b[38;5;34m15\u001b[0m │\n",
       "└─────────────────────────────────┴────────────────────────┴───────────────┘\n"
      ]
     },
     "metadata": {},
     "output_type": "display_data"
    },
    {
     "data": {
      "text/html": [
       "<pre style=\"white-space:pre;overflow-x:auto;line-height:normal;font-family:Menlo,'DejaVu Sans Mono',consolas,'Courier New',monospace\"><span style=\"font-weight: bold\"> Total params: </span><span style=\"color: #00af00; text-decoration-color: #00af00\">841</span> (3.29 KB)\n",
       "</pre>\n"
      ],
      "text/plain": [
       "\u001b[1m Total params: \u001b[0m\u001b[38;5;34m841\u001b[0m (3.29 KB)\n"
      ]
     },
     "metadata": {},
     "output_type": "display_data"
    },
    {
     "data": {
      "text/html": [
       "<pre style=\"white-space:pre;overflow-x:auto;line-height:normal;font-family:Menlo,'DejaVu Sans Mono',consolas,'Courier New',monospace\"><span style=\"font-weight: bold\"> Trainable params: </span><span style=\"color: #00af00; text-decoration-color: #00af00\">841</span> (3.29 KB)\n",
       "</pre>\n"
      ],
      "text/plain": [
       "\u001b[1m Trainable params: \u001b[0m\u001b[38;5;34m841\u001b[0m (3.29 KB)\n"
      ]
     },
     "metadata": {},
     "output_type": "display_data"
    },
    {
     "data": {
      "text/html": [
       "<pre style=\"white-space:pre;overflow-x:auto;line-height:normal;font-family:Menlo,'DejaVu Sans Mono',consolas,'Courier New',monospace\"><span style=\"font-weight: bold\"> Non-trainable params: </span><span style=\"color: #00af00; text-decoration-color: #00af00\">0</span> (0.00 B)\n",
       "</pre>\n"
      ],
      "text/plain": [
       "\u001b[1m Non-trainable params: \u001b[0m\u001b[38;5;34m0\u001b[0m (0.00 B)\n"
      ]
     },
     "metadata": {},
     "output_type": "display_data"
    }
   ],
   "source": [
    "# Define the price prediction model\n",
    "price_prediction_model_puts = Sequential()\n",
    "\n",
    "# Input layer with 14 neurons and first hidden layer with 14 neurons\n",
    "price_prediction_model_puts.add(Input(shape=(14,)))\n",
    "price_prediction_model_puts.add(Dense(units=28))\n",
    "price_prediction_model_puts.add(LeakyReLU(negative_slope=0.01))               # Leaky ReLU activation\n",
    "\n",
    "# Second hidden layer with 28 neurons and Leaky ReLU activation\n",
    "price_prediction_model_puts.add(Dense(units=14))\n",
    "price_prediction_model_puts.add(LeakyReLU(negative_slope=0.01))\n",
    "\n",
    "# Output layer with 1 neuron (no activation for regression)\n",
    "price_prediction_model_puts.add(Dense(units=1))\n",
    "\n",
    "# Compile the model with Mean Squared Error (MSE) as the loss function for regression\n",
    "price_prediction_model_puts.compile(optimizer=Adam(learning_rate=0.01), loss='mse')\n",
    "\n",
    "# Summary of the model architecture\n",
    "price_prediction_model_puts.summary()\n"
   ]
  },
  {
   "cell_type": "code",
   "execution_count": 74,
   "metadata": {},
   "outputs": [
    {
     "name": "stdout",
     "output_type": "stream",
     "text": [
      "Epoch 1/20\n",
      "\u001b[1m166/166\u001b[0m \u001b[32m━━━━━━━━━━━━━━━━━━━━\u001b[0m\u001b[37m\u001b[0m \u001b[1m0s\u001b[0m 587us/step - loss: 1515.6632 - val_loss: 1.0067\n",
      "Epoch 2/20\n",
      "\u001b[1m166/166\u001b[0m \u001b[32m━━━━━━━━━━━━━━━━━━━━\u001b[0m\u001b[37m\u001b[0m \u001b[1m0s\u001b[0m 320us/step - loss: 3.2405 - val_loss: 1.0978\n",
      "Epoch 3/20\n",
      "\u001b[1m166/166\u001b[0m \u001b[32m━━━━━━━━━━━━━━━━━━━━\u001b[0m\u001b[37m\u001b[0m \u001b[1m0s\u001b[0m 327us/step - loss: 3.1863 - val_loss: 1.1490\n",
      "Epoch 4/20\n",
      "\u001b[1m166/166\u001b[0m \u001b[32m━━━━━━━━━━━━━━━━━━━━\u001b[0m\u001b[37m\u001b[0m \u001b[1m0s\u001b[0m 334us/step - loss: 3.6626 - val_loss: 1.3845\n",
      "Epoch 5/20\n",
      "\u001b[1m166/166\u001b[0m \u001b[32m━━━━━━━━━━━━━━━━━━━━\u001b[0m\u001b[37m\u001b[0m \u001b[1m0s\u001b[0m 315us/step - loss: 3.6701 - val_loss: 1.3079\n",
      "Epoch 6/20\n",
      "\u001b[1m166/166\u001b[0m \u001b[32m━━━━━━━━━━━━━━━━━━━━\u001b[0m\u001b[37m\u001b[0m \u001b[1m0s\u001b[0m 296us/step - loss: 3.9424 - val_loss: 2.0690\n",
      "Epoch 7/20\n",
      "\u001b[1m166/166\u001b[0m \u001b[32m━━━━━━━━━━━━━━━━━━━━\u001b[0m\u001b[37m\u001b[0m \u001b[1m0s\u001b[0m 294us/step - loss: 3.1189 - val_loss: 21.8545\n",
      "Epoch 8/20\n",
      "\u001b[1m166/166\u001b[0m \u001b[32m━━━━━━━━━━━━━━━━━━━━\u001b[0m\u001b[37m\u001b[0m \u001b[1m0s\u001b[0m 297us/step - loss: 11.3135 - val_loss: 2.3856\n",
      "Epoch 9/20\n",
      "\u001b[1m166/166\u001b[0m \u001b[32m━━━━━━━━━━━━━━━━━━━━\u001b[0m\u001b[37m\u001b[0m \u001b[1m0s\u001b[0m 295us/step - loss: 4.9674 - val_loss: 1.0886\n",
      "Epoch 10/20\n",
      "\u001b[1m166/166\u001b[0m \u001b[32m━━━━━━━━━━━━━━━━━━━━\u001b[0m\u001b[37m\u001b[0m \u001b[1m0s\u001b[0m 290us/step - loss: 3.7446 - val_loss: 0.9312\n",
      "Epoch 11/20\n",
      "\u001b[1m166/166\u001b[0m \u001b[32m━━━━━━━━━━━━━━━━━━━━\u001b[0m\u001b[37m\u001b[0m \u001b[1m0s\u001b[0m 293us/step - loss: 5.1746 - val_loss: 10.3579\n",
      "Epoch 12/20\n",
      "\u001b[1m166/166\u001b[0m \u001b[32m━━━━━━━━━━━━━━━━━━━━\u001b[0m\u001b[37m\u001b[0m \u001b[1m0s\u001b[0m 297us/step - loss: 24.0592 - val_loss: 1.7423\n",
      "Epoch 13/20\n",
      "\u001b[1m166/166\u001b[0m \u001b[32m━━━━━━━━━━━━━━━━━━━━\u001b[0m\u001b[37m\u001b[0m \u001b[1m0s\u001b[0m 292us/step - loss: 3.9196 - val_loss: 6.2872\n",
      "Epoch 14/20\n",
      "\u001b[1m166/166\u001b[0m \u001b[32m━━━━━━━━━━━━━━━━━━━━\u001b[0m\u001b[37m\u001b[0m \u001b[1m0s\u001b[0m 292us/step - loss: 14.9883 - val_loss: 1.6636\n",
      "Epoch 15/20\n",
      "\u001b[1m166/166\u001b[0m \u001b[32m━━━━━━━━━━━━━━━━━━━━\u001b[0m\u001b[37m\u001b[0m \u001b[1m0s\u001b[0m 314us/step - loss: 3.3589 - val_loss: 2.0235\n",
      "Epoch 16/20\n",
      "\u001b[1m166/166\u001b[0m \u001b[32m━━━━━━━━━━━━━━━━━━━━\u001b[0m\u001b[37m\u001b[0m \u001b[1m0s\u001b[0m 301us/step - loss: 10.6719 - val_loss: 1.9541\n",
      "Epoch 17/20\n",
      "\u001b[1m166/166\u001b[0m \u001b[32m━━━━━━━━━━━━━━━━━━━━\u001b[0m\u001b[37m\u001b[0m \u001b[1m0s\u001b[0m 404us/step - loss: 7.3541 - val_loss: 5.6844\n",
      "Epoch 18/20\n",
      "\u001b[1m166/166\u001b[0m \u001b[32m━━━━━━━━━━━━━━━━━━━━\u001b[0m\u001b[37m\u001b[0m \u001b[1m0s\u001b[0m 314us/step - loss: 4.2403 - val_loss: 1.4959\n",
      "Epoch 19/20\n",
      "\u001b[1m166/166\u001b[0m \u001b[32m━━━━━━━━━━━━━━━━━━━━\u001b[0m\u001b[37m\u001b[0m \u001b[1m0s\u001b[0m 344us/step - loss: 3.2476 - val_loss: 1.2647\n",
      "Epoch 20/20\n",
      "\u001b[1m166/166\u001b[0m \u001b[32m━━━━━━━━━━━━━━━━━━━━\u001b[0m\u001b[37m\u001b[0m \u001b[1m0s\u001b[0m 306us/step - loss: 3.4910 - val_loss: 4.4539\n"
     ]
    }
   ],
   "source": [
    "# Train the price prediction model\n",
    "history = price_prediction_model_puts.fit(X_train_price, y_train_price, epochs=20, batch_size=32, validation_split=0.2)"
   ]
  },
  {
   "cell_type": "markdown",
   "metadata": {},
   "source": [
    "## 3.3 Testing model"
   ]
  },
  {
   "cell_type": "markdown",
   "metadata": {},
   "source": [
    "Testing is performed on a 6th day of trading not included in the training data"
   ]
  },
  {
   "cell_type": "code",
   "execution_count": 75,
   "metadata": {},
   "outputs": [],
   "source": [
    "# Features and target for binary classification model\n",
    "X_test_classification = df_test_puts.drop(columns=['close', 'is_buy'])  # Features for binary classification\n",
    "y_test_classification = df_test_puts['is_buy']           # Binary target for classification\n",
    "\n",
    "# Features and target for price prediction model\n",
    "X_test_price = df_test_puts.drop(columns=['is_buy', 'close'])  # Features for price prediction\n",
    "y_test_price_full = df_test_puts['close']                      # Target price for price prediction"
   ]
  },
  {
   "cell_type": "code",
   "execution_count": 76,
   "metadata": {},
   "outputs": [
    {
     "name": "stdout",
     "output_type": "stream",
     "text": [
      "\u001b[1m1744/1744\u001b[0m \u001b[32m━━━━━━━━━━━━━━━━━━━━\u001b[0m\u001b[37m\u001b[0m \u001b[1m0s\u001b[0m 169us/step\n",
      "Binary Classifier Metrics:\n",
      "Accuracy: 0.9734069242348219\n",
      "Precision: 0.9973958333333334\n",
      "Recall: 0.6447811447811448\n",
      "F1-Score: 0.7832310838445807\n"
     ]
    }
   ],
   "source": [
    "y_pred_binary = (binary_classifier_puts.predict(X_test_classification).flatten() >= 0.5).astype(int)\n",
    "\n",
    "# Calculate binary classifier metrics\n",
    "binary_accuracy = accuracy_score(y_test_classification, y_pred_binary)\n",
    "binary_precision = precision_score(y_test_classification, y_pred_binary)\n",
    "binary_recall = recall_score(y_test_classification, y_pred_binary)\n",
    "binary_f1 = f1_score(y_test_classification, y_pred_binary)\n",
    "\n",
    "print(\"Binary Classifier Metrics:\")\n",
    "print(f\"Accuracy: {binary_accuracy}\")\n",
    "print(f\"Precision: {binary_precision}\")\n",
    "print(f\"Recall: {binary_recall}\")\n",
    "print(f\"F1-Score: {binary_f1}\")\n"
   ]
  },
  {
   "cell_type": "code",
   "execution_count": 77,
   "metadata": {},
   "outputs": [],
   "source": [
    "# Step 2: Filter Data for Stage 2 Price Prediction\n",
    "purchasable_mask = (y_pred_binary == 1)  # Mask for options classified as \"purchasable\"\n",
    "\n",
    "# Apply the mask to get features and target for price prediction\n",
    "X_test_price_purchasable = X_test_price[purchasable_mask]\n",
    "y_test_price = y_test_price_full[purchasable_mask]"
   ]
  },
  {
   "cell_type": "code",
   "execution_count": 78,
   "metadata": {},
   "outputs": [
    {
     "name": "stdout",
     "output_type": "stream",
     "text": [
      "\u001b[1m84/84\u001b[0m \u001b[32m━━━━━━━━━━━━━━━━━━━━\u001b[0m\u001b[37m\u001b[0m \u001b[1m0s\u001b[0m 195us/step\n",
      "\n",
      "Price Prediction Model Metrics:\n",
      "Mean Squared Error: 2132.2924780128596\n",
      "Root Mean Squared Error: 46.17675257110292\n",
      "Mean Absolute Error: 4.535587410858189\n",
      "R-squared: 0.9462051148402038\n"
     ]
    }
   ],
   "source": [
    "# Step 3: Run Stage 2 Price Prediction\n",
    "if len(X_test_price_purchasable) > 0:\n",
    "    y_pred_price = price_prediction_model_puts.predict(X_test_price_purchasable)\n",
    "\n",
    "    # Calculate regression metrics\n",
    "    mse = mean_squared_error(y_test_price, y_pred_price)\n",
    "    rmse = np.sqrt(mse)\n",
    "    mae = mean_absolute_error(y_test_price, y_pred_price)\n",
    "    r2 = r2_score(y_test_price, y_pred_price)\n",
    "\n",
    "    print(\"\\nPrice Prediction Model Metrics:\")\n",
    "    print(f\"Mean Squared Error: {mse}\")\n",
    "    print(f\"Root Mean Squared Error: {rmse}\")\n",
    "    print(f\"Mean Absolute Error: {mae}\")\n",
    "    print(f\"R-squared: {r2}\")\n",
    "else:\n",
    "    print(\"\\nNo 'purchasable' options found for price prediction in the 6th day test set.\")"
   ]
  },
  {
   "cell_type": "markdown",
   "metadata": {},
   "source": [
    "## 3.4 Hyperparam Tuning"
   ]
  },
  {
   "cell_type": "markdown",
   "metadata": {},
   "source": [
    "### 3.4.1 Hyperparam Tuning (Binary Classifier)"
   ]
  },
  {
   "cell_type": "code",
   "execution_count": 42,
   "metadata": {},
   "outputs": [],
   "source": [
    "# Define the model-building function for Random Search\n",
    "def build_binary_classifier_model(units=28, learning_rate=1e-3):\n",
    "    model = Sequential()\n",
    "    \n",
    "    # Define the input layer separately using Input()\n",
    "    model.add(Input(shape=(14,)))\n",
    "    \n",
    "    # Hidden layer with Leaky ReLU activation (using `negative_slope` instead of `alpha`)\n",
    "    model.add(Dense(units=units))\n",
    "    model.add(LeakyReLU(negative_slope=0.01))\n",
    "    \n",
    "    # Output layer with 1 neuron and sigmoid activation for binary classification\n",
    "    model.add(Dense(1, activation='sigmoid'))\n",
    "    \n",
    "    # Compile the model with specified learning rate\n",
    "    model.compile(optimizer=Adam(learning_rate=learning_rate), loss='binary_crossentropy', metrics=['accuracy'])\n",
    "    \n",
    "    return model\n",
    "\n",
    "# Wrap the model using KerasClassifier, passing the function as build_fn\n",
    "binary_classifier = KerasClassifier(model=build_binary_classifier_model, verbose=0)\n"
   ]
  },
  {
   "cell_type": "code",
   "execution_count": 43,
   "metadata": {},
   "outputs": [],
   "source": [
    "param_grid = {\n",
    "    'model__units': [14, 28, 56],            # Number of neurons in the hidden layer\n",
    "    'model__learning_rate': [1e-2, 1e-3, 1e-4],  # Learning rates to try\n",
    "    'batch_size': [16, 32, 64],              # Batch sizes to try\n",
    "    'epochs': [10, 20]                       # Number of epochs to train\n",
    "}"
   ]
  },
  {
   "cell_type": "code",
   "execution_count": 44,
   "metadata": {},
   "outputs": [
    {
     "name": "stdout",
     "output_type": "stream",
     "text": [
      "Best Hyperparameters: {'model__units': 56, 'model__learning_rate': 0.001, 'epochs': 20, 'batch_size': 32}\n",
      "Best Score: 0.9623793216361398\n"
     ]
    }
   ],
   "source": [
    "from sklearn.model_selection import RandomizedSearchCV\n",
    "\n",
    "# Initialize RandomizedSearchCV with the desired number of iterations\n",
    "random_search = RandomizedSearchCV(estimator=binary_classifier, param_distributions=param_grid, \n",
    "                                   scoring='accuracy', cv=3, n_iter=10, random_state=42)\n",
    "\n",
    "# Fit RandomizedSearchCV\n",
    "X_train = df_train_puts.drop(columns=['close', 'is_buy'])  # Drop 'close' and 'is_buy' from features\n",
    "y_train = df_train_puts['is_buy']  # Target for binary classification\n",
    "random_search_result = random_search.fit(X_train, y_train)\n",
    "\n",
    "# Get the best hyperparameters and score\n",
    "print(f\"Best Hyperparameters: {random_search_result.best_params_}\")\n",
    "print(f\"Best Score: {random_search_result.best_score_}\")\n"
   ]
  },
  {
   "cell_type": "markdown",
   "metadata": {},
   "source": [
    "### 3.4.2 Hyperparam Tuning (Price Prediction)"
   ]
  },
  {
   "cell_type": "code",
   "execution_count": 45,
   "metadata": {},
   "outputs": [],
   "source": [
    "# Define the model-building function\n",
    "def build_price_prediction_model(units1=28, units2=14, learning_rate=1e-3):\n",
    "    model = Sequential()\n",
    "    \n",
    "    # Input and first hidden layer\n",
    "    model.add(Input(shape=(14,)))\n",
    "    model.add(Dense(units=units1))\n",
    "    model.add(LeakyReLU(negative_slope=0.01))\n",
    "    \n",
    "    # Second hidden layer\n",
    "    model.add(Dense(units=units2))\n",
    "    model.add(LeakyReLU(negative_slope=0.01))\n",
    "    \n",
    "    # Output layer\n",
    "    model.add(Dense(units=1))  # No activation function for regression\n",
    "    \n",
    "    # Compile the model\n",
    "    model.compile(optimizer=Adam(learning_rate=learning_rate), loss='mse')\n",
    "    return model"
   ]
  },
  {
   "cell_type": "code",
   "execution_count": 46,
   "metadata": {},
   "outputs": [],
   "source": [
    "# Wrap the model with KerasRegressor\n",
    "price_prediction_model = KerasRegressor(model=build_price_prediction_model, verbose=0)"
   ]
  },
  {
   "cell_type": "code",
   "execution_count": 47,
   "metadata": {},
   "outputs": [],
   "source": [
    "param_grid = {\n",
    "    'model__units1': [14, 28, 54],               # Number of neurons in the first hidden layer\n",
    "    'model__units2': [7, 14, 28],                # Number of neurons in the second hidden layer\n",
    "    'model__learning_rate': [1e-2, 1e-3, 1e-4],  # Learning rates to try\n",
    "    'batch_size': [16, 32, 64],                  # Batch sizes to try\n",
    "    'epochs': [10, 20]                           # Number of epochs\n",
    "}"
   ]
  },
  {
   "cell_type": "code",
   "execution_count": 48,
   "metadata": {},
   "outputs": [
    {
     "name": "stdout",
     "output_type": "stream",
     "text": [
      "Best Hyperparameters: {'model__units2': 14, 'model__units1': 28, 'model__learning_rate': 0.001, 'epochs': 20, 'batch_size': 32}\n",
      "Best Score (Negative MSE): -2900.4928174837805\n"
     ]
    }
   ],
   "source": [
    "# Initialize RandomizedSearchCV\n",
    "random_search = RandomizedSearchCV(estimator=price_prediction_model, param_distributions=param_grid, \n",
    "                                   scoring='neg_mean_squared_error', n_iter=10, cv=3, random_state=42)\n",
    "\n",
    "# Fit RandomizedSearchCV\n",
    "X_train = df_train_puts.drop(columns=['close', 'is_buy'])  # Features for training\n",
    "y_train = df_train_puts['close']  # Target prices for training\n",
    "random_search_result = random_search.fit(X_train, y_train)\n",
    "\n",
    "\n",
    "# Get the best hyperparameters and score\n",
    "print(f\"Best Hyperparameters: {random_search_result.best_params_}\")\n",
    "print(f\"Best Score (Negative MSE): {random_search_result.best_score_}\")\n"
   ]
  }
 ],
 "metadata": {
  "kernelspec": {
   "display_name": "Python 3",
   "language": "python",
   "name": "python3"
  },
  "language_info": {
   "codemirror_mode": {
    "name": "ipython",
    "version": 3
   },
   "file_extension": ".py",
   "mimetype": "text/x-python",
   "name": "python",
   "nbconvert_exporter": "python",
   "pygments_lexer": "ipython3",
   "version": "3.12.7"
  }
 },
 "nbformat": 4,
 "nbformat_minor": 2
}
