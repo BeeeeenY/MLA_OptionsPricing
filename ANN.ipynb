{
 "cells": [
  {
   "cell_type": "markdown",
   "metadata": {},
   "source": [
    "# ANN"
   ]
  },
  {
   "cell_type": "markdown",
   "metadata": {},
   "source": [
    "Table of Contents\n",
    "- [1. Preprocessing Data](#1-preprocessing-the-data)\n",
    "- [2. Model for Calls ONLY](#2-model-for-calls-only)\n",
    "  - [2.1 Stage 1 Model (Binary Classifier)](#21-stage-1-model-binary-classifier)\n",
    "  - [2.2 Stage 2 Model (Price Prediction)](#22-stage-2-model-price-prediction)\n",
    "  - [2.3 Testing model](#23-testing-model)\n",
    "  - [2.4 Hyper param Tuning](#24-hyperparam-tuning)\n",
    "    - [2.4.1 Hyperparam Tuning (Binary Classifier)](#241-hyperparam-tuning-binary-classifier)\n",
    "    - [2.4.2 Hyperparam Tuning (Price Prediction)](#242-hyperparam-tuning-price-prediction)\n",
    "- [3. Model for Puts ONLY](#3-model-for-puts-only)\n",
    "  - [3.1 Stage 1 Model (Binary Classifier)](#31-stage-1-model-binary-classifier)\n",
    "  - [3.2 Stage 2 Model (Price Prediction)](#32-stage-2-model-price-prediction)\n",
    "  - [3.3 Testing model](#33-testing-model)\n",
    "  - [3.4 Hyper param Tuning](#34-hyperparam-tuning)\n",
    "    - [3.4.1 Hyperparam Tuning (Binary Classifier)](#341-hyperparam-tuning-binary-classifier)\n",
    "    - [3.4.2 Hyperparam Tuning (Price Prediction)](#34-hyperparam-tuning-price-prediction)"
   ]
  },
  {
   "cell_type": "markdown",
   "metadata": {},
   "source": [
    "<u>Stage 1: Binary Classification Model</u>\n",
    "\n",
    "The first model is responsible for predicting if the option is “purchasable.” It classifies the input based on whether to proceed with price prediction or not.\n",
    "\n",
    "- Input Layer\n",
    "    - 15 neurons (one for each input feature).\n",
    "- Hidden Layer\n",
    "    - 1 Layer, 30 neurons (Leaky RelU)\n",
    "- Output Layer\n",
    "    - 1 neuron with a sigmoid activation function to produce a binary result:\n",
    "        - Output = 1 if the option is “purchasable” (indicating \"Buy the option\").\n",
    "        - Output = 0 if the option is “not purchasable” (indicating \"Do not buy\").\n",
    "\n",
    "<u>Stage 2: Price Prediction Model</u>\n",
    "\n",
    "Only if the classification model predicts the option as “purchasable” (1) does the data proceed to this model. This model predicts the price of the option.\n",
    "\n",
    "- Input Layer\n",
    "    - 15 neurons (same input features as the classification model).\n",
    "- Hidden Layers (Price Prediction Layer)\n",
    "    - First layer, 30 neurons (Leaky ReLU)\n",
    "    - Second Layer, 15 neurons (Leaky ReLU)\n",
    "- Output Layer\n",
    "    - 1 neuron without activation (for regression) to predict the option price."
   ]
  },
  {
   "cell_type": "markdown",
   "metadata": {},
   "source": [
    "# 1. Preprocessing the Data"
   ]
  },
  {
   "cell_type": "code",
   "execution_count": 1,
   "metadata": {},
   "outputs": [],
   "source": [
    "import pandas as pd\n",
    "import numpy as np"
   ]
  },
  {
   "cell_type": "code",
   "execution_count": 2,
   "metadata": {},
   "outputs": [],
   "source": [
    "df1 = pd.read_csv('data/SPX/UnderlyingOptionsIntervals_3600sec_calcs_oi_2024-07-26.csv')\n",
    "df3 = pd.read_csv('data/SPX/UnderlyingOptionsIntervals_3600sec_calcs_oi_2024-09-27.csv')\n",
    "df2 = pd.read_csv('data/SPX/UnderlyingOptionsIntervals_3600sec_calcs_oi_2024-08-30.csv')\n",
    "df4 = pd.read_csv('data/SPX/UnderlyingOptionsIntervals_3600sec_calcs_oi_2024-10-11.csv')\n",
    "df5 = pd.read_csv('data/SPX/UnderlyingOptionsIntervals_3600sec_calcs_oi_2024-10-18.csv')\n",
    "df6 = pd.read_csv('data/SPX/UnderlyingOptionsIntervals_3600sec_calcs_oi_2024-10-25.csv')"
   ]
  },
  {
   "cell_type": "code",
   "execution_count": 3,
   "metadata": {},
   "outputs": [],
   "source": [
    "df_train = pd.concat([\n",
    "    df1[(df1['root']=='SPX')],\n",
    "    df2[(df2['root']=='SPX')],\n",
    "    df3[(df3['root']=='SPX')],\n",
    "    df4[(df4['root']=='SPX')],\n",
    "    df5[(df5['root']=='SPX')]\n",
    "])\n",
    "df_test = df6[df6['root'] == 'SPX'].copy()"
   ]
  },
  {
   "cell_type": "code",
   "execution_count": 4,
   "metadata": {},
   "outputs": [],
   "source": [
    "# Transforming relevant columns to datetime\n",
    "df_train['expiration'] = pd.to_datetime(df_train['expiration'])\n",
    "df_train['quote_datetime'] = pd.to_datetime(df_train['quote_datetime'])\n",
    "\n",
    "df_test['expiration'] = pd.to_datetime(df_test['expiration'])\n",
    "df_test['quote_datetime'] = pd.to_datetime(df_test['quote_datetime'])\n",
    "\n",
    "# Calculate time-to-expiration as the difference in days\n",
    "df_train['time_to_expiration'] = (df_train['expiration'] - df_train['quote_datetime']).dt.days\n",
    "df_test['time_to_expiration'] = (df_test['expiration'] - df_test['quote_datetime']).dt.days"
   ]
  },
  {
   "cell_type": "code",
   "execution_count": 5,
   "metadata": {},
   "outputs": [],
   "source": [
    "# New column bid_ask_spread\n",
    "df_train['bid_ask_spread'] = df_train['underlying_ask'] - df_train['underlying_bid']\n",
    "df_test['bid_ask_spread'] = df_test['underlying_ask'] - df_test['underlying_bid']"
   ]
  },
  {
   "cell_type": "code",
   "execution_count": 6,
   "metadata": {},
   "outputs": [],
   "source": [
    "# New column is_buy, shows whether an option was bought\n",
    "df_train['is_buy'] = ((df_train['trade_volume'] > 0) & (df_train['close'] != 0)).astype(int)\n",
    "df_test['is_buy'] = ((df_test['trade_volume'] > 0) & (df_test['close'] != 0)).astype(int)"
   ]
  },
  {
   "cell_type": "code",
   "execution_count": 7,
   "metadata": {},
   "outputs": [],
   "source": [
    "df_train_calls = df_train[df_train['option_type']=='C']\n",
    "df_test_calls = df_test[df_test['option_type']=='C']\n",
    "\n",
    "df_train_puts = df_train[df_train['option_type']=='P']\n",
    "df_test_puts = df_test[df_test['option_type']=='P']"
   ]
  },
  {
   "cell_type": "code",
   "execution_count": 8,
   "metadata": {},
   "outputs": [
    {
     "data": {
      "text/plain": [
       "Index(['underlying_symbol', 'quote_datetime', 'root', 'expiration', 'strike',\n",
       "       'option_type', 'open', 'high', 'low', 'close', 'trade_volume',\n",
       "       'bid_size', 'bid', 'ask_size', 'ask', 'underlying_bid',\n",
       "       'underlying_ask', 'implied_underlying_price', 'active_underlying_price',\n",
       "       'implied_volatility', 'delta', 'gamma', 'theta', 'vega', 'rho',\n",
       "       'open_interest', 'time_to_expiration', 'bid_ask_spread', 'is_buy'],\n",
       "      dtype='object')"
      ]
     },
     "execution_count": 8,
     "metadata": {},
     "output_type": "execute_result"
    }
   ],
   "source": [
    "df_test_calls.columns"
   ]
  },
  {
   "cell_type": "code",
   "execution_count": 9,
   "metadata": {},
   "outputs": [],
   "source": [
    "# Dropping irrelevant columns\n",
    "# root, underlying_symbol, option_type, implied_underlying_price, quote_datetime, expiration, bid_size, ask_size, underlying_bid, underlying_ask, open, high, low\n",
    "columns_to_drop = ['root', 'option_type','underlying_symbol', 'implied_underlying_price', 'quote_datetime', \n",
    "                   'expiration', 'open', 'high', 'low', 'bid_size', 'ask_size', \n",
    "                   'underlying_bid', 'underlying_ask']\n",
    "\n",
    "df_train_calls = df_train_calls.drop(columns = columns_to_drop, axis=1)\n",
    "df_train_puts = df_train_puts.drop(columns = columns_to_drop, axis=1)\n",
    "df_test_calls = df_test.drop(columns = columns_to_drop, axis=1)\n",
    "df_test_puts = df_test.drop(columns = columns_to_drop, axis=1)"
   ]
  },
  {
   "cell_type": "markdown",
   "metadata": {},
   "source": [
    "# 2. Model for Calls ONLY"
   ]
  },
  {
   "cell_type": "code",
   "execution_count": 10,
   "metadata": {},
   "outputs": [
    {
     "name": "stderr",
     "output_type": "stream",
     "text": [
      "/opt/anaconda3/lib/python3.9/site-packages/scipy/__init__.py:146: UserWarning: A NumPy version >=1.16.5 and <1.23.0 is required for this version of SciPy (detected version 1.26.4\n",
      "  warnings.warn(f\"A NumPy version >={np_minversion} and <{np_maxversion}\"\n"
     ]
    }
   ],
   "source": [
    "# Scaling\n",
    "from sklearn.preprocessing import StandardScaler\n",
    "\n",
    "numerical_columns = ['strike', 'trade_volume', 'active_underlying_price', \n",
    "                     'implied_volatility', 'delta', 'gamma', 'theta', \n",
    "                     'vega', 'rho', 'open_interest', 'time_to_expiration', 'bid_ask_spread']\n",
    "scaler = StandardScaler()\n",
    "df_train_calls[numerical_columns] = scaler.fit_transform(df_train_calls[numerical_columns])\n",
    "df_test_calls[numerical_columns] = scaler.transform(df_test_calls[numerical_columns])"
   ]
  },
  {
   "cell_type": "markdown",
   "metadata": {},
   "source": [
    "## 2.1 Stage 1 Model (Binary Classifier)"
   ]
  },
  {
   "cell_type": "code",
   "execution_count": 11,
   "metadata": {},
   "outputs": [],
   "source": [
    "from tensorflow.keras.models import Sequential\n",
    "from tensorflow.keras.layers import Input, Dense, LeakyReLU\n",
    "from tensorflow.keras.optimizers import Adam\n",
    "\n",
    "# Define the binary classifier model\n",
    "binary_classifier_calls = Sequential()\n",
    "\n",
    "# Input layer with 14 neurons for 14 features\n",
    "binary_classifier_calls.add(Input(shape=(14,)))\n",
    "\n",
    "# Hidden layer with 28 neurons\n",
    "binary_classifier_calls.add(Dense(units=14))\n",
    "binary_classifier_calls.add(LeakyReLU(negative_slope=0.01))         # Leaky ReLU activation\n",
    "\n",
    "# Output layer with 1 neuron and sigmoid activation for binary classification\n",
    "binary_classifier_calls.add(Dense(1, activation='sigmoid'))\n",
    "\n",
    "# Compile the model with binary cross-entropy loss and Adam optimizer\n",
    "binary_classifier_calls.compile(optimizer=Adam(), loss='binary_crossentropy', metrics=['accuracy'])\n",
    "\n",
    "# Summary of the model architecture\n",
    "binary_classifier_calls.summary()\n"
   ]
  },
  {
   "cell_type": "code",
   "execution_count": null,
   "metadata": {},
   "outputs": [],
   "source": [
    "# Separate features and target for training\n",
    "X_train = df_train_calls.drop(columns=['close', 'is_buy'])  # Drop 'close' and 'is_buy' from features\n",
    "y_train = df_train_calls['is_buy']  # Target for binary classification"
   ]
  },
  {
   "cell_type": "code",
   "execution_count": null,
   "metadata": {},
   "outputs": [],
   "source": [
    "# Training the binary classifier\n",
    "history = binary_classifier_calls.fit(X_train, y_train, epochs=10, batch_size=32, validation_split=0.2)\n"
   ]
  },
  {
   "cell_type": "code",
   "execution_count": null,
   "metadata": {},
   "outputs": [],
   "source": [
    "# Separate features and target for the price prediction model\n",
    "X_train_calls = df_train_calls.drop(columns=['is_buy','close'])  # Features for price prediction\n",
    "y_train_price_full = df_train_calls['close']  # Target price\n",
    "\n",
    "# Generate the 'purchasable' predictions using the classifier\n",
    "purchasable_mask = binary_classifier_calls.predict(X_train_calls) >= 1  # Prediction mask for purchasable options\n",
    "\n",
    "# Filter rows for the price prediction model based on the 'purchasable' mask\n",
    "X_train_price = X_train_calls[purchasable_mask.flatten()]  # Only rows classified as purchasable\n",
    "y_train_price = y_train_price_full[purchasable_mask.flatten()]  # Corresponding target prices for purchasable options"
   ]
  },
  {
   "cell_type": "markdown",
   "metadata": {},
   "source": [
    "## 2.2 Stage 2 Model (Price Prediction)"
   ]
  },
  {
   "cell_type": "code",
   "execution_count": null,
   "metadata": {},
   "outputs": [],
   "source": [
    "from tensorflow.keras.models import Sequential\n",
    "from tensorflow.keras.layers import Dense, LeakyReLU\n",
    "from tensorflow.keras.optimizers import Adam\n",
    "\n",
    "# Define the price prediction model\n",
    "price_prediction_model_calls = Sequential()\n",
    "\n",
    "# Input layer with 15 neurons and first hidden layer with 30 neurons\n",
    "price_prediction_model_calls.add(Dense(units=28, input_shape=(14,)))  # 15 input features\n",
    "price_prediction_model_calls.add(LeakyReLU(negative_slope=0.01))               # Leaky ReLU activation\n",
    "\n",
    "# Second hidden layer with 15 neurons and Leaky ReLU activation\n",
    "price_prediction_model_calls.add(Dense(units=14))\n",
    "price_prediction_model_calls.add(LeakyReLU(negative_slope=0.01))\n",
    "\n",
    "# Output layer with 1 neuron (no activation for regression)\n",
    "price_prediction_model_calls.add(Dense(units=1))\n",
    "\n",
    "# Compile the model with Mean Squared Error (MSE) as the loss function for regression\n",
    "price_prediction_model_calls.compile(optimizer=Adam(), loss='mse')\n",
    "\n",
    "# Summary of the model architecture\n",
    "price_prediction_model_calls.summary()\n"
   ]
  },
  {
   "cell_type": "code",
   "execution_count": null,
   "metadata": {},
   "outputs": [],
   "source": [
    "# Train the price prediction model\n",
    "history = price_prediction_model_calls.fit(X_train_price, y_train_price, epochs=10, batch_size=32, validation_split=0.2)"
   ]
  },
  {
   "cell_type": "markdown",
   "metadata": {},
   "source": [
    "## 2.3 Testing model"
   ]
  },
  {
   "cell_type": "markdown",
   "metadata": {},
   "source": [
    "Testing is performed on a 6th day of trading not included in the training data"
   ]
  },
  {
   "cell_type": "code",
   "execution_count": null,
   "metadata": {},
   "outputs": [],
   "source": [
    "import numpy as np\n",
    "from sklearn.metrics import accuracy_score, precision_score, recall_score, f1_score\n",
    "from sklearn.metrics import mean_squared_error, mean_absolute_error, r2_score"
   ]
  },
  {
   "cell_type": "code",
   "execution_count": null,
   "metadata": {},
   "outputs": [],
   "source": [
    "# Features and target for binary classification model\n",
    "X_test_classification = df_test_calls.drop(columns=['close', 'is_buy'])  # Features for binary classification\n",
    "y_test_classification = df_test_calls['is_buy']           # Binary target for classification\n",
    "\n",
    "# Features and target for price prediction model\n",
    "X_test_price = df_test_calls.drop(columns=['is_buy', 'close'])  # Features for price prediction\n",
    "y_test_price_full = df_test_calls['close']                      # Target price for price prediction"
   ]
  },
  {
   "cell_type": "code",
   "execution_count": null,
   "metadata": {},
   "outputs": [],
   "source": [
    "y_pred_binary = (binary_classifier_calls.predict(X_test_classification).flatten() >= 0.5).astype(int)\n",
    "\n",
    "# Calculate binary classifier metrics\n",
    "binary_accuracy = accuracy_score(y_test_classification, y_pred_binary)\n",
    "binary_precision = precision_score(y_test_classification, y_pred_binary)\n",
    "binary_recall = recall_score(y_test_classification, y_pred_binary)\n",
    "binary_f1 = f1_score(y_test_classification, y_pred_binary)\n",
    "\n",
    "print(\"Binary Classifier Metrics:\")\n",
    "print(f\"Accuracy: {binary_accuracy}\")\n",
    "print(f\"Precision: {binary_precision}\")\n",
    "print(f\"Recall: {binary_recall}\")\n",
    "print(f\"F1-Score: {binary_f1}\")\n"
   ]
  },
  {
   "cell_type": "code",
   "execution_count": null,
   "metadata": {},
   "outputs": [],
   "source": [
    "# Step 2: Filter Data for Stage 2 Price Prediction\n",
    "purchasable_mask = (y_pred_binary == 1)  # Mask for options classified as \"purchasable\"\n",
    "\n",
    "# Apply the mask to get features and target for price prediction\n",
    "X_test_price_purchasable = X_test_price[purchasable_mask]\n",
    "y_test_price = y_test_price_full[purchasable_mask]"
   ]
  },
  {
   "cell_type": "code",
   "execution_count": null,
   "metadata": {},
   "outputs": [],
   "source": [
    "# Step 3: Run Stage 2 Price Prediction\n",
    "if len(X_test_price_purchasable) > 0:\n",
    "    y_pred_price = price_prediction_model_calls.predict(X_test_price_purchasable)\n",
    "\n",
    "    # Calculate regression metrics\n",
    "    mse = mean_squared_error(y_test_price, y_pred_price)\n",
    "    rmse = np.sqrt(mse)\n",
    "    mae = mean_absolute_error(y_test_price, y_pred_price)\n",
    "    r2 = r2_score(y_test_price, y_pred_price)\n",
    "\n",
    "    print(\"\\nPrice Prediction Model Metrics:\")\n",
    "    print(f\"Mean Squared Error: {mse}\")\n",
    "    print(f\"Root Mean Squared Error: {rmse}\")\n",
    "    print(f\"Mean Absolute Error: {mae}\")\n",
    "    print(f\"R-squared: {r2}\")\n",
    "else:\n",
    "    print(\"\\nNo 'purchasable' options found for price prediction in the 6th day test set.\")"
   ]
  },
  {
   "cell_type": "markdown",
   "metadata": {},
   "source": [
    "## 2.4 Hyperparam Tuning"
   ]
  },
  {
   "cell_type": "markdown",
   "metadata": {},
   "source": [
    "### 2.4.1 Hyperparam Tuning (Binary Classifier)"
   ]
  },
  {
   "cell_type": "code",
   "execution_count": null,
   "metadata": {},
   "outputs": [],
   "source": [
    "from scikeras.wrappers import KerasClassifier\n",
    "from sklearn.model_selection import RandomizedSearchCV "
   ]
  },
  {
   "cell_type": "code",
   "execution_count": null,
   "metadata": {},
   "outputs": [],
   "source": [
    "# Define the model-building function for Random Search\n",
    "def build_binary_classifier_model(units=28, learning_rate=1e-3):\n",
    "    model = Sequential()\n",
    "    \n",
    "    # Define the input layer separately using Input()\n",
    "    model.add(Input(shape=(14,)))\n",
    "    \n",
    "    # Hidden layer with Leaky ReLU activation (using `negative_slope` instead of `alpha`)\n",
    "    model.add(Dense(units=units))\n",
    "    model.add(LeakyReLU(negative_slope=0.01))\n",
    "    \n",
    "    # Output layer with 1 neuron and sigmoid activation for binary classification\n",
    "    model.add(Dense(1, activation='sigmoid'))\n",
    "    \n",
    "    # Compile the model with specified learning rate\n",
    "    model.compile(optimizer=Adam(learning_rate=learning_rate), loss='binary_crossentropy', metrics=['accuracy'])\n",
    "    \n",
    "    return model\n",
    "\n",
    "# Wrap the model using KerasClassifier, passing the function as build_fn\n",
    "binary_classifier = KerasClassifier(model=build_binary_classifier_model, verbose=0)\n"
   ]
  },
  {
   "cell_type": "code",
   "execution_count": null,
   "metadata": {},
   "outputs": [],
   "source": [
    "param_grid = {\n",
    "    'model__units': [16, 32, 64],            # Number of neurons in the hidden layer\n",
    "    'model__learning_rate': [1e-2, 1e-3, 1e-4],  # Learning rates to try\n",
    "    'batch_size': [16, 32, 64],              # Batch sizes to try\n",
    "    'epochs': [10, 20]                       # Number of epochs to train\n",
    "}"
   ]
  },
  {
   "cell_type": "code",
   "execution_count": null,
   "metadata": {},
   "outputs": [],
   "source": [
    "# Initialize RandomizedSearchCV with the desired number of iterations\n",
    "random_search = RandomizedSearchCV(estimator=binary_classifier, param_distributions=param_grid, \n",
    "                                   scoring='accuracy', cv=3, n_iter=10, random_state=42)\n",
    "\n",
    "# Fit RandomizedSearchCV\n",
    "X_train = df_train_calls.drop(columns=['close', 'is_buy'])  # Drop 'close' and 'is_buy' from features\n",
    "y_train = df_train_calls['is_buy']  # Target for binary classification\n",
    "random_search_result = random_search.fit(X_train, y_train)\n",
    "\n",
    "# Get the best hyperparameters and score\n",
    "print(f\"Best Hyperparameters: {random_search_result.best_params_}\")\n",
    "print(f\"Best Score: {random_search_result.best_score_}\")\n"
   ]
  },
  {
   "cell_type": "markdown",
   "metadata": {},
   "source": [
    "### 2.4.2 Hyperparam Tuning (Price Prediction)"
   ]
  },
  {
   "cell_type": "code",
   "execution_count": null,
   "metadata": {},
   "outputs": [],
   "source": [
    "from scikeras.wrappers import KerasRegressor"
   ]
  },
  {
   "cell_type": "code",
   "execution_count": null,
   "metadata": {},
   "outputs": [],
   "source": [
    "# Define the model-building function\n",
    "def build_price_prediction_model(units1=28, units2=14, learning_rate=1e-3):\n",
    "    model = Sequential()\n",
    "    \n",
    "    # Input and first hidden layer\n",
    "    model.add(Input(shape=(14,)))\n",
    "    model.add(Dense(units=units1))\n",
    "    model.add(LeakyReLU(negative_slope=0.01))\n",
    "    \n",
    "    # Second hidden layer\n",
    "    model.add(Dense(units=units2))\n",
    "    model.add(LeakyReLU(negative_slope=0.01))\n",
    "    \n",
    "    # Output layer\n",
    "    model.add(Dense(units=1))  # No activation function for regression\n",
    "    \n",
    "    # Compile the model\n",
    "    model.compile(optimizer=Adam(learning_rate=learning_rate), loss='mse')\n",
    "    return model"
   ]
  },
  {
   "cell_type": "code",
   "execution_count": null,
   "metadata": {},
   "outputs": [],
   "source": [
    "# Wrap the model with KerasRegressor\n",
    "price_prediction_model = KerasRegressor(model=build_price_prediction_model, verbose=0)"
   ]
  },
  {
   "cell_type": "code",
   "execution_count": null,
   "metadata": {},
   "outputs": [],
   "source": [
    "param_grid = {\n",
    "    'model__units1': [16, 28, 32],               # Number of neurons in the first hidden layer\n",
    "    'model__units2': [8, 14, 16],                # Number of neurons in the second hidden layer\n",
    "    'model__learning_rate': [1e-2, 1e-3, 1e-4],  # Learning rates to try\n",
    "    'batch_size': [16, 32, 64],                  # Batch sizes to try\n",
    "    'epochs': [10, 20]                           # Number of epochs\n",
    "}"
   ]
  },
  {
   "cell_type": "code",
   "execution_count": null,
   "metadata": {},
   "outputs": [],
   "source": [
    "# Initialize RandomizedSearchCV\n",
    "random_search = RandomizedSearchCV(estimator=price_prediction_model, param_distributions=param_grid, \n",
    "                                   scoring='neg_mean_squared_error', n_iter=10, cv=3, random_state=42)\n",
    "\n",
    "# Fit RandomizedSearchCV\n",
    "X_train = df_train_calls.drop(columns=['close', 'is_buy'])  # Features for training\n",
    "y_train = df_train_calls['close']  # Target prices for training\n",
    "random_search_result = random_search.fit(X_train, y_train)\n",
    "\n",
    "# Get the best hyperparameters and score\n",
    "print(f\"Best Hyperparameters: {random_search_result.best_params_}\")\n",
    "print(f\"Best Score (Negative MSE): {random_search_result.best_score_}\")\n"
   ]
  },
  {
   "cell_type": "markdown",
   "metadata": {},
   "source": [
    "# 3. Model for Puts ONLY"
   ]
  },
  {
   "cell_type": "code",
   "execution_count": null,
   "metadata": {},
   "outputs": [],
   "source": [
    "# Scaling\n",
    "numerical_columns = ['strike', 'trade_volume', 'active_underlying_price', \n",
    "                     'implied_volatility', 'delta', 'gamma', 'theta', \n",
    "                     'vega', 'rho', 'open_interest', 'time_to_expiration', 'bid_ask_spread']\n",
    "scaler = StandardScaler()\n",
    "df_train_puts[numerical_columns] = scaler.fit_transform(df_train_puts[numerical_columns])\n",
    "df_test_puts[numerical_columns] = scaler.transform(df_test_puts[numerical_columns])"
   ]
  },
  {
   "cell_type": "markdown",
   "metadata": {},
   "source": [
    "## 3.1 Stage 1 Model (Binary Classifier)"
   ]
  },
  {
   "cell_type": "code",
   "execution_count": null,
   "metadata": {},
   "outputs": [],
   "source": [
    "# Define the binary classifier model\n",
    "binary_classifier_puts = Sequential()\n",
    "\n",
    "# Input layer with 14 neurons for 14 features\n",
    "binary_classifier_puts.add(Input(shape=(14,)))\n",
    "\n",
    "# Hidden layer with 28 neurons\n",
    "binary_classifier_puts.add(Dense(units=14))\n",
    "binary_classifier_puts.add(LeakyReLU(negative_slope=0.01))         # Leaky ReLU activation\n",
    "\n",
    "# Output layer with 1 neuron and sigmoid activation for binary classification\n",
    "binary_classifier_puts.add(Dense(1, activation='sigmoid'))\n",
    "\n",
    "# Compile the model with binary cross-entropy loss and Adam optimizer\n",
    "binary_classifier_puts.compile(optimizer=Adam(), loss='binary_crossentropy', metrics=['accuracy'])\n",
    "\n",
    "# Summary of the model architecture\n",
    "binary_classifier_puts.summary()\n"
   ]
  },
  {
   "cell_type": "code",
   "execution_count": null,
   "metadata": {},
   "outputs": [],
   "source": [
    "# Separate features and target for training\n",
    "X_train = df_train_puts.drop(columns=['close', 'is_buy'])  # Drop 'close' and 'is_buy' from features\n",
    "y_train = df_train_puts['is_buy']  # Target for binary classification"
   ]
  },
  {
   "cell_type": "code",
   "execution_count": null,
   "metadata": {},
   "outputs": [],
   "source": [
    "# Training the binary classifier\n",
    "history = binary_classifier_puts.fit(X_train, y_train, epochs=10, batch_size=32, validation_split=0.2)\n"
   ]
  },
  {
   "cell_type": "code",
   "execution_count": null,
   "metadata": {},
   "outputs": [],
   "source": [
    "# Separate features and target for the price prediction model\n",
    "X_train_puts = df_train_puts.drop(columns=['is_buy','close'])  # Features for price prediction\n",
    "y_train_price_full = df_train_puts['close']  # Target price\n",
    "\n",
    "# Generate the 'purchasable' predictions using the classifier\n",
    "purchasable_mask = binary_classifier_puts.predict(X_train_puts) >= 1  # Prediction mask for purchasable options\n",
    "\n",
    "# Filter rows for the price prediction model based on the 'purchasable' mask\n",
    "X_train_price = X_train_puts[purchasable_mask.flatten()]  # Only rows classified as purchasable\n",
    "y_train_price = y_train_price_full[purchasable_mask.flatten()]  # Corresponding target prices for purchasable options"
   ]
  },
  {
   "cell_type": "markdown",
   "metadata": {},
   "source": [
    "## 3.2 Stage 2 Model (Price Prediction)"
   ]
  },
  {
   "cell_type": "code",
   "execution_count": null,
   "metadata": {},
   "outputs": [],
   "source": [
    "# Define the price prediction model\n",
    "price_prediction_model_puts = Sequential()\n",
    "\n",
    "# Input layer with 15 neurons and first hidden layer with 30 neurons\n",
    "price_prediction_model_puts.add(Dense(units=28, input_shape=(14,)))  # 15 input features\n",
    "price_prediction_model_puts.add(LeakyReLU(negative_slope=0.01))               # Leaky ReLU activation\n",
    "\n",
    "# Second hidden layer with 15 neurons and Leaky ReLU activation\n",
    "price_prediction_model_puts.add(Dense(units=14))\n",
    "price_prediction_model_puts.add(LeakyReLU(negative_slope=0.01))\n",
    "\n",
    "# Output layer with 1 neuron (no activation for regression)\n",
    "price_prediction_model_puts.add(Dense(units=1))\n",
    "\n",
    "# Compile the model with Mean Squared Error (MSE) as the loss function for regression\n",
    "price_prediction_model_puts.compile(optimizer=Adam(), loss='mse')\n",
    "\n",
    "# Summary of the model architecture\n",
    "price_prediction_model_puts.summary()\n"
   ]
  },
  {
   "cell_type": "code",
   "execution_count": null,
   "metadata": {},
   "outputs": [],
   "source": [
    "# Train the price prediction model\n",
    "history = price_prediction_model_puts.fit(X_train_price, y_train_price, epochs=10, batch_size=32, validation_split=0.2)"
   ]
  },
  {
   "cell_type": "markdown",
   "metadata": {},
   "source": [
    "## 3.3 Testing model"
   ]
  },
  {
   "cell_type": "markdown",
   "metadata": {},
   "source": [
    "Testing is performed on a 6th day of trading not included in the training data"
   ]
  },
  {
   "cell_type": "code",
   "execution_count": null,
   "metadata": {},
   "outputs": [],
   "source": [
    "# Features and target for binary classification model\n",
    "X_test_classification = df_test_puts.drop(columns=['close', 'is_buy'])  # Features for binary classification\n",
    "y_test_classification = df_test_puts['is_buy']           # Binary target for classification\n",
    "\n",
    "# Features and target for price prediction model\n",
    "X_test_price = df_test_puts.drop(columns=['is_buy', 'close'])  # Features for price prediction\n",
    "y_test_price_full = df_test_puts['close']                      # Target price for price prediction"
   ]
  },
  {
   "cell_type": "code",
   "execution_count": null,
   "metadata": {},
   "outputs": [],
   "source": [
    "y_pred_binary = (binary_classifier_puts.predict(X_test_classification).flatten() >= 0.5).astype(int)\n",
    "\n",
    "# Calculate binary classifier metrics\n",
    "binary_accuracy = accuracy_score(y_test_classification, y_pred_binary)\n",
    "binary_precision = precision_score(y_test_classification, y_pred_binary)\n",
    "binary_recall = recall_score(y_test_classification, y_pred_binary)\n",
    "binary_f1 = f1_score(y_test_classification, y_pred_binary)\n",
    "\n",
    "print(\"Binary Classifier Metrics:\")\n",
    "print(f\"Accuracy: {binary_accuracy}\")\n",
    "print(f\"Precision: {binary_precision}\")\n",
    "print(f\"Recall: {binary_recall}\")\n",
    "print(f\"F1-Score: {binary_f1}\")\n"
   ]
  },
  {
   "cell_type": "code",
   "execution_count": null,
   "metadata": {},
   "outputs": [],
   "source": [
    "# Step 2: Filter Data for Stage 2 Price Prediction\n",
    "purchasable_mask = (y_pred_binary == 1)  # Mask for options classified as \"purchasable\"\n",
    "\n",
    "# Apply the mask to get features and target for price prediction\n",
    "X_test_price_purchasable = X_test_price[purchasable_mask]\n",
    "y_test_price = y_test_price_full[purchasable_mask]"
   ]
  },
  {
   "cell_type": "code",
   "execution_count": null,
   "metadata": {},
   "outputs": [],
   "source": [
    "# Step 3: Run Stage 2 Price Prediction\n",
    "if len(X_test_price_purchasable) > 0:\n",
    "    y_pred_price = price_prediction_model_puts.predict(X_test_price_purchasable)\n",
    "\n",
    "    # Calculate regression metrics\n",
    "    mse = mean_squared_error(y_test_price, y_pred_price)\n",
    "    rmse = np.sqrt(mse)\n",
    "    mae = mean_absolute_error(y_test_price, y_pred_price)\n",
    "    r2 = r2_score(y_test_price, y_pred_price)\n",
    "\n",
    "    print(\"\\nPrice Prediction Model Metrics:\")\n",
    "    print(f\"Mean Squared Error: {mse}\")\n",
    "    print(f\"Root Mean Squared Error: {rmse}\")\n",
    "    print(f\"Mean Absolute Error: {mae}\")\n",
    "    print(f\"R-squared: {r2}\")\n",
    "else:\n",
    "    print(\"\\nNo 'purchasable' options found for price prediction in the 6th day test set.\")"
   ]
  },
  {
   "cell_type": "markdown",
   "metadata": {},
   "source": [
    "## 3.4 Hyperparam Tuning"
   ]
  },
  {
   "cell_type": "markdown",
   "metadata": {},
   "source": [
    "### 3.4.1 Hyperparam Tuning (Binary Classifier)"
   ]
  },
  {
   "cell_type": "code",
   "execution_count": null,
   "metadata": {},
   "outputs": [],
   "source": [
    "# Define the model-building function for Random Search\n",
    "def build_binary_classifier_model(units=28, learning_rate=1e-3):\n",
    "    model = Sequential()\n",
    "    \n",
    "    # Define the input layer separately using Input()\n",
    "    model.add(Input(shape=(14,)))\n",
    "    \n",
    "    # Hidden layer with Leaky ReLU activation (using `negative_slope` instead of `alpha`)\n",
    "    model.add(Dense(units=units))\n",
    "    model.add(LeakyReLU(negative_slope=0.01))\n",
    "    \n",
    "    # Output layer with 1 neuron and sigmoid activation for binary classification\n",
    "    model.add(Dense(1, activation='sigmoid'))\n",
    "    \n",
    "    # Compile the model with specified learning rate\n",
    "    model.compile(optimizer=Adam(learning_rate=learning_rate), loss='binary_crossentropy', metrics=['accuracy'])\n",
    "    \n",
    "    return model\n",
    "\n",
    "# Wrap the model using KerasClassifier, passing the function as build_fn\n",
    "binary_classifier = KerasClassifier(model=build_binary_classifier_model, verbose=0)\n"
   ]
  },
  {
   "cell_type": "code",
   "execution_count": null,
   "metadata": {},
   "outputs": [],
   "source": [
    "param_grid = {\n",
    "    'model__units': [16, 32, 64],            # Number of neurons in the hidden layer\n",
    "    'model__learning_rate': [1e-2, 1e-3, 1e-4],  # Learning rates to try\n",
    "    'batch_size': [16, 32, 64],              # Batch sizes to try\n",
    "    'epochs': [10, 20]                       # Number of epochs to train\n",
    "}"
   ]
  },
  {
   "cell_type": "code",
   "execution_count": null,
   "metadata": {},
   "outputs": [],
   "source": [
    "from sklearn.model_selection import RandomizedSearchCV\n",
    "\n",
    "# Initialize RandomizedSearchCV with the desired number of iterations\n",
    "random_search = RandomizedSearchCV(estimator=binary_classifier, param_distributions=param_grid, \n",
    "                                   scoring='accuracy', cv=3, n_iter=10, random_state=42)\n",
    "\n",
    "# Fit RandomizedSearchCV\n",
    "X_train = df_train_puts.drop(columns=['close', 'is_buy'])  # Drop 'close' and 'is_buy' from features\n",
    "y_train = df_train_puts['is_buy']  # Target for binary classification\n",
    "random_search_result = random_search.fit(X_train, y_train)\n",
    "\n",
    "# Get the best hyperparameters and score\n",
    "print(f\"Best Hyperparameters: {random_search_result.best_params_}\")\n",
    "print(f\"Best Score: {random_search_result.best_score_}\")\n"
   ]
  },
  {
   "cell_type": "markdown",
   "metadata": {},
   "source": [
    "### 3.4.2 Hyperparam Tuning (Price Prediction)"
   ]
  },
  {
   "cell_type": "code",
   "execution_count": null,
   "metadata": {},
   "outputs": [],
   "source": [
    "# Define the model-building function\n",
    "def build_price_prediction_model(units1=28, units2=14, learning_rate=1e-3):\n",
    "    model = Sequential()\n",
    "    \n",
    "    # Input and first hidden layer\n",
    "    model.add(Input(shape=(14,)))\n",
    "    model.add(Dense(units=units1))\n",
    "    model.add(LeakyReLU(negative_slope=0.01))\n",
    "    \n",
    "    # Second hidden layer\n",
    "    model.add(Dense(units=units2))\n",
    "    model.add(LeakyReLU(negative_slope=0.01))\n",
    "    \n",
    "    # Output layer\n",
    "    model.add(Dense(units=1))  # No activation function for regression\n",
    "    \n",
    "    # Compile the model\n",
    "    model.compile(optimizer=Adam(learning_rate=learning_rate), loss='mse')\n",
    "    return model"
   ]
  },
  {
   "cell_type": "code",
   "execution_count": null,
   "metadata": {},
   "outputs": [],
   "source": [
    "# Wrap the model with KerasRegressor\n",
    "price_prediction_model = KerasRegressor(model=build_price_prediction_model, verbose=0)"
   ]
  },
  {
   "cell_type": "code",
   "execution_count": null,
   "metadata": {},
   "outputs": [],
   "source": [
    "param_grid = {\n",
    "    'model__units1': [16, 28, 32],               # Number of neurons in the first hidden layer\n",
    "    'model__units2': [8, 14, 16],                # Number of neurons in the second hidden layer\n",
    "    'model__learning_rate': [1e-2, 1e-3, 1e-4],  # Learning rates to try\n",
    "    'batch_size': [16, 32, 64],                  # Batch sizes to try\n",
    "    'epochs': [10, 20]                           # Number of epochs\n",
    "}"
   ]
  },
  {
   "cell_type": "code",
   "execution_count": null,
   "metadata": {},
   "outputs": [],
   "source": [
    "# Initialize RandomizedSearchCV\n",
    "random_search = RandomizedSearchCV(estimator=price_prediction_model, param_distributions=param_grid, \n",
    "                                   scoring='neg_mean_squared_error', n_iter=10, cv=3, random_state=42)\n",
    "\n",
    "# Fit RandomizedSearchCV\n",
    "X_train = df_train_puts.drop(columns=['close', 'is_buy'])  # Features for training\n",
    "y_train = df_train_puts['close']  # Target prices for training\n",
    "random_search_result = random_search.fit(X_train, y_train)\n",
    "\n",
    "\n",
    "# Get the best hyperparameters and score\n",
    "print(f\"Best Hyperparameters: {random_search_result.best_params_}\")\n",
    "print(f\"Best Score (Negative MSE): {random_search_result.best_score_}\")\n"
   ]
  }
 ],
 "metadata": {
  "kernelspec": {
   "display_name": "Python 3",
   "language": "python",
   "name": "python3"
  },
  "language_info": {
   "codemirror_mode": {
    "name": "ipython",
    "version": 3
   },
   "file_extension": ".py",
   "mimetype": "text/x-python",
   "name": "python",
   "nbconvert_exporter": "python",
   "pygments_lexer": "ipython3",
   "version": "3.12.7"
  }
 },
 "nbformat": 4,
 "nbformat_minor": 2
}
