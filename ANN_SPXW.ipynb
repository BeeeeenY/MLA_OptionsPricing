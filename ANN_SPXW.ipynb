{
 "cells": [
  {
   "cell_type": "markdown",
   "metadata": {},
   "source": [
    "# ANN_SPXW"
   ]
  },
  {
   "cell_type": "markdown",
   "metadata": {},
   "source": [
    "Table of Contents\n",
    "- [1. Preprocessing Data](#1-preprocessing-the-data)\n",
    "- [2. Model for Calls ONLY](#2-model-for-calls-only)\n",
    "  - [2.1 Stage 1 Model (Binary Classifier)](#21-stage-1-model-binary-classifier)\n",
    "  - [2.2 Stage 2 Model (Price Prediction)](#22-stage-2-model-price-prediction)\n",
    "  - [2.3 Testing model](#23-testing-model)\n",
    "- [3. Model for Puts ONLY](#3-model-for-puts-only)\n",
    "  - [3.1 Stage 1 Model (Binary Classifier)](#31-stage-1-model-binary-classifier)\n",
    "  - [3.2 Stage 2 Model (Price Prediction)](#32-stage-2-model-price-prediction)\n",
    "  - [3.3 Testing model](#33-testing-model)\n",
    "- [4. Hyperparam Tuning](#4-hyperparam-tuning)\n",
    "  - [4.1 Model for Calls ONLY](#41-model-for-calls-only)\n",
    "    - [4.1.1 Hyperparam Tuning (Binary Classifier)](#411-hyperparam-tuning-binary-classifier)\n",
    "    - [4.1.2 Hyperparam Tuning (Price Prediction)](#412-hyperparam-tuning-price-prediction)\n",
    "  - [4.2 Model for Puts ONLY](#42-model-for-calls-only)\n",
    "    - [4.2.1 Hyperparam Tuning (Binary Classifier)](#421-hyperparam-tuning-binary-classifier)\n",
    "    - [4.2.2 Hyperparam Tuning (Price Prediction)](#422-hyperparam-tuning-price-prediction)"
   ]
  },
  {
   "cell_type": "markdown",
   "metadata": {},
   "source": [
    "<u>Stage 1: Binary Classification Model</u>\n",
    "\n",
    "The first model is responsible for predicting if the option is “purchasable.” It classifies the input based on whether to proceed with price prediction or not.\n",
    "\n",
    "- Input Layer\n",
    "    - 14 neurons (one for each input feature).\n",
    "- Hidden Layer\n",
    "    - 1 Layer, 28 neurons (Leaky RelU)\n",
    "- Output Layer\n",
    "    - 1 neuron with a sigmoid activation function to produce a binary result:\n",
    "        - Output = 1 if the option is “purchasable” (indicating \"Buy the option\").\n",
    "        - Output = 0 if the option is “not purchasable” (indicating \"Do not buy\").\n",
    "\n",
    "<u>Stage 2: Price Prediction Model</u>\n",
    "\n",
    "Only if the classification model predicts the option as “purchasable” (1) does the data proceed to this model. This model predicts the price of the option.\n",
    "\n",
    "- Input Layer\n",
    "    - 15 neurons (same input features as the classification model).\n",
    "- Hidden Layers (Price Prediction Layer)\n",
    "    - First layer, 30 neurons (Leaky ReLU)\n",
    "    - Second Layer, 15 neurons (Leaky ReLU)\n",
    "- Output Layer\n",
    "    - 1 neuron without activation (for regression) to predict the option price."
   ]
  },
  {
   "cell_type": "markdown",
   "metadata": {},
   "source": [
    "> **Note:** The hyperparameter tuning at the end of this file can take **more than 60 minutes** to run as it uses **RandomizedSearchCV**.  \n",
    "> If you are short on time, avoid running **Section 4** of this code.\n"
   ]
  },
  {
   "cell_type": "markdown",
   "metadata": {},
   "source": [
    "# 1. Preprocessing the Data"
   ]
  },
  {
   "cell_type": "code",
   "execution_count": 125,
   "metadata": {},
   "outputs": [],
   "source": [
    "import pandas as pd\n",
    "import numpy as np"
   ]
  },
  {
   "cell_type": "code",
   "execution_count": 126,
   "metadata": {},
   "outputs": [],
   "source": [
    "df1 = pd.read_csv('df1_modified.csv')\n",
    "df3 = pd.read_csv('df2_modified.csv')\n",
    "df2 = pd.read_csv('df3_modified.csv')\n",
    "df4 = pd.read_csv('df4_modified.csv')\n",
    "df5 = pd.read_csv('df5_modified.csv')\n",
    "df6 = pd.read_csv('df6_modified.csv')"
   ]
  },
  {
   "cell_type": "code",
   "execution_count": 127,
   "metadata": {},
   "outputs": [],
   "source": [
    "df_train = pd.concat([\n",
    "    df1[(df1['root']=='SPXW')],\n",
    "    df2[(df2['root']=='SPXW')],\n",
    "    df3[(df3['root']=='SPXW')],\n",
    "    df4[(df4['root']=='SPXW')],\n",
    "    df5[(df5['root']=='SPXW')]\n",
    "])\n",
    "df_test = df6[df6['root'] == 'SPXW'].copy()"
   ]
  },
  {
   "cell_type": "code",
   "execution_count": 128,
   "metadata": {},
   "outputs": [],
   "source": [
    "# Transforming relevant columns to datetime\n",
    "df_train['expiration'] = pd.to_datetime(df_train['expiration'])\n",
    "df_train['quote_datetime'] = pd.to_datetime(df_train['quote_datetime'])\n",
    "\n",
    "df_test['expiration'] = pd.to_datetime(df_test['expiration'])\n",
    "df_test['quote_datetime'] = pd.to_datetime(df_test['quote_datetime'])\n",
    "\n",
    "# Calculate time-to-expiration as the difference in days\n",
    "df_train['time_to_expiration'] = (df_train['expiration'] - df_train['quote_datetime']).dt.days\n",
    "df_test['time_to_expiration'] = (df_test['expiration'] - df_test['quote_datetime']).dt.days"
   ]
  },
  {
   "cell_type": "code",
   "execution_count": 129,
   "metadata": {},
   "outputs": [],
   "source": [
    "# New column bid_ask_spread\n",
    "df_train['bid_ask_spread'] = df_train['underlying_ask'] - df_train['underlying_bid']\n",
    "df_test['bid_ask_spread'] = df_test['underlying_ask'] - df_test['underlying_bid']"
   ]
  },
  {
   "cell_type": "code",
   "execution_count": 130,
   "metadata": {},
   "outputs": [],
   "source": [
    "# New column is_buy, shows whether an option was bought\n",
    "df_train['is_buy'] = ((df_train['trade_volume'] > 0) & (df_train['close'] != 0)).astype(int)\n",
    "df_test['is_buy'] = ((df_test['trade_volume'] > 0) & (df_test['close'] != 0)).astype(int)"
   ]
  },
  {
   "cell_type": "code",
   "execution_count": 131,
   "metadata": {},
   "outputs": [],
   "source": [
    "df_train_calls = df_train[df_train['option_type']=='C']\n",
    "df_test_calls = df_test[df_test['option_type']=='C']\n",
    "\n",
    "df_train_puts = df_train[df_train['option_type']=='P']\n",
    "df_test_puts = df_test[df_test['option_type']=='P']"
   ]
  },
  {
   "cell_type": "code",
   "execution_count": 132,
   "metadata": {},
   "outputs": [],
   "source": [
    "# Dropping irrelevant columns\n",
    "# root, underlying_symbol, option_type, implied_underlying_price, quote_datetime, expiration, bid_size, ask_size, underlying_bid, underlying_ask, open, high, low\n",
    "columns_to_drop = ['root', 'option_type','underlying_symbol', 'implied_underlying_price', 'quote_datetime', \n",
    "                   'expiration', 'open', 'high', 'low', 'bid_size', 'ask_size', 'time_to_maturity',\n",
    "                   'underlying_bid', 'underlying_ask', 'bid','ask']\n",
    "\n",
    "df_train_calls = df_train_calls.drop(columns = columns_to_drop, axis=1)\n",
    "df_train_puts = df_train_puts.drop(columns = columns_to_drop, axis=1)\n",
    "df_test_calls = df_test_calls.drop(columns = columns_to_drop, axis=1)\n",
    "df_test_puts = df_test_puts.drop(columns = columns_to_drop, axis=1)"
   ]
  },
  {
   "cell_type": "markdown",
   "metadata": {},
   "source": [
    "# 2. Model for Calls ONLY"
   ]
  },
  {
   "cell_type": "code",
   "execution_count": 133,
   "metadata": {},
   "outputs": [],
   "source": [
    "# Scaling features\n",
    "from sklearn.preprocessing import StandardScaler\n",
    "\n",
    "numerical_columns = ['strike', 'trade_volume', 'active_underlying_price', \n",
    "                     'implied_volatility', 'delta', 'gamma', 'theta', 'close',\n",
    "                     'vega', 'rho', 'open_interest', 'risk_free_rate', 'time_to_expiration', 'bid_ask_spread']\n",
    "scaler = StandardScaler()\n",
    "df_train_calls[numerical_columns] = scaler.fit_transform(df_train_calls[numerical_columns])\n",
    "df_test_calls[numerical_columns] = scaler.transform(df_test_calls[numerical_columns])"
   ]
  },
  {
   "cell_type": "markdown",
   "metadata": {},
   "source": [
    "## 2.1 Stage 1 Model (Binary Classifier)"
   ]
  },
  {
   "cell_type": "markdown",
   "metadata": {},
   "source": [
    "The followering hyper parameters were determined in [Section 4.1.1](#411-hyperparam-tuning-binary-classifier) of hyperparameter tuning.\n",
    "- Hidden Layer No. of Neurons: 56\n",
    "- Model Learning Rate: 0.001\n",
    "- Epochs: 20\n",
    "- Batch Size: 32"
   ]
  },
  {
   "cell_type": "code",
   "execution_count": 134,
   "metadata": {},
   "outputs": [
    {
     "data": {
      "text/html": [
       "<pre style=\"white-space:pre;overflow-x:auto;line-height:normal;font-family:Menlo,'DejaVu Sans Mono',consolas,'Courier New',monospace\"><span style=\"font-weight: bold\">Model: \"sequential_136\"</span>\n",
       "</pre>\n"
      ],
      "text/plain": [
       "\u001b[1mModel: \"sequential_136\"\u001b[0m\n"
      ]
     },
     "metadata": {},
     "output_type": "display_data"
    },
    {
     "data": {
      "text/html": [
       "<pre style=\"white-space:pre;overflow-x:auto;line-height:normal;font-family:Menlo,'DejaVu Sans Mono',consolas,'Courier New',monospace\">┏━━━━━━━━━━━━━━━━━━━━━━━━━━━━━━━━━┳━━━━━━━━━━━━━━━━━━━━━━━━┳━━━━━━━━━━━━━━━┓\n",
       "┃<span style=\"font-weight: bold\"> Layer (type)                    </span>┃<span style=\"font-weight: bold\"> Output Shape           </span>┃<span style=\"font-weight: bold\">       Param # </span>┃\n",
       "┡━━━━━━━━━━━━━━━━━━━━━━━━━━━━━━━━━╇━━━━━━━━━━━━━━━━━━━━━━━━╇━━━━━━━━━━━━━━━┩\n",
       "│ dense_340 (<span style=\"color: #0087ff; text-decoration-color: #0087ff\">Dense</span>)               │ (<span style=\"color: #00d7ff; text-decoration-color: #00d7ff\">None</span>, <span style=\"color: #00af00; text-decoration-color: #00af00\">56</span>)             │           <span style=\"color: #00af00; text-decoration-color: #00af00\">840</span> │\n",
       "├─────────────────────────────────┼────────────────────────┼───────────────┤\n",
       "│ leaky_re_lu_204 (<span style=\"color: #0087ff; text-decoration-color: #0087ff\">LeakyReLU</span>)     │ (<span style=\"color: #00d7ff; text-decoration-color: #00d7ff\">None</span>, <span style=\"color: #00af00; text-decoration-color: #00af00\">56</span>)             │             <span style=\"color: #00af00; text-decoration-color: #00af00\">0</span> │\n",
       "├─────────────────────────────────┼────────────────────────┼───────────────┤\n",
       "│ dense_341 (<span style=\"color: #0087ff; text-decoration-color: #0087ff\">Dense</span>)               │ (<span style=\"color: #00d7ff; text-decoration-color: #00d7ff\">None</span>, <span style=\"color: #00af00; text-decoration-color: #00af00\">1</span>)              │            <span style=\"color: #00af00; text-decoration-color: #00af00\">57</span> │\n",
       "└─────────────────────────────────┴────────────────────────┴───────────────┘\n",
       "</pre>\n"
      ],
      "text/plain": [
       "┏━━━━━━━━━━━━━━━━━━━━━━━━━━━━━━━━━┳━━━━━━━━━━━━━━━━━━━━━━━━┳━━━━━━━━━━━━━━━┓\n",
       "┃\u001b[1m \u001b[0m\u001b[1mLayer (type)                   \u001b[0m\u001b[1m \u001b[0m┃\u001b[1m \u001b[0m\u001b[1mOutput Shape          \u001b[0m\u001b[1m \u001b[0m┃\u001b[1m \u001b[0m\u001b[1m      Param #\u001b[0m\u001b[1m \u001b[0m┃\n",
       "┡━━━━━━━━━━━━━━━━━━━━━━━━━━━━━━━━━╇━━━━━━━━━━━━━━━━━━━━━━━━╇━━━━━━━━━━━━━━━┩\n",
       "│ dense_340 (\u001b[38;5;33mDense\u001b[0m)               │ (\u001b[38;5;45mNone\u001b[0m, \u001b[38;5;34m56\u001b[0m)             │           \u001b[38;5;34m840\u001b[0m │\n",
       "├─────────────────────────────────┼────────────────────────┼───────────────┤\n",
       "│ leaky_re_lu_204 (\u001b[38;5;33mLeakyReLU\u001b[0m)     │ (\u001b[38;5;45mNone\u001b[0m, \u001b[38;5;34m56\u001b[0m)             │             \u001b[38;5;34m0\u001b[0m │\n",
       "├─────────────────────────────────┼────────────────────────┼───────────────┤\n",
       "│ dense_341 (\u001b[38;5;33mDense\u001b[0m)               │ (\u001b[38;5;45mNone\u001b[0m, \u001b[38;5;34m1\u001b[0m)              │            \u001b[38;5;34m57\u001b[0m │\n",
       "└─────────────────────────────────┴────────────────────────┴───────────────┘\n"
      ]
     },
     "metadata": {},
     "output_type": "display_data"
    },
    {
     "data": {
      "text/html": [
       "<pre style=\"white-space:pre;overflow-x:auto;line-height:normal;font-family:Menlo,'DejaVu Sans Mono',consolas,'Courier New',monospace\"><span style=\"font-weight: bold\"> Total params: </span><span style=\"color: #00af00; text-decoration-color: #00af00\">897</span> (3.50 KB)\n",
       "</pre>\n"
      ],
      "text/plain": [
       "\u001b[1m Total params: \u001b[0m\u001b[38;5;34m897\u001b[0m (3.50 KB)\n"
      ]
     },
     "metadata": {},
     "output_type": "display_data"
    },
    {
     "data": {
      "text/html": [
       "<pre style=\"white-space:pre;overflow-x:auto;line-height:normal;font-family:Menlo,'DejaVu Sans Mono',consolas,'Courier New',monospace\"><span style=\"font-weight: bold\"> Trainable params: </span><span style=\"color: #00af00; text-decoration-color: #00af00\">897</span> (3.50 KB)\n",
       "</pre>\n"
      ],
      "text/plain": [
       "\u001b[1m Trainable params: \u001b[0m\u001b[38;5;34m897\u001b[0m (3.50 KB)\n"
      ]
     },
     "metadata": {},
     "output_type": "display_data"
    },
    {
     "data": {
      "text/html": [
       "<pre style=\"white-space:pre;overflow-x:auto;line-height:normal;font-family:Menlo,'DejaVu Sans Mono',consolas,'Courier New',monospace\"><span style=\"font-weight: bold\"> Non-trainable params: </span><span style=\"color: #00af00; text-decoration-color: #00af00\">0</span> (0.00 B)\n",
       "</pre>\n"
      ],
      "text/plain": [
       "\u001b[1m Non-trainable params: \u001b[0m\u001b[38;5;34m0\u001b[0m (0.00 B)\n"
      ]
     },
     "metadata": {},
     "output_type": "display_data"
    }
   ],
   "source": [
    "from tensorflow.keras.models import Sequential\n",
    "from tensorflow.keras.layers import Input, Dense, LeakyReLU\n",
    "from tensorflow.keras.optimizers import Adam\n",
    "\n",
    "# Define the binary classifier model\n",
    "binary_classifier_calls = Sequential()\n",
    "\n",
    "# Input layer with 14 neurons for 14 features\n",
    "binary_classifier_calls.add(Input(shape=(14,)))\n",
    "\n",
    "# Hidden layer with 56 neurons\n",
    "binary_classifier_calls.add(Dense(units=56))\n",
    "binary_classifier_calls.add(LeakyReLU(negative_slope=0.01))         # Leaky ReLU activation\n",
    "\n",
    "# Output layer with 1 neuron and sigmoid activation for binary classification\n",
    "binary_classifier_calls.add(Dense(1, activation='sigmoid'))\n",
    "\n",
    "# Compile the model with binary cross-entropy loss and Adam optimizer\n",
    "binary_classifier_calls.compile(optimizer=Adam(learning_rate=0.001), loss='binary_crossentropy', metrics=['accuracy'])\n",
    "\n",
    "# Summary of the model architecture\n",
    "binary_classifier_calls.summary()\n"
   ]
  },
  {
   "cell_type": "code",
   "execution_count": 135,
   "metadata": {},
   "outputs": [],
   "source": [
    "# Separate features and target for training\n",
    "X_train = df_train_calls.drop(columns=['option_price', 'is_buy'])  # Drop 'close' and 'is_buy' from features\n",
    "y_train = df_train_calls['is_buy']  # Target for binary classification"
   ]
  },
  {
   "cell_type": "code",
   "execution_count": 136,
   "metadata": {},
   "outputs": [
    {
     "name": "stdout",
     "output_type": "stream",
     "text": [
      "Epoch 1/20\n",
      "\u001b[1m7205/7205\u001b[0m \u001b[32m━━━━━━━━━━━━━━━━━━━━\u001b[0m\u001b[37m\u001b[0m \u001b[1m2s\u001b[0m 268us/step - accuracy: 0.9635 - loss: 0.1019 - val_accuracy: 0.9943 - val_loss: 0.0190\n",
      "Epoch 2/20\n",
      "\u001b[1m7205/7205\u001b[0m \u001b[32m━━━━━━━━━━━━━━━━━━━━\u001b[0m\u001b[37m\u001b[0m \u001b[1m2s\u001b[0m 258us/step - accuracy: 0.9934 - loss: 0.0203 - val_accuracy: 0.9964 - val_loss: 0.0155\n",
      "Epoch 3/20\n",
      "\u001b[1m7205/7205\u001b[0m \u001b[32m━━━━━━━━━━━━━━━━━━━━\u001b[0m\u001b[37m\u001b[0m \u001b[1m2s\u001b[0m 251us/step - accuracy: 0.9950 - loss: 0.0150 - val_accuracy: 0.9964 - val_loss: 0.0110\n",
      "Epoch 4/20\n",
      "\u001b[1m7205/7205\u001b[0m \u001b[32m━━━━━━━━━━━━━━━━━━━━\u001b[0m\u001b[37m\u001b[0m \u001b[1m2s\u001b[0m 247us/step - accuracy: 0.9955 - loss: 0.0133 - val_accuracy: 0.9962 - val_loss: 0.0101\n",
      "Epoch 5/20\n",
      "\u001b[1m7205/7205\u001b[0m \u001b[32m━━━━━━━━━━━━━━━━━━━━\u001b[0m\u001b[37m\u001b[0m \u001b[1m2s\u001b[0m 248us/step - accuracy: 0.9964 - loss: 0.0115 - val_accuracy: 0.9975 - val_loss: 0.0086\n",
      "Epoch 6/20\n",
      "\u001b[1m7205/7205\u001b[0m \u001b[32m━━━━━━━━━━━━━━━━━━━━\u001b[0m\u001b[37m\u001b[0m \u001b[1m2s\u001b[0m 247us/step - accuracy: 0.9970 - loss: 0.0097 - val_accuracy: 0.9969 - val_loss: 0.0080\n",
      "Epoch 7/20\n",
      "\u001b[1m7205/7205\u001b[0m \u001b[32m━━━━━━━━━━━━━━━━━━━━\u001b[0m\u001b[37m\u001b[0m \u001b[1m2s\u001b[0m 252us/step - accuracy: 0.9968 - loss: 0.0098 - val_accuracy: 0.9973 - val_loss: 0.0075\n",
      "Epoch 8/20\n",
      "\u001b[1m7205/7205\u001b[0m \u001b[32m━━━━━━━━━━━━━━━━━━━━\u001b[0m\u001b[37m\u001b[0m \u001b[1m2s\u001b[0m 248us/step - accuracy: 0.9972 - loss: 0.0089 - val_accuracy: 0.9971 - val_loss: 0.0079\n",
      "Epoch 9/20\n",
      "\u001b[1m7205/7205\u001b[0m \u001b[32m━━━━━━━━━━━━━━━━━━━━\u001b[0m\u001b[37m\u001b[0m \u001b[1m2s\u001b[0m 246us/step - accuracy: 0.9974 - loss: 0.0083 - val_accuracy: 0.9973 - val_loss: 0.0074\n",
      "Epoch 10/20\n",
      "\u001b[1m7205/7205\u001b[0m \u001b[32m━━━━━━━━━━━━━━━━━━━━\u001b[0m\u001b[37m\u001b[0m \u001b[1m2s\u001b[0m 244us/step - accuracy: 0.9978 - loss: 0.0074 - val_accuracy: 0.9985 - val_loss: 0.0072\n",
      "Epoch 11/20\n",
      "\u001b[1m7205/7205\u001b[0m \u001b[32m━━━━━━━━━━━━━━━━━━━━\u001b[0m\u001b[37m\u001b[0m \u001b[1m2s\u001b[0m 247us/step - accuracy: 0.9978 - loss: 0.0071 - val_accuracy: 0.9986 - val_loss: 0.0064\n",
      "Epoch 12/20\n",
      "\u001b[1m7205/7205\u001b[0m \u001b[32m━━━━━━━━━━━━━━━━━━━━\u001b[0m\u001b[37m\u001b[0m \u001b[1m2s\u001b[0m 251us/step - accuracy: 0.9978 - loss: 0.0074 - val_accuracy: 0.9984 - val_loss: 0.0057\n",
      "Epoch 13/20\n",
      "\u001b[1m7205/7205\u001b[0m \u001b[32m━━━━━━━━━━━━━━━━━━━━\u001b[0m\u001b[37m\u001b[0m \u001b[1m2s\u001b[0m 245us/step - accuracy: 0.9980 - loss: 0.0066 - val_accuracy: 0.9983 - val_loss: 0.0050\n",
      "Epoch 14/20\n",
      "\u001b[1m7205/7205\u001b[0m \u001b[32m━━━━━━━━━━━━━━━━━━━━\u001b[0m\u001b[37m\u001b[0m \u001b[1m2s\u001b[0m 245us/step - accuracy: 0.9980 - loss: 0.0061 - val_accuracy: 0.9989 - val_loss: 0.0058\n",
      "Epoch 15/20\n",
      "\u001b[1m7205/7205\u001b[0m \u001b[32m━━━━━━━━━━━━━━━━━━━━\u001b[0m\u001b[37m\u001b[0m \u001b[1m2s\u001b[0m 245us/step - accuracy: 0.9981 - loss: 0.0063 - val_accuracy: 0.9983 - val_loss: 0.0100\n",
      "Epoch 16/20\n",
      "\u001b[1m7205/7205\u001b[0m \u001b[32m━━━━━━━━━━━━━━━━━━━━\u001b[0m\u001b[37m\u001b[0m \u001b[1m2s\u001b[0m 244us/step - accuracy: 0.9982 - loss: 0.0059 - val_accuracy: 0.9985 - val_loss: 0.0053\n",
      "Epoch 17/20\n",
      "\u001b[1m7205/7205\u001b[0m \u001b[32m━━━━━━━━━━━━━━━━━━━━\u001b[0m\u001b[37m\u001b[0m \u001b[1m2s\u001b[0m 253us/step - accuracy: 0.9982 - loss: 0.0060 - val_accuracy: 0.9983 - val_loss: 0.0047\n",
      "Epoch 18/20\n",
      "\u001b[1m7205/7205\u001b[0m \u001b[32m━━━━━━━━━━━━━━━━━━━━\u001b[0m\u001b[37m\u001b[0m \u001b[1m2s\u001b[0m 243us/step - accuracy: 0.9981 - loss: 0.0063 - val_accuracy: 0.9979 - val_loss: 0.0072\n",
      "Epoch 19/20\n",
      "\u001b[1m7205/7205\u001b[0m \u001b[32m━━━━━━━━━━━━━━━━━━━━\u001b[0m\u001b[37m\u001b[0m \u001b[1m2s\u001b[0m 245us/step - accuracy: 0.9983 - loss: 0.0053 - val_accuracy: 0.9981 - val_loss: 0.0059\n",
      "Epoch 20/20\n",
      "\u001b[1m7205/7205\u001b[0m \u001b[32m━━━━━━━━━━━━━━━━━━━━\u001b[0m\u001b[37m\u001b[0m \u001b[1m2s\u001b[0m 244us/step - accuracy: 0.9983 - loss: 0.0055 - val_accuracy: 0.9987 - val_loss: 0.0040\n"
     ]
    }
   ],
   "source": [
    "# Training the binary classifier\n",
    "history = binary_classifier_calls.fit(X_train, y_train, epochs=20, batch_size=32, validation_split=0.2)\n"
   ]
  },
  {
   "cell_type": "code",
   "execution_count": 137,
   "metadata": {},
   "outputs": [],
   "source": [
    "import matplotlib.pyplot as plt"
   ]
  },
  {
   "cell_type": "code",
   "execution_count": 138,
   "metadata": {},
   "outputs": [
    {
     "data": {
      "image/png": "[encoded data removed]",
      "text/plain": [
       "<Figure size 1000x600 with 1 Axes>"
      ]
     },
     "metadata": {},
     "output_type": "display_data"
    }
   ],
   "source": [
    "# Extracting training and validation loss from the history object\n",
    "train_loss = history.history['loss']\n",
    "val_loss = history.history['val_loss']\n",
    "\n",
    "# Plotting the losses per epoch\n",
    "plt.figure(figsize=(10, 6))\n",
    "plt.plot(train_loss, label='Training Loss')\n",
    "plt.plot(val_loss, label='Validation Loss')\n",
    "plt.xlabel('Epochs')\n",
    "plt.ylabel('Loss')\n",
    "plt.title('Training and Validation Loss per Epoch')\n",
    "plt.legend()\n",
    "plt.show()"
   ]
  },
  {
   "cell_type": "code",
   "execution_count": 139,
   "metadata": {},
   "outputs": [
    {
     "name": "stdout",
     "output_type": "stream",
     "text": [
      "\u001b[1m9007/9007\u001b[0m \u001b[32m━━━━━━━━━━━━━━━━━━━━\u001b[0m\u001b[37m\u001b[0m \u001b[1m2s\u001b[0m 165us/step\n"
     ]
    }
   ],
   "source": [
    "# Separate features and target for the price prediction model\n",
    "X_train_calls = df_train_calls.drop(columns=['is_buy','option_price'])  # Features for price prediction\n",
    "y_train_price_full = df_train_calls['option_price']  # Target price\n",
    "\n",
    "# Generate the 'purchasable' predictions using the classifier\n",
    "purchasable_mask = binary_classifier_calls.predict(X_train_calls) >= 1  # Prediction mask for purchasable options\n",
    "\n",
    "# Filter rows for the price prediction model based on the 'purchasable' mask\n",
    "X_train_price = X_train_calls[purchasable_mask.flatten()]  # Only rows classified as purchasable\n",
    "y_train_price = y_train_price_full[purchasable_mask.flatten()]  # Corresponding target prices for purchasable options"
   ]
  },
  {
   "cell_type": "markdown",
   "metadata": {},
   "source": [
    "## 2.2 Stage 2 Model (Price Prediction)"
   ]
  },
  {
   "cell_type": "markdown",
   "metadata": {},
   "source": [
    "The followering hyper parameters were determined in [Section 4.1.2](#412-hyperparam-tuning-price-prediction) of hyperparameter tuning.\n",
    "- Hidden Layer 1 No. of Neurons: 56\n",
    "- Hidden Layer 2 No. of Neurons: 28\n",
    "- Model Learning Rate: 0.001\n",
    "- Epochs: 30\n",
    "- Batch Size: 32"
   ]
  },
  {
   "cell_type": "code",
   "execution_count": 140,
   "metadata": {},
   "outputs": [
    {
     "data": {
      "text/html": [
       "<pre style=\"white-space:pre;overflow-x:auto;line-height:normal;font-family:Menlo,'DejaVu Sans Mono',consolas,'Courier New',monospace\"><span style=\"font-weight: bold\">Model: \"sequential_137\"</span>\n",
       "</pre>\n"
      ],
      "text/plain": [
       "\u001b[1mModel: \"sequential_137\"\u001b[0m\n"
      ]
     },
     "metadata": {},
     "output_type": "display_data"
    },
    {
     "data": {
      "text/html": [
       "<pre style=\"white-space:pre;overflow-x:auto;line-height:normal;font-family:Menlo,'DejaVu Sans Mono',consolas,'Courier New',monospace\">┏━━━━━━━━━━━━━━━━━━━━━━━━━━━━━━━━━┳━━━━━━━━━━━━━━━━━━━━━━━━┳━━━━━━━━━━━━━━━┓\n",
       "┃<span style=\"font-weight: bold\"> Layer (type)                    </span>┃<span style=\"font-weight: bold\"> Output Shape           </span>┃<span style=\"font-weight: bold\">       Param # </span>┃\n",
       "┡━━━━━━━━━━━━━━━━━━━━━━━━━━━━━━━━━╇━━━━━━━━━━━━━━━━━━━━━━━━╇━━━━━━━━━━━━━━━┩\n",
       "│ dense_342 (<span style=\"color: #0087ff; text-decoration-color: #0087ff\">Dense</span>)               │ (<span style=\"color: #00d7ff; text-decoration-color: #00d7ff\">None</span>, <span style=\"color: #00af00; text-decoration-color: #00af00\">56</span>)             │           <span style=\"color: #00af00; text-decoration-color: #00af00\">840</span> │\n",
       "├─────────────────────────────────┼────────────────────────┼───────────────┤\n",
       "│ leaky_re_lu_205 (<span style=\"color: #0087ff; text-decoration-color: #0087ff\">LeakyReLU</span>)     │ (<span style=\"color: #00d7ff; text-decoration-color: #00d7ff\">None</span>, <span style=\"color: #00af00; text-decoration-color: #00af00\">56</span>)             │             <span style=\"color: #00af00; text-decoration-color: #00af00\">0</span> │\n",
       "├─────────────────────────────────┼────────────────────────┼───────────────┤\n",
       "│ dense_343 (<span style=\"color: #0087ff; text-decoration-color: #0087ff\">Dense</span>)               │ (<span style=\"color: #00d7ff; text-decoration-color: #00d7ff\">None</span>, <span style=\"color: #00af00; text-decoration-color: #00af00\">28</span>)             │         <span style=\"color: #00af00; text-decoration-color: #00af00\">1,596</span> │\n",
       "├─────────────────────────────────┼────────────────────────┼───────────────┤\n",
       "│ leaky_re_lu_206 (<span style=\"color: #0087ff; text-decoration-color: #0087ff\">LeakyReLU</span>)     │ (<span style=\"color: #00d7ff; text-decoration-color: #00d7ff\">None</span>, <span style=\"color: #00af00; text-decoration-color: #00af00\">28</span>)             │             <span style=\"color: #00af00; text-decoration-color: #00af00\">0</span> │\n",
       "├─────────────────────────────────┼────────────────────────┼───────────────┤\n",
       "│ dense_344 (<span style=\"color: #0087ff; text-decoration-color: #0087ff\">Dense</span>)               │ (<span style=\"color: #00d7ff; text-decoration-color: #00d7ff\">None</span>, <span style=\"color: #00af00; text-decoration-color: #00af00\">1</span>)              │            <span style=\"color: #00af00; text-decoration-color: #00af00\">29</span> │\n",
       "└─────────────────────────────────┴────────────────────────┴───────────────┘\n",
       "</pre>\n"
      ],
      "text/plain": [
       "┏━━━━━━━━━━━━━━━━━━━━━━━━━━━━━━━━━┳━━━━━━━━━━━━━━━━━━━━━━━━┳━━━━━━━━━━━━━━━┓\n",
       "┃\u001b[1m \u001b[0m\u001b[1mLayer (type)                   \u001b[0m\u001b[1m \u001b[0m┃\u001b[1m \u001b[0m\u001b[1mOutput Shape          \u001b[0m\u001b[1m \u001b[0m┃\u001b[1m \u001b[0m\u001b[1m      Param #\u001b[0m\u001b[1m \u001b[0m┃\n",
       "┡━━━━━━━━━━━━━━━━━━━━━━━━━━━━━━━━━╇━━━━━━━━━━━━━━━━━━━━━━━━╇━━━━━━━━━━━━━━━┩\n",
       "│ dense_342 (\u001b[38;5;33mDense\u001b[0m)               │ (\u001b[38;5;45mNone\u001b[0m, \u001b[38;5;34m56\u001b[0m)             │           \u001b[38;5;34m840\u001b[0m │\n",
       "├─────────────────────────────────┼────────────────────────┼───────────────┤\n",
       "│ leaky_re_lu_205 (\u001b[38;5;33mLeakyReLU\u001b[0m)     │ (\u001b[38;5;45mNone\u001b[0m, \u001b[38;5;34m56\u001b[0m)             │             \u001b[38;5;34m0\u001b[0m │\n",
       "├─────────────────────────────────┼────────────────────────┼───────────────┤\n",
       "│ dense_343 (\u001b[38;5;33mDense\u001b[0m)               │ (\u001b[38;5;45mNone\u001b[0m, \u001b[38;5;34m28\u001b[0m)             │         \u001b[38;5;34m1,596\u001b[0m │\n",
       "├─────────────────────────────────┼────────────────────────┼───────────────┤\n",
       "│ leaky_re_lu_206 (\u001b[38;5;33mLeakyReLU\u001b[0m)     │ (\u001b[38;5;45mNone\u001b[0m, \u001b[38;5;34m28\u001b[0m)             │             \u001b[38;5;34m0\u001b[0m │\n",
       "├─────────────────────────────────┼────────────────────────┼───────────────┤\n",
       "│ dense_344 (\u001b[38;5;33mDense\u001b[0m)               │ (\u001b[38;5;45mNone\u001b[0m, \u001b[38;5;34m1\u001b[0m)              │            \u001b[38;5;34m29\u001b[0m │\n",
       "└─────────────────────────────────┴────────────────────────┴───────────────┘\n"
      ]
     },
     "metadata": {},
     "output_type": "display_data"
    },
    {
     "data": {
      "text/html": [
       "<pre style=\"white-space:pre;overflow-x:auto;line-height:normal;font-family:Menlo,'DejaVu Sans Mono',consolas,'Courier New',monospace\"><span style=\"font-weight: bold\"> Total params: </span><span style=\"color: #00af00; text-decoration-color: #00af00\">2,465</span> (9.63 KB)\n",
       "</pre>\n"
      ],
      "text/plain": [
       "\u001b[1m Total params: \u001b[0m\u001b[38;5;34m2,465\u001b[0m (9.63 KB)\n"
      ]
     },
     "metadata": {},
     "output_type": "display_data"
    },
    {
     "data": {
      "text/html": [
       "<pre style=\"white-space:pre;overflow-x:auto;line-height:normal;font-family:Menlo,'DejaVu Sans Mono',consolas,'Courier New',monospace\"><span style=\"font-weight: bold\"> Trainable params: </span><span style=\"color: #00af00; text-decoration-color: #00af00\">2,465</span> (9.63 KB)\n",
       "</pre>\n"
      ],
      "text/plain": [
       "\u001b[1m Trainable params: \u001b[0m\u001b[38;5;34m2,465\u001b[0m (9.63 KB)\n"
      ]
     },
     "metadata": {},
     "output_type": "display_data"
    },
    {
     "data": {
      "text/html": [
       "<pre style=\"white-space:pre;overflow-x:auto;line-height:normal;font-family:Menlo,'DejaVu Sans Mono',consolas,'Courier New',monospace\"><span style=\"font-weight: bold\"> Non-trainable params: </span><span style=\"color: #00af00; text-decoration-color: #00af00\">0</span> (0.00 B)\n",
       "</pre>\n"
      ],
      "text/plain": [
       "\u001b[1m Non-trainable params: \u001b[0m\u001b[38;5;34m0\u001b[0m (0.00 B)\n"
      ]
     },
     "metadata": {},
     "output_type": "display_data"
    }
   ],
   "source": [
    "# Define the price prediction model\n",
    "price_prediction_model_calls = Sequential()\n",
    "\n",
    "# Input layer with 14 neurons\n",
    "price_prediction_model_calls.add(Input(shape=(14,))) \n",
    "\n",
    "# First hidden layer with 56 neurons\n",
    "price_prediction_model_calls.add(Dense(units=56))  \n",
    "price_prediction_model_calls.add(LeakyReLU(negative_slope=0.01))               # Leaky ReLU activation\n",
    "\n",
    "# Second hidden layer with 28 neurons and Leaky ReLU activation\n",
    "price_prediction_model_calls.add(Dense(units=28))\n",
    "price_prediction_model_calls.add(LeakyReLU(negative_slope=0.01))\n",
    "\n",
    "# Output layer with 1 neuron (no activation for regression)\n",
    "price_prediction_model_calls.add(Dense(units=1))\n",
    "\n",
    "# Compile the model with Mean Squared Error (MSE) as the loss function for regression\n",
    "price_prediction_model_calls.compile(optimizer=Adam(learning_rate=0.001), loss='mse')\n",
    "\n",
    "# Summary of the model architecture\n",
    "price_prediction_model_calls.summary()\n"
   ]
  },
  {
   "cell_type": "code",
   "execution_count": 141,
   "metadata": {},
   "outputs": [
    {
     "name": "stdout",
     "output_type": "stream",
     "text": [
      "Epoch 1/30\n",
      "\u001b[1m718/718\u001b[0m \u001b[32m━━━━━━━━━━━━━━━━━━━━\u001b[0m\u001b[37m\u001b[0m \u001b[1m1s\u001b[0m 351us/step - loss: 52468.1680 - val_loss: 881.6105\n",
      "Epoch 2/30\n",
      "\u001b[1m718/718\u001b[0m \u001b[32m━━━━━━━━━━━━━━━━━━━━\u001b[0m\u001b[37m\u001b[0m \u001b[1m0s\u001b[0m 266us/step - loss: 288.4718 - val_loss: 98.8142\n",
      "Epoch 3/30\n",
      "\u001b[1m718/718\u001b[0m \u001b[32m━━━━━━━━━━━━━━━━━━━━\u001b[0m\u001b[37m\u001b[0m \u001b[1m0s\u001b[0m 264us/step - loss: 47.9892 - val_loss: 55.4875\n",
      "Epoch 4/30\n",
      "\u001b[1m718/718\u001b[0m \u001b[32m━━━━━━━━━━━━━━━━━━━━\u001b[0m\u001b[37m\u001b[0m \u001b[1m0s\u001b[0m 265us/step - loss: 31.3841 - val_loss: 36.6341\n",
      "Epoch 5/30\n",
      "\u001b[1m718/718\u001b[0m \u001b[32m━━━━━━━━━━━━━━━━━━━━\u001b[0m\u001b[37m\u001b[0m \u001b[1m0s\u001b[0m 265us/step - loss: 24.0614 - val_loss: 31.9630\n",
      "Epoch 6/30\n",
      "\u001b[1m718/718\u001b[0m \u001b[32m━━━━━━━━━━━━━━━━━━━━\u001b[0m\u001b[37m\u001b[0m \u001b[1m0s\u001b[0m 267us/step - loss: 21.8237 - val_loss: 21.8088\n",
      "Epoch 7/30\n",
      "\u001b[1m718/718\u001b[0m \u001b[32m━━━━━━━━━━━━━━━━━━━━\u001b[0m\u001b[37m\u001b[0m \u001b[1m0s\u001b[0m 261us/step - loss: 18.8552 - val_loss: 16.1119\n",
      "Epoch 8/30\n",
      "\u001b[1m718/718\u001b[0m \u001b[32m━━━━━━━━━━━━━━━━━━━━\u001b[0m\u001b[37m\u001b[0m \u001b[1m0s\u001b[0m 263us/step - loss: 17.5775 - val_loss: 16.6244\n",
      "Epoch 9/30\n",
      "\u001b[1m718/718\u001b[0m \u001b[32m━━━━━━━━━━━━━━━━━━━━\u001b[0m\u001b[37m\u001b[0m \u001b[1m0s\u001b[0m 260us/step - loss: 17.6951 - val_loss: 14.4236\n",
      "Epoch 10/30\n",
      "\u001b[1m718/718\u001b[0m \u001b[32m━━━━━━━━━━━━━━━━━━━━\u001b[0m\u001b[37m\u001b[0m \u001b[1m0s\u001b[0m 263us/step - loss: 16.9942 - val_loss: 14.5763\n",
      "Epoch 11/30\n",
      "\u001b[1m718/718\u001b[0m \u001b[32m━━━━━━━━━━━━━━━━━━━━\u001b[0m\u001b[37m\u001b[0m \u001b[1m0s\u001b[0m 265us/step - loss: 16.9636 - val_loss: 11.0518\n",
      "Epoch 12/30\n",
      "\u001b[1m718/718\u001b[0m \u001b[32m━━━━━━━━━━━━━━━━━━━━\u001b[0m\u001b[37m\u001b[0m \u001b[1m0s\u001b[0m 260us/step - loss: 16.5757 - val_loss: 15.1178\n",
      "Epoch 13/30\n",
      "\u001b[1m718/718\u001b[0m \u001b[32m━━━━━━━━━━━━━━━━━━━━\u001b[0m\u001b[37m\u001b[0m \u001b[1m0s\u001b[0m 262us/step - loss: 20.2045 - val_loss: 11.9938\n",
      "Epoch 14/30\n",
      "\u001b[1m718/718\u001b[0m \u001b[32m━━━━━━━━━━━━━━━━━━━━\u001b[0m\u001b[37m\u001b[0m \u001b[1m0s\u001b[0m 261us/step - loss: 15.6349 - val_loss: 17.4209\n",
      "Epoch 15/30\n",
      "\u001b[1m718/718\u001b[0m \u001b[32m━━━━━━━━━━━━━━━━━━━━\u001b[0m\u001b[37m\u001b[0m \u001b[1m0s\u001b[0m 261us/step - loss: 15.9725 - val_loss: 16.4420\n",
      "Epoch 16/30\n",
      "\u001b[1m718/718\u001b[0m \u001b[32m━━━━━━━━━━━━━━━━━━━━\u001b[0m\u001b[37m\u001b[0m \u001b[1m0s\u001b[0m 262us/step - loss: 15.4749 - val_loss: 15.8953\n",
      "Epoch 17/30\n",
      "\u001b[1m718/718\u001b[0m \u001b[32m━━━━━━━━━━━━━━━━━━━━\u001b[0m\u001b[37m\u001b[0m \u001b[1m0s\u001b[0m 259us/step - loss: 15.4340 - val_loss: 12.9990\n",
      "Epoch 18/30\n",
      "\u001b[1m718/718\u001b[0m \u001b[32m━━━━━━━━━━━━━━━━━━━━\u001b[0m\u001b[37m\u001b[0m \u001b[1m0s\u001b[0m 260us/step - loss: 15.2083 - val_loss: 13.1881\n",
      "Epoch 19/30\n",
      "\u001b[1m718/718\u001b[0m \u001b[32m━━━━━━━━━━━━━━━━━━━━\u001b[0m\u001b[37m\u001b[0m \u001b[1m0s\u001b[0m 262us/step - loss: 15.0274 - val_loss: 14.7063\n",
      "Epoch 20/30\n",
      "\u001b[1m718/718\u001b[0m \u001b[32m━━━━━━━━━━━━━━━━━━━━\u001b[0m\u001b[37m\u001b[0m \u001b[1m0s\u001b[0m 262us/step - loss: 14.9626 - val_loss: 16.0597\n",
      "Epoch 21/30\n",
      "\u001b[1m718/718\u001b[0m \u001b[32m━━━━━━━━━━━━━━━━━━━━\u001b[0m\u001b[37m\u001b[0m \u001b[1m0s\u001b[0m 260us/step - loss: 14.1292 - val_loss: 11.3504\n",
      "Epoch 22/30\n",
      "\u001b[1m718/718\u001b[0m \u001b[32m━━━━━━━━━━━━━━━━━━━━\u001b[0m\u001b[37m\u001b[0m \u001b[1m0s\u001b[0m 264us/step - loss: 13.4554 - val_loss: 14.5304\n",
      "Epoch 23/30\n",
      "\u001b[1m718/718\u001b[0m \u001b[32m━━━━━━━━━━━━━━━━━━━━\u001b[0m\u001b[37m\u001b[0m \u001b[1m0s\u001b[0m 259us/step - loss: 13.1909 - val_loss: 12.1310\n",
      "Epoch 24/30\n",
      "\u001b[1m718/718\u001b[0m \u001b[32m━━━━━━━━━━━━━━━━━━━━\u001b[0m\u001b[37m\u001b[0m \u001b[1m0s\u001b[0m 263us/step - loss: 13.7353 - val_loss: 13.4559\n",
      "Epoch 25/30\n",
      "\u001b[1m718/718\u001b[0m \u001b[32m━━━━━━━━━━━━━━━━━━━━\u001b[0m\u001b[37m\u001b[0m \u001b[1m0s\u001b[0m 259us/step - loss: 14.4806 - val_loss: 11.7815\n",
      "Epoch 26/30\n",
      "\u001b[1m718/718\u001b[0m \u001b[32m━━━━━━━━━━━━━━━━━━━━\u001b[0m\u001b[37m\u001b[0m \u001b[1m0s\u001b[0m 251us/step - loss: 12.9227 - val_loss: 16.0647\n",
      "Epoch 27/30\n",
      "\u001b[1m718/718\u001b[0m \u001b[32m━━━━━━━━━━━━━━━━━━━━\u001b[0m\u001b[37m\u001b[0m \u001b[1m0s\u001b[0m 311us/step - loss: 17.2310 - val_loss: 17.9215\n",
      "Epoch 28/30\n",
      "\u001b[1m718/718\u001b[0m \u001b[32m━━━━━━━━━━━━━━━━━━━━\u001b[0m\u001b[37m\u001b[0m \u001b[1m0s\u001b[0m 258us/step - loss: 14.0714 - val_loss: 16.3666\n",
      "Epoch 29/30\n",
      "\u001b[1m718/718\u001b[0m \u001b[32m━━━━━━━━━━━━━━━━━━━━\u001b[0m\u001b[37m\u001b[0m \u001b[1m0s\u001b[0m 260us/step - loss: 13.4802 - val_loss: 18.0949\n",
      "Epoch 30/30\n",
      "\u001b[1m718/718\u001b[0m \u001b[32m━━━━━━━━━━━━━━━━━━━━\u001b[0m\u001b[37m\u001b[0m \u001b[1m0s\u001b[0m 257us/step - loss: 12.8073 - val_loss: 10.3966\n"
     ]
    }
   ],
   "source": [
    "# Train the price prediction model\n",
    "history = price_prediction_model_calls.fit(X_train_price, y_train_price, epochs=30, batch_size=32, validation_split=0.2)"
   ]
  },
  {
   "cell_type": "code",
   "execution_count": 142,
   "metadata": {},
   "outputs": [
    {
     "data": {
      "image/png": "[encoded data removed]",
      "text/plain": [
       "<Figure size 1000x600 with 1 Axes>"
      ]
     },
     "metadata": {},
     "output_type": "display_data"
    }
   ],
   "source": [
    "# Extracting training and validation loss from the history object\n",
    "train_loss = history.history['loss']\n",
    "val_loss = history.history['val_loss']\n",
    "\n",
    "# Plotting the losses per epoch\n",
    "plt.figure(figsize=(10, 6))\n",
    "plt.plot(train_loss, label='Training Loss')\n",
    "plt.plot(val_loss, label='Validation Loss')\n",
    "plt.xlabel('Epochs')\n",
    "plt.ylabel('Loss')\n",
    "plt.title('Training and Validation Loss per Epoch')\n",
    "plt.legend()\n",
    "plt.show()"
   ]
  },
  {
   "cell_type": "markdown",
   "metadata": {},
   "source": [
    "## 2.3 Testing model"
   ]
  },
  {
   "cell_type": "markdown",
   "metadata": {},
   "source": [
    "Testing is performed on a 6th day of trading not included in the training data"
   ]
  },
  {
   "cell_type": "code",
   "execution_count": 143,
   "metadata": {},
   "outputs": [],
   "source": [
    "from sklearn.metrics import accuracy_score, precision_score, recall_score, f1_score\n",
    "from sklearn.metrics import mean_squared_error, mean_absolute_error, r2_score"
   ]
  },
  {
   "cell_type": "code",
   "execution_count": 144,
   "metadata": {},
   "outputs": [],
   "source": [
    "# Features and target for binary classification model\n",
    "X_test_classification = df_test_calls.drop(columns=['option_price', 'is_buy'])  # Features for binary classification\n",
    "y_test_classification = df_test_calls['is_buy']           # Binary target for classification\n",
    "\n",
    "# Features and target for price prediction model\n",
    "X_test_price = df_test_calls.drop(columns=['is_buy', 'option_price'])  # Features for price prediction\n",
    "y_test_price_full = df_test_calls['option_price']                      # Target price for price prediction"
   ]
  },
  {
   "cell_type": "code",
   "execution_count": 145,
   "metadata": {},
   "outputs": [
    {
     "name": "stdout",
     "output_type": "stream",
     "text": [
      "\u001b[1m1769/1769\u001b[0m \u001b[32m━━━━━━━━━━━━━━━━━━━━\u001b[0m\u001b[37m\u001b[0m \u001b[1m0s\u001b[0m 164us/step\n",
      "Binary Classifier Metrics:\n",
      "Accuracy: 0.9984982862796368\n",
      "Precision: 1.0\n",
      "Recall: 0.9861247143323539\n",
      "F1-Score: 0.9930138900304101\n"
     ]
    }
   ],
   "source": [
    "y_pred_binary = (binary_classifier_calls.predict(X_test_classification).flatten() >= 0.5).astype(int)\n",
    "\n",
    "# Calculate binary classifier metrics\n",
    "binary_accuracy = accuracy_score(y_test_classification, y_pred_binary)\n",
    "binary_precision = precision_score(y_test_classification, y_pred_binary)\n",
    "binary_recall = recall_score(y_test_classification, y_pred_binary)\n",
    "binary_f1 = f1_score(y_test_classification, y_pred_binary)\n",
    "\n",
    "print(\"Binary Classifier Metrics:\")\n",
    "print(f\"Accuracy: {binary_accuracy}\")\n",
    "print(f\"Precision: {binary_precision}\")\n",
    "print(f\"Recall: {binary_recall}\")\n",
    "print(f\"F1-Score: {binary_f1}\")\n"
   ]
  },
  {
   "cell_type": "code",
   "execution_count": 146,
   "metadata": {},
   "outputs": [],
   "source": [
    "# Step 2: Filter Data for Stage 2 Price Prediction\n",
    "purchasable_mask = (y_pred_binary == 1)  # Mask for options classified as \"purchasable\"\n",
    "\n",
    "# Apply the mask to get features and target for price prediction\n",
    "X_test_price_purchasable = X_test_price[purchasable_mask]\n",
    "y_test_price = y_test_price_full[purchasable_mask]"
   ]
  },
  {
   "cell_type": "code",
   "execution_count": 147,
   "metadata": {},
   "outputs": [
    {
     "name": "stdout",
     "output_type": "stream",
     "text": [
      "\u001b[1m189/189\u001b[0m \u001b[32m━━━━━━━━━━━━━━━━━━━━\u001b[0m\u001b[37m\u001b[0m \u001b[1m0s\u001b[0m 232us/step\n",
      "\n",
      "Price Prediction Model Metrics:\n",
      "Mean Squared Error: 13.875311079949062\n",
      "Root Mean Squared Error: 3.7249578628420834\n",
      "Mean Absolute Error: 2.1343401358629213\n",
      "R-squared: 0.9996872496471988\n"
     ]
    }
   ],
   "source": [
    "# Step 3: Run Stage 2 Price Prediction\n",
    "if len(X_test_price_purchasable) > 0:\n",
    "    y_pred_price = price_prediction_model_calls.predict(X_test_price_purchasable)\n",
    "\n",
    "    # Calculate regression metrics\n",
    "    mse = mean_squared_error(y_test_price, y_pred_price)\n",
    "    rmse = np.sqrt(mse)\n",
    "    mae = mean_absolute_error(y_test_price, y_pred_price)\n",
    "    r2 = r2_score(y_test_price, y_pred_price)\n",
    "\n",
    "    print(\"\\nPrice Prediction Model Metrics:\")\n",
    "    print(f\"Mean Squared Error: {mse}\")\n",
    "    print(f\"Root Mean Squared Error: {rmse}\")\n",
    "    print(f\"Mean Absolute Error: {mae}\")\n",
    "    print(f\"R-squared: {r2}\")\n",
    "else:\n",
    "    print(\"\\nNo 'purchasable' options found for price prediction in the 6th day test set.\")"
   ]
  },
  {
   "cell_type": "markdown",
   "metadata": {},
   "source": [
    "# 3. Model for Puts ONLY"
   ]
  },
  {
   "cell_type": "code",
   "execution_count": 148,
   "metadata": {},
   "outputs": [],
   "source": [
    "# Scaling\n",
    "numerical_columns = ['strike', 'close', 'trade_volume', 'active_underlying_price', \n",
    "                     'implied_volatility', 'delta', 'gamma', 'theta', \n",
    "                     'vega', 'rho', 'open_interest', 'risk_free_rate', 'time_to_expiration', 'bid_ask_spread']\n",
    "scaler = StandardScaler()\n",
    "df_train_puts[numerical_columns] = scaler.fit_transform(df_train_puts[numerical_columns])\n",
    "df_test_puts[numerical_columns] = scaler.transform(df_test_puts[numerical_columns])"
   ]
  },
  {
   "cell_type": "markdown",
   "metadata": {},
   "source": [
    "## 3.1 Stage 1 Model (Binary Classifier)"
   ]
  },
  {
   "cell_type": "markdown",
   "metadata": {},
   "source": [
    "The followering hyper parameters were determined in [Section 4.2.1](#421-hyperparam-tuning-binary-classifier) of hyperparameter tuning.\n",
    "- Hidden Layer No. of Neurons: 56\n",
    "- Model Learning Rate: 0.001\n",
    "- Epochs: 20\n",
    "- Batch Size: 32"
   ]
  },
  {
   "cell_type": "code",
   "execution_count": 149,
   "metadata": {},
   "outputs": [
    {
     "data": {
      "text/html": [
       "<pre style=\"white-space:pre;overflow-x:auto;line-height:normal;font-family:Menlo,'DejaVu Sans Mono',consolas,'Courier New',monospace\"><span style=\"font-weight: bold\">Model: \"sequential_138\"</span>\n",
       "</pre>\n"
      ],
      "text/plain": [
       "\u001b[1mModel: \"sequential_138\"\u001b[0m\n"
      ]
     },
     "metadata": {},
     "output_type": "display_data"
    },
    {
     "data": {
      "text/html": [
       "<pre style=\"white-space:pre;overflow-x:auto;line-height:normal;font-family:Menlo,'DejaVu Sans Mono',consolas,'Courier New',monospace\">┏━━━━━━━━━━━━━━━━━━━━━━━━━━━━━━━━━┳━━━━━━━━━━━━━━━━━━━━━━━━┳━━━━━━━━━━━━━━━┓\n",
       "┃<span style=\"font-weight: bold\"> Layer (type)                    </span>┃<span style=\"font-weight: bold\"> Output Shape           </span>┃<span style=\"font-weight: bold\">       Param # </span>┃\n",
       "┡━━━━━━━━━━━━━━━━━━━━━━━━━━━━━━━━━╇━━━━━━━━━━━━━━━━━━━━━━━━╇━━━━━━━━━━━━━━━┩\n",
       "│ dense_345 (<span style=\"color: #0087ff; text-decoration-color: #0087ff\">Dense</span>)               │ (<span style=\"color: #00d7ff; text-decoration-color: #00d7ff\">None</span>, <span style=\"color: #00af00; text-decoration-color: #00af00\">56</span>)             │           <span style=\"color: #00af00; text-decoration-color: #00af00\">840</span> │\n",
       "├─────────────────────────────────┼────────────────────────┼───────────────┤\n",
       "│ leaky_re_lu_207 (<span style=\"color: #0087ff; text-decoration-color: #0087ff\">LeakyReLU</span>)     │ (<span style=\"color: #00d7ff; text-decoration-color: #00d7ff\">None</span>, <span style=\"color: #00af00; text-decoration-color: #00af00\">56</span>)             │             <span style=\"color: #00af00; text-decoration-color: #00af00\">0</span> │\n",
       "├─────────────────────────────────┼────────────────────────┼───────────────┤\n",
       "│ dense_346 (<span style=\"color: #0087ff; text-decoration-color: #0087ff\">Dense</span>)               │ (<span style=\"color: #00d7ff; text-decoration-color: #00d7ff\">None</span>, <span style=\"color: #00af00; text-decoration-color: #00af00\">1</span>)              │            <span style=\"color: #00af00; text-decoration-color: #00af00\">57</span> │\n",
       "└─────────────────────────────────┴────────────────────────┴───────────────┘\n",
       "</pre>\n"
      ],
      "text/plain": [
       "┏━━━━━━━━━━━━━━━━━━━━━━━━━━━━━━━━━┳━━━━━━━━━━━━━━━━━━━━━━━━┳━━━━━━━━━━━━━━━┓\n",
       "┃\u001b[1m \u001b[0m\u001b[1mLayer (type)                   \u001b[0m\u001b[1m \u001b[0m┃\u001b[1m \u001b[0m\u001b[1mOutput Shape          \u001b[0m\u001b[1m \u001b[0m┃\u001b[1m \u001b[0m\u001b[1m      Param #\u001b[0m\u001b[1m \u001b[0m┃\n",
       "┡━━━━━━━━━━━━━━━━━━━━━━━━━━━━━━━━━╇━━━━━━━━━━━━━━━━━━━━━━━━╇━━━━━━━━━━━━━━━┩\n",
       "│ dense_345 (\u001b[38;5;33mDense\u001b[0m)               │ (\u001b[38;5;45mNone\u001b[0m, \u001b[38;5;34m56\u001b[0m)             │           \u001b[38;5;34m840\u001b[0m │\n",
       "├─────────────────────────────────┼────────────────────────┼───────────────┤\n",
       "│ leaky_re_lu_207 (\u001b[38;5;33mLeakyReLU\u001b[0m)     │ (\u001b[38;5;45mNone\u001b[0m, \u001b[38;5;34m56\u001b[0m)             │             \u001b[38;5;34m0\u001b[0m │\n",
       "├─────────────────────────────────┼────────────────────────┼───────────────┤\n",
       "│ dense_346 (\u001b[38;5;33mDense\u001b[0m)               │ (\u001b[38;5;45mNone\u001b[0m, \u001b[38;5;34m1\u001b[0m)              │            \u001b[38;5;34m57\u001b[0m │\n",
       "└─────────────────────────────────┴────────────────────────┴───────────────┘\n"
      ]
     },
     "metadata": {},
     "output_type": "display_data"
    },
    {
     "data": {
      "text/html": [
       "<pre style=\"white-space:pre;overflow-x:auto;line-height:normal;font-family:Menlo,'DejaVu Sans Mono',consolas,'Courier New',monospace\"><span style=\"font-weight: bold\"> Total params: </span><span style=\"color: #00af00; text-decoration-color: #00af00\">897</span> (3.50 KB)\n",
       "</pre>\n"
      ],
      "text/plain": [
       "\u001b[1m Total params: \u001b[0m\u001b[38;5;34m897\u001b[0m (3.50 KB)\n"
      ]
     },
     "metadata": {},
     "output_type": "display_data"
    },
    {
     "data": {
      "text/html": [
       "<pre style=\"white-space:pre;overflow-x:auto;line-height:normal;font-family:Menlo,'DejaVu Sans Mono',consolas,'Courier New',monospace\"><span style=\"font-weight: bold\"> Trainable params: </span><span style=\"color: #00af00; text-decoration-color: #00af00\">897</span> (3.50 KB)\n",
       "</pre>\n"
      ],
      "text/plain": [
       "\u001b[1m Trainable params: \u001b[0m\u001b[38;5;34m897\u001b[0m (3.50 KB)\n"
      ]
     },
     "metadata": {},
     "output_type": "display_data"
    },
    {
     "data": {
      "text/html": [
       "<pre style=\"white-space:pre;overflow-x:auto;line-height:normal;font-family:Menlo,'DejaVu Sans Mono',consolas,'Courier New',monospace\"><span style=\"font-weight: bold\"> Non-trainable params: </span><span style=\"color: #00af00; text-decoration-color: #00af00\">0</span> (0.00 B)\n",
       "</pre>\n"
      ],
      "text/plain": [
       "\u001b[1m Non-trainable params: \u001b[0m\u001b[38;5;34m0\u001b[0m (0.00 B)\n"
      ]
     },
     "metadata": {},
     "output_type": "display_data"
    }
   ],
   "source": [
    "# Define the binary classifier model\n",
    "binary_classifier_puts = Sequential()\n",
    "\n",
    "# Input layer with 14 neurons for 14 features\n",
    "binary_classifier_puts.add(Input(shape=(14,)))\n",
    "\n",
    "# Hidden layer with 56 neurons\n",
    "binary_classifier_puts.add(Dense(units=56))\n",
    "binary_classifier_puts.add(LeakyReLU(negative_slope=0.01))         # Leaky ReLU activation\n",
    "\n",
    "# Output layer with 1 neuron and sigmoid activation for binary classification\n",
    "binary_classifier_puts.add(Dense(1, activation='sigmoid'))\n",
    "\n",
    "# Compile the model with binary cross-entropy loss and Adam optimizer\n",
    "binary_classifier_puts.compile(optimizer=Adam(learning_rate=0.001), loss='binary_crossentropy', metrics=['accuracy'])\n",
    "\n",
    "# Summary of the model architecture\n",
    "binary_classifier_puts.summary()\n"
   ]
  },
  {
   "cell_type": "code",
   "execution_count": 150,
   "metadata": {},
   "outputs": [],
   "source": [
    "# Separate features and target for training\n",
    "X_train = df_train_puts.drop(columns=['option_price', 'is_buy'])  # Drop 'close' and 'is_buy' from features\n",
    "y_train = df_train_puts['is_buy']  # Target for binary classification"
   ]
  },
  {
   "cell_type": "code",
   "execution_count": 151,
   "metadata": {},
   "outputs": [
    {
     "name": "stdout",
     "output_type": "stream",
     "text": [
      "Epoch 1/20\n",
      "\u001b[1m7205/7205\u001b[0m \u001b[32m━━━━━━━━━━━━━━━━━━━━\u001b[0m\u001b[37m\u001b[0m \u001b[1m3s\u001b[0m 330us/step - accuracy: 0.9501 - loss: 0.1357 - val_accuracy: 0.9890 - val_loss: 0.0315\n",
      "Epoch 2/20\n",
      "\u001b[1m7205/7205\u001b[0m \u001b[32m━━━━━━━━━━━━━━━━━━━━\u001b[0m\u001b[37m\u001b[0m \u001b[1m2s\u001b[0m 240us/step - accuracy: 0.9914 - loss: 0.0274 - val_accuracy: 0.9951 - val_loss: 0.0213\n",
      "Epoch 3/20\n",
      "\u001b[1m7205/7205\u001b[0m \u001b[32m━━━━━━━━━━━━━━━━━━━━\u001b[0m\u001b[37m\u001b[0m \u001b[1m2s\u001b[0m 245us/step - accuracy: 0.9939 - loss: 0.0192 - val_accuracy: 0.9953 - val_loss: 0.0154\n",
      "Epoch 4/20\n",
      "\u001b[1m7205/7205\u001b[0m \u001b[32m━━━━━━━━━━━━━━━━━━━━\u001b[0m\u001b[37m\u001b[0m \u001b[1m2s\u001b[0m 239us/step - accuracy: 0.9953 - loss: 0.0151 - val_accuracy: 0.9977 - val_loss: 0.0160\n",
      "Epoch 5/20\n",
      "\u001b[1m7205/7205\u001b[0m \u001b[32m━━━━━━━━━━━━━━━━━━━━\u001b[0m\u001b[37m\u001b[0m \u001b[1m2s\u001b[0m 240us/step - accuracy: 0.9959 - loss: 0.0134 - val_accuracy: 0.9956 - val_loss: 0.0143\n",
      "Epoch 6/20\n",
      "\u001b[1m7205/7205\u001b[0m \u001b[32m━━━━━━━━━━━━━━━━━━━━\u001b[0m\u001b[37m\u001b[0m \u001b[1m2s\u001b[0m 237us/step - accuracy: 0.9962 - loss: 0.0120 - val_accuracy: 0.9973 - val_loss: 0.0096\n",
      "Epoch 7/20\n",
      "\u001b[1m7205/7205\u001b[0m \u001b[32m━━━━━━━━━━━━━━━━━━━━\u001b[0m\u001b[37m\u001b[0m \u001b[1m2s\u001b[0m 237us/step - accuracy: 0.9967 - loss: 0.0107 - val_accuracy: 0.9981 - val_loss: 0.0097\n",
      "Epoch 8/20\n",
      "\u001b[1m7205/7205\u001b[0m \u001b[32m━━━━━━━━━━━━━━━━━━━━\u001b[0m\u001b[37m\u001b[0m \u001b[1m2s\u001b[0m 242us/step - accuracy: 0.9969 - loss: 0.0104 - val_accuracy: 0.9979 - val_loss: 0.0093\n",
      "Epoch 9/20\n",
      "\u001b[1m7205/7205\u001b[0m \u001b[32m━━━━━━━━━━━━━━━━━━━━\u001b[0m\u001b[37m\u001b[0m \u001b[1m2s\u001b[0m 236us/step - accuracy: 0.9969 - loss: 0.0102 - val_accuracy: 0.9966 - val_loss: 0.0089\n",
      "Epoch 10/20\n",
      "\u001b[1m7205/7205\u001b[0m \u001b[32m━━━━━━━━━━━━━━━━━━━━\u001b[0m\u001b[37m\u001b[0m \u001b[1m2s\u001b[0m 237us/step - accuracy: 0.9972 - loss: 0.0089 - val_accuracy: 0.9977 - val_loss: 0.0082\n",
      "Epoch 11/20\n",
      "\u001b[1m7205/7205\u001b[0m \u001b[32m━━━━━━━━━━━━━━━━━━━━\u001b[0m\u001b[37m\u001b[0m \u001b[1m2s\u001b[0m 235us/step - accuracy: 0.9972 - loss: 0.0088 - val_accuracy: 0.9982 - val_loss: 0.0088\n",
      "Epoch 12/20\n",
      "\u001b[1m7205/7205\u001b[0m \u001b[32m━━━━━━━━━━━━━━━━━━━━\u001b[0m\u001b[37m\u001b[0m \u001b[1m2s\u001b[0m 237us/step - accuracy: 0.9974 - loss: 0.0086 - val_accuracy: 0.9983 - val_loss: 0.0062\n",
      "Epoch 13/20\n",
      "\u001b[1m7205/7205\u001b[0m \u001b[32m━━━━━━━━━━━━━━━━━━━━\u001b[0m\u001b[37m\u001b[0m \u001b[1m2s\u001b[0m 242us/step - accuracy: 0.9975 - loss: 0.0084 - val_accuracy: 0.9982 - val_loss: 0.0061\n",
      "Epoch 14/20\n",
      "\u001b[1m7205/7205\u001b[0m \u001b[32m━━━━━━━━━━━━━━━━━━━━\u001b[0m\u001b[37m\u001b[0m \u001b[1m2s\u001b[0m 236us/step - accuracy: 0.9976 - loss: 0.0081 - val_accuracy: 0.9982 - val_loss: 0.0059\n",
      "Epoch 15/20\n",
      "\u001b[1m7205/7205\u001b[0m \u001b[32m━━━━━━━━━━━━━━━━━━━━\u001b[0m\u001b[37m\u001b[0m \u001b[1m2s\u001b[0m 236us/step - accuracy: 0.9977 - loss: 0.0078 - val_accuracy: 0.9966 - val_loss: 0.0082\n",
      "Epoch 16/20\n",
      "\u001b[1m7205/7205\u001b[0m \u001b[32m━━━━━━━━━━━━━━━━━━━━\u001b[0m\u001b[37m\u001b[0m \u001b[1m2s\u001b[0m 237us/step - accuracy: 0.9977 - loss: 0.0073 - val_accuracy: 0.9983 - val_loss: 0.0054\n",
      "Epoch 17/20\n",
      "\u001b[1m7205/7205\u001b[0m \u001b[32m━━━━━━━━━━━━━━━━━━━━\u001b[0m\u001b[37m\u001b[0m \u001b[1m2s\u001b[0m 236us/step - accuracy: 0.9978 - loss: 0.0073 - val_accuracy: 0.9969 - val_loss: 0.0121\n",
      "Epoch 18/20\n",
      "\u001b[1m7205/7205\u001b[0m \u001b[32m━━━━━━━━━━━━━━━━━━━━\u001b[0m\u001b[37m\u001b[0m \u001b[1m2s\u001b[0m 252us/step - accuracy: 0.9976 - loss: 0.0076 - val_accuracy: 0.9990 - val_loss: 0.0059\n",
      "Epoch 19/20\n",
      "\u001b[1m7205/7205\u001b[0m \u001b[32m━━━━━━━━━━━━━━━━━━━━\u001b[0m\u001b[37m\u001b[0m \u001b[1m2s\u001b[0m 236us/step - accuracy: 0.9981 - loss: 0.0067 - val_accuracy: 0.9989 - val_loss: 0.0055\n",
      "Epoch 20/20\n",
      "\u001b[1m7205/7205\u001b[0m \u001b[32m━━━━━━━━━━━━━━━━━━━━\u001b[0m\u001b[37m\u001b[0m \u001b[1m2s\u001b[0m 236us/step - accuracy: 0.9981 - loss: 0.0062 - val_accuracy: 0.9966 - val_loss: 0.0079\n"
     ]
    }
   ],
   "source": [
    "# Training the binary classifier\n",
    "history = binary_classifier_puts.fit(X_train, y_train, epochs=20, batch_size=32, validation_split=0.2)"
   ]
  },
  {
   "cell_type": "code",
   "execution_count": 152,
   "metadata": {},
   "outputs": [
    {
     "data": {
      "image/png": "[encoded data removed]",
      "text/plain": [
       "<Figure size 1000x600 with 1 Axes>"
      ]
     },
     "metadata": {},
     "output_type": "display_data"
    }
   ],
   "source": [
    "# Extracting training and validation loss from the history object\n",
    "train_loss = history.history['loss']\n",
    "val_loss = history.history['val_loss']\n",
    "\n",
    "# Plotting the losses per epoch\n",
    "plt.figure(figsize=(10, 6))\n",
    "plt.plot(train_loss, label='Training Loss')\n",
    "plt.plot(val_loss, label='Validation Loss')\n",
    "plt.xlabel('Epochs')\n",
    "plt.ylabel('Loss')\n",
    "plt.title('Training and Validation Loss per Epoch')\n",
    "plt.legend()\n",
    "plt.show()"
   ]
  },
  {
   "cell_type": "code",
   "execution_count": 153,
   "metadata": {},
   "outputs": [
    {
     "name": "stdout",
     "output_type": "stream",
     "text": [
      "\u001b[1m9007/9007\u001b[0m \u001b[32m━━━━━━━━━━━━━━━━━━━━\u001b[0m\u001b[37m\u001b[0m \u001b[1m2s\u001b[0m 165us/step\n"
     ]
    }
   ],
   "source": [
    "# Separate features and target for the price prediction model\n",
    "X_train_puts = df_train_puts.drop(columns=['is_buy','option_price'])  # Features for price prediction\n",
    "y_train_price_full = df_train_puts['option_price']  # Target price\n",
    "\n",
    "# Generate the 'purchasable' predictions using the classifier\n",
    "purchasable_mask = binary_classifier_puts.predict(X_train_puts) >= 1  # Prediction mask for purchasable options\n",
    "\n",
    "# Filter rows for the price prediction model based on the 'purchasable' mask\n",
    "X_train_price = X_train_puts[purchasable_mask.flatten()]  # Only rows classified as purchasable\n",
    "y_train_price = y_train_price_full[purchasable_mask.flatten()]  # Corresponding target prices for purchasable options"
   ]
  },
  {
   "cell_type": "markdown",
   "metadata": {},
   "source": [
    "## 3.2 Stage 2 Model (Price Prediction)"
   ]
  },
  {
   "cell_type": "markdown",
   "metadata": {},
   "source": [
    "The followering hyper parameters were determined in [Section 4.2.2](#422-hyperparam-tuning-price-prediction) of hyperparameter tuning.\n",
    "- Hidden Layer 1 No. of Neurons: 28\n",
    "- Hidden Layer 2 No. of Neurons: 14\n",
    "- Model Learning Rate: 0.001\n",
    "- Epochs: 10\n",
    "- Batch Size: 64"
   ]
  },
  {
   "cell_type": "code",
   "execution_count": 154,
   "metadata": {},
   "outputs": [
    {
     "data": {
      "text/html": [
       "<pre style=\"white-space:pre;overflow-x:auto;line-height:normal;font-family:Menlo,'DejaVu Sans Mono',consolas,'Courier New',monospace\"><span style=\"font-weight: bold\">Model: \"sequential_139\"</span>\n",
       "</pre>\n"
      ],
      "text/plain": [
       "\u001b[1mModel: \"sequential_139\"\u001b[0m\n"
      ]
     },
     "metadata": {},
     "output_type": "display_data"
    },
    {
     "data": {
      "text/html": [
       "<pre style=\"white-space:pre;overflow-x:auto;line-height:normal;font-family:Menlo,'DejaVu Sans Mono',consolas,'Courier New',monospace\">┏━━━━━━━━━━━━━━━━━━━━━━━━━━━━━━━━━┳━━━━━━━━━━━━━━━━━━━━━━━━┳━━━━━━━━━━━━━━━┓\n",
       "┃<span style=\"font-weight: bold\"> Layer (type)                    </span>┃<span style=\"font-weight: bold\"> Output Shape           </span>┃<span style=\"font-weight: bold\">       Param # </span>┃\n",
       "┡━━━━━━━━━━━━━━━━━━━━━━━━━━━━━━━━━╇━━━━━━━━━━━━━━━━━━━━━━━━╇━━━━━━━━━━━━━━━┩\n",
       "│ dense_347 (<span style=\"color: #0087ff; text-decoration-color: #0087ff\">Dense</span>)               │ (<span style=\"color: #00d7ff; text-decoration-color: #00d7ff\">None</span>, <span style=\"color: #00af00; text-decoration-color: #00af00\">28</span>)             │           <span style=\"color: #00af00; text-decoration-color: #00af00\">420</span> │\n",
       "├─────────────────────────────────┼────────────────────────┼───────────────┤\n",
       "│ leaky_re_lu_208 (<span style=\"color: #0087ff; text-decoration-color: #0087ff\">LeakyReLU</span>)     │ (<span style=\"color: #00d7ff; text-decoration-color: #00d7ff\">None</span>, <span style=\"color: #00af00; text-decoration-color: #00af00\">28</span>)             │             <span style=\"color: #00af00; text-decoration-color: #00af00\">0</span> │\n",
       "├─────────────────────────────────┼────────────────────────┼───────────────┤\n",
       "│ dense_348 (<span style=\"color: #0087ff; text-decoration-color: #0087ff\">Dense</span>)               │ (<span style=\"color: #00d7ff; text-decoration-color: #00d7ff\">None</span>, <span style=\"color: #00af00; text-decoration-color: #00af00\">14</span>)             │           <span style=\"color: #00af00; text-decoration-color: #00af00\">406</span> │\n",
       "├─────────────────────────────────┼────────────────────────┼───────────────┤\n",
       "│ leaky_re_lu_209 (<span style=\"color: #0087ff; text-decoration-color: #0087ff\">LeakyReLU</span>)     │ (<span style=\"color: #00d7ff; text-decoration-color: #00d7ff\">None</span>, <span style=\"color: #00af00; text-decoration-color: #00af00\">14</span>)             │             <span style=\"color: #00af00; text-decoration-color: #00af00\">0</span> │\n",
       "├─────────────────────────────────┼────────────────────────┼───────────────┤\n",
       "│ dense_349 (<span style=\"color: #0087ff; text-decoration-color: #0087ff\">Dense</span>)               │ (<span style=\"color: #00d7ff; text-decoration-color: #00d7ff\">None</span>, <span style=\"color: #00af00; text-decoration-color: #00af00\">1</span>)              │            <span style=\"color: #00af00; text-decoration-color: #00af00\">15</span> │\n",
       "└─────────────────────────────────┴────────────────────────┴───────────────┘\n",
       "</pre>\n"
      ],
      "text/plain": [
       "┏━━━━━━━━━━━━━━━━━━━━━━━━━━━━━━━━━┳━━━━━━━━━━━━━━━━━━━━━━━━┳━━━━━━━━━━━━━━━┓\n",
       "┃\u001b[1m \u001b[0m\u001b[1mLayer (type)                   \u001b[0m\u001b[1m \u001b[0m┃\u001b[1m \u001b[0m\u001b[1mOutput Shape          \u001b[0m\u001b[1m \u001b[0m┃\u001b[1m \u001b[0m\u001b[1m      Param #\u001b[0m\u001b[1m \u001b[0m┃\n",
       "┡━━━━━━━━━━━━━━━━━━━━━━━━━━━━━━━━━╇━━━━━━━━━━━━━━━━━━━━━━━━╇━━━━━━━━━━━━━━━┩\n",
       "│ dense_347 (\u001b[38;5;33mDense\u001b[0m)               │ (\u001b[38;5;45mNone\u001b[0m, \u001b[38;5;34m28\u001b[0m)             │           \u001b[38;5;34m420\u001b[0m │\n",
       "├─────────────────────────────────┼────────────────────────┼───────────────┤\n",
       "│ leaky_re_lu_208 (\u001b[38;5;33mLeakyReLU\u001b[0m)     │ (\u001b[38;5;45mNone\u001b[0m, \u001b[38;5;34m28\u001b[0m)             │             \u001b[38;5;34m0\u001b[0m │\n",
       "├─────────────────────────────────┼────────────────────────┼───────────────┤\n",
       "│ dense_348 (\u001b[38;5;33mDense\u001b[0m)               │ (\u001b[38;5;45mNone\u001b[0m, \u001b[38;5;34m14\u001b[0m)             │           \u001b[38;5;34m406\u001b[0m │\n",
       "├─────────────────────────────────┼────────────────────────┼───────────────┤\n",
       "│ leaky_re_lu_209 (\u001b[38;5;33mLeakyReLU\u001b[0m)     │ (\u001b[38;5;45mNone\u001b[0m, \u001b[38;5;34m14\u001b[0m)             │             \u001b[38;5;34m0\u001b[0m │\n",
       "├─────────────────────────────────┼────────────────────────┼───────────────┤\n",
       "│ dense_349 (\u001b[38;5;33mDense\u001b[0m)               │ (\u001b[38;5;45mNone\u001b[0m, \u001b[38;5;34m1\u001b[0m)              │            \u001b[38;5;34m15\u001b[0m │\n",
       "└─────────────────────────────────┴────────────────────────┴───────────────┘\n"
      ]
     },
     "metadata": {},
     "output_type": "display_data"
    },
    {
     "data": {
      "text/html": [
       "<pre style=\"white-space:pre;overflow-x:auto;line-height:normal;font-family:Menlo,'DejaVu Sans Mono',consolas,'Courier New',monospace\"><span style=\"font-weight: bold\"> Total params: </span><span style=\"color: #00af00; text-decoration-color: #00af00\">841</span> (3.29 KB)\n",
       "</pre>\n"
      ],
      "text/plain": [
       "\u001b[1m Total params: \u001b[0m\u001b[38;5;34m841\u001b[0m (3.29 KB)\n"
      ]
     },
     "metadata": {},
     "output_type": "display_data"
    },
    {
     "data": {
      "text/html": [
       "<pre style=\"white-space:pre;overflow-x:auto;line-height:normal;font-family:Menlo,'DejaVu Sans Mono',consolas,'Courier New',monospace\"><span style=\"font-weight: bold\"> Trainable params: </span><span style=\"color: #00af00; text-decoration-color: #00af00\">841</span> (3.29 KB)\n",
       "</pre>\n"
      ],
      "text/plain": [
       "\u001b[1m Trainable params: \u001b[0m\u001b[38;5;34m841\u001b[0m (3.29 KB)\n"
      ]
     },
     "metadata": {},
     "output_type": "display_data"
    },
    {
     "data": {
      "text/html": [
       "<pre style=\"white-space:pre;overflow-x:auto;line-height:normal;font-family:Menlo,'DejaVu Sans Mono',consolas,'Courier New',monospace\"><span style=\"font-weight: bold\"> Non-trainable params: </span><span style=\"color: #00af00; text-decoration-color: #00af00\">0</span> (0.00 B)\n",
       "</pre>\n"
      ],
      "text/plain": [
       "\u001b[1m Non-trainable params: \u001b[0m\u001b[38;5;34m0\u001b[0m (0.00 B)\n"
      ]
     },
     "metadata": {},
     "output_type": "display_data"
    }
   ],
   "source": [
    "# Define the price prediction model\n",
    "price_prediction_model_puts = Sequential()\n",
    "\n",
    "# Input layer with 14 neurons and first hidden layer with 28 neurons\n",
    "price_prediction_model_puts.add(Input(shape=(14,)))\n",
    "price_prediction_model_puts.add(Dense(units=28))\n",
    "price_prediction_model_puts.add(LeakyReLU(negative_slope=0.01))               # Leaky ReLU activation\n",
    "\n",
    "# Second hidden layer with 14 neurons and Leaky ReLU activation\n",
    "price_prediction_model_puts.add(Dense(units=14))\n",
    "price_prediction_model_puts.add(LeakyReLU(negative_slope=0.01))\n",
    "\n",
    "# Output layer with 1 neuron (no activation for regression)\n",
    "price_prediction_model_puts.add(Dense(units=1))\n",
    "\n",
    "# Compile the model with Mean Squared Error (MSE) as the loss function for regression\n",
    "price_prediction_model_puts.compile(optimizer=Adam(learning_rate=0.001), loss='mse')\n",
    "\n",
    "# Summary of the model architecture\n",
    "price_prediction_model_puts.summary()\n"
   ]
  },
  {
   "cell_type": "code",
   "execution_count": 155,
   "metadata": {},
   "outputs": [
    {
     "name": "stdout",
     "output_type": "stream",
     "text": [
      "Epoch 1/10\n",
      "\u001b[1m555/555\u001b[0m \u001b[32m━━━━━━━━━━━━━━━━━━━━\u001b[0m\u001b[37m\u001b[0m \u001b[1m0s\u001b[0m 347us/step - loss: 4157.3262 - val_loss: 1596.9462\n",
      "Epoch 2/10\n",
      "\u001b[1m555/555\u001b[0m \u001b[32m━━━━━━━━━━━━━━━━━━━━\u001b[0m\u001b[37m\u001b[0m \u001b[1m0s\u001b[0m 268us/step - loss: 548.8592 - val_loss: 217.3173\n",
      "Epoch 3/10\n",
      "\u001b[1m555/555\u001b[0m \u001b[32m━━━━━━━━━━━━━━━━━━━━\u001b[0m\u001b[37m\u001b[0m \u001b[1m0s\u001b[0m 266us/step - loss: 79.9752 - val_loss: 54.7114\n",
      "Epoch 4/10\n",
      "\u001b[1m555/555\u001b[0m \u001b[32m━━━━━━━━━━━━━━━━━━━━\u001b[0m\u001b[37m\u001b[0m \u001b[1m0s\u001b[0m 267us/step - loss: 18.3508 - val_loss: 27.1064\n",
      "Epoch 5/10\n",
      "\u001b[1m555/555\u001b[0m \u001b[32m━━━━━━━━━━━━━━━━━━━━\u001b[0m\u001b[37m\u001b[0m \u001b[1m0s\u001b[0m 274us/step - loss: 11.6670 - val_loss: 14.4945\n",
      "Epoch 6/10\n",
      "\u001b[1m555/555\u001b[0m \u001b[32m━━━━━━━━━━━━━━━━━━━━\u001b[0m\u001b[37m\u001b[0m \u001b[1m0s\u001b[0m 273us/step - loss: 8.9152 - val_loss: 11.1056\n",
      "Epoch 7/10\n",
      "\u001b[1m555/555\u001b[0m \u001b[32m━━━━━━━━━━━━━━━━━━━━\u001b[0m\u001b[37m\u001b[0m \u001b[1m0s\u001b[0m 265us/step - loss: 7.4460 - val_loss: 8.0170\n",
      "Epoch 8/10\n",
      "\u001b[1m555/555\u001b[0m \u001b[32m━━━━━━━━━━━━━━━━━━━━\u001b[0m\u001b[37m\u001b[0m \u001b[1m0s\u001b[0m 266us/step - loss: 6.8305 - val_loss: 6.0150\n",
      "Epoch 9/10\n",
      "\u001b[1m555/555\u001b[0m \u001b[32m━━━━━━━━━━━━━━━━━━━━\u001b[0m\u001b[37m\u001b[0m \u001b[1m0s\u001b[0m 274us/step - loss: 6.0873 - val_loss: 5.0809\n",
      "Epoch 10/10\n",
      "\u001b[1m555/555\u001b[0m \u001b[32m━━━━━━━━━━━━━━━━━━━━\u001b[0m\u001b[37m\u001b[0m \u001b[1m0s\u001b[0m 272us/step - loss: 5.5455 - val_loss: 4.7131\n"
     ]
    }
   ],
   "source": [
    "# Train the price prediction model\n",
    "history = price_prediction_model_puts.fit(X_train_price, y_train_price, epochs=10, batch_size=64, validation_split=0.2)"
   ]
  },
  {
   "cell_type": "code",
   "execution_count": 156,
   "metadata": {},
   "outputs": [
    {
     "data": {
      "image/png": "[encoded data removed]",
      "text/plain": [
       "<Figure size 1000x600 with 1 Axes>"
      ]
     },
     "metadata": {},
     "output_type": "display_data"
    }
   ],
   "source": [
    "# Extracting training and validation loss from the history object\n",
    "train_loss = history.history['loss']\n",
    "val_loss = history.history['val_loss']\n",
    "\n",
    "# Plotting the losses per epoch\n",
    "plt.figure(figsize=(10, 6))\n",
    "plt.plot(train_loss, label='Training Loss')\n",
    "plt.plot(val_loss, label='Validation Loss')\n",
    "plt.xlabel('Epochs')\n",
    "plt.ylabel('Loss')\n",
    "plt.title('Training and Validation Loss per Epoch')\n",
    "plt.legend()\n",
    "plt.show()"
   ]
  },
  {
   "cell_type": "markdown",
   "metadata": {},
   "source": [
    "## 3.3 Testing model"
   ]
  },
  {
   "cell_type": "markdown",
   "metadata": {},
   "source": [
    "Testing is performed on a 6th day of trading not included in the training data"
   ]
  },
  {
   "cell_type": "code",
   "execution_count": 157,
   "metadata": {},
   "outputs": [],
   "source": [
    "# Features and target for binary classification model\n",
    "X_test_classification = df_test_puts.drop(columns=['option_price', 'is_buy'])  # Features for binary classification\n",
    "y_test_classification = df_test_puts['is_buy']           # Binary target for classification\n",
    "\n",
    "# Features and target for price prediction model\n",
    "X_test_price = df_test_puts.drop(columns=['is_buy', 'option_price'])  # Features for price prediction\n",
    "y_test_price_full = df_test_puts['option_price']                      # Target price for price prediction"
   ]
  },
  {
   "cell_type": "code",
   "execution_count": 158,
   "metadata": {},
   "outputs": [
    {
     "name": "stdout",
     "output_type": "stream",
     "text": [
      "\u001b[1m1769/1769\u001b[0m \u001b[32m━━━━━━━━━━━━━━━━━━━━\u001b[0m\u001b[37m\u001b[0m \u001b[1m0s\u001b[0m 187us/step\n",
      "Binary Classifier Metrics:\n",
      "Accuracy: 0.9968552347973569\n",
      "Precision: 1.0\n",
      "Recall: 0.982713411673303\n",
      "F1-Score: 0.9912813479623824\n"
     ]
    }
   ],
   "source": [
    "y_pred_binary = (binary_classifier_puts.predict(X_test_classification).flatten() >= 0.5).astype(int)\n",
    "\n",
    "# Calculate binary classifier metrics\n",
    "binary_accuracy = accuracy_score(y_test_classification, y_pred_binary)\n",
    "binary_precision = precision_score(y_test_classification, y_pred_binary)\n",
    "binary_recall = recall_score(y_test_classification, y_pred_binary)\n",
    "binary_f1 = f1_score(y_test_classification, y_pred_binary)\n",
    "\n",
    "print(\"Binary Classifier Metrics:\")\n",
    "print(f\"Accuracy: {binary_accuracy}\")\n",
    "print(f\"Precision: {binary_precision}\")\n",
    "print(f\"Recall: {binary_recall}\")\n",
    "print(f\"F1-Score: {binary_f1}\")\n"
   ]
  },
  {
   "cell_type": "code",
   "execution_count": 159,
   "metadata": {},
   "outputs": [],
   "source": [
    "# Step 2: Filter Data for Stage 2 Price Prediction\n",
    "purchasable_mask = (y_pred_binary == 1)  # Mask for options classified as \"purchasable\"\n",
    "\n",
    "# Apply the mask to get features and target for price prediction\n",
    "X_test_price_purchasable = X_test_price[purchasable_mask]\n",
    "y_test_price = y_test_price_full[purchasable_mask]"
   ]
  },
  {
   "cell_type": "code",
   "execution_count": 160,
   "metadata": {},
   "outputs": [
    {
     "name": "stdout",
     "output_type": "stream",
     "text": [
      "\u001b[1m317/317\u001b[0m \u001b[32m━━━━━━━━━━━━━━━━━━━━\u001b[0m\u001b[37m\u001b[0m \u001b[1m0s\u001b[0m 219us/step\n",
      "\n",
      "Price Prediction Model Metrics:\n",
      "Mean Squared Error: 6.957355757114937\n",
      "Root Mean Squared Error: 2.63767999520695\n",
      "Mean Absolute Error: 1.6335359660518158\n",
      "R-squared: 0.998123988141348\n"
     ]
    }
   ],
   "source": [
    "# Step 3: Run Stage 2 Price Prediction\n",
    "if len(X_test_price_purchasable) > 0:\n",
    "    y_pred_price = price_prediction_model_puts.predict(X_test_price_purchasable)\n",
    "\n",
    "    # Calculate regression metrics\n",
    "    mse = mean_squared_error(y_test_price, y_pred_price)\n",
    "    rmse = np.sqrt(mse)\n",
    "    mae = mean_absolute_error(y_test_price, y_pred_price)\n",
    "    r2 = r2_score(y_test_price, y_pred_price)\n",
    "\n",
    "    print(\"\\nPrice Prediction Model Metrics:\")\n",
    "    print(f\"Mean Squared Error: {mse}\")\n",
    "    print(f\"Root Mean Squared Error: {rmse}\")\n",
    "    print(f\"Mean Absolute Error: {mae}\")\n",
    "    print(f\"R-squared: {r2}\")\n",
    "else:\n",
    "    print(\"\\nNo 'purchasable' options found for price prediction in the 6th day test set.\")"
   ]
  },
  {
   "cell_type": "markdown",
   "metadata": {},
   "source": [
    "# 4. Hyperparam Tuning"
   ]
  },
  {
   "cell_type": "markdown",
   "metadata": {},
   "source": [
    "In this section, hyperparameter tuning will be conducted using random search cv to randomly iterate through combinations of values in a parameter grid. This has previously been used by our group to arrive at the parameters we have input to our models above. "
   ]
  },
  {
   "cell_type": "markdown",
   "metadata": {},
   "source": [
    "> **Note:** The hyperparameter tuning in this section can take **more than 60 minutes** to run as it uses **RandomizedSearchCV**.  \n",
    "> If you are short on time, avoid running **Section 4** of this code."
   ]
  },
  {
   "cell_type": "code",
   "execution_count": 74,
   "metadata": {},
   "outputs": [],
   "source": [
    "from scikeras.wrappers import KerasClassifier\n",
    "from sklearn.model_selection import RandomizedSearchCV \n",
    "from scikeras.wrappers import KerasRegressor"
   ]
  },
  {
   "cell_type": "markdown",
   "metadata": {},
   "source": [
    "## 4.1 Model for Calls ONLY"
   ]
  },
  {
   "cell_type": "markdown",
   "metadata": {},
   "source": [
    "### 4.1.1 Hyperparam Tuning (Binary Classifier)"
   ]
  },
  {
   "cell_type": "code",
   "execution_count": 75,
   "metadata": {},
   "outputs": [],
   "source": [
    "# Define the model-building function for Random Search\n",
    "def build_binary_classifier_model(units=28, learning_rate=1e-3):\n",
    "    model = Sequential()\n",
    "    \n",
    "    # Define the input layer separately using Input()\n",
    "    model.add(Input(shape=(14,)))\n",
    "    \n",
    "    # Hidden layer with Leaky ReLU activation (using `negative_slope` instead of `alpha`)\n",
    "    model.add(Dense(units=units))\n",
    "    model.add(LeakyReLU(negative_slope=0.01))\n",
    "    \n",
    "    # Output layer with 1 neuron and sigmoid activation for binary classification\n",
    "    model.add(Dense(1, activation='sigmoid'))\n",
    "    \n",
    "    # Compile the model with specified learning rate\n",
    "    model.compile(optimizer=Adam(learning_rate=learning_rate), loss='binary_crossentropy', metrics=['accuracy'])\n",
    "    \n",
    "    return model\n",
    "\n",
    "# Wrap the model using KerasClassifier, passing the function as build_fn\n",
    "binary_classifier = KerasClassifier(model=build_binary_classifier_model, verbose=0)\n"
   ]
  },
  {
   "cell_type": "code",
   "execution_count": 76,
   "metadata": {},
   "outputs": [],
   "source": [
    "param_grid = {\n",
    "    'model__units': [14, 28, 56],            # Number of neurons in the hidden layer\n",
    "    'model__learning_rate': [1e-2, 1e-3, 1e-4],  # Learning rates to try\n",
    "    'batch_size': [16, 32, 64],              # Batch sizes to try\n",
    "    'epochs': [10, 20]                       # Number of epochs to train\n",
    "}"
   ]
  },
  {
   "cell_type": "code",
   "execution_count": 77,
   "metadata": {},
   "outputs": [
    {
     "name": "stdout",
     "output_type": "stream",
     "text": [
      "Best Hyperparameters: {'model__units': 56, 'model__learning_rate': 0.001, 'epochs': 20, 'batch_size': 32}\n",
      "Best Score: 0.998372641093061\n"
     ]
    }
   ],
   "source": [
    "# Initialize RandomizedSearchCV with the desired number of iterations\n",
    "random_search = RandomizedSearchCV(estimator=binary_classifier, param_distributions=param_grid, \n",
    "                                   scoring='accuracy', cv=3, n_iter=10, random_state=42)\n",
    "\n",
    "# Fit RandomizedSearchCV\n",
    "X_train = df_train_calls.drop(columns=['option_price', 'is_buy'])  # Drop 'close' and 'is_buy' from features\n",
    "y_train = df_train_calls['is_buy']  # Target for binary classification\n",
    "random_search_result = random_search.fit(X_train, y_train)\n",
    "\n",
    "# Get the best hyperparameters and score\n",
    "print(f\"Best Hyperparameters: {random_search_result.best_params_}\")\n",
    "print(f\"Best Score: {random_search_result.best_score_}\")\n"
   ]
  },
  {
   "cell_type": "markdown",
   "metadata": {},
   "source": [
    "### 4.1.2 Hyperparam Tuning (Price Prediction)"
   ]
  },
  {
   "cell_type": "code",
   "execution_count": 78,
   "metadata": {},
   "outputs": [],
   "source": [
    "# Define the model-building function\n",
    "def build_price_prediction_model(units1=28, units2=14, learning_rate=1e-3):\n",
    "    model = Sequential()\n",
    "    \n",
    "    # Input and first hidden layer\n",
    "    model.add(Input(shape=(14,)))\n",
    "    model.add(Dense(units=units1))\n",
    "    model.add(LeakyReLU(negative_slope=0.01))\n",
    "    \n",
    "    # Second hidden layer\n",
    "    model.add(Dense(units=units2))\n",
    "    model.add(LeakyReLU(negative_slope=0.01))\n",
    "    \n",
    "    # Output layer\n",
    "    model.add(Dense(units=1))  # No activation function for regression\n",
    "    \n",
    "    # Compile the model\n",
    "    model.compile(optimizer=Adam(learning_rate=learning_rate), loss='mse')\n",
    "    return model"
   ]
  },
  {
   "cell_type": "code",
   "execution_count": 79,
   "metadata": {},
   "outputs": [],
   "source": [
    "# Wrap the model with KerasRegressor\n",
    "price_prediction_model = KerasRegressor(model=build_price_prediction_model, verbose=0)"
   ]
  },
  {
   "cell_type": "code",
   "execution_count": 80,
   "metadata": {},
   "outputs": [],
   "source": [
    "param_grid = {\n",
    "    'model__units1': [14, 28, 56],               # Number of neurons in the first hidden layer\n",
    "    'model__units2': [7, 14, 28],                # Number of neurons in the second hidden layer\n",
    "    'model__learning_rate': [1e-2, 1e-3, 1e-4],  # Learning rates to try\n",
    "    'batch_size': [16, 32, 64],                  # Batch sizes to try\n",
    "    'epochs': [10, 20, 30]                           # Number of epochs\n",
    "}"
   ]
  },
  {
   "cell_type": "code",
   "execution_count": 81,
   "metadata": {},
   "outputs": [
    {
     "name": "stdout",
     "output_type": "stream",
     "text": [
      "Best Hyperparameters: {'model__units2': 28, 'model__units1': 56, 'model__learning_rate': 0.001, 'epochs': 30, 'batch_size': 32}\n",
      "Best Score (Negative MSE): -21.242516936843707\n"
     ]
    }
   ],
   "source": [
    "# Initialize RandomizedSearchCV\n",
    "random_search = RandomizedSearchCV(estimator=price_prediction_model, param_distributions=param_grid, \n",
    "                                   scoring='neg_mean_squared_error', n_iter=10, cv=3, random_state=42)\n",
    "\n",
    "# Fit RandomizedSearchCV\n",
    "X_train = df_train_calls.drop(columns=['option_price', 'is_buy'])  # Features for training\n",
    "y_train = df_train_calls['option_price']  # Target prices for training\n",
    "random_search_result = random_search.fit(X_train, y_train)\n",
    "\n",
    "# Get the best hyperparameters and score\n",
    "print(f\"Best Hyperparameters: {random_search_result.best_params_}\")\n",
    "print(f\"Best Score (Negative MSE): {random_search_result.best_score_}\")\n"
   ]
  },
  {
   "cell_type": "markdown",
   "metadata": {},
   "source": [
    "## 4.2 Model for Puts ONLY"
   ]
  },
  {
   "cell_type": "markdown",
   "metadata": {},
   "source": [
    "### 4.2.1 Hyperparam Tuning (Binary Classifier)"
   ]
  },
  {
   "cell_type": "code",
   "execution_count": 82,
   "metadata": {},
   "outputs": [],
   "source": [
    "# Define the model-building function for Random Search\n",
    "def build_binary_classifier_model(units=28, learning_rate=1e-3):\n",
    "    model = Sequential()\n",
    "    \n",
    "    # Define the input layer separately using Input()\n",
    "    model.add(Input(shape=(14,)))\n",
    "    \n",
    "    # Hidden layer with Leaky ReLU activation (using `negative_slope` instead of `alpha`)\n",
    "    model.add(Dense(units=units))\n",
    "    model.add(LeakyReLU(negative_slope=0.01))\n",
    "    \n",
    "    # Output layer with 1 neuron and sigmoid activation for binary classification\n",
    "    model.add(Dense(1, activation='sigmoid'))\n",
    "    \n",
    "    # Compile the model with specified learning rate\n",
    "    model.compile(optimizer=Adam(learning_rate=learning_rate), loss='binary_crossentropy', metrics=['accuracy'])\n",
    "    \n",
    "    return model\n",
    "\n",
    "# Wrap the model using KerasClassifier, passing the function as build_fn\n",
    "binary_classifier = KerasClassifier(model=build_binary_classifier_model, verbose=0)\n"
   ]
  },
  {
   "cell_type": "code",
   "execution_count": 83,
   "metadata": {},
   "outputs": [],
   "source": [
    "param_grid = {\n",
    "    'model__units': [14, 28, 56],            # Number of neurons in the hidden layer\n",
    "    'model__learning_rate': [1e-2, 1e-3, 1e-4],  # Learning rates to try\n",
    "    'batch_size': [16, 32, 64],              # Batch sizes to try\n",
    "    'epochs': [10, 20]                       # Number of epochs to train\n",
    "}"
   ]
  },
  {
   "cell_type": "code",
   "execution_count": 84,
   "metadata": {},
   "outputs": [
    {
     "name": "stdout",
     "output_type": "stream",
     "text": [
      "Best Hyperparameters: {'model__units': 56, 'model__learning_rate': 0.001, 'epochs': 20, 'batch_size': 32}\n",
      "Best Score: 0.9974427259385094\n"
     ]
    }
   ],
   "source": [
    "from sklearn.model_selection import RandomizedSearchCV\n",
    "\n",
    "# Initialize RandomizedSearchCV with the desired number of iterations\n",
    "random_search = RandomizedSearchCV(estimator=binary_classifier, param_distributions=param_grid, \n",
    "                                   scoring='accuracy', cv=3, n_iter=10, random_state=42)\n",
    "\n",
    "# Fit RandomizedSearchCV\n",
    "X_train = df_train_puts.drop(columns=['option_price', 'is_buy'])  # Drop 'close' and 'is_buy' from features\n",
    "y_train = df_train_puts['is_buy']  # Target for binary classification\n",
    "random_search_result = random_search.fit(X_train, y_train)\n",
    "\n",
    "# Get the best hyperparameters and score\n",
    "print(f\"Best Hyperparameters: {random_search_result.best_params_}\")\n",
    "print(f\"Best Score: {random_search_result.best_score_}\")\n"
   ]
  },
  {
   "cell_type": "markdown",
   "metadata": {},
   "source": [
    "### 4.2.2 Hyperparam Tuning (Price Prediction)"
   ]
  },
  {
   "cell_type": "code",
   "execution_count": 85,
   "metadata": {},
   "outputs": [],
   "source": [
    "# Define the model-building function\n",
    "def build_price_prediction_model(units1=28, units2=14, learning_rate=1e-3):\n",
    "    model = Sequential()\n",
    "    \n",
    "    # Input and first hidden layer\n",
    "    model.add(Input(shape=(14,)))\n",
    "    model.add(Dense(units=units1))\n",
    "    model.add(LeakyReLU(negative_slope=0.01))\n",
    "    \n",
    "    # Second hidden layer\n",
    "    model.add(Dense(units=units2))\n",
    "    model.add(LeakyReLU(negative_slope=0.01))\n",
    "    \n",
    "    # Output layer\n",
    "    model.add(Dense(units=1))  # No activation function for regression\n",
    "    \n",
    "    # Compile the model\n",
    "    model.compile(optimizer=Adam(learning_rate=learning_rate), loss='mse')\n",
    "    return model"
   ]
  },
  {
   "cell_type": "code",
   "execution_count": 86,
   "metadata": {},
   "outputs": [],
   "source": [
    "# Wrap the model with KerasRegressor\n",
    "price_prediction_model = KerasRegressor(model=build_price_prediction_model, verbose=0)"
   ]
  },
  {
   "cell_type": "code",
   "execution_count": 87,
   "metadata": {},
   "outputs": [],
   "source": [
    "param_grid = {\n",
    "    'model__units1': [14, 28, 56],               # Number of neurons in the first hidden layer\n",
    "    'model__units2': [7, 14, 28],                # Number of neurons in the second hidden layer\n",
    "    'model__learning_rate': [1e-2, 1e-3, 1e-4],  # Learning rates to try\n",
    "    'batch_size': [16, 32, 64],                  # Batch sizes to try\n",
    "    'epochs': [10, 20, 30]                           # Number of epochs\n",
    "}"
   ]
  },
  {
   "cell_type": "code",
   "execution_count": 88,
   "metadata": {},
   "outputs": [
    {
     "name": "stdout",
     "output_type": "stream",
     "text": [
      "Best Hyperparameters: {'model__units2': 14, 'model__units1': 28, 'model__learning_rate': 0.001, 'epochs': 10, 'batch_size': 64}\n",
      "Best Score (Negative MSE): -17.873166131017545\n"
     ]
    }
   ],
   "source": [
    "# Initialize RandomizedSearchCV\n",
    "random_search = RandomizedSearchCV(estimator=price_prediction_model, param_distributions=param_grid, \n",
    "                                   scoring='neg_mean_squared_error', n_iter=10, cv=3, random_state=42)\n",
    "\n",
    "# Fit RandomizedSearchCV\n",
    "X_train = df_train_puts.drop(columns=['option_price', 'is_buy'])  # Features for training\n",
    "y_train = df_train_puts['option_price']  # Target prices for training\n",
    "random_search_result = random_search.fit(X_train, y_train)\n",
    "\n",
    "\n",
    "# Get the best hyperparameters and score\n",
    "print(f\"Best Hyperparameters: {random_search_result.best_params_}\")\n",
    "print(f\"Best Score (Negative MSE): {random_search_result.best_score_}\")\n"
   ]
  }
 ],
 "metadata": {
  "kernelspec": {
   "display_name": "Python 3",
   "language": "python",
   "name": "python3"
  },
  "language_info": {
   "codemirror_mode": {
    "name": "ipython",
    "version": 3
   },
   "file_extension": ".py",
   "mimetype": "text/x-python",
   "name": "python",
   "nbconvert_exporter": "python",
   "pygments_lexer": "ipython3",
   "version": "3.12.7"
  }
 },
 "nbformat": 4,
 "nbformat_minor": 2
}
