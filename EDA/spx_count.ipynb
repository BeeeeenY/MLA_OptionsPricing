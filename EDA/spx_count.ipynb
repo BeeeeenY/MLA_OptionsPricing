{
 "cells": [
  {
   "cell_type": "code",
   "execution_count": 3,
   "metadata": {},
   "outputs": [],
   "source": [
    "import pandas as pd\n",
    "import numpy as np\n",
    "import seaborn as sns\n",
    "import matplotlib.pyplot as plt"
   ]
  },
  {
   "cell_type": "code",
   "execution_count": 7,
   "metadata": {},
   "outputs": [],
   "source": [
    "df1 = pd.read_csv('../data/SPX/UnderlyingOptionsIntervals_3600sec_calcs_oi_2024-07-26.csv')\n",
    "df3 = pd.read_csv('../data/SPX/UnderlyingOptionsIntervals_3600sec_calcs_oi_2024-09-27.csv')\n",
    "df2 = pd.read_csv('../data/SPX/UnderlyingOptionsIntervals_3600sec_calcs_oi_2024-08-30.csv')\n",
    "df4 = pd.read_csv('../data/SPX/UnderlyingOptionsIntervals_3600sec_calcs_oi_2024-10-11.csv')\n",
    "df5 = pd.read_csv('../data/SPX/UnderlyingOptionsIntervals_3600sec_calcs_oi_2024-10-18.csv')\n",
    "df6 = pd.read_csv('../data/SPX/UnderlyingOptionsIntervals_3600sec_calcs_oi_2024-10-25.csv')"
   ]
  },
  {
   "cell_type": "code",
   "execution_count": 10,
   "metadata": {},
   "outputs": [],
   "source": [
    "def count_calls_puts_total(dataframes):\n",
    "    counts = []\n",
    "    for i, df in enumerate(dataframes, 1):\n",
    "        total_rows = df.shape[0]                         # Total rows in the DataFrame\n",
    "        calls_count = df[df['option_type'] == 'C'].shape[0]  # Rows where option_type is 'C' (calls)\n",
    "        puts_count = df[df['option_type'] == 'P'].shape[0]   # Rows where option_type is 'P' (puts)\n",
    "        counts.append((f\"DataFrame {i}\", total_rows, calls_count, puts_count))\n",
    "    return counts\n"
   ]
  },
  {
   "cell_type": "code",
   "execution_count": 13,
   "metadata": {},
   "outputs": [
    {
     "name": "stdout",
     "output_type": "stream",
     "text": [
      "DataFrame 1: 171052 total rows, 85526 calls, 85526 puts\n",
      "DataFrame 2: 170184 total rows, 85092 calls, 85092 puts\n",
      "DataFrame 3: 172494 total rows, 86247 calls, 86247 puts\n",
      "DataFrame 4: 169848 total rows, 84924 calls, 84924 puts\n",
      "DataFrame 5: 168728 total rows, 84364 calls, 84364 puts\n",
      "DataFrame 6: 169008 total rows, 84504 calls, 84504 puts\n",
      "510657 510657\n"
     ]
    }
   ],
   "source": [
    "# List of your DataFrames\n",
    "dataframes = [df1, df2, df3, df4, df5, df6]\n",
    "\n",
    "# Get the counts of total rows, calls, and puts\n",
    "row_counts = count_calls_puts_total(dataframes)\n",
    "\n",
    "# Display the counts\n",
    "put_count = 0\n",
    "call_count = 0\n",
    "for df_name, total, calls, puts in row_counts:\n",
    "    print(f\"{df_name}: {total} total rows, {calls} calls, {puts} puts\")\n",
    "    put_count += puts\n",
    "    call_count += calls\n",
    "\n",
    "print(put_count, call_count)\n"
   ]
  },
  {
   "cell_type": "code",
   "execution_count": null,
   "metadata": {},
   "outputs": [],
   "source": []
  }
 ],
 "metadata": {
  "kernelspec": {
   "display_name": "base",
   "language": "python",
   "name": "python3"
  },
  "language_info": {
   "codemirror_mode": {
    "name": "ipython",
    "version": 3
   },
   "file_extension": ".py",
   "mimetype": "text/x-python",
   "name": "python",
   "nbconvert_exporter": "python",
   "pygments_lexer": "ipython3",
   "version": "3.9.18"
  }
 },
 "nbformat": 4,
 "nbformat_minor": 2
}
